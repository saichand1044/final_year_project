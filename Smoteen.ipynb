{
 "cells": [
  {
   "cell_type": "code",
   "execution_count": 101,
   "metadata": {},
   "outputs": [],
   "source": [
    "import pandas as pd\n",
    "import numpy as np\n",
    "import matplotlib.pyplot as plt\n",
    "import seaborn as sns\n",
    "import sklearn\n",
    "\n",
    "from sklearn.preprocessing import LabelEncoder,StandardScaler,RobustScaler\n",
    "from sklearn.metrics import accuracy_score,confusion_matrix,recall_score,classification_report,precision_score,roc_auc_score,matthews_corrcoef,precision_recall_fscore_support,make_scorer, accuracy_score, precision_score, recall_score, f1_score\n",
    "from sklearn.model_selection import cross_validate,cross_val_score\n",
    "from sklearn import model_selection\n",
    "\n",
    "from sklearn.tree import DecisionTreeClassifier\n",
    "from sklearn.linear_model import LogisticRegression\n",
    "from sklearn.svm import SVC\n",
    "from sklearn.neighbors import KNeighborsClassifier\n",
    "from sklearn.naive_bayes import GaussianNB\n",
    "\n",
    "from imblearn.combine import SMOTEENN \n",
    " \n",
    "from sklearn.model_selection import GridSearchCV,RandomizedSearchCV\n",
    "\n",
    "from imblearn.ensemble import BalancedRandomForestClassifier\n",
    "from sklearn.ensemble import AdaBoostClassifier,BaggingClassifier,GradientBoostingClassifier,RandomForestClassifier,ExtraTreesClassifier,StackingClassifier,VotingClassifier\n",
    "\n",
    "import xgboost as xgb\n",
    "import lightgbm as lgb\n",
    "from catboost import CatBoostClassifier"
   ]
  },
  {
   "cell_type": "code",
   "execution_count": 102,
   "metadata": {},
   "outputs": [],
   "source": [
    "df=pd.read_excel(\"C:/Users/saich/OneDrive/Desktop/Diabetes_Classification.xlsx\")"
   ]
  },
  {
   "cell_type": "code",
   "execution_count": 103,
   "metadata": {},
   "outputs": [],
   "source": [
    "df.drop(labels=\"Patient number\",axis=1,inplace=True)"
   ]
  },
  {
   "cell_type": "code",
   "execution_count": 104,
   "metadata": {},
   "outputs": [],
   "source": [
    "df.replace({'Gender':{\"female\":\"F\",\"male\":\"M\"}},inplace=True)"
   ]
  },
  {
   "cell_type": "code",
   "execution_count": 105,
   "metadata": {},
   "outputs": [],
   "source": [
    "le=LabelEncoder()\n",
    "df[\"Gender\"]=le.fit_transform(df[\"Gender\"])"
   ]
  },
  {
   "cell_type": "code",
   "execution_count": 106,
   "metadata": {},
   "outputs": [
    {
     "name": "stdout",
     "output_type": "stream",
     "text": [
      "Cholesterol        50.000\n",
      "Glucose            26.750\n",
      "HDL Chol           21.000\n",
      "Chol/HDL ratio      2.200\n",
      "Age                26.000\n",
      "Gender              1.000\n",
      "Height              6.000\n",
      "Weight             49.750\n",
      "BMI                 8.175\n",
      "Systolic BP        26.000\n",
      "Diastolic BP       15.000\n",
      "waist               8.000\n",
      "hip                 7.000\n",
      "Waist/hip ratio     0.100\n",
      "dtype: float64\n"
     ]
    }
   ],
   "source": [
    "Q1 = df.quantile(0.25)\n",
    "Q3 = df.quantile(0.75)\n",
    "IQR = Q3 - Q1\n",
    "print(IQR)"
   ]
  },
  {
   "cell_type": "code",
   "execution_count": 107,
   "metadata": {},
   "outputs": [],
   "source": [
    "df=df[~((df < (Q1 - 1.5 * IQR)) |(df > (Q3 + 1.5 * IQR))).any(axis=1)]"
   ]
  },
  {
   "cell_type": "code",
   "execution_count": 108,
   "metadata": {},
   "outputs": [],
   "source": [
    "target=df[\"Diabetes\"]\n",
    "features=df.drop(columns=\"Diabetes\",axis=1)"
   ]
  },
  {
   "cell_type": "code",
   "execution_count": 109,
   "metadata": {},
   "outputs": [],
   "source": [
    "sm = SMOTEENN(random_state=42,sampling_strategy=\"minority\") \n",
    "new_features, new_target = sm.fit_resample(features, target)"
   ]
  },
  {
   "cell_type": "code",
   "execution_count": 110,
   "metadata": {},
   "outputs": [],
   "source": [
    "scaler = StandardScaler()\n",
    "X_res=pd.DataFrame(scaler.fit_transform(new_features),columns=list(new_features.columns))\n",
    "y_res=new_target"
   ]
  },
  {
   "cell_type": "code",
   "execution_count": 111,
   "metadata": {},
   "outputs": [
    {
     "data": {
      "text/plain": [
       "Diabetes       272\n",
       "No diabetes    219\n",
       "Name: Diabetes, dtype: int64"
      ]
     },
     "execution_count": 111,
     "metadata": {},
     "output_type": "execute_result"
    }
   ],
   "source": [
    "y_res.value_counts()"
   ]
  },
  {
   "cell_type": "code",
   "execution_count": 112,
   "metadata": {},
   "outputs": [],
   "source": [
    "from sklearn.model_selection import train_test_split\n",
    "X_train1,X_test1,Y_train1,Y_test1=train_test_split(X_res,\n",
    "                                               y_res,\n",
    "                                               test_size=0.35,\n",
    "                                               random_state=42)"
   ]
  },
  {
   "cell_type": "markdown",
   "metadata": {},
   "source": [
    "# Function to get scores(KFold cross validation)"
   ]
  },
  {
   "cell_type": "code",
   "execution_count": 113,
   "metadata": {},
   "outputs": [],
   "source": [
    "def evaluate_model_accuracy(model, X, y):\n",
    "    kfold = model_selection.KFold(n_splits=10, random_state=42, shuffle=True)\n",
    "    scores = cross_val_score(model, X, y, scoring='accuracy', cv=kfold, n_jobs=-1)\n",
    "    return scores\n",
    "\n",
    "\n",
    "def evaluate_model_recall_positive(model,X,y):\n",
    "    scoring = {'recall' : make_scorer(recall_score,pos_label=\"Diabetes\") }\n",
    "    kfold = model_selection.KFold(n_splits=10, random_state=42, shuffle=True)\n",
    "    results =cross_validate(estimator=model,\n",
    "                                    X=X,\n",
    "                                    y=y,\n",
    "                                    cv=kfold,\n",
    "                                    scoring=scoring)\n",
    "    return results[\"test_recall\"]\n",
    "\n",
    "def evaluate_model_recall_negative(model,X,y):\n",
    "    scoring = {'recall' : make_scorer(recall_score,pos_label=\"No diabetes\") }\n",
    "    kfold = model_selection.KFold(n_splits=10, random_state=42, shuffle=True)\n",
    "    results =cross_validate(estimator=model,\n",
    "                                    X=X,\n",
    "                                    y=y,\n",
    "                                    cv=kfold,\n",
    "                                    scoring=scoring)\n",
    "    return results[\"test_recall\"]\n",
    "\n",
    "def evaluate_model_roc_auc(model, X, y):\n",
    "    kfold = model_selection.KFold(n_splits=10, random_state=42, shuffle=True)\n",
    "    scores = cross_val_score(model, X, y, scoring='roc_auc', cv=kfold, n_jobs=-1)\n",
    "    return scores\n",
    "\n",
    "def evaluate_model_matthews_corrcoef(model,X,y):\n",
    "    score=matthews_corrcoef(y,model.predict(X))\n",
    "    return score\n",
    "\n",
    "def evaluate_model_precision(model,X,y):\n",
    "    scoring = {'precision' : make_scorer(recall_score,pos_label=\"Diabetes\") }\n",
    "    kfold = model_selection.KFold(n_splits=25, random_state=42, shuffle=True)\n",
    "    results =cross_validate(estimator=model,\n",
    "                                    X=X,\n",
    "                                    y=y,\n",
    "                                    cv=kfold,\n",
    "                                    scoring=scoring)\n",
    "    return results[\"test_precision\"]\n",
    "\n",
    "def evaluate_model_f1score(model,X,y):\n",
    "    scoring = {'f1' : make_scorer(recall_score,pos_label=\"Diabetes\") }\n",
    "    kfold = model_selection.KFold(n_splits=10, random_state=42, shuffle=True)\n",
    "    results =cross_validate(estimator=model,\n",
    "                                    X=X,\n",
    "                                    y=y,\n",
    "                                    cv=kfold,\n",
    "                                    scoring=scoring)\n",
    "    return results[\"test_f1\"]\n"
   ]
  },
  {
   "cell_type": "markdown",
   "metadata": {},
   "source": [
    "# Logistic Regression"
   ]
  },
  {
   "cell_type": "code",
   "execution_count": 114,
   "metadata": {},
   "outputs": [
    {
     "data": {
      "text/plain": [
       "LogisticRegression(C=11.288378916846883, solver='liblinear')"
      ]
     },
     "execution_count": 114,
     "metadata": {},
     "output_type": "execute_result"
    }
   ],
   "source": [
    "LR=LogisticRegression(C=11.288378916846883,penalty=\"l2\",solver= 'liblinear')\n",
    "\n",
    "LR.fit(X_train1,Y_train1)"
   ]
  },
  {
   "cell_type": "code",
   "execution_count": 115,
   "metadata": {},
   "outputs": [
    {
     "name": "stdout",
     "output_type": "stream",
     "text": [
      "              precision    recall  f1-score   support\n",
      "\n",
      "    Diabetes       0.87      0.90      0.89        94\n",
      " No diabetes       0.88      0.83      0.86        78\n",
      "\n",
      "    accuracy                           0.87       172\n",
      "   macro avg       0.87      0.87      0.87       172\n",
      "weighted avg       0.87      0.87      0.87       172\n",
      "\n"
     ]
    }
   ],
   "source": [
    "print(classification_report(Y_test1,LR.predict(X_test1)))"
   ]
  },
  {
   "cell_type": "code",
   "execution_count": 116,
   "metadata": {},
   "outputs": [],
   "source": [
    "cv = model_selection.KFold(n_splits=10, random_state=42, shuffle=True)\n",
    "scoring = {'recall' : make_scorer(recall_score,pos_label=\"Diabetes\") }"
   ]
  },
  {
   "cell_type": "code",
   "execution_count": 117,
   "metadata": {},
   "outputs": [],
   "source": [
    "# for recall\n",
    "results1 =cross_validate(estimator=LR,\n",
    "                                    X=X_train1,\n",
    "                                    y=Y_train1,\n",
    "                                    cv=cv,\n",
    "                                    scoring=scoring)\n",
    "# for accuracy\n",
    "accuracy1 = model_selection.cross_val_score(LR, X_train1,Y_train1, scoring='accuracy', cv=cv, n_jobs=-1)"
   ]
  },
  {
   "cell_type": "code",
   "execution_count": 118,
   "metadata": {},
   "outputs": [
    {
     "name": "stdout",
     "output_type": "stream",
     "text": [
      "Accuracy 0.8561491935483871\n",
      "recall score is : 0.8951401174504889\n",
      "roc-auc score is 0.9053583453583454\n",
      "score time is : 0.002134227752685547\n",
      "fit time is : 0.0054665088653564455\n",
      "recall score for No diabetes is : 0.8109249084249084\n"
     ]
    }
   ],
   "source": [
    "print(\"Accuracy\",np.mean(accuracy1))\n",
    "print(\"recall score is :\",np.mean(results1[\"test_recall\"]))\n",
    "print(\"roc-auc score is\",np.mean(list(cross_val_score(LR, X_test1, Y_test1, cv=cv, scoring='roc_auc'))))\n",
    "print(\"score time is :\",np.mean(results1[\"score_time\"]))\n",
    "print(\"fit time is :\",np.mean(results1[\"fit_time\"]))\n",
    "print(\"recall score for No diabetes is :\",np.mean(cross_validate(estimator=LR,\n",
    "                                    X=X_train1,\n",
    "                                    y=Y_train1,\n",
    "                                    cv=cv,\n",
    "                                    scoring={'recall' : make_scorer(recall_score,pos_label=\"No diabetes\") })[\"test_recall\"]))"
   ]
  },
  {
   "cell_type": "markdown",
   "metadata": {},
   "source": [
    "# Grid Search"
   ]
  },
  {
   "cell_type": "code",
   "execution_count": 119,
   "metadata": {},
   "outputs": [],
   "source": [
    "# # # # param_grid = [\n",
    "# # # #     {\n",
    "# # # #      'penalty' : ['l1', 'l2'],\n",
    "# # # #     'C' : np.logspace(-4, 4, 20),\n",
    "# # # #     'solver' : ['liblinear']}\n",
    "# # # # ]\n",
    "\n",
    "# # # param_grid = [\n",
    "# # #     {'criterion':['gini','entropy'],'max_depth':[4,5,6,7,8,9,10,11,12,15,20,30,40,50,70,90,120,150]}\n",
    "# # # ]\n",
    "\n",
    "# param_grid = dict(n_neighbors=list(range(10, 31)))\n",
    "\n",
    "# # grid = RandomizedSearchCV(knn, param_distributions = param_grid, cv = 10,n_jobs=-1)\n",
    "# grid=GridSearchCV(knn,param_grid,cv=5,n_jobs=-1)"
   ]
  },
  {
   "cell_type": "code",
   "execution_count": 120,
   "metadata": {},
   "outputs": [],
   "source": [
    "# grid.fit(X_train1,Y_train1)"
   ]
  },
  {
   "cell_type": "code",
   "execution_count": 121,
   "metadata": {},
   "outputs": [],
   "source": [
    "# grid.best_params_"
   ]
  },
  {
   "cell_type": "markdown",
   "metadata": {},
   "source": [
    "# Decsison Trees"
   ]
  },
  {
   "cell_type": "code",
   "execution_count": 122,
   "metadata": {},
   "outputs": [],
   "source": [
    "classifier1=DecisionTreeClassifier(criterion=\"entropy\",max_depth=6)"
   ]
  },
  {
   "cell_type": "code",
   "execution_count": 123,
   "metadata": {},
   "outputs": [
    {
     "data": {
      "text/plain": [
       "DecisionTreeClassifier(criterion='entropy', max_depth=6)"
      ]
     },
     "execution_count": 123,
     "metadata": {},
     "output_type": "execute_result"
    }
   ],
   "source": [
    "classifier1.fit(X_train1,Y_train1)"
   ]
  },
  {
   "cell_type": "code",
   "execution_count": 124,
   "metadata": {},
   "outputs": [
    {
     "name": "stdout",
     "output_type": "stream",
     "text": [
      "              precision    recall  f1-score   support\n",
      "\n",
      "    Diabetes       0.93      0.98      0.95        94\n",
      " No diabetes       0.97      0.91      0.94        78\n",
      "\n",
      "    accuracy                           0.95       172\n",
      "   macro avg       0.95      0.94      0.95       172\n",
      "weighted avg       0.95      0.95      0.95       172\n",
      "\n"
     ]
    }
   ],
   "source": [
    "print(classification_report(Y_test1,classifier1.predict(X_test1)))"
   ]
  },
  {
   "cell_type": "code",
   "execution_count": 125,
   "metadata": {},
   "outputs": [],
   "source": [
    "results2 =cross_validate(estimator=classifier1,\n",
    "                                    X=X_train1,\n",
    "                                    y=Y_train1,\n",
    "                                    cv=cv,\n",
    "                                    scoring={'recall' : make_scorer(recall_score,pos_label=\"Diabetes\") })\n",
    "\n",
    "accuracy2 = model_selection.cross_val_score(classifier1, X_train1,Y_train1, scoring='accuracy', cv=cv, n_jobs=-1)"
   ]
  },
  {
   "cell_type": "code",
   "execution_count": 126,
   "metadata": {},
   "outputs": [
    {
     "name": "stdout",
     "output_type": "stream",
     "text": [
      "Accuracy 0.946875\n",
      "recall score is : 0.8951401174504889\n",
      "roc-auc score is 0.9583333333333334\n",
      "score time is : 0.002134227752685547\n",
      "fit time is : 0.0054665088653564455\n",
      "recall score for No diabetes is : 0.9365709773318469\n"
     ]
    }
   ],
   "source": [
    "print(\"Accuracy\",np.mean(accuracy2))\n",
    "print(\"recall score is :\",np.mean(results1[\"test_recall\"]))\n",
    "print(\"roc-auc score is\",np.mean(list(cross_val_score(classifier1, X_test1, Y_test1, cv=cv, scoring='roc_auc'))))\n",
    "print(\"score time is :\",np.mean(results1[\"score_time\"]))\n",
    "print(\"fit time is :\",np.mean(results1[\"fit_time\"]))\n",
    "print(\"recall score for No diabetes is :\",np.mean(cross_validate(estimator=classifier1,\n",
    "                                    X=X_train1,\n",
    "                                    y=Y_train1,\n",
    "                                    cv=model_selection.KFold(n_splits=10),\n",
    "                                    scoring={'recall' : make_scorer(recall_score,pos_label=\"No diabetes\") })[\"test_recall\"]))"
   ]
  },
  {
   "cell_type": "markdown",
   "metadata": {},
   "source": [
    "# KNN"
   ]
  },
  {
   "cell_type": "code",
   "execution_count": 127,
   "metadata": {},
   "outputs": [
    {
     "data": {
      "text/plain": [
       "KNeighborsClassifier(n_jobs=-1, n_neighbors=11)"
      ]
     },
     "execution_count": 127,
     "metadata": {},
     "output_type": "execute_result"
    }
   ],
   "source": [
    "from sklearn.neighbors import KNeighborsClassifier  \n",
    "knn= KNeighborsClassifier(n_neighbors=11,n_jobs=-1)  \n",
    "knn.fit(X_train1, Y_train1) "
   ]
  },
  {
   "cell_type": "code",
   "execution_count": 128,
   "metadata": {},
   "outputs": [
    {
     "name": "stdout",
     "output_type": "stream",
     "text": [
      "              precision    recall  f1-score   support\n",
      "\n",
      "    Diabetes       0.80      1.00      0.89        94\n",
      " No diabetes       1.00      0.71      0.83        78\n",
      "\n",
      "    accuracy                           0.87       172\n",
      "   macro avg       0.90      0.85      0.86       172\n",
      "weighted avg       0.89      0.87      0.86       172\n",
      "\n"
     ]
    }
   ],
   "source": [
    "print(classification_report(Y_test1,knn.predict(X_test1)))"
   ]
  },
  {
   "cell_type": "code",
   "execution_count": 129,
   "metadata": {},
   "outputs": [],
   "source": [
    "results3 =cross_validate(estimator=knn,\n",
    "                                    X=X_train1,\n",
    "                                    y=Y_train1,\n",
    "                                    cv=cv,\n",
    "                                    scoring={'recall' : make_scorer(recall_score,pos_label=\"Diabetes\") })\n",
    "\n",
    "accuracy3 = model_selection.cross_val_score(knn, X_train1,Y_train1, scoring='accuracy', cv=cv, n_jobs=-1)"
   ]
  },
  {
   "cell_type": "code",
   "execution_count": 130,
   "metadata": {},
   "outputs": [
    {
     "name": "stdout",
     "output_type": "stream",
     "text": [
      "Accuracy 0.8936491935483872\n",
      "recall score for Diabetes is : 1.0\n",
      "roc-auc score is 0.9496574875741542\n",
      "score time is : 0.020770549774169922\n",
      "fit time is : 0.002905535697937012\n",
      "recall score for No diabetes is : 0.7785897435897435\n"
     ]
    }
   ],
   "source": [
    "print(\"Accuracy\",np.mean(accuracy3))\n",
    "print(\"recall score for Diabetes is :\",np.mean(results3[\"test_recall\"]))\n",
    "print(\"roc-auc score is\",np.mean(list(cross_val_score(knn, X_test1, Y_test1, cv=cv, scoring='roc_auc'))))\n",
    "print(\"score time is :\",np.mean(results3[\"score_time\"]))\n",
    "print(\"fit time is :\",np.mean(results3[\"fit_time\"]))\n",
    "print(\"recall score for No diabetes is :\",np.mean(cross_validate(estimator=knn,\n",
    "                                    X=X_train1,\n",
    "                                    y=Y_train1,\n",
    "                                    cv=cv,\n",
    "                                    scoring={'recall' : make_scorer(recall_score,pos_label=\"No diabetes\") })[\"test_recall\"]))"
   ]
  },
  {
   "cell_type": "markdown",
   "metadata": {},
   "source": [
    "# Naive bayes"
   ]
  },
  {
   "cell_type": "code",
   "execution_count": 131,
   "metadata": {},
   "outputs": [
    {
     "data": {
      "text/plain": [
       "GaussianNB()"
      ]
     },
     "execution_count": 131,
     "metadata": {},
     "output_type": "execute_result"
    }
   ],
   "source": [
    "from sklearn.naive_bayes import GaussianNB\n",
    "nb = GaussianNB()\n",
    "nb.fit(X_train1, Y_train1)"
   ]
  },
  {
   "cell_type": "code",
   "execution_count": 132,
   "metadata": {},
   "outputs": [
    {
     "name": "stdout",
     "output_type": "stream",
     "text": [
      "              precision    recall  f1-score   support\n",
      "\n",
      "    Diabetes       0.91      0.82      0.86        94\n",
      " No diabetes       0.80      0.90      0.85        78\n",
      "\n",
      "    accuracy                           0.85       172\n",
      "   macro avg       0.86      0.86      0.85       172\n",
      "weighted avg       0.86      0.85      0.85       172\n",
      "\n"
     ]
    }
   ],
   "source": [
    "print(classification_report(Y_test1,nb.predict(X_test1)))"
   ]
  },
  {
   "cell_type": "code",
   "execution_count": 133,
   "metadata": {},
   "outputs": [],
   "source": [
    "results4 =cross_validate(estimator=nb,\n",
    "                                    X=X_train1,\n",
    "                                    y=Y_train1,\n",
    "                                    cv=cv,\n",
    "                                    scoring={'recall' : make_scorer(recall_score,pos_label=\"Diabetes\") })\n",
    "\n",
    "accuracy4 = model_selection.cross_val_score(nb, X_train1,Y_train1, scoring='accuracy', cv=cv, n_jobs=-1)"
   ]
  },
  {
   "cell_type": "code",
   "execution_count": 134,
   "metadata": {},
   "outputs": [
    {
     "name": "stdout",
     "output_type": "stream",
     "text": [
      "Accuracy 0.8872983870967742\n",
      "recall score is : 0.8613055309843235\n",
      "roc-auc score is 0.9446657046657047\n",
      "score time is : 0.004675149917602539\n",
      "fit time is : 0.0\n",
      "recall score for No diabetes is : 0.9047765700483092\n"
     ]
    }
   ],
   "source": [
    "print(\"Accuracy\",np.mean(accuracy4))\n",
    "print(\"recall score is :\",np.mean(results4[\"test_recall\"]))\n",
    "print(\"roc-auc score is\",np.mean(list(cross_val_score(nb, X_test1, Y_test1, cv=cv, scoring='roc_auc'))))\n",
    "print(\"score time is :\",np.mean(results4[\"score_time\"]))\n",
    "print(\"fit time is :\",np.mean(results4[\"fit_time\"]))\n",
    "print(\"recall score for No diabetes is :\",np.mean(cross_validate(estimator=nb,\n",
    "                                    X=X_train1,\n",
    "                                    y=Y_train1,\n",
    "                                    cv=model_selection.KFold(n_splits=10),\n",
    "                                    scoring={'recall' : make_scorer(recall_score,pos_label=\"No diabetes\") })[\"test_recall\"]))"
   ]
  },
  {
   "cell_type": "markdown",
   "metadata": {},
   "source": [
    "# SVM"
   ]
  },
  {
   "cell_type": "code",
   "execution_count": 135,
   "metadata": {},
   "outputs": [
    {
     "data": {
      "text/plain": [
       "SVC(probability=True)"
      ]
     },
     "execution_count": 135,
     "metadata": {},
     "output_type": "execute_result"
    }
   ],
   "source": [
    "svm = SVC(kernel='rbf',probability=True)\n",
    "svm.fit(X_train1, Y_train1)"
   ]
  },
  {
   "cell_type": "code",
   "execution_count": 136,
   "metadata": {},
   "outputs": [
    {
     "name": "stdout",
     "output_type": "stream",
     "text": [
      "              precision    recall  f1-score   support\n",
      "\n",
      "    Diabetes       0.95      1.00      0.97        94\n",
      " No diabetes       1.00      0.94      0.97        78\n",
      "\n",
      "    accuracy                           0.97       172\n",
      "   macro avg       0.97      0.97      0.97       172\n",
      "weighted avg       0.97      0.97      0.97       172\n",
      "\n"
     ]
    }
   ],
   "source": [
    "print(classification_report(Y_test1,svm.predict(X_test1)))"
   ]
  },
  {
   "cell_type": "code",
   "execution_count": 137,
   "metadata": {},
   "outputs": [],
   "source": [
    "results5 =cross_validate(estimator=svm,\n",
    "                                    X=X_train1,\n",
    "                                    y=Y_train1,\n",
    "                                    cv=cv,\n",
    "                                    scoring={'recall' : make_scorer(recall_score,pos_label=\"Diabetes\") })\n",
    "\n",
    "accuracy5 = model_selection.cross_val_score(svm, X_train1,Y_train1, scoring='accuracy', cv=cv, n_jobs=-1)"
   ]
  },
  {
   "cell_type": "code",
   "execution_count": 138,
   "metadata": {},
   "outputs": [
    {
     "name": "stdout",
     "output_type": "stream",
     "text": [
      "Accuracy 0.98125\n",
      "recall score is : 0.9944444444444445\n",
      "roc-auc score is 0.9902076318742985\n",
      "score time is : 0.0030948877334594726\n",
      "fit time is : 0.04593820571899414\n",
      "recall score for No diabetes is : 0.9667658730158729\n"
     ]
    }
   ],
   "source": [
    "print(\"Accuracy\",np.mean(accuracy5))\n",
    "print(\"recall score is :\",np.mean(results5[\"test_recall\"]))\n",
    "print(\"roc-auc score is\",np.mean(list(cross_val_score(svm, X_test1, Y_test1, cv=cv, scoring='roc_auc'))))\n",
    "print(\"score time is :\",np.mean(results5[\"score_time\"]))\n",
    "print(\"fit time is :\",np.mean(results5[\"fit_time\"]))\n",
    "print(\"recall score for No diabetes is :\",np.mean(cross_validate(estimator=svm,\n",
    "                                    X=X_train1,\n",
    "                                    y=Y_train1,\n",
    "                                    cv=cv,\n",
    "                                    scoring={'recall' : make_scorer(recall_score,pos_label=\"No diabetes\") })[\"test_recall\"]))"
   ]
  },
  {
   "cell_type": "markdown",
   "metadata": {},
   "source": [
    "# Random Forests"
   ]
  },
  {
   "cell_type": "code",
   "execution_count": 139,
   "metadata": {},
   "outputs": [
    {
     "data": {
      "text/plain": [
       "RandomForestClassifier()"
      ]
     },
     "execution_count": 139,
     "metadata": {},
     "output_type": "execute_result"
    }
   ],
   "source": [
    "rf=RandomForestClassifier()\n",
    "rf.fit(X_train1, Y_train1)"
   ]
  },
  {
   "cell_type": "code",
   "execution_count": 140,
   "metadata": {},
   "outputs": [
    {
     "name": "stdout",
     "output_type": "stream",
     "text": [
      "              precision    recall  f1-score   support\n",
      "\n",
      "    Diabetes       0.98      1.00      0.99        94\n",
      " No diabetes       1.00      0.97      0.99        78\n",
      "\n",
      "    accuracy                           0.99       172\n",
      "   macro avg       0.99      0.99      0.99       172\n",
      "weighted avg       0.99      0.99      0.99       172\n",
      "\n"
     ]
    }
   ],
   "source": [
    "print(classification_report(Y_test1,rf.predict(X_test1)))"
   ]
  },
  {
   "cell_type": "code",
   "execution_count": 141,
   "metadata": {},
   "outputs": [],
   "source": [
    "results6 =cross_validate(estimator=rf,\n",
    "                                    X=X_train1,\n",
    "                                    y=Y_train1,\n",
    "                                    cv=cv,\n",
    "                                    scoring={'recall' : make_scorer(recall_score,pos_label=\"Diabetes\") })\n",
    "\n",
    "accuracy6 = model_selection.cross_val_score(rf, X_train1,Y_train1, scoring='accuracy', cv=cv, n_jobs=-1)"
   ]
  },
  {
   "cell_type": "code",
   "execution_count": 142,
   "metadata": {},
   "outputs": [
    {
     "name": "stdout",
     "output_type": "stream",
     "text": [
      "Accuracy 0.9875\n",
      "recall score is : 1.0\n",
      "roc-auc score is 0.9957070707070708\n",
      "score time is : 0.01731414794921875\n",
      "fit time is : 0.23004500865936278\n",
      "recall score for No diabetes is : 0.9658342623560016\n"
     ]
    }
   ],
   "source": [
    "print(\"Accuracy\",np.mean(accuracy6))\n",
    "print(\"recall score is :\",np.mean(results6[\"test_recall\"]))\n",
    "print(\"roc-auc score is\",np.mean(list(cross_val_score(rf, X_test1, Y_test1, cv=cv, scoring='roc_auc'))))\n",
    "print(\"score time is :\",np.mean(results6[\"score_time\"]))\n",
    "print(\"fit time is :\",np.mean(results6[\"fit_time\"]))\n",
    "print(\"recall score for No diabetes is :\",np.mean(cross_validate(estimator=rf,\n",
    "                                    X=X_train1,\n",
    "                                    y=Y_train1,\n",
    "                                    cv=model_selection.KFold(n_splits=10),\n",
    "                                    scoring={'recall' : make_scorer(recall_score,pos_label=\"No diabetes\") })[\"test_recall\"]))"
   ]
  },
  {
   "cell_type": "markdown",
   "metadata": {},
   "source": [
    "# Ensembel"
   ]
  },
  {
   "cell_type": "code",
   "execution_count": 143,
   "metadata": {},
   "outputs": [
    {
     "data": {
      "text/plain": [
       "VotingClassifier(estimators=[('dt',\n",
       "                              DecisionTreeClassifier(criterion='entropy',\n",
       "                                                     max_depth=6)),\n",
       "                             ('knn',\n",
       "                              KNeighborsClassifier(n_jobs=-1, n_neighbors=11)),\n",
       "                             ('svm', SVC(probability=True)),\n",
       "                             ('nb', GaussianNB()),\n",
       "                             ('LR',\n",
       "                              LogisticRegression(C=11.288378916846883,\n",
       "                                                 solver='liblinear'))],\n",
       "                 voting='soft')"
      ]
     },
     "execution_count": 143,
     "metadata": {},
     "output_type": "execute_result"
    }
   ],
   "source": [
    "model1= VotingClassifier(estimators=[ ('dt', classifier1),('knn',knn),('svm',svm),('nb',nb),('LR',LR)], voting='soft')\n",
    "model1.fit(X_train1,Y_train1)"
   ]
  },
  {
   "cell_type": "code",
   "execution_count": 144,
   "metadata": {},
   "outputs": [
    {
     "name": "stdout",
     "output_type": "stream",
     "text": [
      "              precision    recall  f1-score   support\n",
      "\n",
      "    Diabetes       0.95      1.00      0.97        94\n",
      " No diabetes       1.00      0.94      0.97        78\n",
      "\n",
      "    accuracy                           0.97       172\n",
      "   macro avg       0.97      0.97      0.97       172\n",
      "weighted avg       0.97      0.97      0.97       172\n",
      "\n"
     ]
    }
   ],
   "source": [
    "print(classification_report(Y_test1,model1.predict(X_test1)))"
   ]
  },
  {
   "cell_type": "code",
   "execution_count": 145,
   "metadata": {},
   "outputs": [],
   "source": [
    "results =cross_validate(estimator=model1,\n",
    "                                    X=X_train1,\n",
    "                                    y=Y_train1,\n",
    "                                    cv=cv,\n",
    "                                    scoring=scoring)\n",
    "accuracy = model_selection.cross_val_score(LR, X_train1,Y_train1, scoring='accuracy', cv=cv, n_jobs=-1)"
   ]
  },
  {
   "cell_type": "code",
   "execution_count": 146,
   "metadata": {},
   "outputs": [
    {
     "name": "stdout",
     "output_type": "stream",
     "text": [
      "Accuracy 0.8561491935483871\n",
      "recall score is : 0.9817460317460318\n",
      "score time is : 0.03000314235687256\n",
      "fit time is : 0.03623464107513428\n",
      "recall score for No diabetes is : 0.9418452380952381\n"
     ]
    }
   ],
   "source": [
    "print(\"Accuracy\",np.mean(accuracy))\n",
    "print(\"recall score is :\",np.mean(results[\"test_recall\"]))\n",
    "print(\"score time is :\",np.mean(results[\"score_time\"]))\n",
    "print(\"fit time is :\",np.mean(results[\"fit_time\"]))\n",
    "print(\"recall score for No diabetes is :\",np.mean(cross_validate(estimator=model1,\n",
    "                                    X=X_train1,\n",
    "                                    y=Y_train1,\n",
    "                                    cv=cv,\n",
    "                                    scoring={'recall' : make_scorer(recall_score,pos_label=\"No diabetes\") })[\"test_recall\"]))"
   ]
  },
  {
   "cell_type": "markdown",
   "metadata": {},
   "source": [
    "# Ensemble of classifier,svm"
   ]
  },
  {
   "cell_type": "code",
   "execution_count": 147,
   "metadata": {},
   "outputs": [
    {
     "data": {
      "text/plain": [
       "VotingClassifier(estimators=[('dt',\n",
       "                              DecisionTreeClassifier(criterion='entropy',\n",
       "                                                     max_depth=6)),\n",
       "                             ('svm', SVC(probability=True))],\n",
       "                 voting='soft')"
      ]
     },
     "execution_count": 147,
     "metadata": {},
     "output_type": "execute_result"
    }
   ],
   "source": [
    "model2= VotingClassifier(estimators=[ ('dt', classifier1),('svm',svm)], voting='soft')\n",
    "model2.fit(X_train1,Y_train1)"
   ]
  },
  {
   "cell_type": "markdown",
   "metadata": {},
   "source": [
    "# Ensemble of rf,etc"
   ]
  },
  {
   "cell_type": "code",
   "execution_count": 148,
   "metadata": {},
   "outputs": [
    {
     "data": {
      "text/plain": [
       "VotingClassifier(estimators=[('rf', RandomForestClassifier()),\n",
       "                             ('etc',\n",
       "                              ExtraTreesClassifier(n_estimators=60,\n",
       "                                                   random_state=42))],\n",
       "                 voting='soft')"
      ]
     },
     "execution_count": 148,
     "metadata": {},
     "output_type": "execute_result"
    }
   ],
   "source": [
    "model3= VotingClassifier(estimators=[ ('rf', rf),('etc',etc)], voting='soft')\n",
    "model3.fit(X_train1,Y_train1)"
   ]
  },
  {
   "cell_type": "markdown",
   "metadata": {},
   "source": [
    "# Ensemble of logistic regression classifiers."
   ]
  },
  {
   "cell_type": "code",
   "execution_count": 149,
   "metadata": {},
   "outputs": [
    {
     "data": {
      "text/plain": [
       "BaggingClassifier(base_estimator=LogisticRegression(C=11.288378916846883,\n",
       "                                                    solver='liblinear'),\n",
       "                  n_estimators=15, random_state=8)"
      ]
     },
     "execution_count": 149,
     "metadata": {},
     "output_type": "execute_result"
    }
   ],
   "source": [
    "logbagClf = BaggingClassifier(LR, n_estimators = 15,random_state=8)\n",
    "logbagClf.fit(X_train1, Y_train1)"
   ]
  },
  {
   "cell_type": "code",
   "execution_count": 150,
   "metadata": {},
   "outputs": [
    {
     "name": "stdout",
     "output_type": "stream",
     "text": [
      "              precision    recall  f1-score   support\n",
      "\n",
      "    Diabetes       0.85      0.91      0.88        94\n",
      " No diabetes       0.89      0.81      0.85        78\n",
      "\n",
      "    accuracy                           0.87       172\n",
      "   macro avg       0.87      0.86      0.86       172\n",
      "weighted avg       0.87      0.87      0.87       172\n",
      "\n"
     ]
    }
   ],
   "source": [
    "print(classification_report(Y_test1,logbagClf.predict(X_test1)))"
   ]
  },
  {
   "cell_type": "code",
   "execution_count": 151,
   "metadata": {},
   "outputs": [
    {
     "name": "stdout",
     "output_type": "stream",
     "text": [
      "Accuracy: 87.177 \n"
     ]
    }
   ],
   "source": [
    "print('Accuracy: %.3f ' % (np.mean(model_selection.cross_val_score(logbagClf, X_train1,Y_train1, scoring='accuracy', cv=cv, n_jobs=-1))*100))"
   ]
  },
  {
   "cell_type": "code",
   "execution_count": 152,
   "metadata": {},
   "outputs": [
    {
     "name": "stdout",
     "output_type": "stream",
     "text": [
      "recall score is : 0.8951401174504889\n",
      "roc-auc score is 0.8974851691518358\n",
      "recall score for No diabetes is : 0.8420955433455433\n"
     ]
    }
   ],
   "source": [
    "print(\"recall score is :\",np.mean(cross_validate(estimator=LR,\n",
    "                                    X=X_train1,\n",
    "                                    y=Y_train1,\n",
    "                                    cv=cv,\n",
    "                                    scoring=scoring)[\"test_recall\"]))\n",
    "print(\"roc-auc score is\",np.mean(list(cross_val_score(logbagClf, X_test1, Y_test1, cv=cv, scoring='roc_auc'))))\n",
    "print(\"recall score for No diabetes is :\",np.mean(cross_validate(estimator=logbagClf,\n",
    "                                    X=X_train1,\n",
    "                                    y=Y_train1,\n",
    "                                    cv=cv,\n",
    "                                    scoring={'recall' : make_scorer(recall_score,pos_label=\"No diabetes\") })[\"test_recall\"]))\n"
   ]
  },
  {
   "cell_type": "code",
   "execution_count": 153,
   "metadata": {},
   "outputs": [
    {
     "name": "stdout",
     "output_type": "stream",
     "text": [
      "accuracy is:  0.9898367346938775\n",
      "diabetes recall is:  1.0\n",
      "no diabetes recall is:  0.9752443648305718\n",
      "roc_auc is:  0.9998333333333334\n",
      "matthews_corrcoef is:  0.991783731383183\n"
     ]
    }
   ],
   "source": [
    "print(\"accuracy is: \",np.mean(evaluate_model_accuracy(rf,X_res,y_res)))\n",
    "print(\"diabetes recall is: \",np.mean(evaluate_model_recall_positive(rf,X_res,y_res)))\n",
    "print(\"no diabetes recall is: \",np.mean(evaluate_model_recall_negative(rf,X_res,y_res)))\n",
    "print(\"roc_auc is: \",np.mean(evaluate_model_roc_auc(rf,X_res,y_res)))\n",
    "print(\"matthews_corrcoef is: \",evaluate_model_matthews_corrcoef(rf,X_res,y_res))"
   ]
  },
  {
   "cell_type": "markdown",
   "metadata": {},
   "source": [
    "# Gradient boost"
   ]
  },
  {
   "cell_type": "code",
   "execution_count": 154,
   "metadata": {},
   "outputs": [
    {
     "data": {
      "text/plain": [
       "GradientBoostingClassifier(learning_rate=0.9, random_state=42)"
      ]
     },
     "execution_count": 154,
     "metadata": {},
     "output_type": "execute_result"
    }
   ],
   "source": [
    "Gboost= GradientBoostingClassifier(learning_rate=0.9,random_state=42)\n",
    "Gboost.fit(X_train1, Y_train1)"
   ]
  },
  {
   "cell_type": "markdown",
   "metadata": {},
   "source": [
    "# Adaboost"
   ]
  },
  {
   "cell_type": "code",
   "execution_count": 155,
   "metadata": {},
   "outputs": [
    {
     "data": {
      "text/plain": [
       "AdaBoostClassifier(random_state=42)"
      ]
     },
     "execution_count": 155,
     "metadata": {},
     "output_type": "execute_result"
    }
   ],
   "source": [
    "Adaboost = AdaBoostClassifier(random_state=42)\n",
    "Adaboost.fit(X_train1, Y_train1)"
   ]
  },
  {
   "cell_type": "markdown",
   "metadata": {},
   "source": [
    "# Confusion Matrix"
   ]
  },
  {
   "cell_type": "code",
   "execution_count": 156,
   "metadata": {},
   "outputs": [],
   "source": [
    "def conf_matrix(y_true,x_true,model):\n",
    "    ax= plt.subplot()\n",
    "    sns.heatmap(confusion_matrix(y_true, model.predict(x_true)), annot=True)\n",
    "    ax.set_xlabel('Predicted labels');\n",
    "    ax.set_ylabel('True labels'); \n",
    "    ax.set_title('Confusion Matrix'); \n",
    "    ax.xaxis.set_ticklabels(['Diabetes', 'No Diabetes']); ax.yaxis.set_ticklabels(['Diabetes', 'No Diabetes']);\n",
    "    return ax"
   ]
  },
  {
   "cell_type": "markdown",
   "metadata": {},
   "source": [
    "# testing scores"
   ]
  },
  {
   "cell_type": "code",
   "execution_count": 157,
   "metadata": {},
   "outputs": [
    {
     "name": "stdout",
     "output_type": "stream",
     "text": [
      "accuracy is:  0.8715686274509803\n",
      "diabetes recall is:  0.8645959595959596\n",
      "no diabetes recall is:  0.8930555555555554\n",
      "roc_auc is:  0.9446657046657047\n",
      "matthews_corrcoef is:  0.7135259149750443\n",
      "Precision is:  0.8686666666666667\n"
     ]
    }
   ],
   "source": [
    "print(\"accuracy is: \",np.mean(evaluate_model_accuracy(nb,X_test1,Y_test1)))\n",
    "print(\"diabetes recall is: \",np.mean(evaluate_model_recall_positive(nb,X_test1,Y_test1)))\n",
    "print(\"no diabetes recall is: \",np.mean(evaluate_model_recall_negative(nb,X_test1,Y_test1)))\n",
    "print(\"roc_auc is: \",np.mean(evaluate_model_roc_auc(nb,X_test1,Y_test1)))\n",
    "print(\"matthews_corrcoef is: \",evaluate_model_matthews_corrcoef(nb,X_test1,Y_test1))\n",
    "print(\"Precision is: \",np.mean(evaluate_model_precision(nb,X_test1,Y_test1)))"
   ]
  },
  {
   "cell_type": "markdown",
   "metadata": {},
   "source": [
    "# ExtraTreesClassifier"
   ]
  },
  {
   "cell_type": "code",
   "execution_count": 158,
   "metadata": {},
   "outputs": [
    {
     "data": {
      "text/plain": [
       "ExtraTreesClassifier(n_estimators=60, random_state=42)"
      ]
     },
     "execution_count": 158,
     "metadata": {},
     "output_type": "execute_result"
    }
   ],
   "source": [
    "etc = ExtraTreesClassifier(n_estimators=60,random_state=42)\n",
    "etc.fit(X_train1,Y_train1)"
   ]
  },
  {
   "cell_type": "code",
   "execution_count": 159,
   "metadata": {},
   "outputs": [
    {
     "name": "stdout",
     "output_type": "stream",
     "text": [
      "accuracy is:  0.965032679738562\n",
      "diabetes recall is:  1.0\n",
      "no diabetes recall is:  0.9194444444444445\n",
      "roc_auc is:  0.9986111111111111\n",
      "matthews_corrcoef is:  0.9767598625352237\n",
      "Precision is:  1.0\n"
     ]
    }
   ],
   "source": [
    "print(\"accuracy is: \",np.mean(evaluate_model_accuracy(etc,X_test1,Y_test1)))\n",
    "print(\"diabetes recall is: \",np.mean(evaluate_model_recall_positive(etc,X_test1,Y_test1)))\n",
    "print(\"no diabetes recall is: \",np.mean(evaluate_model_recall_negative(etc,X_test1,Y_test1)))\n",
    "print(\"roc_auc is: \",np.mean(evaluate_model_roc_auc(etc,X_test1,Y_test1)))\n",
    "print(\"matthews_corrcoef is: \",evaluate_model_matthews_corrcoef(etc,X_test1,Y_test1))\n",
    "print(\"Precision is: \",np.mean(evaluate_model_precision(etc,X_test1,Y_test1)))"
   ]
  },
  {
   "cell_type": "markdown",
   "metadata": {},
   "source": [
    "# showing Confusion matrix"
   ]
  },
  {
   "cell_type": "code",
   "execution_count": 160,
   "metadata": {},
   "outputs": [
    {
     "data": {
      "image/png": "[encoded data removed]",
      "text/plain": [
       "<Figure size 432x288 with 2 Axes>"
      ]
     },
     "metadata": {
      "needs_background": "light"
     },
     "output_type": "display_data"
    }
   ],
   "source": [
    "conf_matrix(Y_test1,X_test1,etc)\n",
    "plt.show()"
   ]
  },
  {
   "cell_type": "markdown",
   "metadata": {},
   "source": [
    "# Total scores"
   ]
  },
  {
   "cell_type": "code",
   "execution_count": 161,
   "metadata": {},
   "outputs": [],
   "source": [
    "scores_df=pd.DataFrame()\n",
    "\n",
    "LR_scores={'accuracy': [0.8868421052631579],\n",
    " 'recall_positive': [0.9058658008658009],\n",
    "\n",
    " 'roc_auc': [0.9233404928404928],\n",
    " 'precision': [0.9058658008658009],\n",
    " \"f1_score\":[0.9058658008658009]}\n",
    "\n",
    "scores_df=pd.DataFrame(LR_scores,index=[\"LR\"])\n",
    "\n",
    "scores_df.loc[\"knn\"] = [np.mean(evaluate_model_accuracy(knn,X_test1,Y_test1)),\n",
    "                        np.mean(evaluate_model_recall_positive(knn,X_test1,Y_test1)),\n",
    "               \n",
    "                       np.mean(evaluate_model_roc_auc(knn,X_test1,Y_test1)),\n",
    "                       np.mean(evaluate_model_precision(knn,X_test1,Y_test1)),\n",
    "                       np.mean(evaluate_model_f1score(knn,X_test1,Y_test1))]\n",
    "\n",
    "\n",
    "scores_df.loc[\"classifier1\"] = [np.mean(evaluate_model_accuracy(classifier1,X_test1,Y_test1)),\n",
    "                        np.mean(evaluate_model_recall_positive(classifier1,X_test1,Y_test1)),\n",
    "                 \n",
    "                       np.mean(evaluate_model_roc_auc(classifier1,X_test1,Y_test1)),\n",
    "                       np.mean(evaluate_model_precision(classifier1,X_test1,Y_test1)),\n",
    "                               np.mean(evaluate_model_f1score(classifier1,X_test1,Y_test1))]\n",
    "\n",
    "scores_df.loc[\"svm\"] = [np.mean(evaluate_model_accuracy(svm,X_test1,Y_test1)),\n",
    "                        np.mean(evaluate_model_recall_positive(svm,X_test1,Y_test1)),\n",
    "              \n",
    "                       np.mean(evaluate_model_roc_auc(svm,X_test1,Y_test1)),\n",
    "                       np.mean(evaluate_model_precision(svm,X_test1,Y_test1)),\n",
    "                       np.mean(evaluate_model_f1score(svm,X_test1,Y_test1))]\n",
    "\n",
    "scores_df.loc[\"nb\"] = [np.mean(evaluate_model_accuracy(nb,X_test1,Y_test1)),\n",
    "                        np.mean(evaluate_model_recall_positive(nb,X_test1,Y_test1)),\n",
    "                  \n",
    "                       np.mean(evaluate_model_roc_auc(nb,X_test1,Y_test1)),\n",
    "                       np.mean(evaluate_model_precision(nb,X_test1,Y_test1)),\n",
    "                      np.mean(evaluate_model_f1score(nb,X_test1,Y_test1))]\n",
    "\n",
    "scores_df.loc[\"rf\"] = [np.mean(evaluate_model_accuracy(rf,X_test1,Y_test1)),\n",
    "                        np.mean(evaluate_model_recall_positive(rf,X_test1,Y_test1)),\n",
    "                \n",
    "                       np.mean(evaluate_model_roc_auc(rf,X_test1,Y_test1)),\n",
    "                       np.mean(evaluate_model_precision(rf,X_test1,Y_test1)),\n",
    "                      np.mean(evaluate_model_f1score(rf,X_test1,Y_test1))]\n",
    "\n",
    "scores_df.loc[\"Gboost\"] = [np.mean(evaluate_model_accuracy(Gboost,X_test1,Y_test1)),\n",
    "                        np.mean(evaluate_model_recall_positive(Gboost,X_test1,Y_test1)),\n",
    "              \n",
    "                       np.mean(evaluate_model_roc_auc(Gboost,X_test1,Y_test1)),\n",
    "                       np.mean(evaluate_model_precision(Gboost,X_test1,Y_test1)),\n",
    "                          np.mean(evaluate_model_f1score(Gboost,X_test1,Y_test1))]\n",
    "\n",
    "scores_df.loc[\"Adaboost\"] = [np.mean(evaluate_model_accuracy(Adaboost,X_test1,Y_test1)),\n",
    "                        np.mean(evaluate_model_recall_positive(Adaboost,X_test1,Y_test1)),\n",
    "                  \n",
    "                       np.mean(evaluate_model_roc_auc(Adaboost,X_test1,Y_test1)),\n",
    "                       np.mean(evaluate_model_precision(Adaboost,X_test1,Y_test1)),\n",
    "                            np.mean(evaluate_model_f1score(Adaboost,X_test1,Y_test1))]\n",
    "\n",
    "scores_df.loc[\"etc\"] = [np.mean(evaluate_model_accuracy(etc,X_test1,Y_test1)),\n",
    "                        np.mean(evaluate_model_recall_positive(etc,X_test1,Y_test1)),\n",
    "                     \n",
    "                       np.mean(evaluate_model_roc_auc(etc,X_test1,Y_test1)),\n",
    "                       np.mean(evaluate_model_precision(etc,X_test1,Y_test1)),\n",
    "                       np.mean(evaluate_model_f1score(etc,X_test1,Y_test1))]\n",
    "\n",
    "scores_df.loc[\"model1\"] = [np.mean(evaluate_model_accuracy(model1,X_test1,Y_test1)),\n",
    "                        np.mean(evaluate_model_recall_positive(model1,X_test1,Y_test1)),\n",
    "                     \n",
    "                       np.mean(evaluate_model_roc_auc(model1,X_test1,Y_test1)),\n",
    "                       np.mean(evaluate_model_precision(model1,X_test1,Y_test1)),\n",
    "                       np.mean(evaluate_model_f1score(model1,X_test1,Y_test1))]\n",
    "\n",
    "scores_df.loc[\"model2\"] = [np.mean(evaluate_model_accuracy(model2,X_test1,Y_test1)),\n",
    "                        np.mean(evaluate_model_recall_positive(model2,X_test1,Y_test1)),\n",
    "                    \n",
    "                       np.mean(evaluate_model_roc_auc(model2,X_test1,Y_test1)),\n",
    "                       np.mean(evaluate_model_precision(model2,X_test1,Y_test1)),\n",
    "                       np.mean(evaluate_model_f1score(model2,X_test1,Y_test1))]\n",
    "\n",
    "scores_df.loc[\"LR\"] = [np.mean(evaluate_model_accuracy(LR,X_test1,Y_test1)),\n",
    "                        np.mean(evaluate_model_recall_positive(LR,X_test1,Y_test1)),\n",
    "               \n",
    "                       np.mean(evaluate_model_roc_auc(LR,X_test1,Y_test1)),\n",
    "                       np.mean(evaluate_model_precision(LR,X_test1,Y_test1)),\n",
    "                       np.mean(evaluate_model_f1score(LR,X_test1,Y_test1))]\n",
    "\n",
    "scores_df.loc[\"model3\"] = [np.mean(evaluate_model_accuracy(model3,X_test1,Y_test1)),\n",
    "                        np.mean(evaluate_model_recall_positive(model3,X_test1,Y_test1)),\n",
    "                    \n",
    "                       np.mean(evaluate_model_roc_auc(model3,X_test1,Y_test1)),\n",
    "                       np.mean(evaluate_model_precision(model3,X_test1,Y_test1)),\n",
    "                       np.mean(evaluate_model_f1score(model3,X_test1,Y_test1))]"
   ]
  },
  {
   "cell_type": "code",
   "execution_count": 162,
   "metadata": {},
   "outputs": [
    {
     "data": {
      "text/html": [
       "<div>\n",
       "<style scoped>\n",
       "    .dataframe tbody tr th:only-of-type {\n",
       "        vertical-align: middle;\n",
       "    }\n",
       "\n",
       "    .dataframe tbody tr th {\n",
       "        vertical-align: top;\n",
       "    }\n",
       "\n",
       "    .dataframe thead th {\n",
       "        text-align: right;\n",
       "    }\n",
       "</style>\n",
       "<table border=\"1\" class=\"dataframe\">\n",
       "  <thead>\n",
       "    <tr style=\"text-align: right;\">\n",
       "      <th></th>\n",
       "      <th>accuracy</th>\n",
       "      <th>recall_positive</th>\n",
       "      <th>roc_auc</th>\n",
       "      <th>precision</th>\n",
       "      <th>f1_score</th>\n",
       "      <th>total_scores</th>\n",
       "    </tr>\n",
       "  </thead>\n",
       "  <tbody>\n",
       "    <tr>\n",
       "      <th>LR</th>\n",
       "      <td>0.860131</td>\n",
       "      <td>0.894394</td>\n",
       "      <td>0.905358</td>\n",
       "      <td>0.895333</td>\n",
       "      <td>0.894394</td>\n",
       "      <td>4.449610</td>\n",
       "    </tr>\n",
       "    <tr>\n",
       "      <th>knn</th>\n",
       "      <td>0.889216</td>\n",
       "      <td>0.935707</td>\n",
       "      <td>0.949657</td>\n",
       "      <td>0.933333</td>\n",
       "      <td>0.935707</td>\n",
       "      <td>4.643621</td>\n",
       "    </tr>\n",
       "    <tr>\n",
       "      <th>classifier1</th>\n",
       "      <td>0.947059</td>\n",
       "      <td>1.000000</td>\n",
       "      <td>0.935972</td>\n",
       "      <td>0.972000</td>\n",
       "      <td>0.988889</td>\n",
       "      <td>4.843920</td>\n",
       "    </tr>\n",
       "    <tr>\n",
       "      <th>svm</th>\n",
       "      <td>0.947386</td>\n",
       "      <td>0.967298</td>\n",
       "      <td>0.990208</td>\n",
       "      <td>0.973333</td>\n",
       "      <td>0.967298</td>\n",
       "      <td>4.845523</td>\n",
       "    </tr>\n",
       "    <tr>\n",
       "      <th>nb</th>\n",
       "      <td>0.871569</td>\n",
       "      <td>0.864596</td>\n",
       "      <td>0.944666</td>\n",
       "      <td>0.868667</td>\n",
       "      <td>0.864596</td>\n",
       "      <td>4.414093</td>\n",
       "    </tr>\n",
       "    <tr>\n",
       "      <th>rf</th>\n",
       "      <td>0.976471</td>\n",
       "      <td>1.000000</td>\n",
       "      <td>0.995909</td>\n",
       "      <td>0.990000</td>\n",
       "      <td>0.988889</td>\n",
       "      <td>4.951269</td>\n",
       "    </tr>\n",
       "    <tr>\n",
       "      <th>Gboost</th>\n",
       "      <td>0.952941</td>\n",
       "      <td>0.988889</td>\n",
       "      <td>0.987500</td>\n",
       "      <td>0.990000</td>\n",
       "      <td>0.988889</td>\n",
       "      <td>4.908219</td>\n",
       "    </tr>\n",
       "    <tr>\n",
       "      <th>Adaboost</th>\n",
       "      <td>0.912092</td>\n",
       "      <td>0.926187</td>\n",
       "      <td>0.940152</td>\n",
       "      <td>0.958667</td>\n",
       "      <td>0.926187</td>\n",
       "      <td>4.663283</td>\n",
       "    </tr>\n",
       "    <tr>\n",
       "      <th>etc</th>\n",
       "      <td>0.965033</td>\n",
       "      <td>1.000000</td>\n",
       "      <td>0.998611</td>\n",
       "      <td>1.000000</td>\n",
       "      <td>1.000000</td>\n",
       "      <td>4.963644</td>\n",
       "    </tr>\n",
       "    <tr>\n",
       "      <th>model1</th>\n",
       "      <td>0.923856</td>\n",
       "      <td>0.935707</td>\n",
       "      <td>0.984217</td>\n",
       "      <td>0.933333</td>\n",
       "      <td>0.935707</td>\n",
       "      <td>4.712821</td>\n",
       "    </tr>\n",
       "    <tr>\n",
       "      <th>model2</th>\n",
       "      <td>0.958824</td>\n",
       "      <td>1.000000</td>\n",
       "      <td>0.995455</td>\n",
       "      <td>0.968667</td>\n",
       "      <td>1.000000</td>\n",
       "      <td>4.922945</td>\n",
       "    </tr>\n",
       "    <tr>\n",
       "      <th>model3</th>\n",
       "      <td>0.976471</td>\n",
       "      <td>1.000000</td>\n",
       "      <td>0.998611</td>\n",
       "      <td>1.000000</td>\n",
       "      <td>1.000000</td>\n",
       "      <td>4.975082</td>\n",
       "    </tr>\n",
       "  </tbody>\n",
       "</table>\n",
       "</div>"
      ],
      "text/plain": [
       "             accuracy  recall_positive   roc_auc  precision  f1_score  \\\n",
       "LR           0.860131         0.894394  0.905358   0.895333  0.894394   \n",
       "knn          0.889216         0.935707  0.949657   0.933333  0.935707   \n",
       "classifier1  0.947059         1.000000  0.935972   0.972000  0.988889   \n",
       "svm          0.947386         0.967298  0.990208   0.973333  0.967298   \n",
       "nb           0.871569         0.864596  0.944666   0.868667  0.864596   \n",
       "rf           0.976471         1.000000  0.995909   0.990000  0.988889   \n",
       "Gboost       0.952941         0.988889  0.987500   0.990000  0.988889   \n",
       "Adaboost     0.912092         0.926187  0.940152   0.958667  0.926187   \n",
       "etc          0.965033         1.000000  0.998611   1.000000  1.000000   \n",
       "model1       0.923856         0.935707  0.984217   0.933333  0.935707   \n",
       "model2       0.958824         1.000000  0.995455   0.968667  1.000000   \n",
       "model3       0.976471         1.000000  0.998611   1.000000  1.000000   \n",
       "\n",
       "             total_scores  \n",
       "LR               4.449610  \n",
       "knn              4.643621  \n",
       "classifier1      4.843920  \n",
       "svm              4.845523  \n",
       "nb               4.414093  \n",
       "rf               4.951269  \n",
       "Gboost           4.908219  \n",
       "Adaboost         4.663283  \n",
       "etc              4.963644  \n",
       "model1           4.712821  \n",
       "model2           4.922945  \n",
       "model3           4.975082  "
      ]
     },
     "execution_count": 162,
     "metadata": {},
     "output_type": "execute_result"
    }
   ],
   "source": [
    "scores_df[\"total_scores\"] = scores_df.sum(axis=1)\n",
    "\n",
    "scores_df"
   ]
  },
  {
   "cell_type": "code",
   "execution_count": 163,
   "metadata": {},
   "outputs": [
    {
     "data": {
      "text/html": [
       "<div>\n",
       "<style scoped>\n",
       "    .dataframe tbody tr th:only-of-type {\n",
       "        vertical-align: middle;\n",
       "    }\n",
       "\n",
       "    .dataframe tbody tr th {\n",
       "        vertical-align: top;\n",
       "    }\n",
       "\n",
       "    .dataframe thead th {\n",
       "        text-align: right;\n",
       "    }\n",
       "</style>\n",
       "<table border=\"1\" class=\"dataframe\">\n",
       "  <thead>\n",
       "    <tr style=\"text-align: right;\">\n",
       "      <th></th>\n",
       "      <th>accuracy</th>\n",
       "      <th>recall_positive</th>\n",
       "      <th>roc_auc</th>\n",
       "      <th>precision</th>\n",
       "      <th>f1_score</th>\n",
       "      <th>total_scores</th>\n",
       "    </tr>\n",
       "  </thead>\n",
       "  <tbody>\n",
       "    <tr>\n",
       "      <th>classifier1</th>\n",
       "      <td>0.947059</td>\n",
       "      <td>1.000000</td>\n",
       "      <td>0.935972</td>\n",
       "      <td>0.972000</td>\n",
       "      <td>0.988889</td>\n",
       "      <td>4.843920</td>\n",
       "    </tr>\n",
       "    <tr>\n",
       "      <th>rf</th>\n",
       "      <td>0.976471</td>\n",
       "      <td>1.000000</td>\n",
       "      <td>0.995909</td>\n",
       "      <td>0.990000</td>\n",
       "      <td>0.988889</td>\n",
       "      <td>4.951269</td>\n",
       "    </tr>\n",
       "    <tr>\n",
       "      <th>etc</th>\n",
       "      <td>0.965033</td>\n",
       "      <td>1.000000</td>\n",
       "      <td>0.998611</td>\n",
       "      <td>1.000000</td>\n",
       "      <td>1.000000</td>\n",
       "      <td>4.963644</td>\n",
       "    </tr>\n",
       "    <tr>\n",
       "      <th>model2</th>\n",
       "      <td>0.958824</td>\n",
       "      <td>1.000000</td>\n",
       "      <td>0.995455</td>\n",
       "      <td>0.968667</td>\n",
       "      <td>1.000000</td>\n",
       "      <td>4.922945</td>\n",
       "    </tr>\n",
       "    <tr>\n",
       "      <th>model3</th>\n",
       "      <td>0.976471</td>\n",
       "      <td>1.000000</td>\n",
       "      <td>0.998611</td>\n",
       "      <td>1.000000</td>\n",
       "      <td>1.000000</td>\n",
       "      <td>4.975082</td>\n",
       "    </tr>\n",
       "    <tr>\n",
       "      <th>Gboost</th>\n",
       "      <td>0.952941</td>\n",
       "      <td>0.988889</td>\n",
       "      <td>0.987500</td>\n",
       "      <td>0.990000</td>\n",
       "      <td>0.988889</td>\n",
       "      <td>4.908219</td>\n",
       "    </tr>\n",
       "    <tr>\n",
       "      <th>svm</th>\n",
       "      <td>0.947386</td>\n",
       "      <td>0.967298</td>\n",
       "      <td>0.990208</td>\n",
       "      <td>0.973333</td>\n",
       "      <td>0.967298</td>\n",
       "      <td>4.845523</td>\n",
       "    </tr>\n",
       "    <tr>\n",
       "      <th>knn</th>\n",
       "      <td>0.889216</td>\n",
       "      <td>0.935707</td>\n",
       "      <td>0.949657</td>\n",
       "      <td>0.933333</td>\n",
       "      <td>0.935707</td>\n",
       "      <td>4.643621</td>\n",
       "    </tr>\n",
       "    <tr>\n",
       "      <th>model1</th>\n",
       "      <td>0.923856</td>\n",
       "      <td>0.935707</td>\n",
       "      <td>0.984217</td>\n",
       "      <td>0.933333</td>\n",
       "      <td>0.935707</td>\n",
       "      <td>4.712821</td>\n",
       "    </tr>\n",
       "    <tr>\n",
       "      <th>Adaboost</th>\n",
       "      <td>0.912092</td>\n",
       "      <td>0.926187</td>\n",
       "      <td>0.940152</td>\n",
       "      <td>0.958667</td>\n",
       "      <td>0.926187</td>\n",
       "      <td>4.663283</td>\n",
       "    </tr>\n",
       "    <tr>\n",
       "      <th>LR</th>\n",
       "      <td>0.860131</td>\n",
       "      <td>0.894394</td>\n",
       "      <td>0.905358</td>\n",
       "      <td>0.895333</td>\n",
       "      <td>0.894394</td>\n",
       "      <td>4.449610</td>\n",
       "    </tr>\n",
       "    <tr>\n",
       "      <th>nb</th>\n",
       "      <td>0.871569</td>\n",
       "      <td>0.864596</td>\n",
       "      <td>0.944666</td>\n",
       "      <td>0.868667</td>\n",
       "      <td>0.864596</td>\n",
       "      <td>4.414093</td>\n",
       "    </tr>\n",
       "  </tbody>\n",
       "</table>\n",
       "</div>"
      ],
      "text/plain": [
       "             accuracy  recall_positive   roc_auc  precision  f1_score  \\\n",
       "classifier1  0.947059         1.000000  0.935972   0.972000  0.988889   \n",
       "rf           0.976471         1.000000  0.995909   0.990000  0.988889   \n",
       "etc          0.965033         1.000000  0.998611   1.000000  1.000000   \n",
       "model2       0.958824         1.000000  0.995455   0.968667  1.000000   \n",
       "model3       0.976471         1.000000  0.998611   1.000000  1.000000   \n",
       "Gboost       0.952941         0.988889  0.987500   0.990000  0.988889   \n",
       "svm          0.947386         0.967298  0.990208   0.973333  0.967298   \n",
       "knn          0.889216         0.935707  0.949657   0.933333  0.935707   \n",
       "model1       0.923856         0.935707  0.984217   0.933333  0.935707   \n",
       "Adaboost     0.912092         0.926187  0.940152   0.958667  0.926187   \n",
       "LR           0.860131         0.894394  0.905358   0.895333  0.894394   \n",
       "nb           0.871569         0.864596  0.944666   0.868667  0.864596   \n",
       "\n",
       "             total_scores  \n",
       "classifier1      4.843920  \n",
       "rf               4.951269  \n",
       "etc              4.963644  \n",
       "model2           4.922945  \n",
       "model3           4.975082  \n",
       "Gboost           4.908219  \n",
       "svm              4.845523  \n",
       "knn              4.643621  \n",
       "model1           4.712821  \n",
       "Adaboost         4.663283  \n",
       "LR               4.449610  \n",
       "nb               4.414093  "
      ]
     },
     "execution_count": 163,
     "metadata": {},
     "output_type": "execute_result"
    }
   ],
   "source": [
    "scores_df.sort_values(by=\"recall_positive\",ascending=False)"
   ]
  },
  {
   "cell_type": "markdown",
   "metadata": {},
   "source": [
    "# Individual Scores"
   ]
  },
  {
   "cell_type": "code",
   "execution_count": 164,
   "metadata": {},
   "outputs": [],
   "source": [
    "individual_scores=pd.DataFrame()\n",
    "\n",
    "LR_scores={'accuracy': [0.8868421052631579],\n",
    " 'recall_positive': [0.9058658008658009],\n",
    "\n",
    " 'roc_auc': [0.9233404928404928],\n",
    " 'precision': [0.9058658008658009],\n",
    " \"f1_score\":[0.9058658008658009]}\n",
    "\n",
    "individual_scores=pd.DataFrame(LR_scores,index=[\"LR\"])\n",
    "\n",
    "individual_scores.loc[\"knn\"] = [np.mean(evaluate_model_accuracy(knn,X_test1,Y_test1)),\n",
    "                        np.mean(evaluate_model_recall_positive(knn,X_test1,Y_test1)),\n",
    "               \n",
    "                       np.mean(evaluate_model_roc_auc(knn,X_test1,Y_test1)),\n",
    "                       np.mean(evaluate_model_precision(knn,X_test1,Y_test1)),\n",
    "                       np.mean(evaluate_model_f1score(knn,X_test1,Y_test1))]\n",
    "\n",
    "\n",
    "individual_scores.loc[\"classifier1\"] = [np.mean(evaluate_model_accuracy(classifier1,X_test1,Y_test1)),\n",
    "                        np.mean(evaluate_model_recall_positive(classifier1,X_test1,Y_test1)),\n",
    "                 \n",
    "                       np.mean(evaluate_model_roc_auc(classifier1,X_test1,Y_test1)),\n",
    "                       np.mean(evaluate_model_precision(classifier1,X_test1,Y_test1)),\n",
    "                               np.mean(evaluate_model_f1score(classifier1,X_test1,Y_test1))]\n",
    "\n",
    "individual_scores.loc[\"svm\"] = [np.mean(evaluate_model_accuracy(svm,X_test1,Y_test1)),\n",
    "                        np.mean(evaluate_model_recall_positive(svm,X_test1,Y_test1)),\n",
    "              \n",
    "                       np.mean(evaluate_model_roc_auc(svm,X_test1,Y_test1)),\n",
    "                       np.mean(evaluate_model_precision(svm,X_test1,Y_test1)),\n",
    "                       np.mean(evaluate_model_f1score(svm,X_test1,Y_test1))]\n",
    "\n",
    "individual_scores.loc[\"nb\"] = [np.mean(evaluate_model_accuracy(nb,X_test1,Y_test1)),\n",
    "                        np.mean(evaluate_model_recall_positive(nb,X_test1,Y_test1)),\n",
    "                  \n",
    "                       np.mean(evaluate_model_roc_auc(nb,X_test1,Y_test1)),\n",
    "                       np.mean(evaluate_model_precision(nb,X_test1,Y_test1)),\n",
    "                      np.mean(evaluate_model_f1score(nb,X_test1,Y_test1))]"
   ]
  },
  {
   "cell_type": "markdown",
   "metadata": {},
   "source": [
    "# Ensemble Models Scores"
   ]
  },
  {
   "cell_type": "code",
   "execution_count": 165,
   "metadata": {},
   "outputs": [],
   "source": [
    "Ensemble_scores=pd.DataFrame()\n",
    "\n",
    "rf_scores={'accuracy': [0.9642105263157894],\n",
    " 'recall_positive': [0.9818181818181818],\n",
    "\n",
    " 'roc_auc': [0.9944971694971695],\n",
    " 'precision': [0.9584415584415584],\n",
    " \"f1_score\":[0.9825757575757577]}\n",
    "\n",
    "Ensemble_scores=pd.DataFrame(rf_scores,index=[\"rf\"])\n",
    "\n",
    "\n",
    "Ensemble_scores.loc[\"Gboost\"] = [np.mean(evaluate_model_accuracy(Gboost,X_test1,Y_test1)),\n",
    "                        np.mean(evaluate_model_recall_positive(Gboost,X_test1,Y_test1)),\n",
    "              \n",
    "                       np.mean(evaluate_model_roc_auc(Gboost,X_test1,Y_test1)),\n",
    "                       np.mean(evaluate_model_precision(Gboost,X_test1,Y_test1)),\n",
    "                          np.mean(evaluate_model_f1score(Gboost,X_test1,Y_test1))]\n",
    "\n",
    "Ensemble_scores.loc[\"Adaboost\"] = [np.mean(evaluate_model_accuracy(Adaboost,X_test1,Y_test1)),\n",
    "                        np.mean(evaluate_model_recall_positive(Adaboost,X_test1,Y_test1)),\n",
    "                  \n",
    "                       np.mean(evaluate_model_roc_auc(Adaboost,X_test1,Y_test1)),\n",
    "                       np.mean(evaluate_model_precision(Adaboost,X_test1,Y_test1)),\n",
    "                            np.mean(evaluate_model_f1score(Adaboost,X_test1,Y_test1))]\n",
    "\n",
    "Ensemble_scores.loc[\"etc\"] = [np.mean(evaluate_model_accuracy(etc,X_test1,Y_test1)),\n",
    "                        np.mean(evaluate_model_recall_positive(etc,X_test1,Y_test1)),\n",
    "                     \n",
    "                       np.mean(evaluate_model_roc_auc(etc,X_test1,Y_test1)),\n",
    "                       np.mean(evaluate_model_precision(etc,X_test1,Y_test1)),\n",
    "                       np.mean(evaluate_model_f1score(etc,X_test1,Y_test1))]\n",
    "\n",
    "Ensemble_scores.loc[\"rf\"] = [np.mean(evaluate_model_accuracy(rf,X_test1,Y_test1)),\n",
    "                        np.mean(evaluate_model_recall_positive(rf,X_test1,Y_test1)),\n",
    "              \n",
    "                       np.mean(evaluate_model_roc_auc(rf,X_test1,Y_test1)),\n",
    "                       np.mean(evaluate_model_precision(rf,X_test1,Y_test1)),\n",
    "                          np.mean(evaluate_model_f1score(rf,X_test1,Y_test1))]\n"
   ]
  },
  {
   "cell_type": "code",
   "execution_count": 166,
   "metadata": {},
   "outputs": [],
   "source": [
    "custom_custom_ensemble_scores=pd.DataFrame()\n",
    "\n",
    "model1_scores={'accuracy': [0.9021052631578949],\n",
    " 'recall_positive': [ 0.9058658008658009],\n",
    "\n",
    " 'roc_auc': [0.9726289266289267],\n",
    " 'precision': [0.9058658008658009],\n",
    " \"f1_score\":[ 0.9058658008658009]}\n",
    "\n",
    "custom_ensemble_scores=pd.DataFrame(model1_scores,index=[\"model1\"])\n",
    "\n",
    "\n",
    "custom_ensemble_scores.loc[\"model2\"] = [np.mean(evaluate_model_accuracy(model2,X_test1,Y_test1)),\n",
    "                        np.mean(evaluate_model_recall_positive(model2,X_test1,Y_test1)),\n",
    "                    \n",
    "                       np.mean(evaluate_model_roc_auc(model2,X_test1,Y_test1)),\n",
    "                       np.mean(evaluate_model_precision(model2,X_test1,Y_test1)),\n",
    "                       np.mean(evaluate_model_f1score(model2,X_test1,Y_test1))]\n",
    "\n",
    "custom_ensemble_scores.loc[\"model1\"] = [np.mean(evaluate_model_accuracy(model1,X_test1,Y_test1)),\n",
    "                        np.mean(evaluate_model_recall_positive(model1,X_test1,Y_test1)),\n",
    "                    \n",
    "                       np.mean(evaluate_model_roc_auc(model1,X_test1,Y_test1)),\n",
    "                       np.mean(evaluate_model_precision(model1,X_test1,Y_test1)),\n",
    "                       np.mean(evaluate_model_f1score(model1,X_test1,Y_test1))]\n",
    "\n",
    "custom_ensemble_scores.loc[\"model3\"] = [np.mean(evaluate_model_accuracy(model3,X_test1,Y_test1)),\n",
    "                        np.mean(evaluate_model_recall_positive(model3,X_test1,Y_test1)),\n",
    "                    \n",
    "                       np.mean(evaluate_model_roc_auc(model3,X_test1,Y_test1)),\n",
    "                       np.mean(evaluate_model_precision(model3,X_test1,Y_test1)),\n",
    "                       np.mean(evaluate_model_f1score(model3,X_test1,Y_test1))]"
   ]
  },
  {
   "cell_type": "code",
   "execution_count": 167,
   "metadata": {},
   "outputs": [
    {
     "data": {
      "text/html": [
       "<div>\n",
       "<style scoped>\n",
       "    .dataframe tbody tr th:only-of-type {\n",
       "        vertical-align: middle;\n",
       "    }\n",
       "\n",
       "    .dataframe tbody tr th {\n",
       "        vertical-align: top;\n",
       "    }\n",
       "\n",
       "    .dataframe thead th {\n",
       "        text-align: right;\n",
       "    }\n",
       "</style>\n",
       "<table border=\"1\" class=\"dataframe\">\n",
       "  <thead>\n",
       "    <tr style=\"text-align: right;\">\n",
       "      <th></th>\n",
       "      <th>accuracy</th>\n",
       "      <th>recall_positive</th>\n",
       "      <th>roc_auc</th>\n",
       "      <th>precision</th>\n",
       "      <th>f1_score</th>\n",
       "    </tr>\n",
       "  </thead>\n",
       "  <tbody>\n",
       "    <tr>\n",
       "      <th>classifier1</th>\n",
       "      <td>0.941503</td>\n",
       "      <td>0.990000</td>\n",
       "      <td>0.947778</td>\n",
       "      <td>0.972000</td>\n",
       "      <td>0.990000</td>\n",
       "    </tr>\n",
       "    <tr>\n",
       "      <th>svm</th>\n",
       "      <td>0.947386</td>\n",
       "      <td>0.967298</td>\n",
       "      <td>0.990208</td>\n",
       "      <td>0.973333</td>\n",
       "      <td>0.967298</td>\n",
       "    </tr>\n",
       "    <tr>\n",
       "      <th>knn</th>\n",
       "      <td>0.889216</td>\n",
       "      <td>0.935707</td>\n",
       "      <td>0.949657</td>\n",
       "      <td>0.933333</td>\n",
       "      <td>0.935707</td>\n",
       "    </tr>\n",
       "    <tr>\n",
       "      <th>LR</th>\n",
       "      <td>0.886842</td>\n",
       "      <td>0.905866</td>\n",
       "      <td>0.923340</td>\n",
       "      <td>0.905866</td>\n",
       "      <td>0.905866</td>\n",
       "    </tr>\n",
       "    <tr>\n",
       "      <th>nb</th>\n",
       "      <td>0.871569</td>\n",
       "      <td>0.864596</td>\n",
       "      <td>0.944666</td>\n",
       "      <td>0.868667</td>\n",
       "      <td>0.864596</td>\n",
       "    </tr>\n",
       "  </tbody>\n",
       "</table>\n",
       "</div>"
      ],
      "text/plain": [
       "             accuracy  recall_positive   roc_auc  precision  f1_score\n",
       "classifier1  0.941503         0.990000  0.947778   0.972000  0.990000\n",
       "svm          0.947386         0.967298  0.990208   0.973333  0.967298\n",
       "knn          0.889216         0.935707  0.949657   0.933333  0.935707\n",
       "LR           0.886842         0.905866  0.923340   0.905866  0.905866\n",
       "nb           0.871569         0.864596  0.944666   0.868667  0.864596"
      ]
     },
     "execution_count": 167,
     "metadata": {},
     "output_type": "execute_result"
    }
   ],
   "source": [
    "individual_scores.sort_values(by='recall_positive',ascending=False)"
   ]
  },
  {
   "cell_type": "code",
   "execution_count": 168,
   "metadata": {},
   "outputs": [
    {
     "data": {
      "text/html": [
       "<div>\n",
       "<style scoped>\n",
       "    .dataframe tbody tr th:only-of-type {\n",
       "        vertical-align: middle;\n",
       "    }\n",
       "\n",
       "    .dataframe tbody tr th {\n",
       "        vertical-align: top;\n",
       "    }\n",
       "\n",
       "    .dataframe thead th {\n",
       "        text-align: right;\n",
       "    }\n",
       "</style>\n",
       "<table border=\"1\" class=\"dataframe\">\n",
       "  <thead>\n",
       "    <tr style=\"text-align: right;\">\n",
       "      <th></th>\n",
       "      <th>accuracy</th>\n",
       "      <th>recall_positive</th>\n",
       "      <th>roc_auc</th>\n",
       "      <th>precision</th>\n",
       "      <th>f1_score</th>\n",
       "    </tr>\n",
       "  </thead>\n",
       "  <tbody>\n",
       "    <tr>\n",
       "      <th>rf</th>\n",
       "      <td>0.976471</td>\n",
       "      <td>1.000000</td>\n",
       "      <td>0.997096</td>\n",
       "      <td>0.970000</td>\n",
       "      <td>1.000000</td>\n",
       "    </tr>\n",
       "    <tr>\n",
       "      <th>etc</th>\n",
       "      <td>0.965033</td>\n",
       "      <td>1.000000</td>\n",
       "      <td>0.998611</td>\n",
       "      <td>1.000000</td>\n",
       "      <td>1.000000</td>\n",
       "    </tr>\n",
       "    <tr>\n",
       "      <th>Gboost</th>\n",
       "      <td>0.952941</td>\n",
       "      <td>0.988889</td>\n",
       "      <td>0.987500</td>\n",
       "      <td>0.990000</td>\n",
       "      <td>0.988889</td>\n",
       "    </tr>\n",
       "    <tr>\n",
       "      <th>Adaboost</th>\n",
       "      <td>0.912092</td>\n",
       "      <td>0.926187</td>\n",
       "      <td>0.940152</td>\n",
       "      <td>0.958667</td>\n",
       "      <td>0.926187</td>\n",
       "    </tr>\n",
       "  </tbody>\n",
       "</table>\n",
       "</div>"
      ],
      "text/plain": [
       "          accuracy  recall_positive   roc_auc  precision  f1_score\n",
       "rf        0.976471         1.000000  0.997096   0.970000  1.000000\n",
       "etc       0.965033         1.000000  0.998611   1.000000  1.000000\n",
       "Gboost    0.952941         0.988889  0.987500   0.990000  0.988889\n",
       "Adaboost  0.912092         0.926187  0.940152   0.958667  0.926187"
      ]
     },
     "execution_count": 168,
     "metadata": {},
     "output_type": "execute_result"
    }
   ],
   "source": [
    "Ensemble_scores.sort_values(by='recall_positive',ascending=False)"
   ]
  },
  {
   "cell_type": "code",
   "execution_count": 169,
   "metadata": {},
   "outputs": [
    {
     "data": {
      "text/html": [
       "<div>\n",
       "<style scoped>\n",
       "    .dataframe tbody tr th:only-of-type {\n",
       "        vertical-align: middle;\n",
       "    }\n",
       "\n",
       "    .dataframe tbody tr th {\n",
       "        vertical-align: top;\n",
       "    }\n",
       "\n",
       "    .dataframe thead th {\n",
       "        text-align: right;\n",
       "    }\n",
       "</style>\n",
       "<table border=\"1\" class=\"dataframe\">\n",
       "  <thead>\n",
       "    <tr style=\"text-align: right;\">\n",
       "      <th></th>\n",
       "      <th>accuracy</th>\n",
       "      <th>recall_positive</th>\n",
       "      <th>roc_auc</th>\n",
       "      <th>precision</th>\n",
       "      <th>f1_score</th>\n",
       "    </tr>\n",
       "  </thead>\n",
       "  <tbody>\n",
       "    <tr>\n",
       "      <th>model1</th>\n",
       "      <td>0.923856</td>\n",
       "      <td>0.935707</td>\n",
       "      <td>0.987149</td>\n",
       "      <td>0.920</td>\n",
       "      <td>0.925707</td>\n",
       "    </tr>\n",
       "    <tr>\n",
       "      <th>model2</th>\n",
       "      <td>0.958824</td>\n",
       "      <td>1.000000</td>\n",
       "      <td>0.995455</td>\n",
       "      <td>0.992</td>\n",
       "      <td>0.990000</td>\n",
       "    </tr>\n",
       "    <tr>\n",
       "      <th>model3</th>\n",
       "      <td>0.976471</td>\n",
       "      <td>1.000000</td>\n",
       "      <td>0.998611</td>\n",
       "      <td>1.000</td>\n",
       "      <td>1.000000</td>\n",
       "    </tr>\n",
       "  </tbody>\n",
       "</table>\n",
       "</div>"
      ],
      "text/plain": [
       "        accuracy  recall_positive   roc_auc  precision  f1_score\n",
       "model1  0.923856         0.935707  0.987149      0.920  0.925707\n",
       "model2  0.958824         1.000000  0.995455      0.992  0.990000\n",
       "model3  0.976471         1.000000  0.998611      1.000  1.000000"
      ]
     },
     "execution_count": 169,
     "metadata": {},
     "output_type": "execute_result"
    }
   ],
   "source": [
    "custom_ensemble_scores"
   ]
  },
  {
   "cell_type": "code",
   "execution_count": 175,
   "metadata": {},
   "outputs": [
    {
     "data": {
      "image/png": "[encoded data removed]",
      "text/plain": [
       "<Figure size 432x288 with 2 Axes>"
      ]
     },
     "metadata": {
      "needs_background": "light"
     },
     "output_type": "display_data"
    }
   ],
   "source": [
    "conf_matrix(Y_test1,X_test1,rf)\n",
    "plt.show()"
   ]
  },
  {
   "cell_type": "code",
   "execution_count": 171,
   "metadata": {},
   "outputs": [
    {
     "data": {
      "text/plain": [
       "Diabetes       94\n",
       "No diabetes    78\n",
       "Name: Diabetes, dtype: int64"
      ]
     },
     "execution_count": 171,
     "metadata": {},
     "output_type": "execute_result"
    }
   ],
   "source": [
    "Y_test1.value_counts()"
   ]
  },
  {
   "cell_type": "code",
   "execution_count": null,
   "metadata": {},
   "outputs": [],
   "source": []
  }
 ],
 "metadata": {
  "kernelspec": {
   "display_name": "Python 3",
   "language": "python",
   "name": "python3"
  },
  "language_info": {
   "codemirror_mode": {
    "name": "ipython",
    "version": 3
   },
   "file_extension": ".py",
   "mimetype": "text/x-python",
   "name": "python",
   "nbconvert_exporter": "python",
   "pygments_lexer": "ipython3",
   "version": "3.8.5"
  }
 },
 "nbformat": 4,
 "nbformat_minor": 4
}
