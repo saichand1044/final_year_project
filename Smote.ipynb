{
 "cells": [
  {
   "cell_type": "code",
   "execution_count": 2,
   "metadata": {},
   "outputs": [],
   "source": [
    "import pandas as pd\n",
    "import numpy as np\n",
    "import matplotlib.pyplot as plt\n",
    "import seaborn as sns\n",
    "import sklearn\n",
    "\n",
    "from sklearn.preprocessing import LabelEncoder,StandardScaler,RobustScaler\n",
    "from sklearn.metrics import accuracy_score,confusion_matrix,recall_score,classification_report,precision_score,roc_auc_score,matthews_corrcoef,precision_recall_fscore_support,make_scorer, accuracy_score, precision_score, recall_score, f1_score\n",
    "from sklearn.model_selection import cross_validate,cross_val_score\n",
    "from sklearn import model_selection\n",
    "\n",
    "from sklearn.tree import DecisionTreeClassifier\n",
    "from sklearn.linear_model import LogisticRegression\n",
    "from sklearn.svm import SVC\n",
    "from sklearn.neighbors import KNeighborsClassifier\n",
    "from sklearn.naive_bayes import GaussianNB\n",
    "\n",
    "from imblearn.over_sampling import SMOTE\n",
    " \n",
    "from sklearn.model_selection import GridSearchCV,RandomizedSearchCV\n",
    "\n",
    "from imblearn.ensemble import BalancedRandomForestClassifier\n",
    "from sklearn.ensemble import AdaBoostClassifier,BaggingClassifier,GradientBoostingClassifier,RandomForestClassifier,ExtraTreesClassifier,StackingClassifier,VotingClassifier\n",
    "\n",
    "import xgboost as xgb\n",
    "import lightgbm as lgb\n",
    "from catboost import CatBoostClassifier"
   ]
  },
  {
   "cell_type": "code",
   "execution_count": 3,
   "metadata": {},
   "outputs": [],
   "source": [
    "df=pd.read_excel(\"C:/Users/saich/OneDrive/Desktop/Diabetes_Classification.xlsx\")"
   ]
  },
  {
   "cell_type": "code",
   "execution_count": 4,
   "metadata": {},
   "outputs": [],
   "source": [
    "df.drop(labels=\"Patient number\",axis=1,inplace=True)"
   ]
  },
  {
   "cell_type": "code",
   "execution_count": 5,
   "metadata": {},
   "outputs": [],
   "source": [
    "df.replace({'Gender':{\"female\":\"F\",\"male\":\"M\"}},inplace=True)"
   ]
  },
  {
   "cell_type": "code",
   "execution_count": 6,
   "metadata": {},
   "outputs": [],
   "source": [
    "le=LabelEncoder()\n",
    "df[\"Gender\"]=le.fit_transform(df[\"Gender\"])"
   ]
  },
  {
   "cell_type": "code",
   "execution_count": 7,
   "metadata": {},
   "outputs": [
    {
     "name": "stdout",
     "output_type": "stream",
     "text": [
      "Cholesterol        50.000\n",
      "Glucose            26.750\n",
      "HDL Chol           21.000\n",
      "Chol/HDL ratio      2.200\n",
      "Age                26.000\n",
      "Gender              1.000\n",
      "Height              6.000\n",
      "Weight             49.750\n",
      "BMI                 8.175\n",
      "Systolic BP        26.000\n",
      "Diastolic BP       15.000\n",
      "waist               8.000\n",
      "hip                 7.000\n",
      "Waist/hip ratio     0.100\n",
      "dtype: float64\n"
     ]
    }
   ],
   "source": [
    "Q1 = df.quantile(0.25)\n",
    "Q3 = df.quantile(0.75)\n",
    "IQR = Q3 - Q1\n",
    "print(IQR)"
   ]
  },
  {
   "cell_type": "code",
   "execution_count": 8,
   "metadata": {},
   "outputs": [],
   "source": [
    "df=df[~((df < (Q1 - 1.5 * IQR)) |(df > (Q3 + 1.5 * IQR))).any(axis=1)]"
   ]
  },
  {
   "cell_type": "code",
   "execution_count": 9,
   "metadata": {},
   "outputs": [],
   "source": [
    "target=df[\"Diabetes\"]\n",
    "features=df.drop(columns=\"Diabetes\",axis=1)"
   ]
  },
  {
   "cell_type": "code",
   "execution_count": 10,
   "metadata": {},
   "outputs": [],
   "source": [
    "sm = SMOTE(random_state=42,sampling_strategy=\"minority\") \n",
    "new_features, new_target = sm.fit_resample(features, target)"
   ]
  },
  {
   "cell_type": "code",
   "execution_count": 11,
   "metadata": {},
   "outputs": [],
   "source": [
    "scaler = StandardScaler()\n",
    "X_res=pd.DataFrame(scaler.fit_transform(new_features),columns=list(new_features.columns))\n",
    "y_res=new_target"
   ]
  },
  {
   "cell_type": "code",
   "execution_count": 12,
   "metadata": {},
   "outputs": [
    {
     "data": {
      "text/plain": [
       "Diabetes       277\n",
       "No diabetes    277\n",
       "Name: Diabetes, dtype: int64"
      ]
     },
     "execution_count": 12,
     "metadata": {},
     "output_type": "execute_result"
    }
   ],
   "source": [
    "y_res.value_counts()"
   ]
  },
  {
   "cell_type": "code",
   "execution_count": 13,
   "metadata": {},
   "outputs": [],
   "source": [
    "from sklearn.model_selection import train_test_split\n",
    "X_train1,X_test1,Y_train1,Y_test1=train_test_split(X_res,\n",
    "                                               y_res,\n",
    "                                               test_size=0.35,\n",
    "                                               random_state=42)"
   ]
  },
  {
   "cell_type": "markdown",
   "metadata": {},
   "source": [
    "# Function to get scores(KFold cross validation)"
   ]
  },
  {
   "cell_type": "code",
   "execution_count": 14,
   "metadata": {},
   "outputs": [],
   "source": [
    "def evaluate_model_accuracy(model, X, y):\n",
    "    kfold = model_selection.KFold(n_splits=10, random_state=42, shuffle=True)\n",
    "    scores = cross_val_score(model, X, y, scoring='accuracy', cv=kfold, n_jobs=-1)\n",
    "    return scores\n",
    "\n",
    "\n",
    "def evaluate_model_recall_positive(model,X,y):\n",
    "    scoring = {'recall' : make_scorer(recall_score,pos_label=\"Diabetes\") }\n",
    "    kfold = model_selection.KFold(n_splits=10, random_state=42, shuffle=True)\n",
    "    results =cross_validate(estimator=model,\n",
    "                                    X=X,\n",
    "                                    y=y,\n",
    "                                    cv=kfold,\n",
    "                                    scoring=scoring)\n",
    "    return results[\"test_recall\"]\n",
    "\n",
    "def evaluate_model_recall_negative(model,X,y):\n",
    "    scoring = {'recall' : make_scorer(recall_score,pos_label=\"No diabetes\") }\n",
    "    kfold = model_selection.KFold(n_splits=10, random_state=42, shuffle=True)\n",
    "    results =cross_validate(estimator=model,\n",
    "                                    X=X,\n",
    "                                    y=y,\n",
    "                                    cv=kfold,\n",
    "                                    scoring=scoring)\n",
    "    return results[\"test_recall\"]\n",
    "\n",
    "def evaluate_model_roc_auc(model, X, y):\n",
    "    kfold = model_selection.KFold(n_splits=10, random_state=42, shuffle=True)\n",
    "    scores = cross_val_score(model, X, y, scoring='roc_auc', cv=kfold, n_jobs=-1)\n",
    "    return scores\n",
    "\n",
    "def evaluate_model_matthews_corrcoef(model,X,y):\n",
    "    score=matthews_corrcoef(y,model.predict(X))\n",
    "    return score\n",
    "\n",
    "def evaluate_model_precision(model,X,y):\n",
    "    scoring = {'precision' : make_scorer(recall_score,pos_label=\"Diabetes\") }\n",
    "    kfold = model_selection.KFold(n_splits=10, random_state=42, shuffle=True)\n",
    "    results =cross_validate(estimator=model,\n",
    "                                    X=X,\n",
    "                                    y=y,\n",
    "                                    cv=kfold,\n",
    "                                    scoring=scoring)\n",
    "    return results[\"test_precision\"]\n",
    "\n",
    "def evaluate_model_f1score(model,X,y):\n",
    "    scoring = {'f1' : make_scorer(recall_score,pos_label=\"Diabetes\") }\n",
    "    kfold = model_selection.KFold(n_splits=10, random_state=42, shuffle=True)\n",
    "    results =cross_validate(estimator=model,\n",
    "                                    X=X,\n",
    "                                    y=y,\n",
    "                                    cv=kfold,\n",
    "                                    scoring=scoring)\n",
    "    return results[\"test_f1\"]\n"
   ]
  },
  {
   "cell_type": "markdown",
   "metadata": {},
   "source": [
    "# Logistic Regression"
   ]
  },
  {
   "cell_type": "code",
   "execution_count": 15,
   "metadata": {},
   "outputs": [
    {
     "data": {
      "text/plain": [
       "LogisticRegression(C=11.288378916846883, solver='liblinear')"
      ]
     },
     "execution_count": 15,
     "metadata": {},
     "output_type": "execute_result"
    }
   ],
   "source": [
    "LR=LogisticRegression(C=11.288378916846883,penalty=\"l2\",solver= 'liblinear')\n",
    "\n",
    "LR.fit(X_train1,Y_train1)"
   ]
  },
  {
   "cell_type": "code",
   "execution_count": 16,
   "metadata": {},
   "outputs": [
    {
     "name": "stdout",
     "output_type": "stream",
     "text": [
      "              precision    recall  f1-score   support\n",
      "\n",
      "    Diabetes       0.87      0.80      0.83        96\n",
      " No diabetes       0.82      0.88      0.85        98\n",
      "\n",
      "    accuracy                           0.84       194\n",
      "   macro avg       0.84      0.84      0.84       194\n",
      "weighted avg       0.84      0.84      0.84       194\n",
      "\n"
     ]
    }
   ],
   "source": [
    "print(classification_report(Y_test1,LR.predict(X_test1)))"
   ]
  },
  {
   "cell_type": "code",
   "execution_count": 17,
   "metadata": {},
   "outputs": [],
   "source": [
    "cv = model_selection.KFold(n_splits=10, random_state=42, shuffle=True)\n",
    "scoring = {'recall' : make_scorer(recall_score,pos_label=\"Diabetes\") }"
   ]
  },
  {
   "cell_type": "code",
   "execution_count": 18,
   "metadata": {},
   "outputs": [],
   "source": [
    "# for recall\n",
    "results1 =cross_validate(estimator=LR,\n",
    "                                    X=X_train1,\n",
    "                                    y=Y_train1,\n",
    "                                    cv=cv,\n",
    "                                    scoring=scoring)\n",
    "# for accuracy\n",
    "accuracy1 = model_selection.cross_val_score(LR, X_train1,Y_train1, scoring='accuracy', cv=cv, n_jobs=-1)"
   ]
  },
  {
   "cell_type": "code",
   "execution_count": 19,
   "metadata": {},
   "outputs": [
    {
     "name": "stdout",
     "output_type": "stream",
     "text": [
      "Accuracy 0.8166666666666668\n",
      "recall score is : 0.8533626873642353\n",
      "roc-auc score is 0.9041860916860915\n",
      "score time is : 0.0026960372924804688\n",
      "fit time is : 0.003786444664001465\n",
      "recall score for No diabetes is : 0.7906561881045324\n"
     ]
    }
   ],
   "source": [
    "print(\"Accuracy\",np.mean(accuracy1))\n",
    "print(\"recall score is :\",np.mean(results1[\"test_recall\"]))\n",
    "print(\"roc-auc score is\",np.mean(list(cross_val_score(LR, X_test1, Y_test1, cv=cv, scoring='roc_auc'))))\n",
    "print(\"score time is :\",np.mean(results1[\"score_time\"]))\n",
    "print(\"fit time is :\",np.mean(results1[\"fit_time\"]))\n",
    "print(\"recall score for No diabetes is :\",np.mean(cross_validate(estimator=LR,\n",
    "                                    X=X_train1,\n",
    "                                    y=Y_train1,\n",
    "                                    cv=cv,\n",
    "                                    scoring={'recall' : make_scorer(recall_score,pos_label=\"No diabetes\") })[\"test_recall\"]))"
   ]
  },
  {
   "cell_type": "markdown",
   "metadata": {},
   "source": [
    "# Grid Search"
   ]
  },
  {
   "cell_type": "code",
   "execution_count": 20,
   "metadata": {},
   "outputs": [],
   "source": [
    "# # # # param_grid = [\n",
    "# # # #     {\n",
    "# # # #      'penalty' : ['l1', 'l2'],\n",
    "# # # #     'C' : np.logspace(-4, 4, 20),\n",
    "# # # #     'solver' : ['liblinear']}\n",
    "# # # # ]\n",
    "\n",
    "# # # param_grid = [\n",
    "# # #     {'criterion':['gini','entropy'],'max_depth':[4,5,6,7,8,9,10,11,12,15,20,30,40,50,70,90,120,150]}\n",
    "# # # ]\n",
    "\n",
    "# param_grid = dict(n_neighbors=list(range(10, 31)))\n",
    "\n",
    "# param_grid = dict(n_estimators=[i for i in [10,20,30,40,50,60,70,80,90,100]])\n",
    "# # # grid = RandomizedSearchCV(knn, param_distributions = param_grid, cv = 10,n_jobs=-1)\n",
    "# grid=GridSearchCV(etc,param_grid,cv=10,n_jobs=-1)"
   ]
  },
  {
   "cell_type": "code",
   "execution_count": 21,
   "metadata": {},
   "outputs": [],
   "source": [
    "# grid.fit(X_train1,Y_train1)"
   ]
  },
  {
   "cell_type": "code",
   "execution_count": 22,
   "metadata": {},
   "outputs": [],
   "source": [
    "# grid.best_params_"
   ]
  },
  {
   "cell_type": "markdown",
   "metadata": {},
   "source": [
    "# Decsison Trees"
   ]
  },
  {
   "cell_type": "code",
   "execution_count": 23,
   "metadata": {},
   "outputs": [],
   "source": [
    "classifier1=DecisionTreeClassifier(criterion=\"entropy\",max_depth=6)"
   ]
  },
  {
   "cell_type": "code",
   "execution_count": 24,
   "metadata": {},
   "outputs": [
    {
     "data": {
      "text/plain": [
       "DecisionTreeClassifier(criterion='entropy', max_depth=6)"
      ]
     },
     "execution_count": 24,
     "metadata": {},
     "output_type": "execute_result"
    }
   ],
   "source": [
    "classifier1.fit(X_train1,Y_train1)"
   ]
  },
  {
   "cell_type": "code",
   "execution_count": 25,
   "metadata": {},
   "outputs": [
    {
     "name": "stdout",
     "output_type": "stream",
     "text": [
      "              precision    recall  f1-score   support\n",
      "\n",
      "    Diabetes       0.92      0.95      0.93        96\n",
      " No diabetes       0.95      0.92      0.93        98\n",
      "\n",
      "    accuracy                           0.93       194\n",
      "   macro avg       0.93      0.93      0.93       194\n",
      "weighted avg       0.93      0.93      0.93       194\n",
      "\n"
     ]
    }
   ],
   "source": [
    "print(classification_report(Y_test1,classifier1.predict(X_test1)))"
   ]
  },
  {
   "cell_type": "code",
   "execution_count": 26,
   "metadata": {},
   "outputs": [],
   "source": [
    "results2 =cross_validate(estimator=classifier1,\n",
    "                                    X=X_train1,\n",
    "                                    y=Y_train1,\n",
    "                                    cv=cv,\n",
    "                                    scoring={'recall' : make_scorer(recall_score,pos_label=\"Diabetes\") })\n",
    "\n",
    "accuracy2 = model_selection.cross_val_score(classifier1, X_train1,Y_train1, scoring='accuracy', cv=cv, n_jobs=-1)"
   ]
  },
  {
   "cell_type": "code",
   "execution_count": 27,
   "metadata": {},
   "outputs": [
    {
     "name": "stdout",
     "output_type": "stream",
     "text": [
      "Accuracy 0.925\n",
      "recall score is : 0.8533626873642353\n",
      "roc-auc score is 0.9091326451326452\n",
      "score time is : 0.0026960372924804688\n",
      "fit time is : 0.003786444664001465\n",
      "recall score for No diabetes is : 0.8699567099567099\n"
     ]
    }
   ],
   "source": [
    "print(\"Accuracy\",np.mean(accuracy2))\n",
    "print(\"recall score is :\",np.mean(results1[\"test_recall\"]))\n",
    "print(\"roc-auc score is\",np.mean(list(cross_val_score(classifier1, X_test1, Y_test1, cv=cv, scoring='roc_auc'))))\n",
    "print(\"score time is :\",np.mean(results1[\"score_time\"]))\n",
    "print(\"fit time is :\",np.mean(results1[\"fit_time\"]))\n",
    "print(\"recall score for No diabetes is :\",np.mean(cross_validate(estimator=classifier1,\n",
    "                                    X=X_train1,\n",
    "                                    y=Y_train1,\n",
    "                                    cv=model_selection.KFold(n_splits=10),\n",
    "                                    scoring={'recall' : make_scorer(recall_score,pos_label=\"No diabetes\") })[\"test_recall\"]))"
   ]
  },
  {
   "cell_type": "markdown",
   "metadata": {},
   "source": [
    "# KNN"
   ]
  },
  {
   "cell_type": "code",
   "execution_count": 28,
   "metadata": {},
   "outputs": [
    {
     "data": {
      "text/plain": [
       "KNeighborsClassifier(n_jobs=-1, n_neighbors=11)"
      ]
     },
     "execution_count": 28,
     "metadata": {},
     "output_type": "execute_result"
    }
   ],
   "source": [
    "from sklearn.neighbors import KNeighborsClassifier  \n",
    "knn= KNeighborsClassifier(n_neighbors=11,n_jobs=-1)  \n",
    "knn.fit(X_train1, Y_train1) "
   ]
  },
  {
   "cell_type": "code",
   "execution_count": 29,
   "metadata": {},
   "outputs": [
    {
     "name": "stdout",
     "output_type": "stream",
     "text": [
      "              precision    recall  f1-score   support\n",
      "\n",
      "    Diabetes       0.81      1.00      0.89        96\n",
      " No diabetes       1.00      0.77      0.87        98\n",
      "\n",
      "    accuracy                           0.88       194\n",
      "   macro avg       0.90      0.88      0.88       194\n",
      "weighted avg       0.90      0.88      0.88       194\n",
      "\n"
     ]
    }
   ],
   "source": [
    "print(classification_report(Y_test1,knn.predict(X_test1)))"
   ]
  },
  {
   "cell_type": "code",
   "execution_count": 30,
   "metadata": {},
   "outputs": [],
   "source": [
    "results3 =cross_validate(estimator=knn,\n",
    "                                    X=X_train1,\n",
    "                                    y=Y_train1,\n",
    "                                    cv=cv,\n",
    "                                    scoring={'recall' : make_scorer(recall_score,pos_label=\"Diabetes\") })\n",
    "\n",
    "accuracy3 = model_selection.cross_val_score(knn, X_train1,Y_train1, scoring='accuracy', cv=cv, n_jobs=-1)"
   ]
  },
  {
   "cell_type": "code",
   "execution_count": 31,
   "metadata": {},
   "outputs": [
    {
     "name": "stdout",
     "output_type": "stream",
     "text": [
      "Accuracy 0.8638888888888889\n",
      "recall score for Diabetes is : 1.0\n",
      "roc-auc score is 0.9344652014652015\n",
      "score time is : 0.018159151077270508\n",
      "fit time is : 0.0035542011260986327\n",
      "recall score for No diabetes is : 0.7307304386285407\n"
     ]
    }
   ],
   "source": [
    "print(\"Accuracy\",np.mean(accuracy3))\n",
    "print(\"recall score for Diabetes is :\",np.mean(results3[\"test_recall\"]))\n",
    "print(\"roc-auc score is\",np.mean(list(cross_val_score(knn, X_test1, Y_test1, cv=cv, scoring='roc_auc'))))\n",
    "print(\"score time is :\",np.mean(results3[\"score_time\"]))\n",
    "print(\"fit time is :\",np.mean(results3[\"fit_time\"]))\n",
    "print(\"recall score for No diabetes is :\",np.mean(cross_validate(estimator=knn,\n",
    "                                    X=X_train1,\n",
    "                                    y=Y_train1,\n",
    "                                    cv=cv,\n",
    "                                    scoring={'recall' : make_scorer(recall_score,pos_label=\"No diabetes\") })[\"test_recall\"]))"
   ]
  },
  {
   "cell_type": "markdown",
   "metadata": {},
   "source": [
    "# Naive bayes"
   ]
  },
  {
   "cell_type": "code",
   "execution_count": 32,
   "metadata": {},
   "outputs": [
    {
     "data": {
      "text/plain": [
       "GaussianNB()"
      ]
     },
     "execution_count": 32,
     "metadata": {},
     "output_type": "execute_result"
    }
   ],
   "source": [
    "from sklearn.naive_bayes import GaussianNB\n",
    "nb = GaussianNB()\n",
    "nb.fit(X_train1, Y_train1)"
   ]
  },
  {
   "cell_type": "code",
   "execution_count": 33,
   "metadata": {},
   "outputs": [
    {
     "name": "stdout",
     "output_type": "stream",
     "text": [
      "              precision    recall  f1-score   support\n",
      "\n",
      "    Diabetes       0.87      0.82      0.84        96\n",
      " No diabetes       0.83      0.88      0.86        98\n",
      "\n",
      "    accuracy                           0.85       194\n",
      "   macro avg       0.85      0.85      0.85       194\n",
      "weighted avg       0.85      0.85      0.85       194\n",
      "\n"
     ]
    }
   ],
   "source": [
    "print(classification_report(Y_test1,nb.predict(X_test1)))"
   ]
  },
  {
   "cell_type": "code",
   "execution_count": 34,
   "metadata": {},
   "outputs": [],
   "source": [
    "results4 =cross_validate(estimator=nb,\n",
    "                                    X=X_train1,\n",
    "                                    y=Y_train1,\n",
    "                                    cv=cv,\n",
    "                                    scoring={'recall' : make_scorer(recall_score,pos_label=\"Diabetes\") })\n",
    "\n",
    "accuracy4 = model_selection.cross_val_score(nb, X_train1,Y_train1, scoring='accuracy', cv=cv, n_jobs=-1)"
   ]
  },
  {
   "cell_type": "code",
   "execution_count": 35,
   "metadata": {},
   "outputs": [
    {
     "name": "stdout",
     "output_type": "stream",
     "text": [
      "Accuracy 0.8416666666666668\n",
      "recall score is : 0.8470257889685137\n",
      "roc-auc score is 0.9185032745032744\n",
      "score time is : 0.002451586723327637\n",
      "fit time is : 0.0024391889572143556\n",
      "recall score for No diabetes is : 0.8493380230880231\n"
     ]
    }
   ],
   "source": [
    "print(\"Accuracy\",np.mean(accuracy4))\n",
    "print(\"recall score is :\",np.mean(results4[\"test_recall\"]))\n",
    "print(\"roc-auc score is\",np.mean(list(cross_val_score(nb, X_test1, Y_test1, cv=cv, scoring='roc_auc'))))\n",
    "print(\"score time is :\",np.mean(results4[\"score_time\"]))\n",
    "print(\"fit time is :\",np.mean(results4[\"fit_time\"]))\n",
    "print(\"recall score for No diabetes is :\",np.mean(cross_validate(estimator=nb,\n",
    "                                    X=X_train1,\n",
    "                                    y=Y_train1,\n",
    "                                    cv=model_selection.KFold(n_splits=10),\n",
    "                                    scoring={'recall' : make_scorer(recall_score,pos_label=\"No diabetes\") })[\"test_recall\"]))"
   ]
  },
  {
   "cell_type": "markdown",
   "metadata": {},
   "source": [
    "# SVM"
   ]
  },
  {
   "cell_type": "code",
   "execution_count": 36,
   "metadata": {},
   "outputs": [
    {
     "data": {
      "text/plain": [
       "SVC(probability=True)"
      ]
     },
     "execution_count": 36,
     "metadata": {},
     "output_type": "execute_result"
    }
   ],
   "source": [
    "svm = SVC(kernel='rbf',probability=True)\n",
    "svm.fit(X_train1, Y_train1)"
   ]
  },
  {
   "cell_type": "code",
   "execution_count": 37,
   "metadata": {},
   "outputs": [
    {
     "name": "stdout",
     "output_type": "stream",
     "text": [
      "              precision    recall  f1-score   support\n",
      "\n",
      "    Diabetes       0.92      1.00      0.96        96\n",
      " No diabetes       1.00      0.92      0.96        98\n",
      "\n",
      "    accuracy                           0.96       194\n",
      "   macro avg       0.96      0.96      0.96       194\n",
      "weighted avg       0.96      0.96      0.96       194\n",
      "\n"
     ]
    }
   ],
   "source": [
    "print(classification_report(Y_test1,svm.predict(X_test1)))"
   ]
  },
  {
   "cell_type": "code",
   "execution_count": 38,
   "metadata": {},
   "outputs": [],
   "source": [
    "results5 =cross_validate(estimator=svm,\n",
    "                                    X=X_train1,\n",
    "                                    y=Y_train1,\n",
    "                                    cv=cv,\n",
    "                                    scoring={'recall' : make_scorer(recall_score,pos_label=\"Diabetes\") })\n",
    "\n",
    "accuracy5 = model_selection.cross_val_score(svm, X_train1,Y_train1, scoring='accuracy', cv=cv, n_jobs=-1)"
   ]
  },
  {
   "cell_type": "code",
   "execution_count": 39,
   "metadata": {},
   "outputs": [
    {
     "name": "stdout",
     "output_type": "stream",
     "text": [
      "Accuracy 0.9666666666666666\n",
      "recall score is : 0.9941176470588236\n",
      "roc-auc score is 0.9764568764568764\n",
      "score time is : 0.003099203109741211\n",
      "fit time is : 0.01884315013885498\n",
      "recall score for No diabetes is : 0.9385977651930337\n"
     ]
    }
   ],
   "source": [
    "print(\"Accuracy\",np.mean(accuracy5))\n",
    "print(\"recall score is :\",np.mean(results5[\"test_recall\"]))\n",
    "print(\"roc-auc score is\",np.mean(list(cross_val_score(svm, X_test1, Y_test1, cv=cv, scoring='roc_auc'))))\n",
    "print(\"score time is :\",np.mean(results5[\"score_time\"]))\n",
    "print(\"fit time is :\",np.mean(results5[\"fit_time\"]))\n",
    "print(\"recall score for No diabetes is :\",np.mean(cross_validate(estimator=svm,\n",
    "                                    X=X_train1,\n",
    "                                    y=Y_train1,\n",
    "                                    cv=cv,\n",
    "                                    scoring={'recall' : make_scorer(recall_score,pos_label=\"No diabetes\") })[\"test_recall\"]))"
   ]
  },
  {
   "cell_type": "markdown",
   "metadata": {},
   "source": [
    "# Random Forests"
   ]
  },
  {
   "cell_type": "code",
   "execution_count": 40,
   "metadata": {},
   "outputs": [
    {
     "data": {
      "text/plain": [
       "RandomForestClassifier()"
      ]
     },
     "execution_count": 40,
     "metadata": {},
     "output_type": "execute_result"
    }
   ],
   "source": [
    "rf=RandomForestClassifier()\n",
    "rf.fit(X_train1, Y_train1)"
   ]
  },
  {
   "cell_type": "code",
   "execution_count": 41,
   "metadata": {},
   "outputs": [
    {
     "name": "stdout",
     "output_type": "stream",
     "text": [
      "              precision    recall  f1-score   support\n",
      "\n",
      "    Diabetes       0.97      1.00      0.98        96\n",
      " No diabetes       1.00      0.97      0.98        98\n",
      "\n",
      "    accuracy                           0.98       194\n",
      "   macro avg       0.98      0.98      0.98       194\n",
      "weighted avg       0.99      0.98      0.98       194\n",
      "\n"
     ]
    }
   ],
   "source": [
    "print(classification_report(Y_test1,rf.predict(X_test1)))"
   ]
  },
  {
   "cell_type": "code",
   "execution_count": 42,
   "metadata": {},
   "outputs": [],
   "source": [
    "results6 =cross_validate(estimator=rf,\n",
    "                                    X=X_train1,\n",
    "                                    y=Y_train1,\n",
    "                                    cv=cv,\n",
    "                                    scoring={'recall' : make_scorer(recall_score,pos_label=\"Diabetes\") })\n",
    "\n",
    "accuracy6 = model_selection.cross_val_score(rf, X_train1,Y_train1, scoring='accuracy', cv=cv, n_jobs=-1)"
   ]
  },
  {
   "cell_type": "code",
   "execution_count": 43,
   "metadata": {},
   "outputs": [
    {
     "name": "stdout",
     "output_type": "stream",
     "text": [
      "Accuracy 0.9833333333333332\n",
      "recall score is : 1.0\n",
      "roc-auc score is 0.9906898656898658\n",
      "score time is : 0.012154245376586914\n",
      "fit time is : 0.14348530769348145\n",
      "recall score for No diabetes is : 0.9693181818181819\n"
     ]
    }
   ],
   "source": [
    "print(\"Accuracy\",np.mean(accuracy6))\n",
    "print(\"recall score is :\",np.mean(results6[\"test_recall\"]))\n",
    "print(\"roc-auc score is\",np.mean(list(cross_val_score(rf, X_test1, Y_test1, cv=cv, scoring='roc_auc'))))\n",
    "print(\"score time is :\",np.mean(results6[\"score_time\"]))\n",
    "print(\"fit time is :\",np.mean(results6[\"fit_time\"]))\n",
    "print(\"recall score for No diabetes is :\",np.mean(cross_validate(estimator=rf,\n",
    "                                    X=X_train1,\n",
    "                                    y=Y_train1,\n",
    "                                    cv=model_selection.KFold(n_splits=10),\n",
    "                                    scoring={'recall' : make_scorer(recall_score,pos_label=\"No diabetes\") })[\"test_recall\"]))"
   ]
  },
  {
   "cell_type": "markdown",
   "metadata": {},
   "source": [
    "# Ensembel"
   ]
  },
  {
   "cell_type": "code",
   "execution_count": 44,
   "metadata": {},
   "outputs": [
    {
     "data": {
      "text/plain": [
       "VotingClassifier(estimators=[('dt',\n",
       "                              DecisionTreeClassifier(criterion='entropy',\n",
       "                                                     max_depth=6)),\n",
       "                             ('knn',\n",
       "                              KNeighborsClassifier(n_jobs=-1, n_neighbors=11)),\n",
       "                             ('svm', SVC(probability=True)),\n",
       "                             ('nb', GaussianNB()),\n",
       "                             ('LR',\n",
       "                              LogisticRegression(C=11.288378916846883,\n",
       "                                                 solver='liblinear'))],\n",
       "                 voting='soft')"
      ]
     },
     "execution_count": 44,
     "metadata": {},
     "output_type": "execute_result"
    }
   ],
   "source": [
    "model1= VotingClassifier(estimators=[ ('dt', classifier1),('knn',knn),('svm',svm),('nb',nb),('LR',LR)], voting='soft')\n",
    "model1.fit(X_train1,Y_train1)"
   ]
  },
  {
   "cell_type": "code",
   "execution_count": 45,
   "metadata": {},
   "outputs": [
    {
     "name": "stdout",
     "output_type": "stream",
     "text": [
      "              precision    recall  f1-score   support\n",
      "\n",
      "    Diabetes       0.94      1.00      0.97        96\n",
      " No diabetes       1.00      0.94      0.97        98\n",
      "\n",
      "    accuracy                           0.97       194\n",
      "   macro avg       0.97      0.97      0.97       194\n",
      "weighted avg       0.97      0.97      0.97       194\n",
      "\n"
     ]
    }
   ],
   "source": [
    "print(classification_report(Y_test1,model1.predict(X_test1)))"
   ]
  },
  {
   "cell_type": "code",
   "execution_count": 46,
   "metadata": {},
   "outputs": [],
   "source": [
    "results =cross_validate(estimator=model1,\n",
    "                                    X=X_train1,\n",
    "                                    y=Y_train1,\n",
    "                                    cv=cv,\n",
    "                                    scoring=scoring)\n",
    "accuracy = model_selection.cross_val_score(LR, X_train1,Y_train1, scoring='accuracy', cv=cv, n_jobs=-1)"
   ]
  },
  {
   "cell_type": "code",
   "execution_count": 47,
   "metadata": {},
   "outputs": [
    {
     "name": "stdout",
     "output_type": "stream",
     "text": [
      "Accuracy 0.8166666666666668\n",
      "recall score is : 0.985909090909091\n",
      "score time is : 0.024119472503662108\n",
      "fit time is : 0.03190832138061524\n",
      "recall score for No diabetes is : 0.904661429789307\n"
     ]
    }
   ],
   "source": [
    "print(\"Accuracy\",np.mean(accuracy))\n",
    "print(\"recall score is :\",np.mean(results[\"test_recall\"]))\n",
    "print(\"score time is :\",np.mean(results[\"score_time\"]))\n",
    "print(\"fit time is :\",np.mean(results[\"fit_time\"]))\n",
    "print(\"recall score for No diabetes is :\",np.mean(cross_validate(estimator=model1,\n",
    "                                    X=X_train1,\n",
    "                                    y=Y_train1,\n",
    "                                    cv=cv,\n",
    "                                    scoring={'recall' : make_scorer(recall_score,pos_label=\"No diabetes\") })[\"test_recall\"]))"
   ]
  },
  {
   "cell_type": "markdown",
   "metadata": {},
   "source": [
    "# Ensemble of logistic regression classifiers."
   ]
  },
  {
   "cell_type": "code",
   "execution_count": 48,
   "metadata": {},
   "outputs": [
    {
     "data": {
      "text/plain": [
       "BaggingClassifier(base_estimator=LogisticRegression(C=11.288378916846883,\n",
       "                                                    solver='liblinear'),\n",
       "                  n_estimators=15, random_state=8)"
      ]
     },
     "execution_count": 48,
     "metadata": {},
     "output_type": "execute_result"
    }
   ],
   "source": [
    "logbagClf = BaggingClassifier(LR, n_estimators = 15,random_state=8)\n",
    "logbagClf.fit(X_train1, Y_train1)"
   ]
  },
  {
   "cell_type": "code",
   "execution_count": 49,
   "metadata": {},
   "outputs": [
    {
     "name": "stdout",
     "output_type": "stream",
     "text": [
      "              precision    recall  f1-score   support\n",
      "\n",
      "    Diabetes       0.86      0.82      0.84        96\n",
      " No diabetes       0.83      0.87      0.85        98\n",
      "\n",
      "    accuracy                           0.85       194\n",
      "   macro avg       0.85      0.85      0.85       194\n",
      "weighted avg       0.85      0.85      0.85       194\n",
      "\n"
     ]
    }
   ],
   "source": [
    "print(classification_report(Y_test1,logbagClf.predict(X_test1)))"
   ]
  },
  {
   "cell_type": "code",
   "execution_count": 50,
   "metadata": {},
   "outputs": [
    {
     "name": "stdout",
     "output_type": "stream",
     "text": [
      "Accuracy: 81.944 \n"
     ]
    }
   ],
   "source": [
    "print('Accuracy: %.3f ' % (np.mean(model_selection.cross_val_score(logbagClf, X_train1,Y_train1, scoring='accuracy', cv=cv, n_jobs=-1))*100))"
   ]
  },
  {
   "cell_type": "code",
   "execution_count": 51,
   "metadata": {},
   "outputs": [
    {
     "name": "stdout",
     "output_type": "stream",
     "text": [
      "recall score is : 0.8533626873642353\n",
      "roc-auc score is 0.8981476856476857\n",
      "recall score for No diabetes is : 0.7957052077123756\n"
     ]
    }
   ],
   "source": [
    "print(\"recall score is :\",np.mean(cross_validate(estimator=LR,\n",
    "                                    X=X_train1,\n",
    "                                    y=Y_train1,\n",
    "                                    cv=cv,\n",
    "                                    scoring=scoring)[\"test_recall\"]))\n",
    "print(\"roc-auc score is\",np.mean(list(cross_val_score(logbagClf, X_test1, Y_test1, cv=cv, scoring='roc_auc'))))\n",
    "print(\"recall score for No diabetes is :\",np.mean(cross_validate(estimator=logbagClf,\n",
    "                                    X=X_train1,\n",
    "                                    y=Y_train1,\n",
    "                                    cv=cv,\n",
    "                                    scoring={'recall' : make_scorer(recall_score,pos_label=\"No diabetes\") })[\"test_recall\"]))\n"
   ]
  },
  {
   "cell_type": "markdown",
   "metadata": {},
   "source": [
    "# Gradient boost"
   ]
  },
  {
   "cell_type": "code",
   "execution_count": 52,
   "metadata": {},
   "outputs": [
    {
     "data": {
      "text/plain": [
       "GradientBoostingClassifier(learning_rate=0.9, n_estimators=250, random_state=42)"
      ]
     },
     "execution_count": 52,
     "metadata": {},
     "output_type": "execute_result"
    }
   ],
   "source": [
    "Gboost= GradientBoostingClassifier(learning_rate=0.9,random_state=42,n_estimators=250)\n",
    "Gboost.fit(X_train1, Y_train1)"
   ]
  },
  {
   "cell_type": "code",
   "execution_count": 53,
   "metadata": {},
   "outputs": [],
   "source": [
    "def get_models():\n",
    "    models = dict()\n",
    "    n_trees = [10,30, 50, 100,250, 500, 1000]\n",
    "    for n in n_trees:\n",
    "        models[str(n)] = GradientBoostingClassifier(n_estimators=n)\n",
    "    return models"
   ]
  },
  {
   "cell_type": "code",
   "execution_count": 54,
   "metadata": {},
   "outputs": [
    {
     "name": "stdout",
     "output_type": "stream",
     "text": [
      ">10 0.868 \n",
      ">30 0.968 \n",
      ">50 0.991 \n",
      ">100 0.991 \n",
      ">250 0.982 \n",
      ">500 0.973 \n",
      ">1000 0.981 \n"
     ]
    }
   ],
   "source": [
    "models = get_models()\n",
    "results, names = list(), list()\n",
    "for name, model in models.items():\n",
    "    scores = evaluate_model_recall_positive(model, X_test1,Y_test1)\n",
    "    results.append(scores)\n",
    "    names.append(name)\n",
    "    print('>%s %.3f ' % (name, np.mean(scores)))"
   ]
  },
  {
   "cell_type": "markdown",
   "metadata": {},
   "source": [
    "# Adaboost"
   ]
  },
  {
   "cell_type": "code",
   "execution_count": 55,
   "metadata": {},
   "outputs": [
    {
     "data": {
      "text/plain": [
       "AdaBoostClassifier(n_estimators=1000, random_state=42)"
      ]
     },
     "execution_count": 55,
     "metadata": {},
     "output_type": "execute_result"
    }
   ],
   "source": [
    "Adaboost = AdaBoostClassifier(random_state=42,n_estimators=1000)\n",
    "Adaboost.fit(X_train1, Y_train1)"
   ]
  },
  {
   "cell_type": "code",
   "execution_count": 56,
   "metadata": {},
   "outputs": [],
   "source": [
    "def get_models():\n",
    "    models = dict()\n",
    "    n_trees = [10, 50, 100,250, 500,700, 1000]\n",
    "    for n in n_trees:\n",
    "        models[str(n)] = AdaBoostClassifier(n_estimators=n)\n",
    "    return models"
   ]
  },
  {
   "cell_type": "code",
   "execution_count": 57,
   "metadata": {},
   "outputs": [
    {
     "name": "stdout",
     "output_type": "stream",
     "text": [
      ">10 0.902 \n",
      ">50 0.912 \n",
      ">100 0.921 \n",
      ">250 0.958 \n",
      ">500 0.962 \n",
      ">700 0.962 \n",
      ">1000 0.967 \n"
     ]
    }
   ],
   "source": [
    "models = get_models()\n",
    "results, names = list(), list()\n",
    "for name, model in models.items():\n",
    "    scores = evaluate_model_recall_positive(model, X_test1,Y_test1)\n",
    "    results.append(scores)\n",
    "    names.append(name)\n",
    "    print('>%s %.3f ' % (name, np.mean(scores)))"
   ]
  },
  {
   "cell_type": "code",
   "execution_count": 58,
   "metadata": {},
   "outputs": [
    {
     "name": "stdout",
     "output_type": "stream",
     "text": [
      "accuracy is:  0.8505263157894737\n",
      "diabetes recall is:  0.8851839826839827\n",
      "no diabetes recall is:  0.8319597069597069\n",
      "roc_auc is:  0.9041860916860915\n",
      "matthews_corrcoef is:  0.681921407946427\n",
      "Precision is:  0.8851839826839827\n"
     ]
    }
   ],
   "source": [
    "print(\"accuracy is: \",np.mean(evaluate_model_accuracy(LR,X_test1,Y_test1)))\n",
    "print(\"diabetes recall is: \",np.mean(evaluate_model_recall_positive(LR,X_test1,Y_test1)))\n",
    "print(\"no diabetes recall is: \",np.mean(evaluate_model_recall_negative(LR,X_test1,Y_test1)))\n",
    "print(\"roc_auc is: \",np.mean(evaluate_model_roc_auc(LR,X_test1,Y_test1)))\n",
    "print(\"matthews_corrcoef is: \",evaluate_model_matthews_corrcoef(LR,X_test1,Y_test1))\n",
    "print(\"Precision is: \",np.mean(evaluate_model_precision(LR,X_test1,Y_test1)))"
   ]
  },
  {
   "cell_type": "markdown",
   "metadata": {},
   "source": [
    "# Gboost and rf ensemble"
   ]
  },
  {
   "cell_type": "code",
   "execution_count": 59,
   "metadata": {},
   "outputs": [
    {
     "data": {
      "text/plain": [
       "VotingClassifier(estimators=[('Gboost',\n",
       "                              GradientBoostingClassifier(learning_rate=0.9,\n",
       "                                                         n_estimators=250,\n",
       "                                                         random_state=42)),\n",
       "                             ('rf', RandomForestClassifier())],\n",
       "                 voting='soft')"
      ]
     },
     "execution_count": 59,
     "metadata": {},
     "output_type": "execute_result"
    }
   ],
   "source": [
    "model2= VotingClassifier(estimators=[ ('Gboost', Gboost),('rf',rf)], voting='soft')\n",
    "model2.fit(X_train1,Y_train1)"
   ]
  },
  {
   "cell_type": "code",
   "execution_count": 60,
   "metadata": {},
   "outputs": [
    {
     "name": "stdout",
     "output_type": "stream",
     "text": [
      "accuracy is:  0.9531578947368422\n",
      "diabetes recall is:  0.990909090909091\n",
      "no diabetes recall is:  0.9080280830280831\n",
      "roc_auc is:  0.9977994227994227\n",
      "matthews_corrcoef is:  0.9497370184014335\n",
      "Precision is:  0.990909090909091\n"
     ]
    }
   ],
   "source": [
    "print(\"accuracy is: \",np.mean(evaluate_model_accuracy(model2,X_test1,Y_test1)))\n",
    "print(\"diabetes recall is: \",np.mean(evaluate_model_recall_positive(model2,X_test1,Y_test1)))\n",
    "print(\"no diabetes recall is: \",np.mean(evaluate_model_recall_negative(model2,X_test1,Y_test1)))\n",
    "print(\"roc_auc is: \",np.mean(evaluate_model_roc_auc(model2,X_test1,Y_test1)))\n",
    "print(\"matthews_corrcoef is: \",evaluate_model_matthews_corrcoef(model2,X_test1,Y_test1))\n",
    "print(\"Precision is: \",np.mean(evaluate_model_precision(model2,X_test1,Y_test1)))"
   ]
  },
  {
   "cell_type": "markdown",
   "metadata": {},
   "source": [
    "# ExtraTreesClassifier"
   ]
  },
  {
   "cell_type": "code",
   "execution_count": 61,
   "metadata": {},
   "outputs": [
    {
     "data": {
      "text/plain": [
       "ExtraTreesClassifier(n_estimators=50, random_state=42)"
      ]
     },
     "execution_count": 61,
     "metadata": {},
     "output_type": "execute_result"
    }
   ],
   "source": [
    "etc = ExtraTreesClassifier(n_estimators=50,random_state=42)\n",
    "etc.fit(X_train1,Y_train1)"
   ]
  },
  {
   "cell_type": "code",
   "execution_count": 62,
   "metadata": {},
   "outputs": [],
   "source": [
    "def get_models():\n",
    "    models = dict()\n",
    "    n_trees = [10,30, 50, 100,250, 500,700, 1000]\n",
    "    for n in n_trees:\n",
    "        models[str(n)] = ExtraTreesClassifier(n_estimators=n)\n",
    "    return models"
   ]
  },
  {
   "cell_type": "code",
   "execution_count": 63,
   "metadata": {},
   "outputs": [
    {
     "name": "stdout",
     "output_type": "stream",
     "text": [
      ">10 0.959 \n",
      ">30 0.955 \n",
      ">50 0.973 \n",
      ">100 0.973 \n",
      ">250 0.973 \n",
      ">500 0.963 \n",
      ">700 0.973 \n",
      ">1000 0.973 \n"
     ]
    }
   ],
   "source": [
    "models = get_models()\n",
    "results, names = list(), list()\n",
    "for name, model in models.items():\n",
    "    scores = evaluate_model_recall_positive(model, X_test1,Y_test1)\n",
    "    results.append(scores)\n",
    "    names.append(name)\n",
    "    print('>%s %.3f ' % (name, np.mean(scores)))"
   ]
  },
  {
   "cell_type": "markdown",
   "metadata": {},
   "source": [
    "# Confusion Matrix"
   ]
  },
  {
   "cell_type": "code",
   "execution_count": 64,
   "metadata": {},
   "outputs": [],
   "source": [
    "def conf_matrix(y_true,x_true,model):\n",
    "    ax= plt.subplot()\n",
    "    sns.heatmap(confusion_matrix(y_true, model.predict(x_true)), annot=True)\n",
    "    ax.set_xlabel('Predicted labels');\n",
    "    ax.set_ylabel('True labels'); \n",
    "    ax.set_title('Confusion Matrix'); \n",
    "    ax.xaxis.set_ticklabels(['Diabetes', 'No Diabetes']); ax.yaxis.set_ticklabels(['Diabetes', 'No Diabetes']);\n",
    "    return ax"
   ]
  },
  {
   "cell_type": "markdown",
   "metadata": {},
   "source": [
    "# Testing scores"
   ]
  },
  {
   "cell_type": "code",
   "execution_count": 65,
   "metadata": {},
   "outputs": [
    {
     "name": "stdout",
     "output_type": "stream",
     "text": [
      "accuracy is:  0.9589473684210527\n",
      "diabetes recall is:  0.9627272727272727\n",
      "no diabetes recall is:  0.961996336996337\n",
      "roc_auc is:  0.9969696969696968\n",
      "matthews_corrcoef is:  0.989743318610787\n",
      "Precision is:  0.9627272727272727\n"
     ]
    }
   ],
   "source": [
    "print(\"accuracy is: \",np.mean(evaluate_model_accuracy(etc,X_test1,Y_test1)))\n",
    "print(\"diabetes recall is: \",np.mean(evaluate_model_recall_positive(etc,X_test1,Y_test1)))\n",
    "print(\"no diabetes recall is: \",np.mean(evaluate_model_recall_negative(etc,X_test1,Y_test1)))\n",
    "print(\"roc_auc is: \",np.mean(evaluate_model_roc_auc(etc,X_test1,Y_test1)))\n",
    "print(\"matthews_corrcoef is: \",evaluate_model_matthews_corrcoef(etc,X_test1,Y_test1))\n",
    "print(\"Precision is: \",np.mean(evaluate_model_precision(etc,X_test1,Y_test1)))"
   ]
  },
  {
   "cell_type": "markdown",
   "metadata": {},
   "source": [
    "# showing Confusion matrix"
   ]
  },
  {
   "cell_type": "code",
   "execution_count": 66,
   "metadata": {},
   "outputs": [
    {
     "data": {
      "image/png": "[encoded data removed]",
      "text/plain": [
       "<Figure size 432x288 with 2 Axes>"
      ]
     },
     "metadata": {
      "needs_background": "light"
     },
     "output_type": "display_data"
    }
   ],
   "source": [
    "conf_matrix(Y_test1,X_test1,rf)\n",
    "plt.show()"
   ]
  },
  {
   "cell_type": "markdown",
   "metadata": {},
   "source": [
    "# plotting roc-auc curve"
   ]
  },
  {
   "cell_type": "code",
   "execution_count": 67,
   "metadata": {},
   "outputs": [],
   "source": [
    "import sklearn.metrics as metrics\n",
    "def roc_auc_curve(model,x,y):\n",
    "    probs = model.predict_proba(x)\n",
    "    preds = probs[:,0]\n",
    "    fpr, tpr, threshold = metrics.roc_curve(y, preds,pos_label=\"Diabetes\")\n",
    "    roc_auc = metrics.auc(fpr, tpr)\n",
    "    plt.title('Receiver Operating Characteristic')\n",
    "    plt.plot(fpr, tpr, 'b', label = 'AUC =%0.3f' % roc_auc)\n",
    "    plt.legend(loc = 'lower right')\n",
    "    plt.plot([0, 1], [0, 1],'r--')\n",
    "    plt.xlim([0, 1])\n",
    "    plt.ylim([0, 1.2])\n",
    "    plt.ylabel('True Positive Rate')\n",
    "    plt.xlabel('False Positive Rate')\n",
    "    return plt.show()\n",
    "\n"
   ]
  },
  {
   "cell_type": "code",
   "execution_count": 68,
   "metadata": {},
   "outputs": [
    {
     "data": {
      "image/png": "[encoded data removed]",
      "text/plain": [
       "<Figure size 432x288 with 1 Axes>"
      ]
     },
     "metadata": {
      "needs_background": "light"
     },
     "output_type": "display_data"
    }
   ],
   "source": [
    "roc_auc_curve(model1,X_test1,Y_test1)"
   ]
  },
  {
   "cell_type": "markdown",
   "metadata": {},
   "source": [
    "# All Scores"
   ]
  },
  {
   "cell_type": "code",
   "execution_count": 69,
   "metadata": {},
   "outputs": [],
   "source": [
    "scores_df=pd.DataFrame()\n",
    "\n",
    "LR_scores={'accuracy': [0.8868421052631579],\n",
    " 'recall_positive': [0.9058658008658009],\n",
    " 'recall_negative': [0.8478021978021978],\n",
    " 'roc_auc': [0.9233404928404928],\n",
    " 'precision': [0.9058658008658009]}\n",
    "\n",
    "scores_df=pd.DataFrame(LR_scores,index=[\"LR\"])\n",
    "\n",
    "scores_df.loc[\"knn\"] = [np.mean(evaluate_model_accuracy(knn,X_test1,Y_test1)),\n",
    "                        np.mean(evaluate_model_recall_positive(knn,X_test1,Y_test1)),\n",
    "                       np.mean(evaluate_model_recall_negative(knn,X_test1,Y_test1)),\n",
    "                       np.mean(evaluate_model_roc_auc(knn,X_test1,Y_test1)),\n",
    "                       np.mean(evaluate_model_precision(knn,X_test1,Y_test1))]\n",
    "\n",
    "\n",
    "scores_df.loc[\"classifier1\"] = [np.mean(evaluate_model_accuracy(classifier1,X_test1,Y_test1)),\n",
    "                        np.mean(evaluate_model_recall_positive(classifier1,X_test1,Y_test1)),\n",
    "                       np.mean(evaluate_model_recall_negative(classifier1,X_test1,Y_test1)),\n",
    "                       np.mean(evaluate_model_roc_auc(classifier1,X_test1,Y_test1)),\n",
    "                       np.mean(evaluate_model_precision(classifier1,X_test1,Y_test1))]\n",
    "\n",
    "scores_df.loc[\"svm\"] = [np.mean(evaluate_model_accuracy(svm,X_test1,Y_test1)),\n",
    "                        np.mean(evaluate_model_recall_positive(svm,X_test1,Y_test1)),\n",
    "                       np.mean(evaluate_model_recall_negative(svm,X_test1,Y_test1)),\n",
    "                       np.mean(evaluate_model_roc_auc(svm,X_test1,Y_test1)),\n",
    "                       np.mean(evaluate_model_precision(svm,X_test1,Y_test1))]\n",
    "\n",
    "scores_df.loc[\"nb\"] = [np.mean(evaluate_model_accuracy(nb,X_test1,Y_test1)),\n",
    "                        np.mean(evaluate_model_recall_positive(nb,X_test1,Y_test1)),\n",
    "                       np.mean(evaluate_model_recall_negative(nb,X_test1,Y_test1)),\n",
    "                       np.mean(evaluate_model_roc_auc(nb,X_test1,Y_test1)),\n",
    "                       np.mean(evaluate_model_precision(nb,X_test1,Y_test1))]\n",
    "\n",
    "scores_df.loc[\"rf\"] = [np.mean(evaluate_model_accuracy(rf,X_test1,Y_test1)),\n",
    "                        np.mean(evaluate_model_recall_positive(rf,X_test1,Y_test1)),\n",
    "                       np.mean(evaluate_model_recall_negative(rf,X_test1,Y_test1)),\n",
    "                       np.mean(evaluate_model_roc_auc(rf,X_test1,Y_test1)),\n",
    "                       np.mean(evaluate_model_precision(rf,X_test1,Y_test1))]\n",
    "\n",
    "scores_df.loc[\"Gboost\"] = [np.mean(evaluate_model_accuracy(Gboost,X_test1,Y_test1)),\n",
    "                        np.mean(evaluate_model_recall_positive(Gboost,X_test1,Y_test1)),\n",
    "                       np.mean(evaluate_model_recall_negative(Gboost,X_test1,Y_test1)),\n",
    "                       np.mean(evaluate_model_roc_auc(Gboost,X_test1,Y_test1)),\n",
    "                       np.mean(evaluate_model_precision(Gboost,X_test1,Y_test1))]\n",
    "\n",
    "scores_df.loc[\"model\"] = [np.mean(evaluate_model_accuracy(model1,X_test1,Y_test1)),\n",
    "                        np.mean(evaluate_model_recall_positive(model1,X_test1,Y_test1)),\n",
    "                       np.mean(evaluate_model_recall_negative(model1,X_test1,Y_test1)),\n",
    "                       np.mean(evaluate_model_roc_auc(model1,X_test1,Y_test1)),\n",
    "                       np.mean(evaluate_model_precision(model1,X_test1,Y_test1))]\n",
    "\n",
    "scores_df.loc[\"Adaboost\"] = [np.mean(evaluate_model_accuracy(Adaboost,X_test1,Y_test1)),\n",
    "                        np.mean(evaluate_model_recall_positive(Adaboost,X_test1,Y_test1)),\n",
    "                       np.mean(evaluate_model_recall_negative(Adaboost,X_test1,Y_test1)),\n",
    "                       np.mean(evaluate_model_roc_auc(Adaboost,X_test1,Y_test1)),\n",
    "                       np.mean(evaluate_model_precision(Adaboost,X_test1,Y_test1))]\n",
    "\n",
    "scores_df.loc[\"etc\"] = [np.mean(evaluate_model_accuracy(etc,X_test1,Y_test1)),\n",
    "                        np.mean(evaluate_model_recall_positive(etc,X_test1,Y_test1)),\n",
    "                       np.mean(evaluate_model_recall_negative(etc,X_test1,Y_test1)),\n",
    "                       np.mean(evaluate_model_roc_auc(etc,X_test1,Y_test1)),\n",
    "                       np.mean(evaluate_model_precision(etc,X_test1,Y_test1))]\n"
   ]
  },
  {
   "cell_type": "code",
   "execution_count": 70,
   "metadata": {},
   "outputs": [
    {
     "data": {
      "text/html": [
       "<div>\n",
       "<style scoped>\n",
       "    .dataframe tbody tr th:only-of-type {\n",
       "        vertical-align: middle;\n",
       "    }\n",
       "\n",
       "    .dataframe tbody tr th {\n",
       "        vertical-align: top;\n",
       "    }\n",
       "\n",
       "    .dataframe thead th {\n",
       "        text-align: right;\n",
       "    }\n",
       "</style>\n",
       "<table border=\"1\" class=\"dataframe\">\n",
       "  <thead>\n",
       "    <tr style=\"text-align: right;\">\n",
       "      <th></th>\n",
       "      <th>accuracy</th>\n",
       "      <th>recall_positive</th>\n",
       "      <th>recall_negative</th>\n",
       "      <th>roc_auc</th>\n",
       "      <th>precision</th>\n",
       "      <th>total_scores</th>\n",
       "    </tr>\n",
       "  </thead>\n",
       "  <tbody>\n",
       "    <tr>\n",
       "      <th>LR</th>\n",
       "      <td>0.886842</td>\n",
       "      <td>0.905866</td>\n",
       "      <td>0.847802</td>\n",
       "      <td>0.923340</td>\n",
       "      <td>0.905866</td>\n",
       "      <td>4.469716</td>\n",
       "    </tr>\n",
       "    <tr>\n",
       "      <th>knn</th>\n",
       "      <td>0.835000</td>\n",
       "      <td>0.946818</td>\n",
       "      <td>0.731990</td>\n",
       "      <td>0.934465</td>\n",
       "      <td>0.946818</td>\n",
       "      <td>4.395091</td>\n",
       "    </tr>\n",
       "    <tr>\n",
       "      <th>classifier1</th>\n",
       "      <td>0.928421</td>\n",
       "      <td>0.949199</td>\n",
       "      <td>0.878126</td>\n",
       "      <td>0.913638</td>\n",
       "      <td>0.960714</td>\n",
       "      <td>4.630098</td>\n",
       "    </tr>\n",
       "    <tr>\n",
       "      <th>svm</th>\n",
       "      <td>0.886579</td>\n",
       "      <td>0.891851</td>\n",
       "      <td>0.890904</td>\n",
       "      <td>0.976457</td>\n",
       "      <td>0.891851</td>\n",
       "      <td>4.537641</td>\n",
       "    </tr>\n",
       "    <tr>\n",
       "      <th>nb</th>\n",
       "      <td>0.849737</td>\n",
       "      <td>0.828279</td>\n",
       "      <td>0.872802</td>\n",
       "      <td>0.918503</td>\n",
       "      <td>0.828279</td>\n",
       "      <td>4.297601</td>\n",
       "    </tr>\n",
       "    <tr>\n",
       "      <th>rf</th>\n",
       "      <td>0.953684</td>\n",
       "      <td>0.973485</td>\n",
       "      <td>0.937241</td>\n",
       "      <td>0.996012</td>\n",
       "      <td>0.971818</td>\n",
       "      <td>4.832240</td>\n",
       "    </tr>\n",
       "    <tr>\n",
       "      <th>Gboost</th>\n",
       "      <td>0.953158</td>\n",
       "      <td>0.990909</td>\n",
       "      <td>0.908028</td>\n",
       "      <td>0.992477</td>\n",
       "      <td>0.990909</td>\n",
       "      <td>4.835481</td>\n",
       "    </tr>\n",
       "    <tr>\n",
       "      <th>model</th>\n",
       "      <td>0.886579</td>\n",
       "      <td>0.881732</td>\n",
       "      <td>0.906929</td>\n",
       "      <td>0.962993</td>\n",
       "      <td>0.900823</td>\n",
       "      <td>4.539055</td>\n",
       "    </tr>\n",
       "    <tr>\n",
       "      <th>Adaboost</th>\n",
       "      <td>0.937895</td>\n",
       "      <td>0.966623</td>\n",
       "      <td>0.900336</td>\n",
       "      <td>0.974792</td>\n",
       "      <td>0.966623</td>\n",
       "      <td>4.746269</td>\n",
       "    </tr>\n",
       "    <tr>\n",
       "      <th>etc</th>\n",
       "      <td>0.958947</td>\n",
       "      <td>0.962727</td>\n",
       "      <td>0.961996</td>\n",
       "      <td>0.996970</td>\n",
       "      <td>0.962727</td>\n",
       "      <td>4.843368</td>\n",
       "    </tr>\n",
       "  </tbody>\n",
       "</table>\n",
       "</div>"
      ],
      "text/plain": [
       "             accuracy  recall_positive  recall_negative   roc_auc  precision  \\\n",
       "LR           0.886842         0.905866         0.847802  0.923340   0.905866   \n",
       "knn          0.835000         0.946818         0.731990  0.934465   0.946818   \n",
       "classifier1  0.928421         0.949199         0.878126  0.913638   0.960714   \n",
       "svm          0.886579         0.891851         0.890904  0.976457   0.891851   \n",
       "nb           0.849737         0.828279         0.872802  0.918503   0.828279   \n",
       "rf           0.953684         0.973485         0.937241  0.996012   0.971818   \n",
       "Gboost       0.953158         0.990909         0.908028  0.992477   0.990909   \n",
       "model        0.886579         0.881732         0.906929  0.962993   0.900823   \n",
       "Adaboost     0.937895         0.966623         0.900336  0.974792   0.966623   \n",
       "etc          0.958947         0.962727         0.961996  0.996970   0.962727   \n",
       "\n",
       "             total_scores  \n",
       "LR               4.469716  \n",
       "knn              4.395091  \n",
       "classifier1      4.630098  \n",
       "svm              4.537641  \n",
       "nb               4.297601  \n",
       "rf               4.832240  \n",
       "Gboost           4.835481  \n",
       "model            4.539055  \n",
       "Adaboost         4.746269  \n",
       "etc              4.843368  "
      ]
     },
     "execution_count": 70,
     "metadata": {},
     "output_type": "execute_result"
    }
   ],
   "source": [
    "scores_df[\"total_scores\"] = scores_df.sum(axis=1)\n",
    "\n",
    "scores_df"
   ]
  },
  {
   "cell_type": "code",
   "execution_count": 71,
   "metadata": {},
   "outputs": [
    {
     "data": {
      "text/html": [
       "<div>\n",
       "<style scoped>\n",
       "    .dataframe tbody tr th:only-of-type {\n",
       "        vertical-align: middle;\n",
       "    }\n",
       "\n",
       "    .dataframe tbody tr th {\n",
       "        vertical-align: top;\n",
       "    }\n",
       "\n",
       "    .dataframe thead th {\n",
       "        text-align: right;\n",
       "    }\n",
       "</style>\n",
       "<table border=\"1\" class=\"dataframe\">\n",
       "  <thead>\n",
       "    <tr style=\"text-align: right;\">\n",
       "      <th></th>\n",
       "      <th>accuracy</th>\n",
       "      <th>recall_positive</th>\n",
       "      <th>recall_negative</th>\n",
       "      <th>roc_auc</th>\n",
       "      <th>precision</th>\n",
       "      <th>total_scores</th>\n",
       "    </tr>\n",
       "  </thead>\n",
       "  <tbody>\n",
       "    <tr>\n",
       "      <th>Gboost</th>\n",
       "      <td>0.953158</td>\n",
       "      <td>0.990909</td>\n",
       "      <td>0.908028</td>\n",
       "      <td>0.992477</td>\n",
       "      <td>0.990909</td>\n",
       "      <td>4.835481</td>\n",
       "    </tr>\n",
       "    <tr>\n",
       "      <th>rf</th>\n",
       "      <td>0.953684</td>\n",
       "      <td>0.973485</td>\n",
       "      <td>0.937241</td>\n",
       "      <td>0.996012</td>\n",
       "      <td>0.971818</td>\n",
       "      <td>4.832240</td>\n",
       "    </tr>\n",
       "    <tr>\n",
       "      <th>Adaboost</th>\n",
       "      <td>0.937895</td>\n",
       "      <td>0.966623</td>\n",
       "      <td>0.900336</td>\n",
       "      <td>0.974792</td>\n",
       "      <td>0.966623</td>\n",
       "      <td>4.746269</td>\n",
       "    </tr>\n",
       "    <tr>\n",
       "      <th>etc</th>\n",
       "      <td>0.958947</td>\n",
       "      <td>0.962727</td>\n",
       "      <td>0.961996</td>\n",
       "      <td>0.996970</td>\n",
       "      <td>0.962727</td>\n",
       "      <td>4.843368</td>\n",
       "    </tr>\n",
       "    <tr>\n",
       "      <th>classifier1</th>\n",
       "      <td>0.928421</td>\n",
       "      <td>0.949199</td>\n",
       "      <td>0.878126</td>\n",
       "      <td>0.913638</td>\n",
       "      <td>0.960714</td>\n",
       "      <td>4.630098</td>\n",
       "    </tr>\n",
       "    <tr>\n",
       "      <th>knn</th>\n",
       "      <td>0.835000</td>\n",
       "      <td>0.946818</td>\n",
       "      <td>0.731990</td>\n",
       "      <td>0.934465</td>\n",
       "      <td>0.946818</td>\n",
       "      <td>4.395091</td>\n",
       "    </tr>\n",
       "    <tr>\n",
       "      <th>LR</th>\n",
       "      <td>0.886842</td>\n",
       "      <td>0.905866</td>\n",
       "      <td>0.847802</td>\n",
       "      <td>0.923340</td>\n",
       "      <td>0.905866</td>\n",
       "      <td>4.469716</td>\n",
       "    </tr>\n",
       "    <tr>\n",
       "      <th>svm</th>\n",
       "      <td>0.886579</td>\n",
       "      <td>0.891851</td>\n",
       "      <td>0.890904</td>\n",
       "      <td>0.976457</td>\n",
       "      <td>0.891851</td>\n",
       "      <td>4.537641</td>\n",
       "    </tr>\n",
       "    <tr>\n",
       "      <th>model</th>\n",
       "      <td>0.886579</td>\n",
       "      <td>0.881732</td>\n",
       "      <td>0.906929</td>\n",
       "      <td>0.962993</td>\n",
       "      <td>0.900823</td>\n",
       "      <td>4.539055</td>\n",
       "    </tr>\n",
       "    <tr>\n",
       "      <th>nb</th>\n",
       "      <td>0.849737</td>\n",
       "      <td>0.828279</td>\n",
       "      <td>0.872802</td>\n",
       "      <td>0.918503</td>\n",
       "      <td>0.828279</td>\n",
       "      <td>4.297601</td>\n",
       "    </tr>\n",
       "  </tbody>\n",
       "</table>\n",
       "</div>"
      ],
      "text/plain": [
       "             accuracy  recall_positive  recall_negative   roc_auc  precision  \\\n",
       "Gboost       0.953158         0.990909         0.908028  0.992477   0.990909   \n",
       "rf           0.953684         0.973485         0.937241  0.996012   0.971818   \n",
       "Adaboost     0.937895         0.966623         0.900336  0.974792   0.966623   \n",
       "etc          0.958947         0.962727         0.961996  0.996970   0.962727   \n",
       "classifier1  0.928421         0.949199         0.878126  0.913638   0.960714   \n",
       "knn          0.835000         0.946818         0.731990  0.934465   0.946818   \n",
       "LR           0.886842         0.905866         0.847802  0.923340   0.905866   \n",
       "svm          0.886579         0.891851         0.890904  0.976457   0.891851   \n",
       "model        0.886579         0.881732         0.906929  0.962993   0.900823   \n",
       "nb           0.849737         0.828279         0.872802  0.918503   0.828279   \n",
       "\n",
       "             total_scores  \n",
       "Gboost           4.835481  \n",
       "rf               4.832240  \n",
       "Adaboost         4.746269  \n",
       "etc              4.843368  \n",
       "classifier1      4.630098  \n",
       "knn              4.395091  \n",
       "LR               4.469716  \n",
       "svm              4.537641  \n",
       "model            4.539055  \n",
       "nb               4.297601  "
      ]
     },
     "execution_count": 71,
     "metadata": {},
     "output_type": "execute_result"
    }
   ],
   "source": [
    "scores_df.sort_values(by=\"recall_positive\",ascending=False)"
   ]
  },
  {
   "cell_type": "markdown",
   "metadata": {},
   "source": [
    "# Ensemble of Gboost,rf,Adaboost"
   ]
  },
  {
   "cell_type": "code",
   "execution_count": 72,
   "metadata": {},
   "outputs": [
    {
     "data": {
      "text/plain": [
       "VotingClassifier(estimators=[('Adaboost',\n",
       "                              AdaBoostClassifier(n_estimators=1000,\n",
       "                                                 random_state=42)),\n",
       "                             ('Gboost',\n",
       "                              GradientBoostingClassifier(learning_rate=0.9,\n",
       "                                                         n_estimators=250,\n",
       "                                                         random_state=42)),\n",
       "                             ('rf', RandomForestClassifier())],\n",
       "                 voting='soft')"
      ]
     },
     "execution_count": 72,
     "metadata": {},
     "output_type": "execute_result"
    }
   ],
   "source": [
    "model2=VotingClassifier(estimators=[ ('Adaboost', Adaboost),('Gboost',Gboost),('rf',rf)], voting='soft')\n",
    "model2.fit(X_train1,Y_train1)"
   ]
  },
  {
   "cell_type": "markdown",
   "metadata": {},
   "source": [
    "# Ensemble of rf,Gboost,etc"
   ]
  },
  {
   "cell_type": "code",
   "execution_count": 73,
   "metadata": {},
   "outputs": [
    {
     "data": {
      "text/plain": [
       "VotingClassifier(estimators=[('etc',\n",
       "                              ExtraTreesClassifier(n_estimators=50,\n",
       "                                                   random_state=42)),\n",
       "                             ('Gboost',\n",
       "                              GradientBoostingClassifier(learning_rate=0.9,\n",
       "                                                         n_estimators=250,\n",
       "                                                         random_state=42)),\n",
       "                             ('rf', RandomForestClassifier())],\n",
       "                 voting='soft')"
      ]
     },
     "execution_count": 73,
     "metadata": {},
     "output_type": "execute_result"
    }
   ],
   "source": [
    "model3=VotingClassifier(estimators=[ ('etc', etc),('Gboost',Gboost),('rf',rf)], voting='soft')\n",
    "model3.fit(X_train1,Y_train1)"
   ]
  },
  {
   "cell_type": "markdown",
   "metadata": {},
   "source": [
    "# Ensemble of Adaboost,Gboost,etc"
   ]
  },
  {
   "cell_type": "code",
   "execution_count": 80,
   "metadata": {},
   "outputs": [
    {
     "data": {
      "text/plain": [
       "VotingClassifier(estimators=[('etc',\n",
       "                              ExtraTreesClassifier(n_estimators=50,\n",
       "                                                   random_state=42)),\n",
       "                             ('Gboost',\n",
       "                              GradientBoostingClassifier(learning_rate=0.9,\n",
       "                                                         n_estimators=250,\n",
       "                                                         random_state=42)),\n",
       "                             ('Adaboost',\n",
       "                              AdaBoostClassifier(n_estimators=1000,\n",
       "                                                 random_state=42))],\n",
       "                 voting='soft')"
      ]
     },
     "execution_count": 80,
     "metadata": {},
     "output_type": "execute_result"
    }
   ],
   "source": [
    "model4=VotingClassifier(estimators=[ ('etc', etc),('Gboost',Gboost),('Adaboost',Adaboost)], voting='soft')\n",
    "model4.fit(X_train1,Y_train1)"
   ]
  },
  {
   "cell_type": "markdown",
   "metadata": {},
   "source": [
    "# Ensemble of rf,Gboost"
   ]
  },
  {
   "cell_type": "code",
   "execution_count": 84,
   "metadata": {},
   "outputs": [
    {
     "data": {
      "text/plain": [
       "VotingClassifier(estimators=[('rf', RandomForestClassifier()),\n",
       "                             ('Gboost',\n",
       "                              GradientBoostingClassifier(learning_rate=0.9,\n",
       "                                                         n_estimators=250,\n",
       "                                                         random_state=42))],\n",
       "                 voting='soft')"
      ]
     },
     "execution_count": 84,
     "metadata": {},
     "output_type": "execute_result"
    }
   ],
   "source": [
    "model5=VotingClassifier(estimators=[ ('rf', rf),('Gboost',Gboost)], voting='soft')\n",
    "model5.fit(X_train1,Y_train1)"
   ]
  },
  {
   "cell_type": "markdown",
   "metadata": {},
   "source": [
    "# Individual Scores"
   ]
  },
  {
   "cell_type": "code",
   "execution_count": 74,
   "metadata": {},
   "outputs": [],
   "source": [
    "individual_scores=pd.DataFrame()\n",
    "\n",
    "LR_scores={'accuracy': [0.8868421052631579],\n",
    " 'recall_positive': [0.9058658008658009],\n",
    "\n",
    " 'roc_auc': [0.9233404928404928],\n",
    " 'precision': [0.9058658008658009],\n",
    " \"f1_score\":[0.9058658008658009]}\n",
    "\n",
    "individual_scores=pd.DataFrame(LR_scores,index=[\"LR\"])\n",
    "\n",
    "individual_scores.loc[\"knn\"] = [np.mean(evaluate_model_accuracy(knn,X_test1,Y_test1)),\n",
    "                        np.mean(evaluate_model_recall_positive(knn,X_test1,Y_test1)),\n",
    "               \n",
    "                       np.mean(evaluate_model_roc_auc(knn,X_test1,Y_test1)),\n",
    "                       np.mean(evaluate_model_precision(knn,X_test1,Y_test1)),\n",
    "                       np.mean(evaluate_model_f1score(knn,X_test1,Y_test1))]\n",
    "\n",
    "\n",
    "individual_scores.loc[\"classifier1\"] = [np.mean(evaluate_model_accuracy(classifier1,X_test1,Y_test1)),\n",
    "                        np.mean(evaluate_model_recall_positive(classifier1,X_test1,Y_test1)),\n",
    "                 \n",
    "                       np.mean(evaluate_model_roc_auc(classifier1,X_test1,Y_test1)),\n",
    "                       np.mean(evaluate_model_precision(classifier1,X_test1,Y_test1)),\n",
    "                               np.mean(evaluate_model_f1score(classifier1,X_test1,Y_test1))]\n",
    "\n",
    "individual_scores.loc[\"svm\"] = [np.mean(evaluate_model_accuracy(svm,X_test1,Y_test1)),\n",
    "                        np.mean(evaluate_model_recall_positive(svm,X_test1,Y_test1)),\n",
    "              \n",
    "                       np.mean(evaluate_model_roc_auc(svm,X_test1,Y_test1)),\n",
    "                       np.mean(evaluate_model_precision(svm,X_test1,Y_test1)),\n",
    "                       np.mean(evaluate_model_f1score(svm,X_test1,Y_test1))]\n",
    "\n",
    "individual_scores.loc[\"nb\"] = [np.mean(evaluate_model_accuracy(nb,X_test1,Y_test1)),\n",
    "                        np.mean(evaluate_model_recall_positive(nb,X_test1,Y_test1)),\n",
    "                  \n",
    "                       np.mean(evaluate_model_roc_auc(nb,X_test1,Y_test1)),\n",
    "                       np.mean(evaluate_model_precision(nb,X_test1,Y_test1)),\n",
    "                      np.mean(evaluate_model_f1score(nb,X_test1,Y_test1))]"
   ]
  },
  {
   "cell_type": "markdown",
   "metadata": {},
   "source": [
    "# Ensemble Models Scores"
   ]
  },
  {
   "cell_type": "code",
   "execution_count": 75,
   "metadata": {},
   "outputs": [],
   "source": [
    "Ensemble_scores=pd.DataFrame()\n",
    "\n",
    "rf_scores={'accuracy': [0.9642105263157894],\n",
    " 'recall_positive': [0.9818181818181818],\n",
    "\n",
    " 'roc_auc': [0.9944971694971695],\n",
    " 'precision': [0.9584415584415584],\n",
    " \"f1_score\":[0.9825757575757577]}\n",
    "\n",
    "Ensemble_scores=pd.DataFrame(rf_scores,index=[\"rf\"])\n",
    "\n",
    "\n",
    "Ensemble_scores.loc[\"Gboost\"] = [np.mean(evaluate_model_accuracy(Gboost,X_test1,Y_test1)),\n",
    "                        np.mean(evaluate_model_recall_positive(Gboost,X_test1,Y_test1)),\n",
    "              \n",
    "                       np.mean(evaluate_model_roc_auc(Gboost,X_test1,Y_test1)),\n",
    "                       np.mean(evaluate_model_precision(Gboost,X_test1,Y_test1)),\n",
    "                          np.mean(evaluate_model_f1score(Gboost,X_test1,Y_test1))]\n",
    "\n",
    "Ensemble_scores.loc[\"Adaboost\"] = [np.mean(evaluate_model_accuracy(Adaboost,X_test1,Y_test1)),\n",
    "                        np.mean(evaluate_model_recall_positive(Adaboost,X_test1,Y_test1)),\n",
    "                  \n",
    "                       np.mean(evaluate_model_roc_auc(Adaboost,X_test1,Y_test1)),\n",
    "                       np.mean(evaluate_model_precision(Adaboost,X_test1,Y_test1)),\n",
    "                            np.mean(evaluate_model_f1score(Adaboost,X_test1,Y_test1))]\n",
    "\n",
    "Ensemble_scores.loc[\"etc\"] = [np.mean(evaluate_model_accuracy(etc,X_test1,Y_test1)),\n",
    "                        np.mean(evaluate_model_recall_positive(etc,X_test1,Y_test1)),\n",
    "                     \n",
    "                       np.mean(evaluate_model_roc_auc(etc,X_test1,Y_test1)),\n",
    "                       np.mean(evaluate_model_precision(etc,X_test1,Y_test1)),\n",
    "                       np.mean(evaluate_model_f1score(etc,X_test1,Y_test1))]"
   ]
  },
  {
   "cell_type": "markdown",
   "metadata": {},
   "source": [
    "# Custom Ensemble Models"
   ]
  },
  {
   "cell_type": "code",
   "execution_count": 85,
   "metadata": {},
   "outputs": [],
   "source": [
    "custom_ensemble_scores=pd.DataFrame()\n",
    "\n",
    "model1_scores={'accuracy': [0.8713157894736842],\n",
    " 'recall_positive': [0.8966558441558442],\n",
    "\n",
    " 'roc_auc': [0.9564897324897326],\n",
    " 'precision': [0.8692316017316017],\n",
    " \"f1_score\":[  0.8883225108225108]}\n",
    "\n",
    "custom_ensemble_scores=pd.DataFrame(model1_scores,index=[\"model1\"])\n",
    "\n",
    "\n",
    "custom_ensemble_scores.loc[\"model2\"] = [np.mean(evaluate_model_accuracy(model2,X_test1,Y_test1)),\n",
    "                        np.mean(evaluate_model_recall_positive(model2,X_test1,Y_test1)),\n",
    "                    \n",
    "                       np.mean(evaluate_model_roc_auc(model2,X_test1,Y_test1)),\n",
    "                       np.mean(evaluate_model_precision(model2,X_test1,Y_test1)),\n",
    "                       np.mean(evaluate_model_f1score(model2,X_test1,Y_test1))]\n",
    "\n",
    "custom_ensemble_scores.loc[\"model3\"]=[np.mean(evaluate_model_accuracy(model3,X_test1,Y_test1)),\n",
    "                        np.mean(evaluate_model_recall_positive(model3,X_test1,Y_test1)),\n",
    "                    \n",
    "                       np.mean(evaluate_model_roc_auc(model3,X_test1,Y_test1)),\n",
    "                       np.mean(evaluate_model_precision(model3,X_test1,Y_test1)),\n",
    "                       np.mean(evaluate_model_f1score(model3,X_test1,Y_test1))]\n",
    "\n",
    "custom_ensemble_scores.loc[\"model4\"]=[np.mean(evaluate_model_accuracy(model4,X_test1,Y_test1)),\n",
    "                        np.mean(evaluate_model_recall_positive(model4,X_test1,Y_test1)),\n",
    "                    \n",
    "                       np.mean(evaluate_model_roc_auc(model4,X_test1,Y_test1)),\n",
    "                       np.mean(evaluate_model_precision(model4,X_test1,Y_test1)),\n",
    "                       np.mean(evaluate_model_f1score(model4,X_test1,Y_test1))]\n",
    "\n",
    "custom_ensemble_scores.loc[\"model5\"]=[np.mean(evaluate_model_accuracy(model5,X_test1,Y_test1)),\n",
    "                        np.mean(evaluate_model_recall_positive(model5,X_test1,Y_test1)),\n",
    "                    \n",
    "                       np.mean(evaluate_model_roc_auc(model5,X_test1,Y_test1)),\n",
    "                       np.mean(evaluate_model_precision(model5,X_test1,Y_test1)),\n",
    "                       np.mean(evaluate_model_f1score(model5,X_test1,Y_test1))]\n",
    "\n",
    "\n",
    "custom_ensemble_scores.loc[\"model1\"] = [np.mean(evaluate_model_accuracy(model1,X_test1,Y_test1)),\n",
    "                        np.mean(evaluate_model_recall_positive(model1,X_test1,Y_test1)),\n",
    "                    \n",
    "                       np.mean(evaluate_model_roc_auc(model1,X_test1,Y_test1)),\n",
    "                       np.mean(evaluate_model_precision(model1,X_test1,Y_test1)),\n",
    "                       np.mean(evaluate_model_f1score(model1,X_test1,Y_test1))]"
   ]
  },
  {
   "cell_type": "code",
   "execution_count": 77,
   "metadata": {},
   "outputs": [
    {
     "data": {
      "text/html": [
       "<div>\n",
       "<style scoped>\n",
       "    .dataframe tbody tr th:only-of-type {\n",
       "        vertical-align: middle;\n",
       "    }\n",
       "\n",
       "    .dataframe tbody tr th {\n",
       "        vertical-align: top;\n",
       "    }\n",
       "\n",
       "    .dataframe thead th {\n",
       "        text-align: right;\n",
       "    }\n",
       "</style>\n",
       "<table border=\"1\" class=\"dataframe\">\n",
       "  <thead>\n",
       "    <tr style=\"text-align: right;\">\n",
       "      <th></th>\n",
       "      <th>accuracy</th>\n",
       "      <th>recall_positive</th>\n",
       "      <th>roc_auc</th>\n",
       "      <th>precision</th>\n",
       "      <th>f1_score</th>\n",
       "    </tr>\n",
       "  </thead>\n",
       "  <tbody>\n",
       "    <tr>\n",
       "      <th>LR</th>\n",
       "      <td>0.886842</td>\n",
       "      <td>0.905866</td>\n",
       "      <td>0.923340</td>\n",
       "      <td>0.905866</td>\n",
       "      <td>0.905866</td>\n",
       "    </tr>\n",
       "    <tr>\n",
       "      <th>knn</th>\n",
       "      <td>0.835000</td>\n",
       "      <td>0.946818</td>\n",
       "      <td>0.934465</td>\n",
       "      <td>0.946818</td>\n",
       "      <td>0.946818</td>\n",
       "    </tr>\n",
       "    <tr>\n",
       "      <th>classifier1</th>\n",
       "      <td>0.911842</td>\n",
       "      <td>0.977381</td>\n",
       "      <td>0.924682</td>\n",
       "      <td>0.933442</td>\n",
       "      <td>0.949199</td>\n",
       "    </tr>\n",
       "    <tr>\n",
       "      <th>svm</th>\n",
       "      <td>0.886579</td>\n",
       "      <td>0.891851</td>\n",
       "      <td>0.976457</td>\n",
       "      <td>0.891851</td>\n",
       "      <td>0.891851</td>\n",
       "    </tr>\n",
       "    <tr>\n",
       "      <th>nb</th>\n",
       "      <td>0.849737</td>\n",
       "      <td>0.828279</td>\n",
       "      <td>0.918503</td>\n",
       "      <td>0.828279</td>\n",
       "      <td>0.828279</td>\n",
       "    </tr>\n",
       "  </tbody>\n",
       "</table>\n",
       "</div>"
      ],
      "text/plain": [
       "             accuracy  recall_positive   roc_auc  precision  f1_score\n",
       "LR           0.886842         0.905866  0.923340   0.905866  0.905866\n",
       "knn          0.835000         0.946818  0.934465   0.946818  0.946818\n",
       "classifier1  0.911842         0.977381  0.924682   0.933442  0.949199\n",
       "svm          0.886579         0.891851  0.976457   0.891851  0.891851\n",
       "nb           0.849737         0.828279  0.918503   0.828279  0.828279"
      ]
     },
     "execution_count": 77,
     "metadata": {},
     "output_type": "execute_result"
    }
   ],
   "source": [
    "individual_scores"
   ]
  },
  {
   "cell_type": "code",
   "execution_count": 78,
   "metadata": {},
   "outputs": [
    {
     "data": {
      "text/html": [
       "<div>\n",
       "<style scoped>\n",
       "    .dataframe tbody tr th:only-of-type {\n",
       "        vertical-align: middle;\n",
       "    }\n",
       "\n",
       "    .dataframe tbody tr th {\n",
       "        vertical-align: top;\n",
       "    }\n",
       "\n",
       "    .dataframe thead th {\n",
       "        text-align: right;\n",
       "    }\n",
       "</style>\n",
       "<table border=\"1\" class=\"dataframe\">\n",
       "  <thead>\n",
       "    <tr style=\"text-align: right;\">\n",
       "      <th></th>\n",
       "      <th>accuracy</th>\n",
       "      <th>recall_positive</th>\n",
       "      <th>roc_auc</th>\n",
       "      <th>precision</th>\n",
       "      <th>f1_score</th>\n",
       "    </tr>\n",
       "  </thead>\n",
       "  <tbody>\n",
       "    <tr>\n",
       "      <th>rf</th>\n",
       "      <td>0.964211</td>\n",
       "      <td>0.981818</td>\n",
       "      <td>0.994497</td>\n",
       "      <td>0.958442</td>\n",
       "      <td>0.982576</td>\n",
       "    </tr>\n",
       "    <tr>\n",
       "      <th>Gboost</th>\n",
       "      <td>0.953158</td>\n",
       "      <td>0.990909</td>\n",
       "      <td>0.992477</td>\n",
       "      <td>0.990909</td>\n",
       "      <td>0.990909</td>\n",
       "    </tr>\n",
       "    <tr>\n",
       "      <th>Adaboost</th>\n",
       "      <td>0.937895</td>\n",
       "      <td>0.966623</td>\n",
       "      <td>0.974792</td>\n",
       "      <td>0.966623</td>\n",
       "      <td>0.966623</td>\n",
       "    </tr>\n",
       "    <tr>\n",
       "      <th>etc</th>\n",
       "      <td>0.958947</td>\n",
       "      <td>0.962727</td>\n",
       "      <td>0.996970</td>\n",
       "      <td>0.962727</td>\n",
       "      <td>0.962727</td>\n",
       "    </tr>\n",
       "  </tbody>\n",
       "</table>\n",
       "</div>"
      ],
      "text/plain": [
       "          accuracy  recall_positive   roc_auc  precision  f1_score\n",
       "rf        0.964211         0.981818  0.994497   0.958442  0.982576\n",
       "Gboost    0.953158         0.990909  0.992477   0.990909  0.990909\n",
       "Adaboost  0.937895         0.966623  0.974792   0.966623  0.966623\n",
       "etc       0.958947         0.962727  0.996970   0.962727  0.962727"
      ]
     },
     "execution_count": 78,
     "metadata": {},
     "output_type": "execute_result"
    }
   ],
   "source": [
    "Ensemble_scores"
   ]
  },
  {
   "cell_type": "code",
   "execution_count": 86,
   "metadata": {},
   "outputs": [
    {
     "data": {
      "text/html": [
       "<div>\n",
       "<style scoped>\n",
       "    .dataframe tbody tr th:only-of-type {\n",
       "        vertical-align: middle;\n",
       "    }\n",
       "\n",
       "    .dataframe tbody tr th {\n",
       "        vertical-align: top;\n",
       "    }\n",
       "\n",
       "    .dataframe thead th {\n",
       "        text-align: right;\n",
       "    }\n",
       "</style>\n",
       "<table border=\"1\" class=\"dataframe\">\n",
       "  <thead>\n",
       "    <tr style=\"text-align: right;\">\n",
       "      <th></th>\n",
       "      <th>accuracy</th>\n",
       "      <th>recall_positive</th>\n",
       "      <th>roc_auc</th>\n",
       "      <th>precision</th>\n",
       "      <th>f1_score</th>\n",
       "    </tr>\n",
       "  </thead>\n",
       "  <tbody>\n",
       "    <tr>\n",
       "      <th>model1</th>\n",
       "      <td>0.891842</td>\n",
       "      <td>0.890823</td>\n",
       "      <td>0.965193</td>\n",
       "      <td>0.891732</td>\n",
       "      <td>0.900823</td>\n",
       "    </tr>\n",
       "    <tr>\n",
       "      <th>model2</th>\n",
       "      <td>0.953158</td>\n",
       "      <td>0.990909</td>\n",
       "      <td>0.996698</td>\n",
       "      <td>0.990909</td>\n",
       "      <td>0.990909</td>\n",
       "    </tr>\n",
       "    <tr>\n",
       "      <th>model3</th>\n",
       "      <td>0.953158</td>\n",
       "      <td>0.990909</td>\n",
       "      <td>0.996970</td>\n",
       "      <td>0.990909</td>\n",
       "      <td>0.990909</td>\n",
       "    </tr>\n",
       "    <tr>\n",
       "      <th>model4</th>\n",
       "      <td>0.953158</td>\n",
       "      <td>0.990909</td>\n",
       "      <td>0.997980</td>\n",
       "      <td>0.990909</td>\n",
       "      <td>0.990909</td>\n",
       "    </tr>\n",
       "    <tr>\n",
       "      <th>model5</th>\n",
       "      <td>0.953158</td>\n",
       "      <td>0.990909</td>\n",
       "      <td>0.995688</td>\n",
       "      <td>0.990909</td>\n",
       "      <td>0.990909</td>\n",
       "    </tr>\n",
       "  </tbody>\n",
       "</table>\n",
       "</div>"
      ],
      "text/plain": [
       "        accuracy  recall_positive   roc_auc  precision  f1_score\n",
       "model1  0.891842         0.890823  0.965193   0.891732  0.900823\n",
       "model2  0.953158         0.990909  0.996698   0.990909  0.990909\n",
       "model3  0.953158         0.990909  0.996970   0.990909  0.990909\n",
       "model4  0.953158         0.990909  0.997980   0.990909  0.990909\n",
       "model5  0.953158         0.990909  0.995688   0.990909  0.990909"
      ]
     },
     "execution_count": 86,
     "metadata": {},
     "output_type": "execute_result"
    }
   ],
   "source": [
    "custom_ensemble_scores"
   ]
  },
  {
   "cell_type": "code",
   "execution_count": null,
   "metadata": {},
   "outputs": [],
   "source": []
  }
 ],
 "metadata": {
  "kernelspec": {
   "display_name": "Python 3",
   "language": "python",
   "name": "python3"
  },
  "language_info": {
   "codemirror_mode": {
    "name": "ipython",
    "version": 3
   },
   "file_extension": ".py",
   "mimetype": "text/x-python",
   "name": "python",
   "nbconvert_exporter": "python",
   "pygments_lexer": "ipython3",
   "version": "3.8.5"
  }
 },
 "nbformat": 4,
 "nbformat_minor": 4
}
