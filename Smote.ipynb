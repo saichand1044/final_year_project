{
 "cells": [
  {
   "cell_type": "code",
   "execution_count": 3,
   "metadata": {},
   "outputs": [],
   "source": [
    "import pandas as pd\n",
    "import numpy as np\n",
    "import matplotlib.pyplot as plt\n",
    "import seaborn as sns\n",
    "import sklearn\n",
    "\n",
    "from sklearn.preprocessing import LabelEncoder,StandardScaler,RobustScaler\n",
    "from sklearn.metrics import accuracy_score,confusion_matrix,recall_score,classification_report,precision_score,roc_auc_score,matthews_corrcoef,precision_recall_fscore_support,make_scorer, accuracy_score, precision_score, recall_score, f1_score\n",
    "from sklearn.model_selection import cross_validate,cross_val_score\n",
    "from sklearn import model_selection\n",
    "\n",
    "from sklearn.tree import DecisionTreeClassifier\n",
    "from sklearn.linear_model import LogisticRegression\n",
    "from sklearn.svm import SVC\n",
    "from sklearn.neighbors import KNeighborsClassifier\n",
    "from sklearn.naive_bayes import GaussianNB\n",
    "\n",
    "from imblearn.over_sampling import SMOTE\n",
    " \n",
    "from sklearn.model_selection import GridSearchCV,RandomizedSearchCV\n",
    "\n",
    "from imblearn.ensemble import BalancedRandomForestClassifier\n",
    "from sklearn.ensemble import AdaBoostClassifier,BaggingClassifier,GradientBoostingClassifier,RandomForestClassifier,ExtraTreesClassifier,StackingClassifier,VotingClassifier\n",
    "\n",
    "import xgboost as xgb\n",
    "import lightgbm as lgb\n",
    "from catboost import CatBoostClassifier"
   ]
  },
  {
   "cell_type": "code",
   "execution_count": 4,
   "metadata": {},
   "outputs": [],
   "source": [
    "df=pd.read_excel(\"C:/Users/saich/OneDrive/Desktop/Diabetes_Classification.xlsx\")"
   ]
  },
  {
   "cell_type": "code",
   "execution_count": 5,
   "metadata": {},
   "outputs": [],
   "source": [
    "df.drop(labels=\"Patient number\",axis=1,inplace=True)"
   ]
  },
  {
   "cell_type": "code",
   "execution_count": 6,
   "metadata": {},
   "outputs": [],
   "source": [
    "df.replace({'Gender':{\"female\":\"F\",\"male\":\"M\"}},inplace=True)"
   ]
  },
  {
   "cell_type": "code",
   "execution_count": 7,
   "metadata": {},
   "outputs": [],
   "source": [
    "le=LabelEncoder()\n",
    "df[\"Gender\"]=le.fit_transform(df[\"Gender\"])"
   ]
  },
  {
   "cell_type": "code",
   "execution_count": 8,
   "metadata": {},
   "outputs": [
    {
     "name": "stdout",
     "output_type": "stream",
     "text": [
      "Cholesterol        50.000\n",
      "Glucose            26.750\n",
      "HDL Chol           21.000\n",
      "Chol/HDL ratio      2.200\n",
      "Age                26.000\n",
      "Gender              1.000\n",
      "Height              6.000\n",
      "Weight             49.750\n",
      "BMI                 8.175\n",
      "Systolic BP        26.000\n",
      "Diastolic BP       15.000\n",
      "waist               8.000\n",
      "hip                 7.000\n",
      "Waist/hip ratio     0.100\n",
      "dtype: float64\n"
     ]
    }
   ],
   "source": [
    "Q1 = df.quantile(0.25)\n",
    "Q3 = df.quantile(0.75)\n",
    "IQR = Q3 - Q1\n",
    "print(IQR)"
   ]
  },
  {
   "cell_type": "code",
   "execution_count": 9,
   "metadata": {},
   "outputs": [],
   "source": [
    "df=df[~((df < (Q1 - 1.5 * IQR)) |(df > (Q3 + 1.5 * IQR))).any(axis=1)]"
   ]
  },
  {
   "cell_type": "code",
   "execution_count": 10,
   "metadata": {},
   "outputs": [],
   "source": [
    "target=df[\"Diabetes\"]\n",
    "features=df.drop(columns=\"Diabetes\",axis=1)"
   ]
  },
  {
   "cell_type": "code",
   "execution_count": 11,
   "metadata": {},
   "outputs": [],
   "source": [
    "sm = SMOTE(random_state=42,sampling_strategy=\"minority\") \n",
    "new_features, new_target = sm.fit_resample(features, target)"
   ]
  },
  {
   "cell_type": "code",
   "execution_count": 12,
   "metadata": {},
   "outputs": [],
   "source": [
    "scaler = StandardScaler()\n",
    "X_res=pd.DataFrame(scaler.fit_transform(new_features),columns=list(new_features.columns))\n",
    "y_res=new_target"
   ]
  },
  {
   "cell_type": "code",
   "execution_count": 13,
   "metadata": {},
   "outputs": [
    {
     "data": {
      "text/plain": [
       "No diabetes    277\n",
       "Diabetes       277\n",
       "Name: Diabetes, dtype: int64"
      ]
     },
     "execution_count": 13,
     "metadata": {},
     "output_type": "execute_result"
    }
   ],
   "source": [
    "y_res.value_counts()"
   ]
  },
  {
   "cell_type": "code",
   "execution_count": 14,
   "metadata": {},
   "outputs": [],
   "source": [
    "from sklearn.model_selection import train_test_split\n",
    "X_train1,X_test1,Y_train1,Y_test1=train_test_split(X_res,\n",
    "                                               y_res,\n",
    "                                               test_size=0.35,\n",
    "                                               random_state=42)"
   ]
  },
  {
   "cell_type": "markdown",
   "metadata": {},
   "source": [
    "# Logistic Regression"
   ]
  },
  {
   "cell_type": "code",
   "execution_count": 15,
   "metadata": {},
   "outputs": [
    {
     "data": {
      "text/plain": [
       "LogisticRegression(C=11.288378916846883, solver='liblinear')"
      ]
     },
     "execution_count": 15,
     "metadata": {},
     "output_type": "execute_result"
    }
   ],
   "source": [
    "LR=LogisticRegression(C=11.288378916846883,penalty=\"l2\",solver= 'liblinear')\n",
    "\n",
    "LR.fit(X_train1,Y_train1)"
   ]
  },
  {
   "cell_type": "code",
   "execution_count": 16,
   "metadata": {},
   "outputs": [
    {
     "name": "stdout",
     "output_type": "stream",
     "text": [
      "              precision    recall  f1-score   support\n",
      "\n",
      "    Diabetes       0.87      0.80      0.83        96\n",
      " No diabetes       0.82      0.88      0.85        98\n",
      "\n",
      "    accuracy                           0.84       194\n",
      "   macro avg       0.84      0.84      0.84       194\n",
      "weighted avg       0.84      0.84      0.84       194\n",
      "\n"
     ]
    }
   ],
   "source": [
    "print(classification_report(Y_test1,LR.predict(X_test1)))"
   ]
  },
  {
   "cell_type": "code",
   "execution_count": 17,
   "metadata": {},
   "outputs": [],
   "source": [
    "cv = model_selection.KFold(n_splits=10, random_state=42, shuffle=True)\n",
    "scoring = {'recall' : make_scorer(recall_score,pos_label=\"Diabetes\") }"
   ]
  },
  {
   "cell_type": "code",
   "execution_count": 18,
   "metadata": {},
   "outputs": [],
   "source": [
    "# for recall\n",
    "results1 =cross_validate(estimator=LR,\n",
    "                                    X=X_train1,\n",
    "                                    y=Y_train1,\n",
    "                                    cv=cv,\n",
    "                                    scoring=scoring)\n",
    "# for accuracy\n",
    "accuracy1 = model_selection.cross_val_score(LR, X_train1,Y_train1, scoring='accuracy', cv=cv, n_jobs=-1)"
   ]
  },
  {
   "cell_type": "code",
   "execution_count": 19,
   "metadata": {},
   "outputs": [
    {
     "name": "stdout",
     "output_type": "stream",
     "text": [
      "Accuracy 0.8166666666666668\n",
      "recall score is : 0.8533626873642353\n",
      "roc-auc score is 0.9041860916860915\n",
      "score time is : 0.0023928165435791017\n",
      "fit time is : 0.003789854049682617\n",
      "recall score for No diabetes is : 0.7906561881045324\n"
     ]
    }
   ],
   "source": [
    "print(\"Accuracy\",np.mean(accuracy1))\n",
    "print(\"recall score is :\",np.mean(results1[\"test_recall\"]))\n",
    "print(\"roc-auc score is\",np.mean(list(cross_val_score(LR, X_test1, Y_test1, cv=cv, scoring='roc_auc'))))\n",
    "print(\"score time is :\",np.mean(results1[\"score_time\"]))\n",
    "print(\"fit time is :\",np.mean(results1[\"fit_time\"]))\n",
    "print(\"recall score for No diabetes is :\",np.mean(cross_validate(estimator=LR,\n",
    "                                    X=X_train1,\n",
    "                                    y=Y_train1,\n",
    "                                    cv=cv,\n",
    "                                    scoring={'recall' : make_scorer(recall_score,pos_label=\"No diabetes\") })[\"test_recall\"]))"
   ]
  },
  {
   "cell_type": "markdown",
   "metadata": {},
   "source": [
    "# Grid Search"
   ]
  },
  {
   "cell_type": "code",
   "execution_count": 20,
   "metadata": {},
   "outputs": [],
   "source": [
    "# # # # param_grid = [\n",
    "# # # #     {\n",
    "# # # #      'penalty' : ['l1', 'l2'],\n",
    "# # # #     'C' : np.logspace(-4, 4, 20),\n",
    "# # # #     'solver' : ['liblinear']}\n",
    "# # # # ]\n",
    "\n",
    "# # # param_grid = [\n",
    "# # #     {'criterion':['gini','entropy'],'max_depth':[4,5,6,7,8,9,10,11,12,15,20,30,40,50,70,90,120,150]}\n",
    "# # # ]\n",
    "\n",
    "# param_grid = dict(n_neighbors=list(range(10, 31)))\n",
    "\n",
    "# param_grid = dict(n_estimators=[i for i in [10,20,30,40,50,60,70,80,90,100]])\n",
    "# # # grid = RandomizedSearchCV(knn, param_distributions = param_grid, cv = 10,n_jobs=-1)\n",
    "# grid=GridSearchCV(etc,param_grid,cv=10,n_jobs=-1)"
   ]
  },
  {
   "cell_type": "code",
   "execution_count": 21,
   "metadata": {},
   "outputs": [],
   "source": [
    "# grid.fit(X_train1,Y_train1)"
   ]
  },
  {
   "cell_type": "code",
   "execution_count": 22,
   "metadata": {},
   "outputs": [],
   "source": [
    "# grid.best_params_"
   ]
  },
  {
   "cell_type": "markdown",
   "metadata": {},
   "source": [
    "# Decsison Trees"
   ]
  },
  {
   "cell_type": "code",
   "execution_count": 23,
   "metadata": {},
   "outputs": [],
   "source": [
    "classifier1=DecisionTreeClassifier(criterion=\"entropy\",max_depth=6)"
   ]
  },
  {
   "cell_type": "code",
   "execution_count": 24,
   "metadata": {},
   "outputs": [
    {
     "data": {
      "text/plain": [
       "DecisionTreeClassifier(criterion='entropy', max_depth=6)"
      ]
     },
     "execution_count": 24,
     "metadata": {},
     "output_type": "execute_result"
    }
   ],
   "source": [
    "classifier1.fit(X_train1,Y_train1)"
   ]
  },
  {
   "cell_type": "code",
   "execution_count": 25,
   "metadata": {},
   "outputs": [
    {
     "name": "stdout",
     "output_type": "stream",
     "text": [
      "              precision    recall  f1-score   support\n",
      "\n",
      "    Diabetes       0.92      0.95      0.93        96\n",
      " No diabetes       0.95      0.92      0.93        98\n",
      "\n",
      "    accuracy                           0.93       194\n",
      "   macro avg       0.93      0.93      0.93       194\n",
      "weighted avg       0.93      0.93      0.93       194\n",
      "\n"
     ]
    }
   ],
   "source": [
    "print(classification_report(Y_test1,classifier1.predict(X_test1)))"
   ]
  },
  {
   "cell_type": "code",
   "execution_count": 26,
   "metadata": {},
   "outputs": [],
   "source": [
    "results2 =cross_validate(estimator=classifier1,\n",
    "                                    X=X_train1,\n",
    "                                    y=Y_train1,\n",
    "                                    cv=cv,\n",
    "                                    scoring={'recall' : make_scorer(recall_score,pos_label=\"Diabetes\") })\n",
    "\n",
    "accuracy2 = model_selection.cross_val_score(classifier1, X_train1,Y_train1, scoring='accuracy', cv=cv, n_jobs=-1)"
   ]
  },
  {
   "cell_type": "code",
   "execution_count": 27,
   "metadata": {},
   "outputs": [
    {
     "name": "stdout",
     "output_type": "stream",
     "text": [
      "Accuracy 0.9222222222222222\n",
      "recall score is : 0.8533626873642353\n",
      "roc-auc score is 0.9052900987900989\n",
      "score time is : 0.0023928165435791017\n",
      "fit time is : 0.003789854049682617\n",
      "recall score for No diabetes is : 0.8807521645021644\n"
     ]
    }
   ],
   "source": [
    "print(\"Accuracy\",np.mean(accuracy2))\n",
    "print(\"recall score is :\",np.mean(results1[\"test_recall\"]))\n",
    "print(\"roc-auc score is\",np.mean(list(cross_val_score(classifier1, X_test1, Y_test1, cv=cv, scoring='roc_auc'))))\n",
    "print(\"score time is :\",np.mean(results1[\"score_time\"]))\n",
    "print(\"fit time is :\",np.mean(results1[\"fit_time\"]))\n",
    "print(\"recall score for No diabetes is :\",np.mean(cross_validate(estimator=classifier1,\n",
    "                                    X=X_train1,\n",
    "                                    y=Y_train1,\n",
    "                                    cv=model_selection.KFold(n_splits=10),\n",
    "                                    scoring={'recall' : make_scorer(recall_score,pos_label=\"No diabetes\") })[\"test_recall\"]))"
   ]
  },
  {
   "cell_type": "markdown",
   "metadata": {},
   "source": [
    "# KNN"
   ]
  },
  {
   "cell_type": "code",
   "execution_count": 28,
   "metadata": {},
   "outputs": [
    {
     "data": {
      "text/plain": [
       "KNeighborsClassifier(n_jobs=-1, n_neighbors=11)"
      ]
     },
     "execution_count": 28,
     "metadata": {},
     "output_type": "execute_result"
    }
   ],
   "source": [
    "from sklearn.neighbors import KNeighborsClassifier  \n",
    "knn= KNeighborsClassifier(n_neighbors=11,n_jobs=-1)  \n",
    "knn.fit(X_train1, Y_train1) "
   ]
  },
  {
   "cell_type": "code",
   "execution_count": 29,
   "metadata": {},
   "outputs": [
    {
     "name": "stdout",
     "output_type": "stream",
     "text": [
      "              precision    recall  f1-score   support\n",
      "\n",
      "    Diabetes       0.81      1.00      0.89        96\n",
      " No diabetes       1.00      0.77      0.87        98\n",
      "\n",
      "    accuracy                           0.88       194\n",
      "   macro avg       0.90      0.88      0.88       194\n",
      "weighted avg       0.90      0.88      0.88       194\n",
      "\n"
     ]
    }
   ],
   "source": [
    "print(classification_report(Y_test1,knn.predict(X_test1)))"
   ]
  },
  {
   "cell_type": "code",
   "execution_count": 30,
   "metadata": {},
   "outputs": [],
   "source": [
    "results3 =cross_validate(estimator=knn,\n",
    "                                    X=X_train1,\n",
    "                                    y=Y_train1,\n",
    "                                    cv=cv,\n",
    "                                    scoring={'recall' : make_scorer(recall_score,pos_label=\"Diabetes\") })\n",
    "\n",
    "accuracy3 = model_selection.cross_val_score(knn, X_train1,Y_train1, scoring='accuracy', cv=cv, n_jobs=-1)"
   ]
  },
  {
   "cell_type": "code",
   "execution_count": 31,
   "metadata": {},
   "outputs": [
    {
     "name": "stdout",
     "output_type": "stream",
     "text": [
      "Accuracy 0.8638888888888889\n",
      "recall score for Diabetes is : 1.0\n",
      "roc-auc score is 0.9344652014652015\n",
      "score time is : 0.022546958923339844\n",
      "fit time is : 0.002990460395812988\n",
      "recall score for No diabetes is : 0.7307304386285407\n"
     ]
    }
   ],
   "source": [
    "print(\"Accuracy\",np.mean(accuracy3))\n",
    "print(\"recall score for Diabetes is :\",np.mean(results3[\"test_recall\"]))\n",
    "print(\"roc-auc score is\",np.mean(list(cross_val_score(knn, X_test1, Y_test1, cv=cv, scoring='roc_auc'))))\n",
    "print(\"score time is :\",np.mean(results3[\"score_time\"]))\n",
    "print(\"fit time is :\",np.mean(results3[\"fit_time\"]))\n",
    "print(\"recall score for No diabetes is :\",np.mean(cross_validate(estimator=knn,\n",
    "                                    X=X_train1,\n",
    "                                    y=Y_train1,\n",
    "                                    cv=cv,\n",
    "                                    scoring={'recall' : make_scorer(recall_score,pos_label=\"No diabetes\") })[\"test_recall\"]))"
   ]
  },
  {
   "cell_type": "markdown",
   "metadata": {},
   "source": [
    "# Naive bayes"
   ]
  },
  {
   "cell_type": "code",
   "execution_count": 32,
   "metadata": {},
   "outputs": [
    {
     "data": {
      "text/plain": [
       "GaussianNB()"
      ]
     },
     "execution_count": 32,
     "metadata": {},
     "output_type": "execute_result"
    }
   ],
   "source": [
    "from sklearn.naive_bayes import GaussianNB\n",
    "nb = GaussianNB()\n",
    "nb.fit(X_train1, Y_train1)"
   ]
  },
  {
   "cell_type": "code",
   "execution_count": 33,
   "metadata": {},
   "outputs": [
    {
     "name": "stdout",
     "output_type": "stream",
     "text": [
      "              precision    recall  f1-score   support\n",
      "\n",
      "    Diabetes       0.87      0.82      0.84        96\n",
      " No diabetes       0.83      0.88      0.86        98\n",
      "\n",
      "    accuracy                           0.85       194\n",
      "   macro avg       0.85      0.85      0.85       194\n",
      "weighted avg       0.85      0.85      0.85       194\n",
      "\n"
     ]
    }
   ],
   "source": [
    "print(classification_report(Y_test1,nb.predict(X_test1)))"
   ]
  },
  {
   "cell_type": "code",
   "execution_count": 34,
   "metadata": {},
   "outputs": [],
   "source": [
    "results4 =cross_validate(estimator=nb,\n",
    "                                    X=X_train1,\n",
    "                                    y=Y_train1,\n",
    "                                    cv=cv,\n",
    "                                    scoring={'recall' : make_scorer(recall_score,pos_label=\"Diabetes\") })\n",
    "\n",
    "accuracy4 = model_selection.cross_val_score(nb, X_train1,Y_train1, scoring='accuracy', cv=cv, n_jobs=-1)"
   ]
  },
  {
   "cell_type": "code",
   "execution_count": 35,
   "metadata": {},
   "outputs": [
    {
     "name": "stdout",
     "output_type": "stream",
     "text": [
      "Accuracy 0.8416666666666668\n",
      "recall score is : 0.8470257889685137\n",
      "roc-auc score is 0.9185032745032744\n",
      "score time is : 0.002295970916748047\n",
      "fit time is : 0.0031934022903442384\n",
      "recall score for No diabetes is : 0.8493380230880231\n"
     ]
    }
   ],
   "source": [
    "print(\"Accuracy\",np.mean(accuracy4))\n",
    "print(\"recall score is :\",np.mean(results4[\"test_recall\"]))\n",
    "print(\"roc-auc score is\",np.mean(list(cross_val_score(nb, X_test1, Y_test1, cv=cv, scoring='roc_auc'))))\n",
    "print(\"score time is :\",np.mean(results4[\"score_time\"]))\n",
    "print(\"fit time is :\",np.mean(results4[\"fit_time\"]))\n",
    "print(\"recall score for No diabetes is :\",np.mean(cross_validate(estimator=nb,\n",
    "                                    X=X_train1,\n",
    "                                    y=Y_train1,\n",
    "                                    cv=model_selection.KFold(n_splits=10),\n",
    "                                    scoring={'recall' : make_scorer(recall_score,pos_label=\"No diabetes\") })[\"test_recall\"]))"
   ]
  },
  {
   "cell_type": "markdown",
   "metadata": {},
   "source": [
    "# SVM"
   ]
  },
  {
   "cell_type": "code",
   "execution_count": 36,
   "metadata": {},
   "outputs": [
    {
     "data": {
      "text/plain": [
       "SVC(kernel='linear', probability=True)"
      ]
     },
     "execution_count": 36,
     "metadata": {},
     "output_type": "execute_result"
    }
   ],
   "source": [
    "svm = SVC(kernel='linear',probability=True)\n",
    "svm.fit(X_train1, Y_train1)"
   ]
  },
  {
   "cell_type": "code",
   "execution_count": 37,
   "metadata": {},
   "outputs": [
    {
     "name": "stdout",
     "output_type": "stream",
     "text": [
      "              precision    recall  f1-score   support\n",
      "\n",
      "    Diabetes       0.88      0.84      0.86        96\n",
      " No diabetes       0.85      0.89      0.87        98\n",
      "\n",
      "    accuracy                           0.87       194\n",
      "   macro avg       0.87      0.87      0.87       194\n",
      "weighted avg       0.87      0.87      0.87       194\n",
      "\n"
     ]
    }
   ],
   "source": [
    "print(classification_report(Y_test1,svm.predict(X_test1)))"
   ]
  },
  {
   "cell_type": "code",
   "execution_count": 38,
   "metadata": {},
   "outputs": [],
   "source": [
    "results5 =cross_validate(estimator=svm,\n",
    "                                    X=X_train1,\n",
    "                                    y=Y_train1,\n",
    "                                    cv=cv,\n",
    "                                    scoring={'recall' : make_scorer(recall_score,pos_label=\"Diabetes\") })\n",
    "\n",
    "accuracy5 = model_selection.cross_val_score(svm, X_train1,Y_train1, scoring='accuracy', cv=cv, n_jobs=-1)"
   ]
  },
  {
   "cell_type": "code",
   "execution_count": 39,
   "metadata": {},
   "outputs": [
    {
     "name": "stdout",
     "output_type": "stream",
     "text": [
      "Accuracy 0.825\n",
      "recall score is : 0.8633577799909069\n",
      "roc-auc score is 0.9055167055167054\n",
      "score time is : 0.0025905370712280273\n",
      "fit time is : 0.024742984771728517\n",
      "recall score for No diabetes is : 0.7934803520950714\n"
     ]
    }
   ],
   "source": [
    "print(\"Accuracy\",np.mean(accuracy5))\n",
    "print(\"recall score is :\",np.mean(results5[\"test_recall\"]))\n",
    "print(\"roc-auc score is\",np.mean(list(cross_val_score(svm, X_test1, Y_test1, cv=cv, scoring='roc_auc'))))\n",
    "print(\"score time is :\",np.mean(results5[\"score_time\"]))\n",
    "print(\"fit time is :\",np.mean(results5[\"fit_time\"]))\n",
    "print(\"recall score for No diabetes is :\",np.mean(cross_validate(estimator=svm,\n",
    "                                    X=X_train1,\n",
    "                                    y=Y_train1,\n",
    "                                    cv=cv,\n",
    "                                    scoring={'recall' : make_scorer(recall_score,pos_label=\"No diabetes\") })[\"test_recall\"]))"
   ]
  },
  {
   "cell_type": "markdown",
   "metadata": {},
   "source": [
    "# Random Forests"
   ]
  },
  {
   "cell_type": "code",
   "execution_count": 40,
   "metadata": {},
   "outputs": [
    {
     "data": {
      "text/plain": [
       "RandomForestClassifier()"
      ]
     },
     "execution_count": 40,
     "metadata": {},
     "output_type": "execute_result"
    }
   ],
   "source": [
    "rf=RandomForestClassifier()\n",
    "rf.fit(X_train1, Y_train1)"
   ]
  },
  {
   "cell_type": "code",
   "execution_count": 41,
   "metadata": {},
   "outputs": [
    {
     "name": "stdout",
     "output_type": "stream",
     "text": [
      "              precision    recall  f1-score   support\n",
      "\n",
      "    Diabetes       0.98      1.00      0.99        96\n",
      " No diabetes       1.00      0.98      0.99        98\n",
      "\n",
      "    accuracy                           0.99       194\n",
      "   macro avg       0.99      0.99      0.99       194\n",
      "weighted avg       0.99      0.99      0.99       194\n",
      "\n"
     ]
    }
   ],
   "source": [
    "print(classification_report(Y_test1,rf.predict(X_test1)))"
   ]
  },
  {
   "cell_type": "code",
   "execution_count": 42,
   "metadata": {},
   "outputs": [],
   "source": [
    "results6 =cross_validate(estimator=rf,\n",
    "                                    X=X_train1,\n",
    "                                    y=Y_train1,\n",
    "                                    cv=cv,\n",
    "                                    scoring={'recall' : make_scorer(recall_score,pos_label=\"Diabetes\") })\n",
    "\n",
    "accuracy6 = model_selection.cross_val_score(rf, X_train1,Y_train1, scoring='accuracy', cv=cv, n_jobs=-1)"
   ]
  },
  {
   "cell_type": "code",
   "execution_count": 43,
   "metadata": {},
   "outputs": [
    {
     "name": "stdout",
     "output_type": "stream",
     "text": [
      "Accuracy 0.9777777777777776\n",
      "recall score is : 1.0\n",
      "roc-auc score is 0.9954156954156954\n",
      "score time is : 0.011675477027893066\n",
      "fit time is : 0.14590344429016114\n",
      "recall score for No diabetes is : 0.9647727272727273\n"
     ]
    }
   ],
   "source": [
    "print(\"Accuracy\",np.mean(accuracy6))\n",
    "print(\"recall score is :\",np.mean(results6[\"test_recall\"]))\n",
    "print(\"roc-auc score is\",np.mean(list(cross_val_score(rf, X_test1, Y_test1, cv=cv, scoring='roc_auc'))))\n",
    "print(\"score time is :\",np.mean(results6[\"score_time\"]))\n",
    "print(\"fit time is :\",np.mean(results6[\"fit_time\"]))\n",
    "print(\"recall score for No diabetes is :\",np.mean(cross_validate(estimator=rf,\n",
    "                                    X=X_train1,\n",
    "                                    y=Y_train1,\n",
    "                                    cv=model_selection.KFold(n_splits=10),\n",
    "                                    scoring={'recall' : make_scorer(recall_score,pos_label=\"No diabetes\") })[\"test_recall\"]))"
   ]
  },
  {
   "cell_type": "markdown",
   "metadata": {},
   "source": [
    "# Ensembel"
   ]
  },
  {
   "cell_type": "code",
   "execution_count": 44,
   "metadata": {},
   "outputs": [
    {
     "data": {
      "text/plain": [
       "VotingClassifier(estimators=[('dt',\n",
       "                              DecisionTreeClassifier(criterion='entropy',\n",
       "                                                     max_depth=6)),\n",
       "                             ('knn',\n",
       "                              KNeighborsClassifier(n_jobs=-1, n_neighbors=11)),\n",
       "                             ('svm', SVC(kernel='linear', probability=True)),\n",
       "                             ('nb', GaussianNB()),\n",
       "                             ('LR',\n",
       "                              LogisticRegression(C=11.288378916846883,\n",
       "                                                 solver='liblinear'))],\n",
       "                 voting='soft')"
      ]
     },
     "execution_count": 44,
     "metadata": {},
     "output_type": "execute_result"
    }
   ],
   "source": [
    "model1= VotingClassifier(estimators=[ ('dt', classifier1),('knn',knn),('svm',svm),('nb',nb),('LR',LR)], voting='soft')\n",
    "model1.fit(X_train1,Y_train1)"
   ]
  },
  {
   "cell_type": "code",
   "execution_count": 45,
   "metadata": {},
   "outputs": [
    {
     "name": "stdout",
     "output_type": "stream",
     "text": [
      "              precision    recall  f1-score   support\n",
      "\n",
      "    Diabetes       0.91      0.92      0.91        96\n",
      " No diabetes       0.92      0.91      0.91        98\n",
      "\n",
      "    accuracy                           0.91       194\n",
      "   macro avg       0.91      0.91      0.91       194\n",
      "weighted avg       0.91      0.91      0.91       194\n",
      "\n"
     ]
    }
   ],
   "source": [
    "print(classification_report(Y_test1,model1.predict(X_test1)))"
   ]
  },
  {
   "cell_type": "code",
   "execution_count": 46,
   "metadata": {},
   "outputs": [],
   "source": [
    "results =cross_validate(estimator=model1,\n",
    "                                    X=X_train1,\n",
    "                                    y=Y_train1,\n",
    "                                    cv=cv,\n",
    "                                    scoring=scoring)\n",
    "accuracy = model_selection.cross_val_score(LR, X_train1,Y_train1, scoring='accuracy', cv=cv, n_jobs=-1)"
   ]
  },
  {
   "cell_type": "code",
   "execution_count": 47,
   "metadata": {},
   "outputs": [
    {
     "name": "stdout",
     "output_type": "stream",
     "text": [
      "Accuracy 0.8166666666666668\n",
      "recall score is : 0.9145980103487844\n",
      "score time is : 0.020806074142456055\n",
      "fit time is : 0.03490324020385742\n",
      "recall score for No diabetes is : 0.8785597625777999\n"
     ]
    }
   ],
   "source": [
    "print(\"Accuracy\",np.mean(accuracy))\n",
    "print(\"recall score is :\",np.mean(results[\"test_recall\"]))\n",
    "print(\"score time is :\",np.mean(results[\"score_time\"]))\n",
    "print(\"fit time is :\",np.mean(results[\"fit_time\"]))\n",
    "print(\"recall score for No diabetes is :\",np.mean(cross_validate(estimator=model1,\n",
    "                                    X=X_train1,\n",
    "                                    y=Y_train1,\n",
    "                                    cv=cv,\n",
    "                                    scoring={'recall' : make_scorer(recall_score,pos_label=\"No diabetes\") })[\"test_recall\"]))"
   ]
  },
  {
   "cell_type": "markdown",
   "metadata": {},
   "source": [
    "# Ensemble of logistic regression classifiers."
   ]
  },
  {
   "cell_type": "code",
   "execution_count": 48,
   "metadata": {},
   "outputs": [
    {
     "data": {
      "text/plain": [
       "BaggingClassifier(base_estimator=LogisticRegression(C=11.288378916846883,\n",
       "                                                    solver='liblinear'),\n",
       "                  n_estimators=15, random_state=8)"
      ]
     },
     "execution_count": 48,
     "metadata": {},
     "output_type": "execute_result"
    }
   ],
   "source": [
    "logbagClf = BaggingClassifier(LR, n_estimators = 15,random_state=8)\n",
    "logbagClf.fit(X_train1, Y_train1)"
   ]
  },
  {
   "cell_type": "code",
   "execution_count": 49,
   "metadata": {},
   "outputs": [
    {
     "name": "stdout",
     "output_type": "stream",
     "text": [
      "              precision    recall  f1-score   support\n",
      "\n",
      "    Diabetes       0.86      0.82      0.84        96\n",
      " No diabetes       0.83      0.87      0.85        98\n",
      "\n",
      "    accuracy                           0.85       194\n",
      "   macro avg       0.85      0.85      0.85       194\n",
      "weighted avg       0.85      0.85      0.85       194\n",
      "\n"
     ]
    }
   ],
   "source": [
    "print(classification_report(Y_test1,logbagClf.predict(X_test1)))"
   ]
  },
  {
   "cell_type": "code",
   "execution_count": 50,
   "metadata": {},
   "outputs": [
    {
     "name": "stdout",
     "output_type": "stream",
     "text": [
      "Accuracy: 81.944 \n"
     ]
    }
   ],
   "source": [
    "print('Accuracy: %.3f ' % (np.mean(model_selection.cross_val_score(logbagClf, X_train1,Y_train1, scoring='accuracy', cv=cv, n_jobs=-1))*100))"
   ]
  },
  {
   "cell_type": "code",
   "execution_count": 51,
   "metadata": {},
   "outputs": [
    {
     "name": "stdout",
     "output_type": "stream",
     "text": [
      "recall score is : 0.8533626873642353\n",
      "roc-auc score is 0.8981476856476857\n",
      "recall score for No diabetes is : 0.7957052077123756\n"
     ]
    }
   ],
   "source": [
    "print(\"recall score is :\",np.mean(cross_validate(estimator=LR,\n",
    "                                    X=X_train1,\n",
    "                                    y=Y_train1,\n",
    "                                    cv=cv,\n",
    "                                    scoring=scoring)[\"test_recall\"]))\n",
    "print(\"roc-auc score is\",np.mean(list(cross_val_score(logbagClf, X_test1, Y_test1, cv=cv, scoring='roc_auc'))))\n",
    "print(\"recall score for No diabetes is :\",np.mean(cross_validate(estimator=logbagClf,\n",
    "                                    X=X_train1,\n",
    "                                    y=Y_train1,\n",
    "                                    cv=cv,\n",
    "                                    scoring={'recall' : make_scorer(recall_score,pos_label=\"No diabetes\") })[\"test_recall\"]))\n"
   ]
  },
  {
   "cell_type": "markdown",
   "metadata": {},
   "source": [
    "# Gradient boost"
   ]
  },
  {
   "cell_type": "code",
   "execution_count": 52,
   "metadata": {},
   "outputs": [
    {
     "data": {
      "text/plain": [
       "GradientBoostingClassifier(learning_rate=0.9, random_state=42)"
      ]
     },
     "execution_count": 52,
     "metadata": {},
     "output_type": "execute_result"
    }
   ],
   "source": [
    "Gboost= GradientBoostingClassifier(learning_rate=0.9,random_state=42)\n",
    "Gboost.fit(X_train1, Y_train1)"
   ]
  },
  {
   "cell_type": "markdown",
   "metadata": {},
   "source": [
    "# Adaboost"
   ]
  },
  {
   "cell_type": "code",
   "execution_count": 53,
   "metadata": {},
   "outputs": [
    {
     "data": {
      "text/plain": [
       "AdaBoostClassifier(random_state=42)"
      ]
     },
     "execution_count": 53,
     "metadata": {},
     "output_type": "execute_result"
    }
   ],
   "source": [
    "Adaboost = AdaBoostClassifier(random_state=42)\n",
    "Adaboost.fit(X_train1, Y_train1)"
   ]
  },
  {
   "cell_type": "markdown",
   "metadata": {},
   "source": [
    "# Function to get scores(KFold cross validation)"
   ]
  },
  {
   "cell_type": "code",
   "execution_count": 54,
   "metadata": {},
   "outputs": [],
   "source": [
    "def evaluate_model_accuracy(model, X, y):\n",
    "    kfold = model_selection.KFold(n_splits=10, random_state=42, shuffle=True)\n",
    "    scores = cross_val_score(model, X, y, scoring='accuracy', cv=kfold, n_jobs=-1)\n",
    "    return scores\n",
    "\n",
    "\n",
    "def evaluate_model_recall_positive(model,X,y):\n",
    "    scoring = {'recall' : make_scorer(recall_score,pos_label=\"Diabetes\") }\n",
    "    kfold = model_selection.KFold(n_splits=10, random_state=42, shuffle=True)\n",
    "    results =cross_validate(estimator=model,\n",
    "                                    X=X,\n",
    "                                    y=y,\n",
    "                                    cv=kfold,\n",
    "                                    scoring=scoring)\n",
    "    return results[\"test_recall\"]\n",
    "\n",
    "def evaluate_model_recall_negative(model,X,y):\n",
    "    scoring = {'recall' : make_scorer(recall_score,pos_label=\"No diabetes\") }\n",
    "    kfold = model_selection.KFold(n_splits=10, random_state=42, shuffle=True)\n",
    "    results =cross_validate(estimator=model,\n",
    "                                    X=X,\n",
    "                                    y=y,\n",
    "                                    cv=kfold,\n",
    "                                    scoring=scoring)\n",
    "    return results[\"test_recall\"]\n",
    "\n",
    "def evaluate_model_roc_auc(model, X, y):\n",
    "    kfold = model_selection.KFold(n_splits=10, random_state=42, shuffle=True)\n",
    "    scores = cross_val_score(model, X, y, scoring='roc_auc', cv=kfold, n_jobs=-1)\n",
    "    return scores\n",
    "\n",
    "def evaluate_model_matthews_corrcoef(model,X,y):\n",
    "    score=matthews_corrcoef(y,model.predict(X))\n",
    "    return score\n",
    "\n",
    "def evaluate_model_precision(model,X,y):\n",
    "    scoring = {'precision' : make_scorer(recall_score,pos_label=\"Diabetes\") }\n",
    "    kfold = model_selection.KFold(n_splits=10, random_state=42, shuffle=True)\n",
    "    results =cross_validate(estimator=model,\n",
    "                                    X=X,\n",
    "                                    y=y,\n",
    "                                    cv=kfold,\n",
    "                                    scoring=scoring)\n",
    "    return results[\"test_precision\"]\n"
   ]
  },
  {
   "cell_type": "code",
   "execution_count": 55,
   "metadata": {},
   "outputs": [
    {
     "name": "stdout",
     "output_type": "stream",
     "text": [
      "accuracy is:  0.8505263157894737\n",
      "diabetes recall is:  0.8851839826839827\n",
      "no diabetes recall is:  0.8319597069597069\n",
      "roc_auc is:  0.9041860916860915\n",
      "matthews_corrcoef is:  0.681921407946427\n",
      "Precision is:  0.8851839826839827\n"
     ]
    }
   ],
   "source": [
    "print(\"accuracy is: \",np.mean(evaluate_model_accuracy(LR,X_test1,Y_test1)))\n",
    "print(\"diabetes recall is: \",np.mean(evaluate_model_recall_positive(LR,X_test1,Y_test1)))\n",
    "print(\"no diabetes recall is: \",np.mean(evaluate_model_recall_negative(LR,X_test1,Y_test1)))\n",
    "print(\"roc_auc is: \",np.mean(evaluate_model_roc_auc(LR,X_test1,Y_test1)))\n",
    "print(\"matthews_corrcoef is: \",evaluate_model_matthews_corrcoef(LR,X_test1,Y_test1))\n",
    "print(\"Precision is: \",np.mean(evaluate_model_precision(LR,X_test1,Y_test1)))"
   ]
  },
  {
   "cell_type": "markdown",
   "metadata": {},
   "source": [
    "# Gboost and rf ensemble"
   ]
  },
  {
   "cell_type": "code",
   "execution_count": 56,
   "metadata": {},
   "outputs": [
    {
     "data": {
      "text/plain": [
       "VotingClassifier(estimators=[('Gboost',\n",
       "                              GradientBoostingClassifier(learning_rate=0.9,\n",
       "                                                         random_state=42)),\n",
       "                             ('rf', RandomForestClassifier())],\n",
       "                 voting='soft')"
      ]
     },
     "execution_count": 56,
     "metadata": {},
     "output_type": "execute_result"
    }
   ],
   "source": [
    "model2= VotingClassifier(estimators=[ ('Gboost', Gboost),('rf',rf)], voting='soft')\n",
    "model2.fit(X_train1,Y_train1)"
   ]
  },
  {
   "cell_type": "code",
   "execution_count": 57,
   "metadata": {},
   "outputs": [
    {
     "name": "stdout",
     "output_type": "stream",
     "text": [
      "accuracy is:  0.9589473684210527\n",
      "diabetes recall is:  0.990909090909091\n",
      "no diabetes recall is:  0.9195360195360196\n",
      "roc_auc is:  0.9939393939393939\n",
      "matthews_corrcoef is:  0.9595917499283809\n",
      "Precision is:  0.990909090909091\n"
     ]
    }
   ],
   "source": [
    "print(\"accuracy is: \",np.mean(evaluate_model_accuracy(model2,X_test1,Y_test1)))\n",
    "print(\"diabetes recall is: \",np.mean(evaluate_model_recall_positive(model2,X_test1,Y_test1)))\n",
    "print(\"no diabetes recall is: \",np.mean(evaluate_model_recall_negative(model2,X_test1,Y_test1)))\n",
    "print(\"roc_auc is: \",np.mean(evaluate_model_roc_auc(model2,X_test1,Y_test1)))\n",
    "print(\"matthews_corrcoef is: \",evaluate_model_matthews_corrcoef(model2,X_test1,Y_test1))\n",
    "print(\"Precision is: \",np.mean(evaluate_model_precision(model2,X_test1,Y_test1)))"
   ]
  },
  {
   "cell_type": "markdown",
   "metadata": {},
   "source": [
    "# ExtraTreesClassifier"
   ]
  },
  {
   "cell_type": "code",
   "execution_count": 58,
   "metadata": {},
   "outputs": [
    {
     "data": {
      "text/plain": [
       "ExtraTreesClassifier(n_estimators=60, random_state=42)"
      ]
     },
     "execution_count": 58,
     "metadata": {},
     "output_type": "execute_result"
    }
   ],
   "source": [
    "etc = ExtraTreesClassifier(n_estimators=60,random_state=42)\n",
    "etc.fit(X_train1,Y_train1)"
   ]
  },
  {
   "cell_type": "markdown",
   "metadata": {},
   "source": [
    "# Confusion Matrix"
   ]
  },
  {
   "cell_type": "code",
   "execution_count": 59,
   "metadata": {},
   "outputs": [],
   "source": [
    "def conf_matrix(y_true,x_true,model):\n",
    "    ax= plt.subplot()\n",
    "    sns.heatmap(confusion_matrix(y_true, model.predict(x_true)), annot=True)\n",
    "    ax.set_xlabel('Predicted labels');\n",
    "    ax.set_ylabel('True labels'); \n",
    "    ax.set_title('Confusion Matrix'); \n",
    "    ax.xaxis.set_ticklabels(['Diabetes', 'No Diabetes']); ax.yaxis.set_ticklabels(['Diabetes', 'No Diabetes']);\n",
    "    return ax"
   ]
  },
  {
   "cell_type": "markdown",
   "metadata": {},
   "source": [
    "# Testing scores"
   ]
  },
  {
   "cell_type": "code",
   "execution_count": 60,
   "metadata": {},
   "outputs": [
    {
     "name": "stdout",
     "output_type": "stream",
     "text": [
      "accuracy is:  0.9589473684210527\n",
      "diabetes recall is:  0.9627272727272727\n",
      "no diabetes recall is:  0.961996336996337\n",
      "roc_auc is:  0.997979797979798\n",
      "matthews_corrcoef is:  0.9793792517006803\n",
      "Precision is:  0.9627272727272727\n"
     ]
    }
   ],
   "source": [
    "print(\"accuracy is: \",np.mean(evaluate_model_accuracy(etc,X_test1,Y_test1)))\n",
    "print(\"diabetes recall is: \",np.mean(evaluate_model_recall_positive(etc,X_test1,Y_test1)))\n",
    "print(\"no diabetes recall is: \",np.mean(evaluate_model_recall_negative(etc,X_test1,Y_test1)))\n",
    "print(\"roc_auc is: \",np.mean(evaluate_model_roc_auc(etc,X_test1,Y_test1)))\n",
    "print(\"matthews_corrcoef is: \",evaluate_model_matthews_corrcoef(etc,X_test1,Y_test1))\n",
    "print(\"Precision is: \",np.mean(evaluate_model_precision(etc,X_test1,Y_test1)))"
   ]
  },
  {
   "cell_type": "markdown",
   "metadata": {},
   "source": [
    "# showing Confusion matrix"
   ]
  },
  {
   "cell_type": "code",
   "execution_count": 64,
   "metadata": {},
   "outputs": [
    {
     "data": {
      "image/png": "[encoded data removed]",
      "text/plain": [
       "<Figure size 432x288 with 2 Axes>"
      ]
     },
     "metadata": {
      "needs_background": "light"
     },
     "output_type": "display_data"
    }
   ],
   "source": [
    "conf_matrix(Y_test1,X_test1,rf)\n",
    "plt.show()"
   ]
  },
  {
   "cell_type": "code",
   "execution_count": null,
   "metadata": {},
   "outputs": [],
   "source": []
  }
 ],
 "metadata": {
  "kernelspec": {
   "display_name": "Python 3",
   "language": "python",
   "name": "python3"
  },
  "language_info": {
   "codemirror_mode": {
    "name": "ipython",
    "version": 3
   },
   "file_extension": ".py",
   "mimetype": "text/x-python",
   "name": "python",
   "nbconvert_exporter": "python",
   "pygments_lexer": "ipython3",
   "version": "3.8.5"
  }
 },
 "nbformat": 4,
 "nbformat_minor": 4
}
