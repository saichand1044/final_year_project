{
 "cells": [
  {
   "cell_type": "code",
   "execution_count": 1,
   "metadata": {},
   "outputs": [],
   "source": [
    "import pandas as pd\n",
    "import numpy as np\n",
    "import matplotlib.pyplot as plt\n",
    "import seaborn as sns\n",
    "import sklearn\n",
    "\n",
    "from sklearn.preprocessing import LabelEncoder,StandardScaler,RobustScaler\n",
    "\n",
    "from sklearn.metrics import accuracy_score,confusion_matrix,recall_score,classification_report,\\\n",
    "precision_score,roc_auc_score,matthews_corrcoef,precision_recall_fscore_support,make_scorer,\\\n",
    "accuracy_score, precision_score, recall_score, f1_score,confusion_matrix,precision_recall_curve\n",
    "\n",
    "from sklearn.model_selection import cross_validate,cross_val_score,RepeatedStratifiedKFold,KFold\n",
    "from sklearn import model_selection\n",
    "\n",
    "from sklearn.tree import DecisionTreeClassifier\n",
    "from sklearn.linear_model import LogisticRegression\n",
    "from sklearn.svm import SVC\n",
    "from sklearn.neighbors import KNeighborsClassifier\n",
    "from sklearn.naive_bayes import GaussianNB\n",
    "\n",
    "from imblearn.over_sampling import ADASYN\n",
    " \n",
    "from sklearn.model_selection import GridSearchCV,RandomizedSearchCV\n",
    "\n",
    "from imblearn.ensemble import BalancedRandomForestClassifier\n",
    "from sklearn.ensemble import AdaBoostClassifier,BaggingClassifier,GradientBoostingClassifier,RandomForestClassifier,ExtraTreesClassifier,StackingClassifier,VotingClassifier\n",
    "\n",
    "from matplotlib import pyplot"
   ]
  },
  {
   "cell_type": "code",
   "execution_count": 2,
   "metadata": {},
   "outputs": [],
   "source": [
    "df=pd.read_excel(\"C:/Users/saich/OneDrive/Desktop/Diabetes_Classification.xlsx\")"
   ]
  },
  {
   "cell_type": "code",
   "execution_count": 3,
   "metadata": {},
   "outputs": [],
   "source": [
    "df.drop(labels=\"Patient number\",axis=1,inplace=True)"
   ]
  },
  {
   "cell_type": "code",
   "execution_count": 4,
   "metadata": {},
   "outputs": [],
   "source": [
    "df.replace({'Gender':{\"female\":\"F\",\"male\":\"M\"}},inplace=True)"
   ]
  },
  {
   "cell_type": "code",
   "execution_count": 5,
   "metadata": {},
   "outputs": [],
   "source": [
    "le=LabelEncoder()\n",
    "df[\"Gender\"]=le.fit_transform(df[\"Gender\"])"
   ]
  },
  {
   "cell_type": "code",
   "execution_count": 6,
   "metadata": {},
   "outputs": [
    {
     "name": "stdout",
     "output_type": "stream",
     "text": [
      "Cholesterol        50.000\n",
      "Glucose            26.750\n",
      "HDL Chol           21.000\n",
      "Chol/HDL ratio      2.200\n",
      "Age                26.000\n",
      "Gender              1.000\n",
      "Height              6.000\n",
      "Weight             49.750\n",
      "BMI                 8.175\n",
      "Systolic BP        26.000\n",
      "Diastolic BP       15.000\n",
      "waist               8.000\n",
      "hip                 7.000\n",
      "Waist/hip ratio     0.100\n",
      "dtype: float64\n"
     ]
    }
   ],
   "source": [
    "Q1 = df.quantile(0.25)\n",
    "Q3 = df.quantile(0.75)\n",
    "IQR = Q3 - Q1\n",
    "print(IQR)"
   ]
  },
  {
   "cell_type": "code",
   "execution_count": 7,
   "metadata": {},
   "outputs": [],
   "source": [
    "df=df[~((df < (Q1 - 1.5 * IQR)) |(df > (Q3 + 1.5 * IQR))).any(axis=1)]"
   ]
  },
  {
   "cell_type": "code",
   "execution_count": 8,
   "metadata": {},
   "outputs": [
    {
     "data": {
      "text/plain": [
       "290"
      ]
     },
     "execution_count": 8,
     "metadata": {},
     "output_type": "execute_result"
    }
   ],
   "source": [
    "len(df)"
   ]
  },
  {
   "cell_type": "code",
   "execution_count": 9,
   "metadata": {},
   "outputs": [],
   "source": [
    "target=df[\"Diabetes\"]\n",
    "features=df.drop(columns=\"Diabetes\",axis=1)"
   ]
  },
  {
   "cell_type": "code",
   "execution_count": 10,
   "metadata": {},
   "outputs": [
    {
     "data": {
      "image/png": "[encoded data removed]",
      "text/plain": [
       "<Figure size 360x360 with 1 Axes>"
      ]
     },
     "metadata": {
      "needs_background": "light"
     },
     "output_type": "display_data"
    }
   ],
   "source": [
    "plt.figure(figsize=(5,5))\n",
    "sns.barplot(x=list(target.value_counts().index),y=list(target.value_counts().values))\n",
    "plt.show()"
   ]
  },
  {
   "cell_type": "code",
   "execution_count": 11,
   "metadata": {},
   "outputs": [
    {
     "data": {
      "text/plain": [
       "580"
      ]
     },
     "execution_count": 11,
     "metadata": {},
     "output_type": "execute_result"
    }
   ],
   "source": [
    "len(target)+len(features)"
   ]
  },
  {
   "cell_type": "code",
   "execution_count": 12,
   "metadata": {},
   "outputs": [],
   "source": [
    "ada = ADASYN(random_state=42,sampling_strategy=\"minority\")\n",
    "new_features, new_target = ada.fit_resample(features, target)"
   ]
  },
  {
   "cell_type": "code",
   "execution_count": 13,
   "metadata": {},
   "outputs": [],
   "source": [
    "scaler = StandardScaler()\n",
    "X_res=pd.DataFrame(scaler.fit_transform(new_features),columns=list(new_features.columns))\n",
    "y_res=new_target"
   ]
  },
  {
   "cell_type": "code",
   "execution_count": 14,
   "metadata": {},
   "outputs": [
    {
     "data": {
      "text/plain": [
       "554"
      ]
     },
     "execution_count": 14,
     "metadata": {},
     "output_type": "execute_result"
    }
   ],
   "source": [
    "len(X_res)"
   ]
  },
  {
   "cell_type": "code",
   "execution_count": 15,
   "metadata": {},
   "outputs": [
    {
     "data": {
      "image/png": "[encoded data removed]",
      "text/plain": [
       "<Figure size 288x288 with 1 Axes>"
      ]
     },
     "metadata": {
      "needs_background": "light"
     },
     "output_type": "display_data"
    }
   ],
   "source": [
    "plt.figure(figsize=(4,4))\n",
    "sns.barplot(x=list(y_res.value_counts().index),y=list(y_res.value_counts().values))\n",
    "plt.show()"
   ]
  },
  {
   "cell_type": "code",
   "execution_count": 16,
   "metadata": {},
   "outputs": [],
   "source": [
    "from sklearn.model_selection import train_test_split\n",
    "X_train1,X_test1,Y_train1,Y_test1=train_test_split(X_res,\n",
    "                                               y_res,\n",
    "                                               test_size=0.35,\n",
    "                                               random_state=42)"
   ]
  },
  {
   "cell_type": "code",
   "execution_count": 17,
   "metadata": {},
   "outputs": [
    {
     "data": {
      "text/plain": [
       "96"
      ]
     },
     "execution_count": 17,
     "metadata": {},
     "output_type": "execute_result"
    }
   ],
   "source": [
    "len(Y_test1[Y_test1==\"Diabetes\"])"
   ]
  },
  {
   "cell_type": "markdown",
   "metadata": {},
   "source": [
    "# Function to get scores(KFold cross validation)"
   ]
  },
  {
   "cell_type": "code",
   "execution_count": 18,
   "metadata": {},
   "outputs": [],
   "source": [
    "def evaluate_model_accuracy(model, X, y):\n",
    "    kfold = model_selection.KFold(n_splits=10, random_state=42, shuffle=True)\n",
    "    scores = cross_val_score(model, X, y, scoring='accuracy', cv=kfold, n_jobs=-1)\n",
    "    return scores\n",
    "\n",
    "\n",
    "def evaluate_model_recall_positive(model,X,y):\n",
    "    scoring = {'recall' : make_scorer(recall_score,pos_label=\"Diabetes\") }\n",
    "    kfold = model_selection.KFold(n_splits=10, random_state=42, shuffle=True)\n",
    "    results =cross_validate(estimator=model,\n",
    "                                    X=X,\n",
    "                                    y=y,\n",
    "                                    cv=kfold,\n",
    "                                    scoring=scoring)\n",
    "    return results[\"test_recall\"]\n",
    "\n",
    "def evaluate_model_roc_auc(model, X, y):\n",
    "    kfold = model_selection.KFold(n_splits=10, random_state=42, shuffle=True)\n",
    "    scores = cross_val_score(model, X, y, scoring='roc_auc', cv=kfold, n_jobs=-1)\n",
    "    return scores\n",
    "\n",
    "\n",
    "def evaluate_model_precision(model,X,y):\n",
    "    scoring = {'precision' : make_scorer(recall_score,pos_label=\"Diabetes\") }\n",
    "    kfold = model_selection.KFold(n_splits=10, random_state=42, shuffle=True)\n",
    "    results =cross_validate(estimator=model,\n",
    "                                    X=X,\n",
    "                                    y=y,\n",
    "                                    cv=kfold,\n",
    "                                    scoring=scoring)\n",
    "    return results[\"test_precision\"]\n",
    "\n",
    "def evaluate_model_f1score(model,X,y):\n",
    "    scoring = {'f1' : make_scorer(recall_score,pos_label=\"Diabetes\") }\n",
    "    kfold = model_selection.KFold(n_splits=10, random_state=42, shuffle=True)\n",
    "    results =cross_validate(estimator=model,\n",
    "                                    X=X,\n",
    "                                    y=y,\n",
    "                                    cv=kfold,\n",
    "                                    scoring=scoring)\n",
    "    return results[\"test_f1\"]\n",
    "\n",
    "def evaluate_model_recall_negative(model,X,y):\n",
    "    scoring = {'recall' : make_scorer(recall_score,pos_label=\"No diabetes\") }\n",
    "    kfold = model_selection.KFold(n_splits=10, random_state=42, shuffle=True)\n",
    "    results =cross_validate(estimator=model,\n",
    "                                    X=X,\n",
    "                                    y=y,\n",
    "                                    cv=kfold,\n",
    "                                    scoring=scoring)\n",
    "    return results[\"test_recall\"]\n",
    "\n",
    "def evaluate_model_matthews_corrcoef(model,X,y):\n",
    "    score=matthews_corrcoef(y,model.predict(X))\n",
    "    return scores"
   ]
  },
  {
   "cell_type": "markdown",
   "metadata": {},
   "source": [
    "# Logistic Regression"
   ]
  },
  {
   "cell_type": "code",
   "execution_count": 19,
   "metadata": {},
   "outputs": [
    {
     "data": {
      "text/plain": [
       "LogisticRegression(C=0.03359818286283781, random_state=42, solver='liblinear')"
      ]
     },
     "execution_count": 19,
     "metadata": {},
     "output_type": "execute_result"
    }
   ],
   "source": [
    "LR=LogisticRegression(C=0.03359818286283781,penalty=\"l2\",solver= 'liblinear',random_state=42)\n",
    "\n",
    "LR.fit(X_train1,Y_train1)"
   ]
  },
  {
   "cell_type": "code",
   "execution_count": 20,
   "metadata": {},
   "outputs": [
    {
     "name": "stdout",
     "output_type": "stream",
     "text": [
      "              precision    recall  f1-score   support\n",
      "\n",
      "    Diabetes       0.88      0.92      0.90        96\n",
      " No diabetes       0.91      0.88      0.90        98\n",
      "\n",
      "    accuracy                           0.90       194\n",
      "   macro avg       0.90      0.90      0.90       194\n",
      "weighted avg       0.90      0.90      0.90       194\n",
      "\n"
     ]
    }
   ],
   "source": [
    "print(classification_report(Y_test1,LR.predict(X_test1)))"
   ]
  },
  {
   "cell_type": "code",
   "execution_count": 21,
   "metadata": {},
   "outputs": [],
   "source": [
    "cv = model_selection.KFold(n_splits=10, random_state=42, shuffle=True)\n",
    "scoring = {'recall' : make_scorer(recall_score,pos_label=\"Diabetes\") }"
   ]
  },
  {
   "cell_type": "code",
   "execution_count": 22,
   "metadata": {},
   "outputs": [],
   "source": [
    "# for recall\n",
    "results1 =cross_validate(estimator=LR,\n",
    "                                    X=X_test1,\n",
    "                                    y=Y_test1,\n",
    "                                    cv=cv,\n",
    "                                    scoring=scoring)\n",
    "# for accuracy\n",
    "accuracy1 = model_selection.cross_val_score(LR, X_test1,Y_test1, scoring='accuracy', cv=cv, n_jobs=-1)"
   ]
  },
  {
   "cell_type": "code",
   "execution_count": 23,
   "metadata": {},
   "outputs": [
    {
     "name": "stdout",
     "output_type": "stream",
     "text": [
      "Accuracy 0.8868421052631579\n",
      "recall score is : 0.9058658008658009\n",
      "roc-auc score is 0.9233404928404928\n",
      "score time is : 0.002596426010131836\n",
      "fit time is : 0.002790522575378418\n",
      "recall score for No diabetes is : 0.8478021978021978\n",
      "matthews_corrcoef is:  0.7945555801711949\n"
     ]
    }
   ],
   "source": [
    "print(\"Accuracy\",np.mean(accuracy1))\n",
    "print(\"recall score is :\",np.mean(results1[\"test_recall\"]))\n",
    "print(\"roc-auc score is\",np.mean(list(cross_val_score(LR, X_test1, Y_test1, cv=cv, scoring='roc_auc'))))\n",
    "print(\"score time is :\",np.mean(results1[\"score_time\"]))\n",
    "print(\"fit time is :\",np.mean(results1[\"fit_time\"]))\n",
    "print(\"recall score for No diabetes is :\",np.mean(cross_validate(estimator=LR,\n",
    "                                    X=X_test1,\n",
    "                                    y=Y_test1,\n",
    "                                    cv=cv,\n",
    "                                    scoring={'recall' : make_scorer(recall_score,pos_label=\"No diabetes\") })[\"test_recall\"]))\n",
    "print(\"matthews_corrcoef is: \",matthews_corrcoef(Y_test1,LR.predict(X_test1)))"
   ]
  },
  {
   "cell_type": "markdown",
   "metadata": {},
   "source": [
    "# Grid Search"
   ]
  },
  {
   "cell_type": "code",
   "execution_count": 204,
   "metadata": {},
   "outputs": [],
   "source": [
    "# param_grid = [\n",
    "#     {\n",
    "#      'penalty' : ['l1', 'l2'],\n",
    "#     'C' : np.logspace(-4, 4, 20),\n",
    "#     'solver' : ['liblinear']}\n",
    "# ]\n",
    "\n",
    "# # param_grid = [\n",
    "# #     {'criterion':['gini','entropy'],'max_depth':[4,5,6,7,8,9,10,11,12,15,20,30]}\n",
    "# # ]\n",
    "\n",
    "# # param_grid = dict(n_neighbors=list(range(10, 31)))\n",
    "\n",
    "# param_grid = [\n",
    "#      {'max_depth':[4,5,6,7,8,9,10,11,12,15,20,30]}\n",
    "#  ]\n",
    "    \n",
    "\n",
    "# # # # grid = RandomizedSearchCV(knn, param_distributions = param_grid, cv = 10,n_jobs=-1)\n",
    "# grid=GridSearchCV(LR,param_grid,cv=5,n_jobs=-1)\n",
    "\n",
    "# grid.fit(X_train1,Y_train1)\n",
    "\n"
   ]
  },
  {
   "cell_type": "code",
   "execution_count": 205,
   "metadata": {},
   "outputs": [],
   "source": [
    "# grid.best_params_"
   ]
  },
  {
   "cell_type": "markdown",
   "metadata": {},
   "source": [
    "# Decsison Trees"
   ]
  },
  {
   "cell_type": "code",
   "execution_count": 206,
   "metadata": {},
   "outputs": [],
   "source": [
    "classifier1=DecisionTreeClassifier(criterion=\"entropy\",max_depth=15,random_state=42)"
   ]
  },
  {
   "cell_type": "code",
   "execution_count": 207,
   "metadata": {},
   "outputs": [
    {
     "data": {
      "text/plain": [
       "DecisionTreeClassifier(criterion='entropy', max_depth=15, random_state=42)"
      ]
     },
     "execution_count": 207,
     "metadata": {},
     "output_type": "execute_result"
    }
   ],
   "source": [
    "classifier1.fit(X_train1,Y_train1)"
   ]
  },
  {
   "cell_type": "code",
   "execution_count": 208,
   "metadata": {},
   "outputs": [
    {
     "name": "stdout",
     "output_type": "stream",
     "text": [
      "              precision    recall  f1-score   support\n",
      "\n",
      "    Diabetes       0.90      0.97      0.93        96\n",
      " No diabetes       0.97      0.90      0.93        98\n",
      "\n",
      "    accuracy                           0.93       194\n",
      "   macro avg       0.93      0.93      0.93       194\n",
      "weighted avg       0.94      0.93      0.93       194\n",
      "\n"
     ]
    }
   ],
   "source": [
    "print(classification_report(Y_test1,classifier1.predict(X_test1)))"
   ]
  },
  {
   "cell_type": "code",
   "execution_count": 209,
   "metadata": {},
   "outputs": [],
   "source": [
    "results2 =cross_validate(estimator=classifier1,\n",
    "                                    X=X_test1,\n",
    "                                    y=Y_test1,\n",
    "                                    cv=cv,\n",
    "                                    scoring={'recall' : make_scorer(recall_score,pos_label=\"Diabetes\") })\n",
    "\n",
    "accuracy2 = model_selection.cross_val_score(classifier1, X_test1,Y_test1, scoring='accuracy', cv=cv, n_jobs=-1)"
   ]
  },
  {
   "cell_type": "code",
   "execution_count": 210,
   "metadata": {},
   "outputs": [
    {
     "name": "stdout",
     "output_type": "stream",
     "text": [
      "Accuracy 0.8768421052631579\n",
      "recall score is : 0.9058658008658009\n",
      "roc-auc score is 0.8708431845931847\n",
      "score time is : 0.0027278661727905273\n",
      "fit time is : 0.004705739021301269\n",
      "recall score for No diabetes is : 0.8565262515262514\n",
      "matthews_corrcoef is:  0.868325878202263\n"
     ]
    }
   ],
   "source": [
    "print(\"Accuracy\",np.mean(accuracy2))\n",
    "print(\"recall score is :\",np.mean(results1[\"test_recall\"]))\n",
    "print(\"roc-auc score is\",np.mean(list(cross_val_score(classifier1, X_test1, Y_test1, cv=cv, scoring='roc_auc'))))\n",
    "print(\"score time is :\",np.mean(results1[\"score_time\"]))\n",
    "print(\"fit time is :\",np.mean(results1[\"fit_time\"]))\n",
    "print(\"recall score for No diabetes is :\",np.mean(cross_validate(estimator=classifier1,\n",
    "                                    X=X_test1,\n",
    "                                    y=Y_test1,\n",
    "                                    cv=model_selection.KFold(n_splits=10),\n",
    "                                    scoring={'recall' : make_scorer(recall_score,pos_label=\"No diabetes\") })[\"test_recall\"]))\n",
    "print(\"matthews_corrcoef is: \",matthews_corrcoef(Y_test1,classifier1.predict(X_test1)))"
   ]
  },
  {
   "cell_type": "markdown",
   "metadata": {},
   "source": [
    "# KNN"
   ]
  },
  {
   "cell_type": "code",
   "execution_count": 211,
   "metadata": {},
   "outputs": [
    {
     "data": {
      "text/plain": [
       "KNeighborsClassifier(n_neighbors=11)"
      ]
     },
     "execution_count": 211,
     "metadata": {},
     "output_type": "execute_result"
    }
   ],
   "source": [
    "knn= KNeighborsClassifier(n_neighbors=11)\n",
    "knn.fit(X_train1, Y_train1) "
   ]
  },
  {
   "cell_type": "code",
   "execution_count": 212,
   "metadata": {},
   "outputs": [
    {
     "name": "stdout",
     "output_type": "stream",
     "text": [
      "              precision    recall  f1-score   support\n",
      "\n",
      "    Diabetes       0.81      1.00      0.89        96\n",
      " No diabetes       1.00      0.77      0.87        98\n",
      "\n",
      "    accuracy                           0.88       194\n",
      "   macro avg       0.90      0.88      0.88       194\n",
      "weighted avg       0.90      0.88      0.88       194\n",
      "\n"
     ]
    }
   ],
   "source": [
    "print(classification_report(Y_test1,knn.predict(X_test1)))"
   ]
  },
  {
   "cell_type": "code",
   "execution_count": 213,
   "metadata": {},
   "outputs": [],
   "source": [
    "results3 =cross_validate(estimator=knn,\n",
    "                                    X=X_test1,\n",
    "                                    y=Y_test1,\n",
    "                                    cv=cv,\n",
    "                                    scoring={'recall' : make_scorer(recall_score,pos_label=\"Diabetes\") })\n",
    "\n",
    "accuracy3 = model_selection.cross_val_score(knn, X_test1,Y_test1, scoring='accuracy', cv=cv, n_jobs=-1)"
   ]
  },
  {
   "cell_type": "code",
   "execution_count": 214,
   "metadata": {},
   "outputs": [
    {
     "name": "stdout",
     "output_type": "stream",
     "text": [
      "Accuracy 0.8707894736842106\n",
      "recall score for Diabetes is : 0.9642424242424242\n",
      "roc-auc score is 0.9483601398601398\n",
      "score time is : 0.0035540580749511717\n",
      "fit time is : 0.0026474714279174803\n",
      "recall score for No diabetes is : 0.7618919968919969\n",
      "matthews_corrcoef is:  0.785741568881324\n"
     ]
    }
   ],
   "source": [
    "print(\"Accuracy\",np.mean(accuracy3))\n",
    "print(\"recall score for Diabetes is :\",np.mean(results3[\"test_recall\"]))\n",
    "print(\"roc-auc score is\",np.mean(list(cross_val_score(knn, X_test1, Y_test1, cv=cv, scoring='roc_auc'))))\n",
    "print(\"score time is :\",np.mean(results3[\"score_time\"]))\n",
    "print(\"fit time is :\",np.mean(results3[\"fit_time\"]))\n",
    "print(\"recall score for No diabetes is :\",np.mean(cross_validate(estimator=knn,\n",
    "                                    X=X_test1,\n",
    "                                    y=Y_test1,\n",
    "                                    cv=cv,\n",
    "                                    scoring={'recall' : make_scorer(recall_score,pos_label=\"No diabetes\") })[\"test_recall\"]))\n",
    "print(\"matthews_corrcoef is: \",matthews_corrcoef(Y_test1,knn.predict(X_test1)))"
   ]
  },
  {
   "cell_type": "markdown",
   "metadata": {},
   "source": [
    "# Naive bayes"
   ]
  },
  {
   "cell_type": "code",
   "execution_count": 347,
   "metadata": {},
   "outputs": [
    {
     "data": {
      "text/plain": [
       "GaussianNB()"
      ]
     },
     "execution_count": 347,
     "metadata": {},
     "output_type": "execute_result"
    }
   ],
   "source": [
    "nb = GaussianNB()\n",
    "nb.fit(X_train1, Y_train1)"
   ]
  },
  {
   "cell_type": "code",
   "execution_count": 348,
   "metadata": {},
   "outputs": [
    {
     "name": "stdout",
     "output_type": "stream",
     "text": [
      "              precision    recall  f1-score   support\n",
      "\n",
      "    Diabetes       0.87      0.85      0.86        96\n",
      " No diabetes       0.86      0.88      0.87        98\n",
      "\n",
      "    accuracy                           0.87       194\n",
      "   macro avg       0.87      0.87      0.87       194\n",
      "weighted avg       0.87      0.87      0.87       194\n",
      "\n"
     ]
    }
   ],
   "source": [
    "print(classification_report(Y_test1,nb.predict(X_test1)))"
   ]
  },
  {
   "cell_type": "code",
   "execution_count": 349,
   "metadata": {},
   "outputs": [],
   "source": [
    "results4 =cross_validate(estimator=nb,\n",
    "                                    X=X_test1,\n",
    "                                    y=Y_test1,\n",
    "                                    cv=cv,\n",
    "                                    scoring={'recall' : make_scorer(recall_score,pos_label=\"Diabetes\") })\n",
    "\n",
    "accuracy4 = model_selection.cross_val_score(nb, X_test1,Y_test1, scoring='accuracy', cv=cv, n_jobs=-1)"
   ]
  },
  {
   "cell_type": "code",
   "execution_count": 350,
   "metadata": {},
   "outputs": [
    {
     "name": "stdout",
     "output_type": "stream",
     "text": [
      "Accuracy 0.8760526315789473\n",
      "recall score is : 0.8473701298701298\n",
      "roc-auc score is 0.9374470529470529\n",
      "score time is : 0.0027939796447753905\n",
      "fit time is : 0.0029908418655395508\n",
      "recall score for No diabetes is : 0.8878296703296703\n",
      "matthews_corrcoef is:  0.7320289900827764\n"
     ]
    }
   ],
   "source": [
    "print(\"Accuracy\",np.mean(accuracy4))\n",
    "print(\"recall score is :\",np.mean(results4[\"test_recall\"]))\n",
    "print(\"roc-auc score is\",np.mean(list(cross_val_score(nb, X_test1, Y_test1, cv=cv, scoring='roc_auc'))))\n",
    "print(\"score time is :\",np.mean(results4[\"score_time\"]))\n",
    "print(\"fit time is :\",np.mean(results4[\"fit_time\"]))\n",
    "print(\"recall score for No diabetes is :\",np.mean(cross_validate(estimator=nb,\n",
    "                                    X=X_test1,\n",
    "                                    y=Y_test1,\n",
    "                                    cv=model_selection.KFold(n_splits=10),\n",
    "                                    scoring={'recall' : make_scorer(recall_score,pos_label=\"No diabetes\") })[\"test_recall\"]))\n"
   ]
  },
  {
   "cell_type": "markdown",
   "metadata": {},
   "source": [
    "# SVM"
   ]
  },
  {
   "cell_type": "code",
   "execution_count": 219,
   "metadata": {},
   "outputs": [
    {
     "data": {
      "text/plain": [
       "SVC(probability=True, random_state=42)"
      ]
     },
     "execution_count": 219,
     "metadata": {},
     "output_type": "execute_result"
    }
   ],
   "source": [
    "svm = SVC(kernel='rbf',probability=True,random_state=42)\n",
    "svm.fit(X_train1, Y_train1)"
   ]
  },
  {
   "cell_type": "code",
   "execution_count": 220,
   "metadata": {},
   "outputs": [
    {
     "name": "stdout",
     "output_type": "stream",
     "text": [
      "              precision    recall  f1-score   support\n",
      "\n",
      "    Diabetes       0.92      1.00      0.96        96\n",
      " No diabetes       1.00      0.92      0.96        98\n",
      "\n",
      "    accuracy                           0.96       194\n",
      "   macro avg       0.96      0.96      0.96       194\n",
      "weighted avg       0.96      0.96      0.96       194\n",
      "\n"
     ]
    }
   ],
   "source": [
    "print(classification_report(Y_test1,svm.predict(X_test1)))"
   ]
  },
  {
   "cell_type": "code",
   "execution_count": 221,
   "metadata": {},
   "outputs": [],
   "source": [
    "results5 =cross_validate(estimator=svm,\n",
    "                                    X=X_train1,\n",
    "                                    y=Y_train1,\n",
    "                                    cv=cv,\n",
    "                                    scoring={'recall' : make_scorer(recall_score,pos_label=\"Diabetes\") })\n",
    "\n",
    "accuracy5 = model_selection.cross_val_score(svm, X_train1,Y_train1, scoring='accuracy', cv=cv, n_jobs=-1)"
   ]
  },
  {
   "cell_type": "code",
   "execution_count": 222,
   "metadata": {},
   "outputs": [
    {
     "name": "stdout",
     "output_type": "stream",
     "text": [
      "Accuracy 0.95\n",
      "recall score is : 0.984572192513369\n",
      "roc-auc score is 0.976922077922078\n",
      "score time is : 0.004520821571350098\n",
      "fit time is : 0.016470885276794432\n",
      "recall score for No diabetes is : 0.9114468864468865\n",
      "matthews_corrcoef is:  0.9207191237649851\n"
     ]
    }
   ],
   "source": [
    "print(\"Accuracy\",np.mean(accuracy5))\n",
    "print(\"recall score is :\",np.mean(results5[\"test_recall\"]))\n",
    "print(\"roc-auc score is\",np.mean(list(cross_val_score(svm, X_test1, Y_test1, cv=cv, scoring='roc_auc'))))\n",
    "print(\"score time is :\",np.mean(results5[\"score_time\"]))\n",
    "print(\"fit time is :\",np.mean(results5[\"fit_time\"]))\n",
    "print(\"recall score for No diabetes is :\",np.mean(cross_validate(estimator=svm,\n",
    "                                    X=X_test1,\n",
    "                                    y=Y_test1,\n",
    "                                    cv=cv,\n",
    "                                    scoring={'recall' : make_scorer(recall_score,pos_label=\"No diabetes\") })[\"test_recall\"]))\n",
    "print(\"matthews_corrcoef is: \",matthews_corrcoef(Y_test1,svm.predict(X_test1)))"
   ]
  },
  {
   "cell_type": "markdown",
   "metadata": {},
   "source": [
    "# Random Forests"
   ]
  },
  {
   "cell_type": "code",
   "execution_count": 358,
   "metadata": {},
   "outputs": [
    {
     "data": {
      "text/plain": [
       "RandomForestClassifier(n_estimators=250, random_state=42)"
      ]
     },
     "execution_count": 358,
     "metadata": {},
     "output_type": "execute_result"
    }
   ],
   "source": [
    "rf=RandomForestClassifier(n_estimators=250,random_state=42)\n",
    "rf.fit(X_train1, Y_train1)"
   ]
  },
  {
   "cell_type": "code",
   "execution_count": 307,
   "metadata": {},
   "outputs": [
    {
     "name": "stdout",
     "output_type": "stream",
     "text": [
      "              precision    recall  f1-score   support\n",
      "\n",
      "    Diabetes       0.96      1.00      0.98        96\n",
      " No diabetes       1.00      0.96      0.98        98\n",
      "\n",
      "    accuracy                           0.98       194\n",
      "   macro avg       0.98      0.98      0.98       194\n",
      "weighted avg       0.98      0.98      0.98       194\n",
      "\n"
     ]
    }
   ],
   "source": [
    "print(classification_report(Y_test1,rf.predict(X_test1)))"
   ]
  },
  {
   "cell_type": "code",
   "execution_count": 308,
   "metadata": {},
   "outputs": [],
   "source": [
    "results6 =cross_validate(estimator=rf,\n",
    "                                    X=X_test1,\n",
    "                                    y=Y_test1,\n",
    "                                    cv=cv,\n",
    "                                    scoring={'recall' : make_scorer(recall_score,pos_label=\"Diabetes\") })\n",
    "\n",
    "accuracy6 = model_selection.cross_val_score(rf, X_test1,Y_test1, scoring='accuracy', cv=cv, n_jobs=-1)"
   ]
  },
  {
   "cell_type": "code",
   "execution_count": 309,
   "metadata": {},
   "outputs": [
    {
     "name": "stdout",
     "output_type": "stream",
     "text": [
      "Accuracy 0.9689473684210526\n",
      "recall score is : 0.9608333333333334\n",
      "roc-auc score is 0.9918414918414917\n",
      "score time is : 0.02535068988800049\n",
      "fit time is : 0.3770010948181152\n",
      "recall score for No diabetes is : 0.9577777777777777\n",
      "matthews_corrcoef is:  0.9595917499283809\n"
     ]
    }
   ],
   "source": [
    "print(\"Accuracy\",np.mean(accuracy6))\n",
    "print(\"recall score is :\",np.mean(results6[\"test_recall\"]))\n",
    "print(\"roc-auc score is\",np.mean(list(cross_val_score(rf, X_test1, Y_test1, cv=cv, scoring='roc_auc'))))\n",
    "print(\"score time is :\",np.mean(results6[\"score_time\"]))\n",
    "print(\"fit time is :\",np.mean(results6[\"fit_time\"]))\n",
    "print(\"recall score for No diabetes is :\",np.mean(cross_validate(estimator=rf,\n",
    "                                    X=X_test1,\n",
    "                                    y=Y_test1,\n",
    "                                    cv=model_selection.KFold(n_splits=10),\n",
    "                                    scoring={'recall' : make_scorer(recall_score,pos_label=\"No diabetes\") })[\"test_recall\"]))\n",
    "print(\"matthews_corrcoef is: \",matthews_corrcoef(Y_test1,rf.predict(X_test1)))"
   ]
  },
  {
   "cell_type": "code",
   "execution_count": 227,
   "metadata": {},
   "outputs": [],
   "source": [
    "def get_models():\n",
    "    models = dict()\n",
    "    n_trees = [10, 50, 100,250, 500,750]\n",
    "    for n in n_trees:\n",
    "        models[str(n)] = RandomForestClassifier(n_estimators=n,random_state=42)\n",
    "    return models"
   ]
  },
  {
   "cell_type": "code",
   "execution_count": 228,
   "metadata": {},
   "outputs": [
    {
     "name": "stdout",
     "output_type": "stream",
     "text": [
      ">10 0.973 \n",
      ">50 0.961 \n",
      ">100 0.961 \n",
      ">250 0.961 \n",
      ">500 0.961 \n",
      ">750 0.961 \n"
     ]
    }
   ],
   "source": [
    "models = get_models()\n",
    "results, names = list(), list()\n",
    "for name, model in models.items():\n",
    "    scores = evaluate_model_recall_positive(model, X_test1,Y_test1)\n",
    "    results.append(scores)\n",
    "    names.append(name)\n",
    "    print('>%s %.3f ' % (name, np.mean(scores)))"
   ]
  },
  {
   "cell_type": "markdown",
   "metadata": {},
   "source": [
    "# Ensembel"
   ]
  },
  {
   "cell_type": "code",
   "execution_count": 229,
   "metadata": {},
   "outputs": [
    {
     "data": {
      "text/plain": [
       "VotingClassifier(estimators=[('dt',\n",
       "                              DecisionTreeClassifier(criterion='entropy',\n",
       "                                                     max_depth=15,\n",
       "                                                     random_state=42)),\n",
       "                             ('knn', KNeighborsClassifier(n_neighbors=11)),\n",
       "                             ('svm', SVC(probability=True, random_state=42)),\n",
       "                             ('LR',\n",
       "                              LogisticRegression(C=0.03359818286283781,\n",
       "                                                 random_state=42,\n",
       "                                                 solver='liblinear')),\n",
       "                             ('nb', GaussianNB())],\n",
       "                 voting='soft')"
      ]
     },
     "execution_count": 229,
     "metadata": {},
     "output_type": "execute_result"
    }
   ],
   "source": [
    "model1= VotingClassifier(estimators=[ ('dt', classifier1),('knn',knn),('svm',svm),('LR',LR),(\"nb\",nb)], voting='soft')\n",
    "model1.fit(X_train1,Y_train1)"
   ]
  },
  {
   "cell_type": "code",
   "execution_count": 230,
   "metadata": {},
   "outputs": [
    {
     "name": "stdout",
     "output_type": "stream",
     "text": [
      "              precision    recall  f1-score   support\n",
      "\n",
      "    Diabetes       0.91      0.99      0.95        96\n",
      " No diabetes       0.99      0.91      0.95        98\n",
      "\n",
      "    accuracy                           0.95       194\n",
      "   macro avg       0.95      0.95      0.95       194\n",
      "weighted avg       0.95      0.95      0.95       194\n",
      "\n"
     ]
    }
   ],
   "source": [
    "print(classification_report(Y_test1,model1.predict(X_test1)))"
   ]
  },
  {
   "cell_type": "code",
   "execution_count": 231,
   "metadata": {},
   "outputs": [],
   "source": [
    "results =cross_validate(estimator=model1,\n",
    "                                    X=X_test1,\n",
    "                                    y=Y_test1,\n",
    "                                    cv=cv,\n",
    "                                    scoring=scoring)\n",
    "accuracy = model_selection.cross_val_score(LR, X_test1,Y_test1, scoring='accuracy', cv=cv, n_jobs=-1)"
   ]
  },
  {
   "cell_type": "code",
   "execution_count": 232,
   "metadata": {},
   "outputs": [
    {
     "name": "stdout",
     "output_type": "stream",
     "text": [
      "Accuracy 0.8868421052631579\n",
      "recall score is : 0.9058658008658009\n",
      "score time is : 0.009461283683776855\n",
      "fit time is : 0.015003252029418945\n",
      "recall score for No diabetes is : 0.8892246642246644\n",
      "matthews_corrcoef is:  0.9000455693656324\n"
     ]
    }
   ],
   "source": [
    "print(\"Accuracy\",np.mean(accuracy))\n",
    "print(\"recall score is :\",np.mean(results[\"test_recall\"]))\n",
    "print(\"score time is :\",np.mean(results[\"score_time\"]))\n",
    "print(\"fit time is :\",np.mean(results[\"fit_time\"]))\n",
    "print(\"recall score for No diabetes is :\",np.mean(cross_validate(estimator=model1,\n",
    "                                    X=X_test1,\n",
    "                                    y=Y_test1,\n",
    "                                    cv=cv,\n",
    "                                    scoring={'recall' : make_scorer(recall_score,pos_label=\"No diabetes\") })[\"test_recall\"]))\n",
    "print(\"matthews_corrcoef is: \",matthews_corrcoef(Y_test1,model1.predict(X_test1)))"
   ]
  },
  {
   "cell_type": "markdown",
   "metadata": {},
   "source": [
    "# Ensemble of random forests classifiers."
   ]
  },
  {
   "cell_type": "code",
   "execution_count": 298,
   "metadata": {},
   "outputs": [
    {
     "data": {
      "text/plain": [
       "BaggingClassifier(base_estimator=RandomForestClassifier())"
      ]
     },
     "execution_count": 298,
     "metadata": {},
     "output_type": "execute_result"
    }
   ],
   "source": [
    "logbagClf = BaggingClassifier(RandomForestClassifier(), n_estimators = 10)\n",
    "logbagClf.fit(X_train1, Y_train1)"
   ]
  },
  {
   "cell_type": "code",
   "execution_count": 299,
   "metadata": {},
   "outputs": [
    {
     "name": "stdout",
     "output_type": "stream",
     "text": [
      "              precision    recall  f1-score   support\n",
      "\n",
      "    Diabetes       0.94      0.99      0.96        96\n",
      " No diabetes       0.99      0.94      0.96        98\n",
      "\n",
      "    accuracy                           0.96       194\n",
      "   macro avg       0.96      0.96      0.96       194\n",
      "weighted avg       0.97      0.96      0.96       194\n",
      "\n"
     ]
    }
   ],
   "source": [
    "print(classification_report(Y_test1,logbagClf.predict(X_test1)))"
   ]
  },
  {
   "cell_type": "code",
   "execution_count": 300,
   "metadata": {},
   "outputs": [],
   "source": [
    "accuracy7=model_selection.cross_val_score(logbagClf, X_test1,Y_test1, scoring='accuracy', cv=cv, n_jobs=-1)"
   ]
  },
  {
   "cell_type": "code",
   "execution_count": 301,
   "metadata": {},
   "outputs": [
    {
     "name": "stdout",
     "output_type": "stream",
     "text": [
      "accuracy score is 0.953421052631579\n",
      "recall score is : 0.9350757575757577\n",
      "roc-auc score is 0.9885594405594406\n",
      "recall score for No diabetes is : 0.9449328449328449\n"
     ]
    }
   ],
   "source": [
    "print(\"accuracy score is\",np.mean(accuracy7))\n",
    "print(\"recall score is :\",np.mean(cross_validate(estimator=logbagClf,\n",
    "                                    X=X_test1,\n",
    "                                    y=Y_test1,\n",
    "                                    cv=cv,\n",
    "                                    scoring=scoring)[\"test_recall\"]))\n",
    "print(\"roc-auc score is\",np.mean(list(cross_val_score(logbagClf, X_test1, Y_test1, cv=cv, scoring='roc_auc'))))\n",
    "print(\"recall score for No diabetes is :\",np.mean(cross_validate(estimator=logbagClf,\n",
    "                                    X=X_test1,\n",
    "                                    y=Y_test1,\n",
    "                                    cv=cv,\n",
    "                                    scoring={'recall' : make_scorer(recall_score,pos_label=\"No diabetes\") })[\"test_recall\"]))"
   ]
  },
  {
   "cell_type": "code",
   "execution_count": 57,
   "metadata": {},
   "outputs": [],
   "source": [
    "# recall_score(Y_test1, model1.predict(X_test1), pos_label=\"Diabetes\")"
   ]
  },
  {
   "cell_type": "markdown",
   "metadata": {},
   "source": [
    "# Ensemble of logistic regression classifiers."
   ]
  },
  {
   "cell_type": "code",
   "execution_count": 58,
   "metadata": {},
   "outputs": [
    {
     "data": {
      "text/plain": [
       "BaggingClassifier(base_estimator=LogisticRegression(C=0.03359818286283781,\n",
       "                                                    random_state=42,\n",
       "                                                    solver='liblinear'),\n",
       "                  random_state=42)"
      ]
     },
     "execution_count": 58,
     "metadata": {},
     "output_type": "execute_result"
    }
   ],
   "source": [
    "bag_LR = BaggingClassifier(LR, n_estimators = 10,random_state=42)\n",
    "bag_LR.fit(X_train1, Y_train1)"
   ]
  },
  {
   "cell_type": "code",
   "execution_count": 59,
   "metadata": {},
   "outputs": [
    {
     "name": "stdout",
     "output_type": "stream",
     "text": [
      "              precision    recall  f1-score   support\n",
      "\n",
      "    Diabetes       0.88      0.91      0.89        96\n",
      " No diabetes       0.91      0.88      0.89        98\n",
      "\n",
      "    accuracy                           0.89       194\n",
      "   macro avg       0.89      0.89      0.89       194\n",
      "weighted avg       0.89      0.89      0.89       194\n",
      "\n"
     ]
    }
   ],
   "source": [
    "print(classification_report(Y_test1,bag_LR.predict(X_test1)))"
   ]
  },
  {
   "cell_type": "code",
   "execution_count": 60,
   "metadata": {},
   "outputs": [
    {
     "name": "stdout",
     "output_type": "stream",
     "text": [
      "Accuracy is 0.881578947368421\n",
      "recall score is : 0.9058658008658009\n",
      "roc-auc score is 0.9221527916527916\n",
      "recall score for No diabetes is : 0.8335164835164836\n",
      "matthews_corrcoef is:  0.7839260185782281\n"
     ]
    }
   ],
   "source": [
    "print(\"Accuracy is\",np.mean( model_selection.cross_val_score(bag_LR, X_test1,Y_test1, scoring='accuracy', cv=cv, n_jobs=-1)))\n",
    "print(\"recall score is :\",np.mean(cross_validate(estimator=bag_LR,\n",
    "                                    X=X_test1,\n",
    "                                    y=Y_test1,\n",
    "                                    cv=cv,\n",
    "                                    scoring=scoring)[\"test_recall\"]))\n",
    "print(\"roc-auc score is\",np.mean(list(cross_val_score(bag_LR, X_test1, Y_test1, cv=cv, scoring='roc_auc'))))\n",
    "print(\"recall score for No diabetes is :\",np.mean(cross_validate(estimator=bag_LR,\n",
    "                                    X=X_test1,\n",
    "                                    y=Y_test1,\n",
    "                                    cv=cv,\n",
    "                                    scoring={'recall' : make_scorer(recall_score,pos_label=\"No diabetes\") })[\"test_recall\"]))\n",
    "print(\"matthews_corrcoef is: \",matthews_corrcoef(Y_test1,bag_LR.predict(X_test1)))"
   ]
  },
  {
   "cell_type": "code",
   "execution_count": 61,
   "metadata": {},
   "outputs": [
    {
     "name": "stdout",
     "output_type": "stream",
     "text": [
      "accuracy is:  0.9440259740259741\n",
      "diabetes recall is:  0.9701706569292776\n",
      "no diabetes recall is:  0.915244630848079\n",
      "roc_auc is:  0.9925518586694876\n"
     ]
    }
   ],
   "source": [
    "print(\"accuracy is: \",np.mean(evaluate_model_accuracy(model1,X_res,y_res)))\n",
    "print(\"diabetes recall is: \",np.mean(evaluate_model_recall_positive(model1,X_res,y_res)))\n",
    "print(\"no diabetes recall is: \",np.mean(evaluate_model_recall_negative(model1,X_res,y_res)))\n",
    "print(\"roc_auc is: \",np.mean(evaluate_model_roc_auc(model1,X_res,y_res)))"
   ]
  },
  {
   "cell_type": "markdown",
   "metadata": {},
   "source": [
    "# AdaBoost"
   ]
  },
  {
   "cell_type": "code",
   "execution_count": 405,
   "metadata": {},
   "outputs": [
    {
     "data": {
      "text/plain": [
       "AdaBoostClassifier(learning_rate=0.8, n_estimators=250, random_state=42)"
      ]
     },
     "execution_count": 405,
     "metadata": {},
     "output_type": "execute_result"
    }
   ],
   "source": [
    "Adaboost = AdaBoostClassifier(random_state=42,n_estimators=250,learning_rate=0.8)\n",
    "Adaboost.fit(X_train1, Y_train1)"
   ]
  },
  {
   "cell_type": "code",
   "execution_count": 406,
   "metadata": {},
   "outputs": [
    {
     "name": "stdout",
     "output_type": "stream",
     "text": [
      "              precision    recall  f1-score   support\n",
      "\n",
      "    Diabetes       0.91      0.96      0.93        96\n",
      " No diabetes       0.96      0.91      0.93        98\n",
      "\n",
      "    accuracy                           0.93       194\n",
      "   macro avg       0.93      0.93      0.93       194\n",
      "weighted avg       0.93      0.93      0.93       194\n",
      "\n"
     ]
    }
   ],
   "source": [
    "print(classification_report(Y_test1,Adaboost.predict(X_test1)))"
   ]
  },
  {
   "cell_type": "code",
   "execution_count": 407,
   "metadata": {},
   "outputs": [
    {
     "name": "stdout",
     "output_type": "stream",
     "text": [
      "accuracy is:  0.9481578947368421\n",
      "diabetes recall is:  0.9733333333333334\n",
      "no diabetes recall is:  0.9146214896214897\n",
      "roc_auc is:  0.9768065268065268\n"
     ]
    },
    {
     "data": {
      "text/plain": [
       "0.9733333333333334"
      ]
     },
     "execution_count": 407,
     "metadata": {},
     "output_type": "execute_result"
    }
   ],
   "source": [
    "print(\"accuracy is: \",np.mean(evaluate_model_accuracy(Adaboost,X_test1,Y_test1)))\n",
    "print(\"diabetes recall is: \",np.mean(evaluate_model_recall_positive(Adaboost,X_test1,Y_test1)))\n",
    "print(\"no diabetes recall is: \",np.mean(evaluate_model_recall_negative(Adaboost,X_test1,Y_test1)))\n",
    "print(\"roc_auc is: \",np.mean(evaluate_model_roc_auc(Adaboost,X_test1,Y_test1)))\n",
    "np.mean(evaluate_model_f1score(Adaboost,X_test1,Y_test1))"
   ]
  },
  {
   "cell_type": "markdown",
   "metadata": {},
   "source": [
    "**Number of Trees**"
   ]
  },
  {
   "cell_type": "code",
   "execution_count": 65,
   "metadata": {},
   "outputs": [],
   "source": [
    "def get_models():\n",
    "    models = dict()\n",
    "    n_trees = [10, 50, 100,250, 500, 1000]\n",
    "    for n in n_trees:\n",
    "        models[str(n)] = AdaBoostClassifier(n_estimators=n)\n",
    "    return models"
   ]
  },
  {
   "cell_type": "code",
   "execution_count": 66,
   "metadata": {},
   "outputs": [
    {
     "name": "stdout",
     "output_type": "stream",
     "text": [
      ">10 0.903 (0.102)\n",
      ">50 0.964 (0.058)\n",
      ">100 0.973 (0.055)\n",
      ">250 0.990 (0.030)\n",
      ">500 0.964 (0.058)\n",
      ">1000 0.964 (0.058)\n"
     ]
    }
   ],
   "source": [
    "models = get_models()\n",
    "results, names = list(), list()\n",
    "for name, model in models.items():\n",
    "    scores = evaluate_model_recall_positive(model, X_test1,Y_test1)\n",
    "    results.append(scores)\n",
    "    names.append(name)\n",
    "    print('>%s %.3f (%.3f)' % (name, np.mean(scores), np.std(scores)))"
   ]
  },
  {
   "cell_type": "markdown",
   "metadata": {},
   "source": [
    "**Weak learners**"
   ]
  },
  {
   "cell_type": "code",
   "execution_count": 67,
   "metadata": {},
   "outputs": [],
   "source": [
    "def get_models():\n",
    "    models = dict()\n",
    "    for i in range(1,11):\n",
    "        base = DecisionTreeClassifier(max_depth=i)\n",
    "        models[str(i)] = AdaBoostClassifier(base_estimator=base,n_estimators=250)\n",
    "    return models"
   ]
  },
  {
   "cell_type": "code",
   "execution_count": 68,
   "metadata": {},
   "outputs": [
    {
     "name": "stdout",
     "output_type": "stream",
     "text": [
      ">1 0.990 (0.030)\n",
      ">2 0.974 (0.054)\n",
      ">3 0.983 (0.050)\n",
      ">4 0.971 (0.059)\n",
      ">5 0.971 (0.059)\n",
      ">6 0.943 (0.060)\n",
      ">7 0.934 (0.058)\n",
      ">8 0.934 (0.058)\n",
      ">9 0.920 (0.058)\n",
      ">10 0.934 (0.058)\n"
     ]
    }
   ],
   "source": [
    "models = get_models()\n",
    "results, names = list(), list()\n",
    "for name, model in models.items():\n",
    "    scores = evaluate_model_recall_positive(model, X_test1,Y_test1)\n",
    "    results.append(scores)\n",
    "    names.append(name)\n",
    "    print('>%s %.3f (%.3f)' % (name, np.mean(scores), np.std(scores)))"
   ]
  },
  {
   "cell_type": "markdown",
   "metadata": {},
   "source": [
    "**Learning rate**"
   ]
  },
  {
   "cell_type": "code",
   "execution_count": 403,
   "metadata": {},
   "outputs": [],
   "source": [
    "def get_models():\n",
    "    models = dict()\n",
    "    for i in np.arange(0.1, 1.1, 0.1):\n",
    "        key = '%.3f' % i\n",
    "        models[key] = AdaBoostClassifier(learning_rate=i,random_state=42)\n",
    "    return models"
   ]
  },
  {
   "cell_type": "code",
   "execution_count": 404,
   "metadata": {},
   "outputs": [
    {
     "name": "stdout",
     "output_type": "stream",
     "text": [
      ">0.100 0.946 (0.071)\n",
      ">0.200 0.973 (0.055)\n",
      ">0.300 0.957 (0.101)\n",
      ">0.400 0.973 (0.055)\n",
      ">0.500 0.938 (0.108)\n",
      ">0.600 0.957 (0.101)\n",
      ">0.700 0.948 (0.101)\n",
      ">0.800 0.990 (0.030)\n",
      ">0.900 0.963 (0.074)\n",
      ">1.000 0.964 (0.058)\n"
     ]
    }
   ],
   "source": [
    "models = get_models()\n",
    "results, names = list(), list()\n",
    "for name, model in models.items():\n",
    "    scores = evaluate_model_recall_positive(model, X_test1,Y_test1)\n",
    "    results.append(scores)\n",
    "    names.append(name)\n",
    "    print('>%s %.3f (%.3f)' % (name, np.mean(scores), np.std(scores)))"
   ]
  },
  {
   "cell_type": "markdown",
   "metadata": {},
   "source": [
    "# Gradient Boosting"
   ]
  },
  {
   "cell_type": "code",
   "execution_count": 408,
   "metadata": {},
   "outputs": [
    {
     "data": {
      "text/plain": [
       "GradientBoostingClassifier(learning_rate=0.8, max_features=7, max_leaf_nodes=5,\n",
       "                           n_estimators=250, random_state=42)"
      ]
     },
     "execution_count": 408,
     "metadata": {},
     "output_type": "execute_result"
    }
   ],
   "source": [
    "Gboost= GradientBoostingClassifier(n_estimators=250,\n",
    "                                   random_state=42,\n",
    "                                   learning_rate=0.8,\n",
    "                                   max_features=7,\n",
    "                                   max_leaf_nodes=5)\n",
    "Gboost.fit(X_train1, Y_train1)"
   ]
  },
  {
   "cell_type": "code",
   "execution_count": 409,
   "metadata": {},
   "outputs": [
    {
     "name": "stdout",
     "output_type": "stream",
     "text": [
      "              precision    recall  f1-score   support\n",
      "\n",
      "    Diabetes       0.95      1.00      0.97        96\n",
      " No diabetes       1.00      0.95      0.97        98\n",
      "\n",
      "    accuracy                           0.97       194\n",
      "   macro avg       0.98      0.97      0.97       194\n",
      "weighted avg       0.98      0.97      0.97       194\n",
      "\n"
     ]
    }
   ],
   "source": [
    "print(classification_report(Y_test1,Gboost.predict(X_test1)))"
   ]
  },
  {
   "cell_type": "code",
   "execution_count": null,
   "metadata": {},
   "outputs": [],
   "source": [
    "print(\"accuracy is: \",np.mean(evaluate_model_accuracy(Gboost,X_test1,Y_test1)))\n",
    "print(\"diabetes recall is: \",np.mean(evaluate_model_recall_positive(Gboost,X_test1,Y_test1)))\n",
    "print(\"no diabetes recall is: \",np.mean(evaluate_model_recall_negative(Gboost,X_test1,Y_test1)))\n",
    "print(\"roc_auc is: \",np.mean(evaluate_model_roc_auc(Gboost,X_test1,Y_test1)))"
   ]
  },
  {
   "cell_type": "markdown",
   "metadata": {},
   "source": [
    "**Number of Trees**"
   ]
  },
  {
   "cell_type": "code",
   "execution_count": 379,
   "metadata": {},
   "outputs": [],
   "source": [
    "def get_models():\n",
    "    models = dict()\n",
    "    n_trees = [10,30, 50, 100,250, 500, 1000]\n",
    "    for n in n_trees:\n",
    "        models[str(n)] = GradientBoostingClassifier(n_estimators=n,random_state=42)\n",
    "    return models"
   ]
  },
  {
   "cell_type": "code",
   "execution_count": 380,
   "metadata": {},
   "outputs": [
    {
     "name": "stdout",
     "output_type": "stream",
     "text": [
      ">10 0.899 (0.104)\n",
      ">30 0.934 (0.071)\n",
      ">50 0.953 (0.061)\n",
      ">100 0.962 (0.061)\n",
      ">250 0.971 (0.059)\n",
      ">500 0.971 (0.059)\n",
      ">1000 0.971 (0.059)\n"
     ]
    }
   ],
   "source": [
    "models = get_models()\n",
    "results, names = list(), list()\n",
    "for name, model in models.items():\n",
    "    scores = evaluate_model_recall_positive(model, X_test1,Y_test1)\n",
    "    results.append(scores)\n",
    "    names.append(name)\n",
    "    print('>%s %.3f (%.3f)' % (name, np.mean(scores), np.std(scores)))"
   ]
  },
  {
   "cell_type": "code",
   "execution_count": 381,
   "metadata": {},
   "outputs": [],
   "source": [
    "l=[]\n",
    "m=[]\n",
    "for x,y in models.items():\n",
    "    l.append(np.mean(evaluate_model_recall_positive(y, X_test1,Y_test1)))\n",
    "    m.append(x)"
   ]
  },
  {
   "cell_type": "code",
   "execution_count": 382,
   "metadata": {},
   "outputs": [
    {
     "data": {
      "text/plain": [
       "<AxesSubplot:>"
      ]
     },
     "execution_count": 382,
     "metadata": {},
     "output_type": "execute_result"
    },
    {
     "data": {
      "image/png": "[encoded data removed]",
      "text/plain": [
       "<Figure size 432x288 with 1 Axes>"
      ]
     },
     "metadata": {
      "needs_background": "light"
     },
     "output_type": "display_data"
    }
   ],
   "source": [
    "sns.pointplot(y=l,x=m)"
   ]
  },
  {
   "cell_type": "code",
   "execution_count": 77,
   "metadata": {},
   "outputs": [],
   "source": [
    "l=[]\n",
    "m=[]\n",
    "for x,y in models.items():\n",
    "    l.append(np.mean(evaluate_model_recall_positive(y, X_test1,Y_test1)))\n",
    "    m.append(x)"
   ]
  },
  {
   "cell_type": "code",
   "execution_count": 293,
   "metadata": {},
   "outputs": [
    {
     "data": {
      "text/plain": [
       "<AxesSubplot:>"
      ]
     },
     "execution_count": 293,
     "metadata": {},
     "output_type": "execute_result"
    },
    {
     "data": {
      "image/png": "[encoded data removed]",
      "text/plain": [
       "<Figure size 432x288 with 1 Axes>"
      ]
     },
     "metadata": {
      "needs_background": "light"
     },
     "output_type": "display_data"
    }
   ],
   "source": [
    "sns.pointplot(y=l,x=m)"
   ]
  },
  {
   "cell_type": "markdown",
   "metadata": {},
   "source": [
    "**Learning Rate**"
   ]
  },
  {
   "cell_type": "code",
   "execution_count": 81,
   "metadata": {},
   "outputs": [],
   "source": [
    "def get_models():\n",
    "    models = dict()\n",
    "    for i in [0.0001, 0.001, 0.01, 0.1,0.5,0.6,0.8,0.9, 1.0]:\n",
    "        key = '%.4f' % i\n",
    "        models[key] = GradientBoostingClassifier(learning_rate=i,random_state=42)\n",
    "    return models"
   ]
  },
  {
   "cell_type": "code",
   "execution_count": 82,
   "metadata": {},
   "outputs": [
    {
     "name": "stdout",
     "output_type": "stream",
     "text": [
      ">0.0001 0.388 (0.476)\n",
      ">0.0010 0.925 (0.068)\n",
      ">0.0100 0.899 (0.104)\n",
      ">0.1000 0.962 (0.061)\n",
      ">0.5000 0.971 (0.059)\n",
      ">0.6000 0.971 (0.059)\n",
      ">0.8000 0.983 (0.050)\n",
      ">0.9000 0.974 (0.054)\n",
      ">1.0000 0.974 (0.054)\n"
     ]
    }
   ],
   "source": [
    "models = get_models()\n",
    "results, names = list(), list()\n",
    "for name, model in models.items():\n",
    "    scores = evaluate_model_recall_positive(model, X_test1,Y_test1)\n",
    "    results.append(scores)\n",
    "    names.append(name)\n",
    "    print('>%s %.3f (%.3f)' % (name, np.mean(scores), np.std(scores)))"
   ]
  },
  {
   "cell_type": "code",
   "execution_count": 83,
   "metadata": {},
   "outputs": [],
   "source": [
    "l=[]\n",
    "m=[]\n",
    "for x,y in models.items():\n",
    "    l.append(np.mean(evaluate_model_recall_positive(y, X_test1,Y_test1)))\n",
    "    m.append(x)"
   ]
  },
  {
   "cell_type": "code",
   "execution_count": 84,
   "metadata": {},
   "outputs": [
    {
     "data": {
      "text/plain": [
       "<AxesSubplot:>"
      ]
     },
     "execution_count": 84,
     "metadata": {},
     "output_type": "execute_result"
    },
    {
     "data": {
      "image/png": "[encoded data removed]",
      "text/plain": [
       "<Figure size 432x288 with 1 Axes>"
      ]
     },
     "metadata": {
      "needs_background": "light"
     },
     "output_type": "display_data"
    }
   ],
   "source": [
    "sns.pointplot(y=l,x=m)"
   ]
  },
  {
   "cell_type": "markdown",
   "metadata": {},
   "source": [
    "**Tree Depth**"
   ]
  },
  {
   "cell_type": "code",
   "execution_count": 397,
   "metadata": {},
   "outputs": [],
   "source": [
    "def get_models():\n",
    "    models = dict()\n",
    "    for i in range(1,20):\n",
    "        models[str(i)] = GradientBoostingClassifier(max_depth=i,random_state=42)\n",
    "    return models"
   ]
  },
  {
   "cell_type": "code",
   "execution_count": 398,
   "metadata": {},
   "outputs": [
    {
     "name": "stdout",
     "output_type": "stream",
     "text": [
      ">1 0.946 (0.071)\n",
      ">2 0.964 (0.058)\n",
      ">3 0.962 (0.061)\n",
      ">4 0.952 (0.062)\n",
      ">5 0.926 (0.099)\n",
      ">6 0.929 (0.062)\n",
      ">7 0.929 (0.062)\n",
      ">8 0.929 (0.062)\n",
      ">9 0.929 (0.062)\n",
      ">10 0.920 (0.058)\n",
      ">11 0.929 (0.062)\n",
      ">12 0.929 (0.062)\n",
      ">13 0.929 (0.062)\n",
      ">14 0.929 (0.062)\n",
      ">15 0.929 (0.062)\n",
      ">16 0.920 (0.058)\n",
      ">17 0.920 (0.058)\n",
      ">18 0.920 (0.058)\n",
      ">19 0.920 (0.058)\n"
     ]
    }
   ],
   "source": [
    "models = get_models()\n",
    "results, names = list(), list()\n",
    "for name, model in models.items():\n",
    "    scores = evaluate_model_recall_positive(model, X_test1,Y_test1)\n",
    "    results.append(scores)\n",
    "    names.append(name)\n",
    "    print('>%s %.3f (%.3f)' % (name, np.mean(scores), np.std(scores)))"
   ]
  },
  {
   "cell_type": "code",
   "execution_count": 399,
   "metadata": {},
   "outputs": [],
   "source": [
    "l=[]\n",
    "m=[]\n",
    "for x,y in models.items():\n",
    "    l.append(np.mean(evaluate_model_recall_positive(y, X_test1,Y_test1)))\n",
    "    m.append(x)"
   ]
  },
  {
   "cell_type": "code",
   "execution_count": 400,
   "metadata": {},
   "outputs": [
    {
     "data": {
      "text/plain": [
       "<AxesSubplot:>"
      ]
     },
     "execution_count": 400,
     "metadata": {},
     "output_type": "execute_result"
    },
    {
     "data": {
      "image/png": "[encoded data removed]",
      "text/plain": [
       "<Figure size 432x288 with 1 Axes>"
      ]
     },
     "metadata": {
      "needs_background": "light"
     },
     "output_type": "display_data"
    }
   ],
   "source": [
    "sns.pointplot(y=l,x=m)"
   ]
  },
  {
   "cell_type": "markdown",
   "metadata": {},
   "source": [
    "**Number of Features**"
   ]
  },
  {
   "cell_type": "code",
   "execution_count": 167,
   "metadata": {},
   "outputs": [],
   "source": [
    "def get_models():\n",
    "    models = dict()\n",
    "    for i in range(1,14):\n",
    "        models[str(i)] = GradientBoostingClassifier(max_features=i,random_state=42)\n",
    "    return models"
   ]
  },
  {
   "cell_type": "code",
   "execution_count": 168,
   "metadata": {},
   "outputs": [
    {
     "name": "stdout",
     "output_type": "stream",
     "text": [
      ">1 0.965 (0.070)\n",
      ">2 0.955 (0.058)\n",
      ">3 0.983 (0.050)\n",
      ">4 0.964 (0.058)\n",
      ">5 0.974 (0.054)\n",
      ">6 0.983 (0.050)\n",
      ">7 0.948 (0.108)\n",
      ">8 0.974 (0.054)\n",
      ">9 0.974 (0.054)\n",
      ">10 0.962 (0.061)\n",
      ">11 0.971 (0.059)\n",
      ">12 0.962 (0.061)\n",
      ">13 0.974 (0.054)\n"
     ]
    }
   ],
   "source": [
    "models = get_models()\n",
    "results, names = list(), list()\n",
    "for name, model in models.items():\n",
    "    scores = evaluate_model_recall_positive(model, X_test1,Y_test1)\n",
    "    results.append(scores)\n",
    "    names.append(name)\n",
    "    print('>%s %.3f (%.3f)' % (name, np.mean(scores), np.std(scores)))"
   ]
  },
  {
   "cell_type": "code",
   "execution_count": 169,
   "metadata": {},
   "outputs": [],
   "source": [
    "l=[]\n",
    "m=[]\n",
    "for x,y in models.items():\n",
    "    l.append(np.mean(evaluate_model_recall_positive(y, X_test1,Y_test1)))\n",
    "    m.append(x)"
   ]
  },
  {
   "cell_type": "code",
   "execution_count": 170,
   "metadata": {},
   "outputs": [
    {
     "data": {
      "text/plain": [
       "<AxesSubplot:>"
      ]
     },
     "execution_count": 170,
     "metadata": {},
     "output_type": "execute_result"
    },
    {
     "data": {
      "image/png": "[encoded data removed]",
      "text/plain": [
       "<Figure size 432x288 with 1 Axes>"
      ]
     },
     "metadata": {
      "needs_background": "light"
     },
     "output_type": "display_data"
    }
   ],
   "source": [
    "sns.pointplot(y=l,x=m)"
   ]
  },
  {
   "cell_type": "markdown",
   "metadata": {},
   "source": [
    "**max_leaf_nodes**"
   ]
  },
  {
   "cell_type": "code",
   "execution_count": 393,
   "metadata": {},
   "outputs": [],
   "source": [
    "def get_models():\n",
    "    models = dict()\n",
    "    for i in range(2,15):\n",
    "        models[str(i)] = GradientBoostingClassifier(max_leaf_nodes=i,random_state=42)\n",
    "    return models"
   ]
  },
  {
   "cell_type": "code",
   "execution_count": 394,
   "metadata": {},
   "outputs": [
    {
     "name": "stdout",
     "output_type": "stream",
     "text": [
      ">2 0.946 (0.071)\n",
      ">3 0.964 (0.058)\n",
      ">4 0.964 (0.058)\n",
      ">5 0.983 (0.050)\n",
      ">6 0.948 (0.101)\n",
      ">7 0.971 (0.059)\n",
      ">8 0.962 (0.061)\n",
      ">9 0.962 (0.061)\n",
      ">10 0.962 (0.061)\n",
      ">11 0.962 (0.061)\n",
      ">12 0.962 (0.061)\n",
      ">13 0.962 (0.061)\n",
      ">14 0.962 (0.061)\n"
     ]
    }
   ],
   "source": [
    "models = get_models()\n",
    "results, names = list(), list()\n",
    "for name, model in models.items():\n",
    "    scores = evaluate_model_recall_positive(model, X_test1,Y_test1)\n",
    "    results.append(scores)\n",
    "    names.append(name)\n",
    "    print('>%s %.3f (%.3f)' % (name, np.mean(scores), np.std(scores)))"
   ]
  },
  {
   "cell_type": "code",
   "execution_count": 395,
   "metadata": {},
   "outputs": [],
   "source": [
    "l=[]\n",
    "m=[]\n",
    "for x,y in models.items():\n",
    "    l.append(np.mean(evaluate_model_recall_positive(y, X_test1,Y_test1)))\n",
    "    m.append(x)"
   ]
  },
  {
   "cell_type": "code",
   "execution_count": 396,
   "metadata": {},
   "outputs": [
    {
     "data": {
      "text/plain": [
       "<AxesSubplot:>"
      ]
     },
     "execution_count": 396,
     "metadata": {},
     "output_type": "execute_result"
    },
    {
     "data": {
      "image/png": "[encoded data removed]",
      "text/plain": [
       "<Figure size 432x288 with 1 Axes>"
      ]
     },
     "metadata": {
      "needs_background": "light"
     },
     "output_type": "display_data"
    }
   ],
   "source": [
    "sns.pointplot(y=l,x=m)"
   ]
  },
  {
   "cell_type": "markdown",
   "metadata": {},
   "source": [
    "# ExtraTreesClassifier"
   ]
  },
  {
   "cell_type": "code",
   "execution_count": 369,
   "metadata": {},
   "outputs": [
    {
     "data": {
      "text/plain": [
       "ExtraTreesClassifier(max_features=6, random_state=42)"
      ]
     },
     "execution_count": 369,
     "metadata": {},
     "output_type": "execute_result"
    }
   ],
   "source": [
    "etc = ExtraTreesClassifier(n_estimators=100,max_features=6,random_state=42)\n",
    "etc.fit(X_train1,Y_train1)"
   ]
  },
  {
   "cell_type": "code",
   "execution_count": 370,
   "metadata": {},
   "outputs": [
    {
     "name": "stdout",
     "output_type": "stream",
     "text": [
      "              precision    recall  f1-score   support\n",
      "\n",
      "    Diabetes       0.96      1.00      0.98        96\n",
      " No diabetes       1.00      0.96      0.98        98\n",
      "\n",
      "    accuracy                           0.98       194\n",
      "   macro avg       0.98      0.98      0.98       194\n",
      "weighted avg       0.98      0.98      0.98       194\n",
      "\n"
     ]
    }
   ],
   "source": [
    "print(classification_report(Y_test1,etc.predict(X_test1)))"
   ]
  },
  {
   "cell_type": "code",
   "execution_count": 371,
   "metadata": {},
   "outputs": [
    {
     "name": "stdout",
     "output_type": "stream",
     "text": [
      "accuracy is:  0.9636842105263158\n",
      "diabetes recall is:  0.956547619047619\n",
      "no diabetes recall is:  0.9592185592185591\n",
      "roc_auc is:  0.9928515928515929\n",
      "precision is:  0.956547619047619\n"
     ]
    }
   ],
   "source": [
    "print(\"accuracy is: \",np.mean(evaluate_model_accuracy(etc,X_test1,Y_test1)))\n",
    "print(\"diabetes recall is: \",np.mean(evaluate_model_recall_positive(etc,X_test1,Y_test1)))\n",
    "print(\"no diabetes recall is: \",np.mean(evaluate_model_recall_negative(etc,X_test1,Y_test1)))\n",
    "print(\"roc_auc is: \",np.mean(evaluate_model_roc_auc(etc,X_test1,Y_test1)))\n",
    "print(\"precision is: \",np.mean(evaluate_model_precision(etc,X_test1,Y_test1)))"
   ]
  },
  {
   "cell_type": "markdown",
   "metadata": {},
   "source": [
    "**Number of Trees**"
   ]
  },
  {
   "cell_type": "code",
   "execution_count": 372,
   "metadata": {},
   "outputs": [],
   "source": [
    "def get_models():\n",
    "    models = dict()\n",
    "    n_trees = [10,30, 50, 100,250, 500, 1000]\n",
    "    for n in n_trees:\n",
    "        models[str(n)] = ExtraTreesClassifier(n_estimators=n,random_state=42)\n",
    "    return models"
   ]
  },
  {
   "cell_type": "code",
   "execution_count": 373,
   "metadata": {},
   "outputs": [
    {
     "name": "stdout",
     "output_type": "stream",
     "text": [
      ">10 0.947 (0.067)\n",
      ">30 0.938 (0.065)\n",
      ">50 0.957 (0.067)\n",
      ">100 0.959 (0.064)\n",
      ">250 0.957 (0.067)\n",
      ">500 0.957 (0.067)\n",
      ">1000 0.957 (0.067)\n"
     ]
    }
   ],
   "source": [
    "models = get_models()\n",
    "results, names = list(), list()\n",
    "for name, model in models.items():\n",
    "    scores = evaluate_model_recall_positive(model, X_test1,Y_test1)\n",
    "    results.append(scores)\n",
    "    names.append(name)\n",
    "    print('>%s %.3f (%.3f)' % (name, np.mean(scores), np.std(scores)))"
   ]
  },
  {
   "cell_type": "code",
   "execution_count": 374,
   "metadata": {},
   "outputs": [],
   "source": [
    "l=[]\n",
    "m=[]\n",
    "for x,y in models.items():\n",
    "    l.append(np.mean(evaluate_model_recall_positive(y, X_test1,Y_test1)))\n",
    "    m.append(x)"
   ]
  },
  {
   "cell_type": "code",
   "execution_count": 375,
   "metadata": {},
   "outputs": [
    {
     "data": {
      "text/plain": [
       "<AxesSubplot:>"
      ]
     },
     "execution_count": 375,
     "metadata": {},
     "output_type": "execute_result"
    },
    {
     "data": {
      "image/png": "[encoded data removed]",
      "text/plain": [
       "<Figure size 432x288 with 1 Axes>"
      ]
     },
     "metadata": {
      "needs_background": "light"
     },
     "output_type": "display_data"
    }
   ],
   "source": [
    "sns.pointplot(y=l,x=m)"
   ]
  },
  {
   "cell_type": "markdown",
   "metadata": {},
   "source": [
    "**Number of Features**"
   ]
  },
  {
   "cell_type": "code",
   "execution_count": 376,
   "metadata": {},
   "outputs": [],
   "source": [
    "def get_models():\n",
    "    models = dict()\n",
    "    for i in range(1,14):\n",
    "        models[str(i)] = GradientBoostingClassifier(max_features=i,random_state=42)\n",
    "    return models"
   ]
  },
  {
   "cell_type": "code",
   "execution_count": 377,
   "metadata": {},
   "outputs": [
    {
     "name": "stdout",
     "output_type": "stream",
     "text": [
      ">1 0.965 (0.070)\n",
      ">2 0.955 (0.058)\n",
      ">3 0.983 (0.050)\n",
      ">4 0.964 (0.058)\n",
      ">5 0.974 (0.054)\n",
      ">6 0.983 (0.050)\n",
      ">7 0.948 (0.108)\n",
      ">8 0.974 (0.054)\n",
      ">9 0.974 (0.054)\n",
      ">10 0.962 (0.061)\n",
      ">11 0.971 (0.059)\n",
      ">12 0.962 (0.061)\n",
      ">13 0.974 (0.054)\n"
     ]
    }
   ],
   "source": [
    "models = get_models()\n",
    "results, names = list(), list()\n",
    "for name, model in models.items():\n",
    "    scores = evaluate_model_recall_positive(model, X_test1,Y_test1)\n",
    "    results.append(scores)\n",
    "    names.append(name)\n",
    "    print('>%s %.3f (%.3f)' % (name, np.mean(scores), np.std(scores)))"
   ]
  },
  {
   "cell_type": "code",
   "execution_count": 378,
   "metadata": {},
   "outputs": [],
   "source": [
    "l=[]\n",
    "m=[]\n",
    "for x,y in models.items():\n",
    "    l.append(np.mean(evaluate_model_recall_positive(y, X_test1,Y_test1)))\n",
    "    m.append(x)"
   ]
  },
  {
   "cell_type": "code",
   "execution_count": 195,
   "metadata": {},
   "outputs": [
    {
     "data": {
      "text/plain": [
       "<AxesSubplot:>"
      ]
     },
     "execution_count": 195,
     "metadata": {},
     "output_type": "execute_result"
    },
    {
     "data": {
      "image/png": "[encoded data removed]",
      "text/plain": [
       "<Figure size 432x288 with 1 Axes>"
      ]
     },
     "metadata": {
      "needs_background": "light"
     },
     "output_type": "display_data"
    }
   ],
   "source": [
    "sns.pointplot(y=l,x=m)"
   ]
  },
  {
   "cell_type": "markdown",
   "metadata": {},
   "source": [
    "# Ensemble of Adaboost,Gboost,Etc"
   ]
  },
  {
   "cell_type": "code",
   "execution_count": 237,
   "metadata": {},
   "outputs": [
    {
     "data": {
      "text/plain": [
       "VotingClassifier(estimators=[('Adaboost',\n",
       "                              AdaBoostClassifier(learning_rate=1,\n",
       "                                                 n_estimators=250,\n",
       "                                                 random_state=42)),\n",
       "                             ('Gboost',\n",
       "                              GradientBoostingClassifier(learning_rate=0.8,\n",
       "                                                         max_depth=2,\n",
       "                                                         max_features=6,\n",
       "                                                         n_estimators=250,\n",
       "                                                         random_state=42)),\n",
       "                             ('etc',\n",
       "                              ExtraTreesClassifier(max_features=6,\n",
       "                                                   random_state=42))],\n",
       "                 voting='soft')"
      ]
     },
     "execution_count": 237,
     "metadata": {},
     "output_type": "execute_result"
    }
   ],
   "source": [
    "model2=VotingClassifier(estimators=[ ('Adaboost', Adaboost),('Gboost',Gboost),('etc',etc)], voting='soft')\n",
    "model2.fit(X_train1,Y_train1)"
   ]
  },
  {
   "cell_type": "markdown",
   "metadata": {},
   "source": [
    "# Ensemble of Adaboost,Gboost,knn"
   ]
  },
  {
   "cell_type": "code",
   "execution_count": 238,
   "metadata": {},
   "outputs": [
    {
     "data": {
      "text/plain": [
       "VotingClassifier(estimators=[('knn',\n",
       "                              AdaBoostClassifier(learning_rate=1,\n",
       "                                                 n_estimators=250,\n",
       "                                                 random_state=42)),\n",
       "                             ('LR', KNeighborsClassifier(n_neighbors=11)),\n",
       "                             ('rf',\n",
       "                              GradientBoostingClassifier(learning_rate=0.8,\n",
       "                                                         max_depth=2,\n",
       "                                                         max_features=6,\n",
       "                                                         n_estimators=250,\n",
       "                                                         random_state=42))],\n",
       "                 voting='soft')"
      ]
     },
     "execution_count": 238,
     "metadata": {},
     "output_type": "execute_result"
    }
   ],
   "source": [
    "model3=VotingClassifier(estimators=[ ('knn', Adaboost),('LR',knn),('rf',Gboost)], voting='soft')\n",
    "model3.fit(X_train1,Y_train1)"
   ]
  },
  {
   "cell_type": "markdown",
   "metadata": {},
   "source": [
    "# Ensemble of Adaboost,Gboost,rf"
   ]
  },
  {
   "cell_type": "code",
   "execution_count": 239,
   "metadata": {},
   "outputs": [
    {
     "data": {
      "text/plain": [
       "VotingClassifier(estimators=[('Adaboost',\n",
       "                              AdaBoostClassifier(learning_rate=1,\n",
       "                                                 n_estimators=250,\n",
       "                                                 random_state=42)),\n",
       "                             ('Gboost',\n",
       "                              GradientBoostingClassifier(learning_rate=0.8,\n",
       "                                                         max_depth=2,\n",
       "                                                         max_features=6,\n",
       "                                                         n_estimators=250,\n",
       "                                                         random_state=42)),\n",
       "                             ('rf',\n",
       "                              RandomForestClassifier(n_estimators=250,\n",
       "                                                     oob_score=True,\n",
       "                                                     random_state=42))],\n",
       "                 voting='soft')"
      ]
     },
     "execution_count": 239,
     "metadata": {},
     "output_type": "execute_result"
    }
   ],
   "source": [
    "model4=VotingClassifier(estimators=[ ('Adaboost', Adaboost),('Gboost',Gboost),('rf',rf)], voting='soft')\n",
    "model4.fit(X_train1,Y_train1)"
   ]
  },
  {
   "cell_type": "markdown",
   "metadata": {},
   "source": [
    "# Ensemble of Adaboost,Gboost"
   ]
  },
  {
   "cell_type": "code",
   "execution_count": 240,
   "metadata": {},
   "outputs": [
    {
     "data": {
      "text/plain": [
       "VotingClassifier(estimators=[('Adaboost',\n",
       "                              AdaBoostClassifier(learning_rate=1,\n",
       "                                                 n_estimators=250,\n",
       "                                                 random_state=42)),\n",
       "                             ('Gboost',\n",
       "                              GradientBoostingClassifier(learning_rate=0.8,\n",
       "                                                         max_depth=2,\n",
       "                                                         max_features=6,\n",
       "                                                         n_estimators=250,\n",
       "                                                         random_state=42))],\n",
       "                 voting='soft')"
      ]
     },
     "execution_count": 240,
     "metadata": {},
     "output_type": "execute_result"
    }
   ],
   "source": [
    "model5=VotingClassifier(estimators=[ ('Adaboost', Adaboost),('Gboost',Gboost)], voting='soft')\n",
    "model5.fit(X_train1,Y_train1)"
   ]
  },
  {
   "cell_type": "markdown",
   "metadata": {},
   "source": [
    "# Ensemble of classifier1,knn,svm"
   ]
  },
  {
   "cell_type": "code",
   "execution_count": 241,
   "metadata": {},
   "outputs": [
    {
     "data": {
      "text/plain": [
       "VotingClassifier(estimators=[('dt',\n",
       "                              DecisionTreeClassifier(criterion='entropy',\n",
       "                                                     max_depth=15,\n",
       "                                                     random_state=42)),\n",
       "                             ('knn', KNeighborsClassifier(n_neighbors=11)),\n",
       "                             ('svm', SVC(probability=True, random_state=42)),\n",
       "                             ('LR',\n",
       "                              LogisticRegression(C=0.03359818286283781,\n",
       "                                                 random_state=42,\n",
       "                                                 solver='liblinear'))],\n",
       "                 voting='soft')"
      ]
     },
     "execution_count": 241,
     "metadata": {},
     "output_type": "execute_result"
    }
   ],
   "source": [
    "model6=VotingClassifier(estimators=[ ('dt', classifier1),('knn',knn),('svm',svm),('LR',LR)], voting='soft')\n",
    "model6.fit(X_train1,Y_train1)"
   ]
  },
  {
   "cell_type": "markdown",
   "metadata": {},
   "source": [
    "# Confusion Matrix"
   ]
  },
  {
   "cell_type": "code",
   "execution_count": 242,
   "metadata": {},
   "outputs": [],
   "source": [
    "def conf_matrix(y_true,x_true,model):\n",
    "    ax= plt.subplot()\n",
    "    sns.heatmap(confusion_matrix(y_true, model.predict(x_true)), annot=True)\n",
    "    ax.set_xlabel('Predicted labels');\n",
    "    ax.set_ylabel('True labels'); \n",
    "    ax.set_title('Confusion Matrix'); \n",
    "    ax.xaxis.set_ticklabels(['Diabetes', 'No Diabetes']); ax.yaxis.set_ticklabels(['Diabetes', 'No Diabetes']);\n",
    "    return ax"
   ]
  },
  {
   "cell_type": "markdown",
   "metadata": {},
   "source": [
    "# testing scores"
   ]
  },
  {
   "cell_type": "code",
   "execution_count": 351,
   "metadata": {},
   "outputs": [
    {
     "name": "stdout",
     "output_type": "stream",
     "text": [
      "accuracy is:  0.8760526315789473\n",
      "diabetes recall is:  0.8473701298701298\n",
      "no diabetes recall is:  0.8947802197802197\n",
      "roc_auc is:  0.9374470529470529\n",
      "precision is:  0.8473701298701298\n"
     ]
    }
   ],
   "source": [
    "print(\"accuracy is: \",np.mean(evaluate_model_accuracy(nb,X_test1,Y_test1)))\n",
    "print(\"diabetes recall is: \",np.mean(evaluate_model_recall_positive(nb,X_test1,Y_test1)))\n",
    "print(\"no diabetes recall is: \",np.mean(evaluate_model_recall_negative(nb,X_test1,Y_test1)))\n",
    "print(\"roc_auc is: \",np.mean(evaluate_model_roc_auc(nb,X_test1,Y_test1)))\n",
    "print(\"precision is: \",np.mean(evaluate_model_precision(nb,X_test1,Y_test1)))"
   ]
  },
  {
   "cell_type": "code",
   "execution_count": 244,
   "metadata": {},
   "outputs": [
    {
     "name": "stdout",
     "output_type": "stream",
     "text": [
      "accuracy is:  0.9481578947368421\n",
      "diabetes recall is:  0.9742424242424242\n",
      "no diabetes recall is:  0.9052503052503053\n",
      "roc_auc is:  0.9837606837606838\n",
      "precision is:  0.9742424242424242\n"
     ]
    }
   ],
   "source": [
    "print(\"accuracy is: \",np.mean(evaluate_model_accuracy(Gboost,X_test1,Y_test1)))\n",
    "print(\"diabetes recall is: \",np.mean(evaluate_model_recall_positive(Gboost,X_test1,Y_test1)))\n",
    "print(\"no diabetes recall is: \",np.mean(evaluate_model_recall_negative(Gboost,X_test1,Y_test1)))\n",
    "print(\"roc_auc is: \",np.mean(evaluate_model_roc_auc(Gboost,X_test1,Y_test1)))\n",
    "print(\"precision is: \",np.mean(evaluate_model_precision(Gboost,X_test1,Y_test1)))"
   ]
  },
  {
   "cell_type": "code",
   "execution_count": 245,
   "metadata": {},
   "outputs": [
    {
     "name": "stdout",
     "output_type": "stream",
     "text": [
      "accuracy is:  0.9636842105263158\n",
      "diabetes recall is:  0.956547619047619\n",
      "no diabetes recall is:  0.9592185592185591\n",
      "roc_auc is:  0.9928515928515929\n",
      "precision is:  0.956547619047619\n"
     ]
    }
   ],
   "source": [
    "print(\"accuracy is: \",np.mean(evaluate_model_accuracy(etc,X_test1,Y_test1)))\n",
    "print(\"diabetes recall is: \",np.mean(evaluate_model_recall_positive(etc,X_test1,Y_test1)))\n",
    "print(\"no diabetes recall is: \",np.mean(evaluate_model_recall_negative(etc,X_test1,Y_test1)))\n",
    "print(\"roc_auc is: \",np.mean(evaluate_model_roc_auc(etc,X_test1,Y_test1)))\n",
    "print(\"precision is: \",np.mean(evaluate_model_precision(etc,X_test1,Y_test1)))"
   ]
  },
  {
   "cell_type": "markdown",
   "metadata": {},
   "source": [
    "# showing Confuction Matrix"
   ]
  },
  {
   "cell_type": "code",
   "execution_count": 357,
   "metadata": {},
   "outputs": [
    {
     "data": {
      "image/png": "[encoded data removed]",
      "text/plain": [
       "<Figure size 432x288 with 2 Axes>"
      ]
     },
     "metadata": {
      "needs_background": "light"
     },
     "output_type": "display_data"
    }
   ],
   "source": [
    "conf_matrix(Y_test1,X_test1,nb)\n",
    "plt.show()"
   ]
  },
  {
   "cell_type": "code",
   "execution_count": 247,
   "metadata": {},
   "outputs": [
    {
     "data": {
      "text/plain": [
       "No diabetes    98\n",
       "Diabetes       96\n",
       "Name: Diabetes, dtype: int64"
      ]
     },
     "execution_count": 247,
     "metadata": {},
     "output_type": "execute_result"
    }
   ],
   "source": [
    "Y_test1.value_counts()"
   ]
  },
  {
   "cell_type": "code",
   "execution_count": 248,
   "metadata": {},
   "outputs": [
    {
     "data": {
      "text/plain": [
       "Diabetes       100\n",
       "No diabetes     94\n",
       "dtype: int64"
      ]
     },
     "execution_count": 248,
     "metadata": {},
     "output_type": "execute_result"
    }
   ],
   "source": [
    "pd.DataFrame(etc.predict(X_test1)).value_counts()"
   ]
  },
  {
   "cell_type": "markdown",
   "metadata": {},
   "source": [
    "# plotting roc-auc curve"
   ]
  },
  {
   "cell_type": "code",
   "execution_count": 249,
   "metadata": {},
   "outputs": [],
   "source": [
    "import sklearn.metrics as metrics\n",
    "def roc_auc_curve(model,x,y):\n",
    "    probs = model.predict_proba(x)\n",
    "    preds = probs[:,0]\n",
    "    fpr, tpr, threshold = metrics.roc_curve(y, preds,pos_label=\"Diabetes\")\n",
    "    roc_auc = metrics.auc(fpr, tpr)\n",
    "    plt.title('Receiver Operating Characteristic')\n",
    "    plt.plot(fpr, tpr, 'b', label = 'AUC =%0.3f' % roc_auc)\n",
    "    plt.legend(loc = 'lower right')\n",
    "    plt.plot([0, 1], [0, 1],'r--')\n",
    "    plt.xlim([0, 1])\n",
    "    plt.ylim([0, 1.2])\n",
    "    plt.ylabel('True Positive Rate')\n",
    "    plt.xlabel('False Positive Rate')\n",
    "    return plt.show()\n",
    "\n"
   ]
  },
  {
   "cell_type": "code",
   "execution_count": 250,
   "metadata": {},
   "outputs": [
    {
     "data": {
      "image/png": "[encoded data removed]",
      "text/plain": [
       "<Figure size 432x288 with 1 Axes>"
      ]
     },
     "metadata": {
      "needs_background": "light"
     },
     "output_type": "display_data"
    }
   ],
   "source": [
    "roc_auc_curve(svm,X_test1,Y_test1)"
   ]
  },
  {
   "cell_type": "markdown",
   "metadata": {},
   "source": [
    "# All Scores"
   ]
  },
  {
   "cell_type": "code",
   "execution_count": 251,
   "metadata": {},
   "outputs": [],
   "source": [
    "scores_df=pd.DataFrame()\n",
    "\n",
    "LR_scores={'accuracy': [0.8868421052631579],\n",
    " 'recall_positive': [0.9058658008658009],\n",
    "\n",
    " 'roc_auc': [0.9233404928404928],\n",
    " 'precision': [0.9058658008658009],\n",
    " \"f1_score\":[0.9058658008658009]}\n",
    "\n",
    "scores_df=pd.DataFrame(LR_scores,index=[\"LR\"])\n",
    "\n",
    "scores_df.loc[\"knn\"] = [np.mean(evaluate_model_accuracy(knn,X_test1,Y_test1)),\n",
    "                        np.mean(evaluate_model_recall_positive(knn,X_test1,Y_test1)),\n",
    "               \n",
    "                       np.mean(evaluate_model_roc_auc(knn,X_test1,Y_test1)),\n",
    "                       np.mean(evaluate_model_precision(knn,X_test1,Y_test1)),\n",
    "                       np.mean(evaluate_model_f1score(knn,X_test1,Y_test1))]\n",
    "\n",
    "\n",
    "scores_df.loc[\"classifier1\"] = [np.mean(evaluate_model_accuracy(classifier1,X_test1,Y_test1)),\n",
    "                        np.mean(evaluate_model_recall_positive(classifier1,X_test1,Y_test1)),\n",
    "                 \n",
    "                       np.mean(evaluate_model_roc_auc(classifier1,X_test1,Y_test1)),\n",
    "                       np.mean(evaluate_model_precision(classifier1,X_test1,Y_test1)),\n",
    "                               np.mean(evaluate_model_f1score(classifier1,X_test1,Y_test1))]\n",
    "\n",
    "scores_df.loc[\"svm\"] = [np.mean(evaluate_model_accuracy(svm,X_test1,Y_test1)),\n",
    "                        np.mean(evaluate_model_recall_positive(svm,X_test1,Y_test1)),\n",
    "              \n",
    "                       np.mean(evaluate_model_roc_auc(svm,X_test1,Y_test1)),\n",
    "                       np.mean(evaluate_model_precision(svm,X_test1,Y_test1)),\n",
    "                       np.mean(evaluate_model_f1score(svm,X_test1,Y_test1))]\n",
    "\n",
    "scores_df.loc[\"nb\"] = [np.mean(evaluate_model_accuracy(nb,X_test1,Y_test1)),\n",
    "                        np.mean(evaluate_model_recall_positive(nb,X_test1,Y_test1)),\n",
    "                  \n",
    "                       np.mean(evaluate_model_roc_auc(nb,X_test1,Y_test1)),\n",
    "                       np.mean(evaluate_model_precision(nb,X_test1,Y_test1)),\n",
    "                      np.mean(evaluate_model_f1score(nb,X_test1,Y_test1))]\n",
    "\n",
    "scores_df.loc[\"rf\"] = [np.mean(evaluate_model_accuracy(rf,X_test1,Y_test1)),\n",
    "                        np.mean(evaluate_model_recall_positive(rf,X_test1,Y_test1)),\n",
    "                \n",
    "                       np.mean(evaluate_model_roc_auc(rf,X_test1,Y_test1)),\n",
    "                       np.mean(evaluate_model_precision(rf,X_test1,Y_test1)),\n",
    "                      np.mean(evaluate_model_f1score(rf,X_test1,Y_test1))]\n",
    "\n",
    "scores_df.loc[\"Gboost\"] = [np.mean(evaluate_model_accuracy(Gboost,X_test1,Y_test1)),\n",
    "                        np.mean(evaluate_model_recall_positive(Gboost,X_test1,Y_test1)),\n",
    "              \n",
    "                       np.mean(evaluate_model_roc_auc(Gboost,X_test1,Y_test1)),\n",
    "                       np.mean(evaluate_model_precision(Gboost,X_test1,Y_test1)),\n",
    "                          np.mean(evaluate_model_f1score(Gboost,X_test1,Y_test1))]\n",
    "\n",
    "scores_df.loc[\"Adaboost\"] = [np.mean(evaluate_model_accuracy(Adaboost,X_test1,Y_test1)),\n",
    "                        np.mean(evaluate_model_recall_positive(Adaboost,X_test1,Y_test1)),\n",
    "                  \n",
    "                       np.mean(evaluate_model_roc_auc(Adaboost,X_test1,Y_test1)),\n",
    "                       np.mean(evaluate_model_precision(Adaboost,X_test1,Y_test1)),\n",
    "                            np.mean(evaluate_model_f1score(Adaboost,X_test1,Y_test1))]\n",
    "\n",
    "scores_df.loc[\"etc\"] = [np.mean(evaluate_model_accuracy(etc,X_test1,Y_test1)),\n",
    "                        np.mean(evaluate_model_recall_positive(etc,X_test1,Y_test1)),\n",
    "                     \n",
    "                       np.mean(evaluate_model_roc_auc(etc,X_test1,Y_test1)),\n",
    "                       np.mean(evaluate_model_precision(etc,X_test1,Y_test1)),\n",
    "                       np.mean(evaluate_model_f1score(etc,X_test1,Y_test1))]\n",
    "\n",
    "scores_df.loc[\"model1\"] = [np.mean(evaluate_model_accuracy(model1,X_test1,Y_test1)),\n",
    "                        np.mean(evaluate_model_recall_positive(model1,X_test1,Y_test1)),\n",
    "                     \n",
    "                       np.mean(evaluate_model_roc_auc(model1,X_test1,Y_test1)),\n",
    "                       np.mean(evaluate_model_precision(model1,X_test1,Y_test1)),\n",
    "                       np.mean(evaluate_model_f1score(model1,X_test1,Y_test1))]\n",
    "\n",
    "scores_df.loc[\"model2\"] = [np.mean(evaluate_model_accuracy(model2,X_test1,Y_test1)),\n",
    "                        np.mean(evaluate_model_recall_positive(model2,X_test1,Y_test1)),\n",
    "                    \n",
    "                       np.mean(evaluate_model_roc_auc(model2,X_test1,Y_test1)),\n",
    "                       np.mean(evaluate_model_precision(model2,X_test1,Y_test1)),\n",
    "                       np.mean(evaluate_model_f1score(model2,X_test1,Y_test1))]\n",
    "\n",
    "scores_df.loc[\"model3\"]=[np.mean(evaluate_model_accuracy(model3,X_test1,Y_test1)),\n",
    "                        np.mean(evaluate_model_recall_positive(model3,X_test1,Y_test1)),\n",
    "                    \n",
    "                       np.mean(evaluate_model_roc_auc(model3,X_test1,Y_test1)),\n",
    "                       np.mean(evaluate_model_precision(model3,X_test1,Y_test1)),\n",
    "                       np.mean(evaluate_model_f1score(model3,X_test1,Y_test1))]\n",
    "\n",
    "scores_df.loc[\"model4\"]=[np.mean(evaluate_model_accuracy(model4,X_test1,Y_test1)),\n",
    "                        np.mean(evaluate_model_recall_positive(model4,X_test1,Y_test1)),\n",
    "                    \n",
    "                       np.mean(evaluate_model_roc_auc(model4,X_test1,Y_test1)),\n",
    "                       np.mean(evaluate_model_precision(model4,X_test1,Y_test1)),\n",
    "                       np.mean(evaluate_model_f1score(model4,X_test1,Y_test1))]\n",
    "\n",
    "scores_df.loc[\"model5\"]=[np.mean(evaluate_model_accuracy(model5,X_test1,Y_test1)),\n",
    "                        np.mean(evaluate_model_recall_positive(model5,X_test1,Y_test1)),\n",
    "                    \n",
    "                       np.mean(evaluate_model_roc_auc(model5,X_test1,Y_test1)),\n",
    "                       np.mean(evaluate_model_precision(model5,X_test1,Y_test1)),\n",
    "                       np.mean(evaluate_model_f1score(model5,X_test1,Y_test1))]\n",
    "\n",
    "\n",
    "scores_df.loc[\"model6\"]=[np.mean(evaluate_model_accuracy(model6,X_test1,Y_test1)),\n",
    "                        np.mean(evaluate_model_recall_positive(model6,X_test1,Y_test1)),\n",
    "                    \n",
    "                       np.mean(evaluate_model_roc_auc(model6,X_test1,Y_test1)),\n",
    "                       np.mean(evaluate_model_precision(model6,X_test1,Y_test1)),\n",
    "                       np.mean(evaluate_model_f1score(model6,X_test1,Y_test1))]"
   ]
  },
  {
   "cell_type": "code",
   "execution_count": 252,
   "metadata": {},
   "outputs": [],
   "source": [
    "scores_df[\"total_scores\"] = scores_df.sum(axis=1)"
   ]
  },
  {
   "cell_type": "code",
   "execution_count": 346,
   "metadata": {},
   "outputs": [
    {
     "data": {
      "text/html": [
       "<div>\n",
       "<style scoped>\n",
       "    .dataframe tbody tr th:only-of-type {\n",
       "        vertical-align: middle;\n",
       "    }\n",
       "\n",
       "    .dataframe tbody tr th {\n",
       "        vertical-align: top;\n",
       "    }\n",
       "\n",
       "    .dataframe thead th {\n",
       "        text-align: right;\n",
       "    }\n",
       "</style>\n",
       "<table border=\"1\" class=\"dataframe\">\n",
       "  <thead>\n",
       "    <tr style=\"text-align: right;\">\n",
       "      <th></th>\n",
       "      <th>accuracy</th>\n",
       "      <th>recall_positive</th>\n",
       "      <th>roc_auc</th>\n",
       "      <th>precision</th>\n",
       "      <th>f1_score</th>\n",
       "      <th>total_scores</th>\n",
       "    </tr>\n",
       "  </thead>\n",
       "  <tbody>\n",
       "    <tr>\n",
       "      <th>Adaboost</th>\n",
       "      <td>0.953421</td>\n",
       "      <td>0.990000</td>\n",
       "      <td>0.975990</td>\n",
       "      <td>0.990000</td>\n",
       "      <td>0.990000</td>\n",
       "      <td>4.899411</td>\n",
       "    </tr>\n",
       "    <tr>\n",
       "      <th>model2</th>\n",
       "      <td>0.963421</td>\n",
       "      <td>0.983333</td>\n",
       "      <td>0.992852</td>\n",
       "      <td>0.983333</td>\n",
       "      <td>0.983333</td>\n",
       "      <td>4.906273</td>\n",
       "    </tr>\n",
       "    <tr>\n",
       "      <th>model3</th>\n",
       "      <td>0.963421</td>\n",
       "      <td>0.983333</td>\n",
       "      <td>0.985251</td>\n",
       "      <td>0.983333</td>\n",
       "      <td>0.983333</td>\n",
       "      <td>4.898672</td>\n",
       "    </tr>\n",
       "    <tr>\n",
       "      <th>Gboost</th>\n",
       "      <td>0.948158</td>\n",
       "      <td>0.974242</td>\n",
       "      <td>0.983761</td>\n",
       "      <td>0.974242</td>\n",
       "      <td>0.974242</td>\n",
       "      <td>4.854646</td>\n",
       "    </tr>\n",
       "    <tr>\n",
       "      <th>model4</th>\n",
       "      <td>0.958421</td>\n",
       "      <td>0.974242</td>\n",
       "      <td>0.991841</td>\n",
       "      <td>0.974242</td>\n",
       "      <td>0.974242</td>\n",
       "      <td>4.872990</td>\n",
       "    </tr>\n",
       "    <tr>\n",
       "      <th>model5</th>\n",
       "      <td>0.948158</td>\n",
       "      <td>0.974242</td>\n",
       "      <td>0.977078</td>\n",
       "      <td>0.974242</td>\n",
       "      <td>0.974242</td>\n",
       "      <td>4.847964</td>\n",
       "    </tr>\n",
       "    <tr>\n",
       "      <th>knn</th>\n",
       "      <td>0.870789</td>\n",
       "      <td>0.964242</td>\n",
       "      <td>0.948360</td>\n",
       "      <td>0.964242</td>\n",
       "      <td>0.964242</td>\n",
       "      <td>4.711877</td>\n",
       "    </tr>\n",
       "    <tr>\n",
       "      <th>rf</th>\n",
       "      <td>0.968947</td>\n",
       "      <td>0.960833</td>\n",
       "      <td>0.991841</td>\n",
       "      <td>0.960833</td>\n",
       "      <td>0.960833</td>\n",
       "      <td>4.843289</td>\n",
       "    </tr>\n",
       "    <tr>\n",
       "      <th>etc</th>\n",
       "      <td>0.963684</td>\n",
       "      <td>0.956548</td>\n",
       "      <td>0.992852</td>\n",
       "      <td>0.956548</td>\n",
       "      <td>0.956548</td>\n",
       "      <td>4.826179</td>\n",
       "    </tr>\n",
       "    <tr>\n",
       "      <th>model6</th>\n",
       "      <td>0.912368</td>\n",
       "      <td>0.942652</td>\n",
       "      <td>0.976748</td>\n",
       "      <td>0.942652</td>\n",
       "      <td>0.942652</td>\n",
       "      <td>4.717071</td>\n",
       "    </tr>\n",
       "    <tr>\n",
       "      <th>svm</th>\n",
       "      <td>0.922632</td>\n",
       "      <td>0.918366</td>\n",
       "      <td>0.976922</td>\n",
       "      <td>0.918366</td>\n",
       "      <td>0.918366</td>\n",
       "      <td>4.654651</td>\n",
       "    </tr>\n",
       "    <tr>\n",
       "      <th>LR</th>\n",
       "      <td>0.886842</td>\n",
       "      <td>0.905866</td>\n",
       "      <td>0.923340</td>\n",
       "      <td>0.905866</td>\n",
       "      <td>0.905866</td>\n",
       "      <td>4.527780</td>\n",
       "    </tr>\n",
       "    <tr>\n",
       "      <th>model1</th>\n",
       "      <td>0.907368</td>\n",
       "      <td>0.905866</td>\n",
       "      <td>0.976659</td>\n",
       "      <td>0.905866</td>\n",
       "      <td>0.905866</td>\n",
       "      <td>4.601625</td>\n",
       "    </tr>\n",
       "    <tr>\n",
       "      <th>classifier1</th>\n",
       "      <td>0.876842</td>\n",
       "      <td>0.881894</td>\n",
       "      <td>0.870843</td>\n",
       "      <td>0.881894</td>\n",
       "      <td>0.881894</td>\n",
       "      <td>4.393367</td>\n",
       "    </tr>\n",
       "    <tr>\n",
       "      <th>nb</th>\n",
       "      <td>0.876053</td>\n",
       "      <td>0.847370</td>\n",
       "      <td>0.937447</td>\n",
       "      <td>0.847370</td>\n",
       "      <td>0.847370</td>\n",
       "      <td>4.355610</td>\n",
       "    </tr>\n",
       "  </tbody>\n",
       "</table>\n",
       "</div>"
      ],
      "text/plain": [
       "             accuracy  recall_positive   roc_auc  precision  f1_score  \\\n",
       "Adaboost     0.953421         0.990000  0.975990   0.990000  0.990000   \n",
       "model2       0.963421         0.983333  0.992852   0.983333  0.983333   \n",
       "model3       0.963421         0.983333  0.985251   0.983333  0.983333   \n",
       "Gboost       0.948158         0.974242  0.983761   0.974242  0.974242   \n",
       "model4       0.958421         0.974242  0.991841   0.974242  0.974242   \n",
       "model5       0.948158         0.974242  0.977078   0.974242  0.974242   \n",
       "knn          0.870789         0.964242  0.948360   0.964242  0.964242   \n",
       "rf           0.968947         0.960833  0.991841   0.960833  0.960833   \n",
       "etc          0.963684         0.956548  0.992852   0.956548  0.956548   \n",
       "model6       0.912368         0.942652  0.976748   0.942652  0.942652   \n",
       "svm          0.922632         0.918366  0.976922   0.918366  0.918366   \n",
       "LR           0.886842         0.905866  0.923340   0.905866  0.905866   \n",
       "model1       0.907368         0.905866  0.976659   0.905866  0.905866   \n",
       "classifier1  0.876842         0.881894  0.870843   0.881894  0.881894   \n",
       "nb           0.876053         0.847370  0.937447   0.847370  0.847370   \n",
       "\n",
       "             total_scores  \n",
       "Adaboost         4.899411  \n",
       "model2           4.906273  \n",
       "model3           4.898672  \n",
       "Gboost           4.854646  \n",
       "model4           4.872990  \n",
       "model5           4.847964  \n",
       "knn              4.711877  \n",
       "rf               4.843289  \n",
       "etc              4.826179  \n",
       "model6           4.717071  \n",
       "svm              4.654651  \n",
       "LR               4.527780  \n",
       "model1           4.601625  \n",
       "classifier1      4.393367  \n",
       "nb               4.355610  "
      ]
     },
     "execution_count": 346,
     "metadata": {},
     "output_type": "execute_result"
    }
   ],
   "source": [
    "scores_df.sort_values(by=\"f1_score\",ascending=False)"
   ]
  },
  {
   "cell_type": "markdown",
   "metadata": {},
   "source": [
    "# Individual model scores"
   ]
  },
  {
   "cell_type": "code",
   "execution_count": 254,
   "metadata": {},
   "outputs": [],
   "source": [
    "individual_scores=pd.DataFrame()\n",
    "\n",
    "LR_scores={'accuracy': [0.8868421052631579],\n",
    " 'recall_positive': [0.9058658008658009],\n",
    "\n",
    " 'roc_auc': [0.9233404928404928],\n",
    " 'precision': [0.9058658008658009],\n",
    " \"f1_score\":[0.9058658008658009]}\n",
    "\n",
    "individual_scores=pd.DataFrame(LR_scores,index=[\"LR\"])\n",
    "\n",
    "individual_scores.loc[\"knn\"] = [np.mean(evaluate_model_accuracy(knn,X_test1,Y_test1)),\n",
    "                        np.mean(evaluate_model_recall_positive(knn,X_test1,Y_test1)),\n",
    "               \n",
    "                       np.mean(evaluate_model_roc_auc(knn,X_test1,Y_test1)),\n",
    "                       np.mean(evaluate_model_precision(knn,X_test1,Y_test1)),\n",
    "                       np.mean(evaluate_model_f1score(knn,X_test1,Y_test1))]\n",
    "\n",
    "\n",
    "individual_scores.loc[\"classifier1\"] = [np.mean(evaluate_model_accuracy(classifier1,X_test1,Y_test1)),\n",
    "                        np.mean(evaluate_model_recall_positive(classifier1,X_test1,Y_test1)),\n",
    "                 \n",
    "                       np.mean(evaluate_model_roc_auc(classifier1,X_test1,Y_test1)),\n",
    "                       np.mean(evaluate_model_precision(classifier1,X_test1,Y_test1)),\n",
    "                               np.mean(evaluate_model_f1score(classifier1,X_test1,Y_test1))]\n",
    "\n",
    "individual_scores.loc[\"svm\"] = [np.mean(evaluate_model_accuracy(svm,X_test1,Y_test1)),\n",
    "                        np.mean(evaluate_model_recall_positive(svm,X_test1,Y_test1)),\n",
    "              \n",
    "                       np.mean(evaluate_model_roc_auc(svm,X_test1,Y_test1)),\n",
    "                       np.mean(evaluate_model_precision(svm,X_test1,Y_test1)),\n",
    "                       np.mean(evaluate_model_f1score(svm,X_test1,Y_test1))]\n",
    "\n",
    "individual_scores.loc[\"nb\"] = [np.mean(evaluate_model_accuracy(nb,X_test1,Y_test1)),\n",
    "                        np.mean(evaluate_model_recall_positive(nb,X_test1,Y_test1)),\n",
    "                  \n",
    "                       np.mean(evaluate_model_roc_auc(nb,X_test1,Y_test1)),\n",
    "                       np.mean(evaluate_model_precision(nb,X_test1,Y_test1)),\n",
    "                      np.mean(evaluate_model_f1score(nb,X_test1,Y_test1))]"
   ]
  },
  {
   "cell_type": "code",
   "execution_count": 316,
   "metadata": {},
   "outputs": [
    {
     "data": {
      "text/html": [
       "<div>\n",
       "<style scoped>\n",
       "    .dataframe tbody tr th:only-of-type {\n",
       "        vertical-align: middle;\n",
       "    }\n",
       "\n",
       "    .dataframe tbody tr th {\n",
       "        vertical-align: top;\n",
       "    }\n",
       "\n",
       "    .dataframe thead th {\n",
       "        text-align: right;\n",
       "    }\n",
       "</style>\n",
       "<table border=\"1\" class=\"dataframe\">\n",
       "  <thead>\n",
       "    <tr style=\"text-align: right;\">\n",
       "      <th></th>\n",
       "      <th>accuracy</th>\n",
       "      <th>recall_positive</th>\n",
       "      <th>roc_auc</th>\n",
       "      <th>precision</th>\n",
       "      <th>f1_score</th>\n",
       "    </tr>\n",
       "  </thead>\n",
       "  <tbody>\n",
       "    <tr>\n",
       "      <th>knn</th>\n",
       "      <td>0.870789</td>\n",
       "      <td>0.964242</td>\n",
       "      <td>0.948360</td>\n",
       "      <td>0.964242</td>\n",
       "      <td>0.964242</td>\n",
       "    </tr>\n",
       "    <tr>\n",
       "      <th>svm</th>\n",
       "      <td>0.922632</td>\n",
       "      <td>0.918366</td>\n",
       "      <td>0.976922</td>\n",
       "      <td>0.918366</td>\n",
       "      <td>0.918366</td>\n",
       "    </tr>\n",
       "    <tr>\n",
       "      <th>LR</th>\n",
       "      <td>0.886842</td>\n",
       "      <td>0.905866</td>\n",
       "      <td>0.923340</td>\n",
       "      <td>0.905866</td>\n",
       "      <td>0.905866</td>\n",
       "    </tr>\n",
       "    <tr>\n",
       "      <th>classifier1</th>\n",
       "      <td>0.876842</td>\n",
       "      <td>0.881894</td>\n",
       "      <td>0.870843</td>\n",
       "      <td>0.881894</td>\n",
       "      <td>0.881894</td>\n",
       "    </tr>\n",
       "    <tr>\n",
       "      <th>nb</th>\n",
       "      <td>0.876053</td>\n",
       "      <td>0.847370</td>\n",
       "      <td>0.937447</td>\n",
       "      <td>0.847370</td>\n",
       "      <td>0.847370</td>\n",
       "    </tr>\n",
       "  </tbody>\n",
       "</table>\n",
       "</div>"
      ],
      "text/plain": [
       "             accuracy  recall_positive   roc_auc  precision  f1_score\n",
       "knn          0.870789         0.964242  0.948360   0.964242  0.964242\n",
       "svm          0.922632         0.918366  0.976922   0.918366  0.918366\n",
       "LR           0.886842         0.905866  0.923340   0.905866  0.905866\n",
       "classifier1  0.876842         0.881894  0.870843   0.881894  0.881894\n",
       "nb           0.876053         0.847370  0.937447   0.847370  0.847370"
      ]
     },
     "execution_count": 316,
     "metadata": {},
     "output_type": "execute_result"
    }
   ],
   "source": [
    "individual_scores.sort_values(by=\"recall_positive\",ascending=False)"
   ]
  },
  {
   "cell_type": "markdown",
   "metadata": {},
   "source": [
    "# Ensemble Models Scores"
   ]
  },
  {
   "cell_type": "code",
   "execution_count": 256,
   "metadata": {},
   "outputs": [],
   "source": [
    "Ensemble_scores=pd.DataFrame()\n",
    "\n",
    "rf_scores={'accuracy': [0.9689473684210526],\n",
    " 'recall_positive': [0.9517424242424243],\n",
    "\n",
    " 'roc_auc': [0.9931235431235432],\n",
    " 'precision': [0.9608333333333334],\n",
    " \"f1_score\":[0.9608333333333334]}\n",
    "\n",
    "Ensemble_scores=pd.DataFrame(rf_scores,index=[\"rf\"])\n",
    "\n",
    "\n",
    "Ensemble_scores.loc[\"Gboost\"] = [np.mean(evaluate_model_accuracy(Gboost,X_test1,Y_test1)),\n",
    "                        np.mean(evaluate_model_recall_positive(Gboost,X_test1,Y_test1)),\n",
    "              \n",
    "                       np.mean(evaluate_model_roc_auc(Gboost,X_test1,Y_test1)),\n",
    "                       np.mean(evaluate_model_precision(Gboost,X_test1,Y_test1)),\n",
    "                          np.mean(evaluate_model_f1score(Gboost,X_test1,Y_test1))]\n",
    "\n",
    "Ensemble_scores.loc[\"Adaboost\"] = [np.mean(evaluate_model_accuracy(Adaboost,X_test1,Y_test1)),\n",
    "                        np.mean(evaluate_model_recall_positive(Adaboost,X_test1,Y_test1)),\n",
    "                  \n",
    "                       np.mean(evaluate_model_roc_auc(Adaboost,X_test1,Y_test1)),\n",
    "                       np.mean(evaluate_model_precision(Adaboost,X_test1,Y_test1)),\n",
    "                            np.mean(evaluate_model_f1score(Adaboost,X_test1,Y_test1))]\n",
    "\n",
    "Ensemble_scores.loc[\"etc\"] = [np.mean(evaluate_model_accuracy(etc,X_test1,Y_test1)),\n",
    "                        np.mean(evaluate_model_recall_positive(etc,X_test1,Y_test1)),\n",
    "                     \n",
    "                       np.mean(evaluate_model_roc_auc(etc,X_test1,Y_test1)),\n",
    "                       np.mean(evaluate_model_precision(etc,X_test1,Y_test1)),\n",
    "                       np.mean(evaluate_model_f1score(etc,X_test1,Y_test1))]"
   ]
  },
  {
   "cell_type": "code",
   "execution_count": 317,
   "metadata": {},
   "outputs": [
    {
     "data": {
      "text/html": [
       "<div>\n",
       "<style scoped>\n",
       "    .dataframe tbody tr th:only-of-type {\n",
       "        vertical-align: middle;\n",
       "    }\n",
       "\n",
       "    .dataframe tbody tr th {\n",
       "        vertical-align: top;\n",
       "    }\n",
       "\n",
       "    .dataframe thead th {\n",
       "        text-align: right;\n",
       "    }\n",
       "</style>\n",
       "<table border=\"1\" class=\"dataframe\">\n",
       "  <thead>\n",
       "    <tr style=\"text-align: right;\">\n",
       "      <th></th>\n",
       "      <th>accuracy</th>\n",
       "      <th>recall_positive</th>\n",
       "      <th>roc_auc</th>\n",
       "      <th>precision</th>\n",
       "      <th>f1_score</th>\n",
       "    </tr>\n",
       "  </thead>\n",
       "  <tbody>\n",
       "    <tr>\n",
       "      <th>Adaboost</th>\n",
       "      <td>0.953421</td>\n",
       "      <td>0.990000</td>\n",
       "      <td>0.975990</td>\n",
       "      <td>0.990000</td>\n",
       "      <td>0.990000</td>\n",
       "    </tr>\n",
       "    <tr>\n",
       "      <th>Gboost</th>\n",
       "      <td>0.948158</td>\n",
       "      <td>0.974242</td>\n",
       "      <td>0.983761</td>\n",
       "      <td>0.974242</td>\n",
       "      <td>0.974242</td>\n",
       "    </tr>\n",
       "    <tr>\n",
       "      <th>etc</th>\n",
       "      <td>0.963684</td>\n",
       "      <td>0.956548</td>\n",
       "      <td>0.992852</td>\n",
       "      <td>0.956548</td>\n",
       "      <td>0.956548</td>\n",
       "    </tr>\n",
       "    <tr>\n",
       "      <th>rf</th>\n",
       "      <td>0.968947</td>\n",
       "      <td>0.951742</td>\n",
       "      <td>0.993124</td>\n",
       "      <td>0.960833</td>\n",
       "      <td>0.960833</td>\n",
       "    </tr>\n",
       "  </tbody>\n",
       "</table>\n",
       "</div>"
      ],
      "text/plain": [
       "          accuracy  recall_positive   roc_auc  precision  f1_score\n",
       "Adaboost  0.953421         0.990000  0.975990   0.990000  0.990000\n",
       "Gboost    0.948158         0.974242  0.983761   0.974242  0.974242\n",
       "etc       0.963684         0.956548  0.992852   0.956548  0.956548\n",
       "rf        0.968947         0.951742  0.993124   0.960833  0.960833"
      ]
     },
     "execution_count": 317,
     "metadata": {},
     "output_type": "execute_result"
    }
   ],
   "source": [
    "Ensemble_scores.sort_values(by=\"recall_positive\",ascending=False)"
   ]
  },
  {
   "cell_type": "markdown",
   "metadata": {},
   "source": [
    "# Custom Ensemble Models"
   ]
  },
  {
   "cell_type": "code",
   "execution_count": 258,
   "metadata": {},
   "outputs": [],
   "source": [
    "custom_custom_ensemble_scores=pd.DataFrame()\n",
    "\n",
    "model1_scores={'accuracy': [0.9021052631578949],\n",
    " 'recall_positive': [ 0.9058658008658009],\n",
    "\n",
    " 'roc_auc': [0.9726289266289267],\n",
    " 'precision': [0.9058658008658009],\n",
    " \"f1_score\":[ 0.9058658008658009]}\n",
    "\n",
    "custom_ensemble_scores=pd.DataFrame(model1_scores,index=[\"model1\"])\n",
    "\n",
    "\n",
    "custom_ensemble_scores.loc[\"model2\"] = [np.mean(evaluate_model_accuracy(model2,X_test1,Y_test1)),\n",
    "                        np.mean(evaluate_model_recall_positive(model2,X_test1,Y_test1)),\n",
    "                    \n",
    "                       np.mean(evaluate_model_roc_auc(model2,X_test1,Y_test1)),\n",
    "                       np.mean(evaluate_model_precision(model2,X_test1,Y_test1)),\n",
    "                       np.mean(evaluate_model_f1score(model2,X_test1,Y_test1))]\n",
    "\n",
    "custom_ensemble_scores.loc[\"model3\"]=[np.mean(evaluate_model_accuracy(model3,X_test1,Y_test1)),\n",
    "                        np.mean(evaluate_model_recall_positive(model3,X_test1,Y_test1)),\n",
    "                    \n",
    "                       np.mean(evaluate_model_roc_auc(model3,X_test1,Y_test1)),\n",
    "                       np.mean(evaluate_model_precision(model3,X_test1,Y_test1)),\n",
    "                       np.mean(evaluate_model_f1score(model3,X_test1,Y_test1))]\n",
    "\n",
    "custom_ensemble_scores.loc[\"model4\"]=[np.mean(evaluate_model_accuracy(model4,X_test1,Y_test1)),\n",
    "                        np.mean(evaluate_model_recall_positive(model4,X_test1,Y_test1)),\n",
    "                    \n",
    "                       np.mean(evaluate_model_roc_auc(model4,X_test1,Y_test1)),\n",
    "                       np.mean(evaluate_model_precision(model4,X_test1,Y_test1)),\n",
    "                       np.mean(evaluate_model_f1score(model4,X_test1,Y_test1))]\n",
    "\n",
    "custom_ensemble_scores.loc[\"model5\"]=[np.mean(evaluate_model_accuracy(model5,X_test1,Y_test1)),\n",
    "                        np.mean(evaluate_model_recall_positive(model5,X_test1,Y_test1)),\n",
    "                    \n",
    "                       np.mean(evaluate_model_roc_auc(model5,X_test1,Y_test1)),\n",
    "                       np.mean(evaluate_model_precision(model5,X_test1,Y_test1)),\n",
    "                       np.mean(evaluate_model_f1score(model5,X_test1,Y_test1))]\n",
    "\n",
    "\n",
    "custom_ensemble_scores.loc[\"model6\"]=[np.mean(evaluate_model_accuracy(model6,X_test1,Y_test1)),\n",
    "                        np.mean(evaluate_model_recall_positive(model6,X_test1,Y_test1)),\n",
    "                    \n",
    "                       np.mean(evaluate_model_roc_auc(model6,X_test1,Y_test1)),\n",
    "                       np.mean(evaluate_model_precision(model6,X_test1,Y_test1)),\n",
    "                       np.mean(evaluate_model_f1score(model6,X_test1,Y_test1))]\n",
    "\n",
    "custom_ensemble_scores.loc[\"model1\"] = [np.mean(evaluate_model_accuracy(model1,X_test1,Y_test1)),\n",
    "                        np.mean(evaluate_model_recall_positive(model1,X_test1,Y_test1)),\n",
    "                    \n",
    "                       np.mean(evaluate_model_roc_auc(model1,X_test1,Y_test1)),\n",
    "                       np.mean(evaluate_model_precision(model1,X_test1,Y_test1)),\n",
    "                       np.mean(evaluate_model_f1score(model1,X_test1,Y_test1))]\n"
   ]
  },
  {
   "cell_type": "code",
   "execution_count": 339,
   "metadata": {},
   "outputs": [
    {
     "data": {
      "text/html": [
       "<div>\n",
       "<style scoped>\n",
       "    .dataframe tbody tr th:only-of-type {\n",
       "        vertical-align: middle;\n",
       "    }\n",
       "\n",
       "    .dataframe tbody tr th {\n",
       "        vertical-align: top;\n",
       "    }\n",
       "\n",
       "    .dataframe thead th {\n",
       "        text-align: right;\n",
       "    }\n",
       "</style>\n",
       "<table border=\"1\" class=\"dataframe\">\n",
       "  <thead>\n",
       "    <tr style=\"text-align: right;\">\n",
       "      <th></th>\n",
       "      <th>accuracy</th>\n",
       "      <th>recall_positive</th>\n",
       "      <th>roc_auc</th>\n",
       "      <th>precision</th>\n",
       "      <th>f1_score</th>\n",
       "    </tr>\n",
       "  </thead>\n",
       "  <tbody>\n",
       "    <tr>\n",
       "      <th>model2</th>\n",
       "      <td>0.963421</td>\n",
       "      <td>0.983333</td>\n",
       "      <td>0.992852</td>\n",
       "      <td>0.983333</td>\n",
       "      <td>0.983333</td>\n",
       "    </tr>\n",
       "    <tr>\n",
       "      <th>model3</th>\n",
       "      <td>0.963421</td>\n",
       "      <td>0.983333</td>\n",
       "      <td>0.985251</td>\n",
       "      <td>0.983333</td>\n",
       "      <td>0.983333</td>\n",
       "    </tr>\n",
       "    <tr>\n",
       "      <th>model4</th>\n",
       "      <td>0.958421</td>\n",
       "      <td>0.974242</td>\n",
       "      <td>0.991841</td>\n",
       "      <td>0.974242</td>\n",
       "      <td>0.974242</td>\n",
       "    </tr>\n",
       "    <tr>\n",
       "      <th>model5</th>\n",
       "      <td>0.948158</td>\n",
       "      <td>0.974242</td>\n",
       "      <td>0.977078</td>\n",
       "      <td>0.974242</td>\n",
       "      <td>0.974242</td>\n",
       "    </tr>\n",
       "    <tr>\n",
       "      <th>model6</th>\n",
       "      <td>0.912368</td>\n",
       "      <td>0.942652</td>\n",
       "      <td>0.976748</td>\n",
       "      <td>0.942652</td>\n",
       "      <td>0.942652</td>\n",
       "    </tr>\n",
       "    <tr>\n",
       "      <th>model1</th>\n",
       "      <td>0.907368</td>\n",
       "      <td>0.905866</td>\n",
       "      <td>0.976659</td>\n",
       "      <td>0.905866</td>\n",
       "      <td>0.905866</td>\n",
       "    </tr>\n",
       "  </tbody>\n",
       "</table>\n",
       "</div>"
      ],
      "text/plain": [
       "        accuracy  recall_positive   roc_auc  precision  f1_score\n",
       "model2  0.963421         0.983333  0.992852   0.983333  0.983333\n",
       "model3  0.963421         0.983333  0.985251   0.983333  0.983333\n",
       "model4  0.958421         0.974242  0.991841   0.974242  0.974242\n",
       "model5  0.948158         0.974242  0.977078   0.974242  0.974242\n",
       "model6  0.912368         0.942652  0.976748   0.942652  0.942652\n",
       "model1  0.907368         0.905866  0.976659   0.905866  0.905866"
      ]
     },
     "execution_count": 339,
     "metadata": {},
     "output_type": "execute_result"
    }
   ],
   "source": [
    "custom_ensemble_scores.sort_values(by=\"recall_positive\",ascending=False)"
   ]
  },
  {
   "cell_type": "code",
   "execution_count": 336,
   "metadata": {},
   "outputs": [
    {
     "data": {
      "text/html": [
       "<div>\n",
       "<style scoped>\n",
       "    .dataframe tbody tr th:only-of-type {\n",
       "        vertical-align: middle;\n",
       "    }\n",
       "\n",
       "    .dataframe tbody tr th {\n",
       "        vertical-align: top;\n",
       "    }\n",
       "\n",
       "    .dataframe thead th {\n",
       "        text-align: right;\n",
       "    }\n",
       "</style>\n",
       "<table border=\"1\" class=\"dataframe\">\n",
       "  <thead>\n",
       "    <tr style=\"text-align: right;\">\n",
       "      <th></th>\n",
       "      <th>accuracy</th>\n",
       "      <th>recall_positive</th>\n",
       "      <th>roc_auc</th>\n",
       "      <th>precision</th>\n",
       "      <th>f1_score</th>\n",
       "    </tr>\n",
       "  </thead>\n",
       "  <tbody>\n",
       "    <tr>\n",
       "      <th>rf</th>\n",
       "      <td>0.968947</td>\n",
       "      <td>0.951742</td>\n",
       "      <td>0.993124</td>\n",
       "      <td>0.960833</td>\n",
       "      <td>0.960833</td>\n",
       "    </tr>\n",
       "    <tr>\n",
       "      <th>etc</th>\n",
       "      <td>0.963684</td>\n",
       "      <td>0.956548</td>\n",
       "      <td>0.992852</td>\n",
       "      <td>0.956548</td>\n",
       "      <td>0.956548</td>\n",
       "    </tr>\n",
       "    <tr>\n",
       "      <th>Adaboost</th>\n",
       "      <td>0.953421</td>\n",
       "      <td>0.990000</td>\n",
       "      <td>0.975990</td>\n",
       "      <td>0.990000</td>\n",
       "      <td>0.990000</td>\n",
       "    </tr>\n",
       "    <tr>\n",
       "      <th>Gboost</th>\n",
       "      <td>0.948158</td>\n",
       "      <td>0.974242</td>\n",
       "      <td>0.983761</td>\n",
       "      <td>0.974242</td>\n",
       "      <td>0.974242</td>\n",
       "    </tr>\n",
       "  </tbody>\n",
       "</table>\n",
       "</div>"
      ],
      "text/plain": [
       "          accuracy  recall_positive   roc_auc  precision  f1_score\n",
       "rf        0.968947         0.951742  0.993124   0.960833  0.960833\n",
       "etc       0.963684         0.956548  0.992852   0.956548  0.956548\n",
       "Adaboost  0.953421         0.990000  0.975990   0.990000  0.990000\n",
       "Gboost    0.948158         0.974242  0.983761   0.974242  0.974242"
      ]
     },
     "execution_count": 336,
     "metadata": {},
     "output_type": "execute_result"
    }
   ],
   "source": [
    "Ensemble_scores.sort_values(by=\"accuracy\",ascending=False)"
   ]
  },
  {
   "cell_type": "code",
   "execution_count": 335,
   "metadata": {},
   "outputs": [
    {
     "data": {
      "text/html": [
       "<div>\n",
       "<style scoped>\n",
       "    .dataframe tbody tr th:only-of-type {\n",
       "        vertical-align: middle;\n",
       "    }\n",
       "\n",
       "    .dataframe tbody tr th {\n",
       "        vertical-align: top;\n",
       "    }\n",
       "\n",
       "    .dataframe thead th {\n",
       "        text-align: right;\n",
       "    }\n",
       "</style>\n",
       "<table border=\"1\" class=\"dataframe\">\n",
       "  <thead>\n",
       "    <tr style=\"text-align: right;\">\n",
       "      <th></th>\n",
       "      <th>accuracy</th>\n",
       "      <th>recall_positive</th>\n",
       "      <th>roc_auc</th>\n",
       "      <th>precision</th>\n",
       "      <th>f1_score</th>\n",
       "    </tr>\n",
       "  </thead>\n",
       "  <tbody>\n",
       "    <tr>\n",
       "      <th>svm</th>\n",
       "      <td>0.922632</td>\n",
       "      <td>0.918366</td>\n",
       "      <td>0.976922</td>\n",
       "      <td>0.918366</td>\n",
       "      <td>0.918366</td>\n",
       "    </tr>\n",
       "    <tr>\n",
       "      <th>LR</th>\n",
       "      <td>0.886842</td>\n",
       "      <td>0.905866</td>\n",
       "      <td>0.923340</td>\n",
       "      <td>0.905866</td>\n",
       "      <td>0.905866</td>\n",
       "    </tr>\n",
       "    <tr>\n",
       "      <th>classifier1</th>\n",
       "      <td>0.876842</td>\n",
       "      <td>0.881894</td>\n",
       "      <td>0.870843</td>\n",
       "      <td>0.881894</td>\n",
       "      <td>0.881894</td>\n",
       "    </tr>\n",
       "    <tr>\n",
       "      <th>nb</th>\n",
       "      <td>0.876053</td>\n",
       "      <td>0.847370</td>\n",
       "      <td>0.937447</td>\n",
       "      <td>0.847370</td>\n",
       "      <td>0.847370</td>\n",
       "    </tr>\n",
       "    <tr>\n",
       "      <th>knn</th>\n",
       "      <td>0.870789</td>\n",
       "      <td>0.964242</td>\n",
       "      <td>0.948360</td>\n",
       "      <td>0.964242</td>\n",
       "      <td>0.964242</td>\n",
       "    </tr>\n",
       "  </tbody>\n",
       "</table>\n",
       "</div>"
      ],
      "text/plain": [
       "             accuracy  recall_positive   roc_auc  precision  f1_score\n",
       "svm          0.922632         0.918366  0.976922   0.918366  0.918366\n",
       "LR           0.886842         0.905866  0.923340   0.905866  0.905866\n",
       "classifier1  0.876842         0.881894  0.870843   0.881894  0.881894\n",
       "nb           0.876053         0.847370  0.937447   0.847370  0.847370\n",
       "knn          0.870789         0.964242  0.948360   0.964242  0.964242"
      ]
     },
     "execution_count": 335,
     "metadata": {},
     "output_type": "execute_result"
    }
   ],
   "source": [
    "individual_scores.sort_values(by=\"accuracy\",ascending=False)"
   ]
  },
  {
   "cell_type": "code",
   "execution_count": 262,
   "metadata": {},
   "outputs": [
    {
     "data": {
      "text/html": [
       "<div>\n",
       "<style scoped>\n",
       "    .dataframe tbody tr th:only-of-type {\n",
       "        vertical-align: middle;\n",
       "    }\n",
       "\n",
       "    .dataframe tbody tr th {\n",
       "        vertical-align: top;\n",
       "    }\n",
       "\n",
       "    .dataframe thead th {\n",
       "        text-align: right;\n",
       "    }\n",
       "</style>\n",
       "<table border=\"1\" class=\"dataframe\">\n",
       "  <thead>\n",
       "    <tr style=\"text-align: right;\">\n",
       "      <th></th>\n",
       "      <th>Cholesterol</th>\n",
       "      <th>Glucose</th>\n",
       "      <th>HDL Chol</th>\n",
       "      <th>Chol/HDL ratio</th>\n",
       "      <th>Age</th>\n",
       "      <th>Gender</th>\n",
       "      <th>Height</th>\n",
       "      <th>Weight</th>\n",
       "      <th>BMI</th>\n",
       "      <th>Systolic BP</th>\n",
       "      <th>Diastolic BP</th>\n",
       "      <th>waist</th>\n",
       "      <th>hip</th>\n",
       "      <th>Waist/hip ratio</th>\n",
       "      <th>Diabetes</th>\n",
       "    </tr>\n",
       "  </thead>\n",
       "  <tbody>\n",
       "    <tr>\n",
       "      <th>0</th>\n",
       "      <td>193</td>\n",
       "      <td>77</td>\n",
       "      <td>49</td>\n",
       "      <td>3.9</td>\n",
       "      <td>19</td>\n",
       "      <td>0</td>\n",
       "      <td>61</td>\n",
       "      <td>119</td>\n",
       "      <td>22.5</td>\n",
       "      <td>118</td>\n",
       "      <td>70</td>\n",
       "      <td>32</td>\n",
       "      <td>38</td>\n",
       "      <td>0.84</td>\n",
       "      <td>No diabetes</td>\n",
       "    </tr>\n",
       "    <tr>\n",
       "      <th>1</th>\n",
       "      <td>146</td>\n",
       "      <td>79</td>\n",
       "      <td>41</td>\n",
       "      <td>3.6</td>\n",
       "      <td>19</td>\n",
       "      <td>0</td>\n",
       "      <td>60</td>\n",
       "      <td>135</td>\n",
       "      <td>26.4</td>\n",
       "      <td>108</td>\n",
       "      <td>58</td>\n",
       "      <td>33</td>\n",
       "      <td>40</td>\n",
       "      <td>0.83</td>\n",
       "      <td>No diabetes</td>\n",
       "    </tr>\n",
       "    <tr>\n",
       "      <th>2</th>\n",
       "      <td>217</td>\n",
       "      <td>75</td>\n",
       "      <td>54</td>\n",
       "      <td>4.0</td>\n",
       "      <td>20</td>\n",
       "      <td>0</td>\n",
       "      <td>67</td>\n",
       "      <td>187</td>\n",
       "      <td>29.3</td>\n",
       "      <td>110</td>\n",
       "      <td>72</td>\n",
       "      <td>40</td>\n",
       "      <td>45</td>\n",
       "      <td>0.89</td>\n",
       "      <td>No diabetes</td>\n",
       "    </tr>\n",
       "    <tr>\n",
       "      <th>3</th>\n",
       "      <td>226</td>\n",
       "      <td>97</td>\n",
       "      <td>70</td>\n",
       "      <td>3.2</td>\n",
       "      <td>20</td>\n",
       "      <td>0</td>\n",
       "      <td>64</td>\n",
       "      <td>114</td>\n",
       "      <td>19.6</td>\n",
       "      <td>122</td>\n",
       "      <td>64</td>\n",
       "      <td>31</td>\n",
       "      <td>39</td>\n",
       "      <td>0.79</td>\n",
       "      <td>No diabetes</td>\n",
       "    </tr>\n",
       "    <tr>\n",
       "      <th>4</th>\n",
       "      <td>164</td>\n",
       "      <td>91</td>\n",
       "      <td>67</td>\n",
       "      <td>2.4</td>\n",
       "      <td>20</td>\n",
       "      <td>0</td>\n",
       "      <td>70</td>\n",
       "      <td>141</td>\n",
       "      <td>20.2</td>\n",
       "      <td>122</td>\n",
       "      <td>86</td>\n",
       "      <td>32</td>\n",
       "      <td>39</td>\n",
       "      <td>0.82</td>\n",
       "      <td>No diabetes</td>\n",
       "    </tr>\n",
       "    <tr>\n",
       "      <th>...</th>\n",
       "      <td>...</td>\n",
       "      <td>...</td>\n",
       "      <td>...</td>\n",
       "      <td>...</td>\n",
       "      <td>...</td>\n",
       "      <td>...</td>\n",
       "      <td>...</td>\n",
       "      <td>...</td>\n",
       "      <td>...</td>\n",
       "      <td>...</td>\n",
       "      <td>...</td>\n",
       "      <td>...</td>\n",
       "      <td>...</td>\n",
       "      <td>...</td>\n",
       "      <td>...</td>\n",
       "    </tr>\n",
       "    <tr>\n",
       "      <th>382</th>\n",
       "      <td>271</td>\n",
       "      <td>121</td>\n",
       "      <td>40</td>\n",
       "      <td>6.8</td>\n",
       "      <td>81</td>\n",
       "      <td>0</td>\n",
       "      <td>64</td>\n",
       "      <td>158</td>\n",
       "      <td>27.1</td>\n",
       "      <td>146</td>\n",
       "      <td>76</td>\n",
       "      <td>36</td>\n",
       "      <td>43</td>\n",
       "      <td>0.84</td>\n",
       "      <td>No diabetes</td>\n",
       "    </tr>\n",
       "    <tr>\n",
       "      <th>383</th>\n",
       "      <td>240</td>\n",
       "      <td>88</td>\n",
       "      <td>49</td>\n",
       "      <td>4.9</td>\n",
       "      <td>82</td>\n",
       "      <td>0</td>\n",
       "      <td>63</td>\n",
       "      <td>170</td>\n",
       "      <td>30.1</td>\n",
       "      <td>180</td>\n",
       "      <td>86</td>\n",
       "      <td>41</td>\n",
       "      <td>46</td>\n",
       "      <td>0.89</td>\n",
       "      <td>No diabetes</td>\n",
       "    </tr>\n",
       "    <tr>\n",
       "      <th>384</th>\n",
       "      <td>255</td>\n",
       "      <td>112</td>\n",
       "      <td>34</td>\n",
       "      <td>7.5</td>\n",
       "      <td>82</td>\n",
       "      <td>1</td>\n",
       "      <td>66</td>\n",
       "      <td>163</td>\n",
       "      <td>26.3</td>\n",
       "      <td>179</td>\n",
       "      <td>89</td>\n",
       "      <td>37</td>\n",
       "      <td>43</td>\n",
       "      <td>0.86</td>\n",
       "      <td>No diabetes</td>\n",
       "    </tr>\n",
       "    <tr>\n",
       "      <th>385</th>\n",
       "      <td>227</td>\n",
       "      <td>105</td>\n",
       "      <td>44</td>\n",
       "      <td>5.2</td>\n",
       "      <td>83</td>\n",
       "      <td>0</td>\n",
       "      <td>59</td>\n",
       "      <td>125</td>\n",
       "      <td>25.2</td>\n",
       "      <td>150</td>\n",
       "      <td>90</td>\n",
       "      <td>35</td>\n",
       "      <td>40</td>\n",
       "      <td>0.88</td>\n",
       "      <td>No diabetes</td>\n",
       "    </tr>\n",
       "    <tr>\n",
       "      <th>389</th>\n",
       "      <td>165</td>\n",
       "      <td>94</td>\n",
       "      <td>69</td>\n",
       "      <td>2.4</td>\n",
       "      <td>92</td>\n",
       "      <td>0</td>\n",
       "      <td>62</td>\n",
       "      <td>217</td>\n",
       "      <td>39.7</td>\n",
       "      <td>160</td>\n",
       "      <td>82</td>\n",
       "      <td>51</td>\n",
       "      <td>51</td>\n",
       "      <td>1.00</td>\n",
       "      <td>No diabetes</td>\n",
       "    </tr>\n",
       "  </tbody>\n",
       "</table>\n",
       "<p>290 rows × 15 columns</p>\n",
       "</div>"
      ],
      "text/plain": [
       "     Cholesterol  Glucose  HDL Chol  Chol/HDL ratio  Age  Gender  Height  \\\n",
       "0            193       77        49             3.9   19       0      61   \n",
       "1            146       79        41             3.6   19       0      60   \n",
       "2            217       75        54             4.0   20       0      67   \n",
       "3            226       97        70             3.2   20       0      64   \n",
       "4            164       91        67             2.4   20       0      70   \n",
       "..           ...      ...       ...             ...  ...     ...     ...   \n",
       "382          271      121        40             6.8   81       0      64   \n",
       "383          240       88        49             4.9   82       0      63   \n",
       "384          255      112        34             7.5   82       1      66   \n",
       "385          227      105        44             5.2   83       0      59   \n",
       "389          165       94        69             2.4   92       0      62   \n",
       "\n",
       "     Weight   BMI  Systolic BP  Diastolic BP  waist  hip  Waist/hip ratio  \\\n",
       "0       119  22.5          118            70     32   38             0.84   \n",
       "1       135  26.4          108            58     33   40             0.83   \n",
       "2       187  29.3          110            72     40   45             0.89   \n",
       "3       114  19.6          122            64     31   39             0.79   \n",
       "4       141  20.2          122            86     32   39             0.82   \n",
       "..      ...   ...          ...           ...    ...  ...              ...   \n",
       "382     158  27.1          146            76     36   43             0.84   \n",
       "383     170  30.1          180            86     41   46             0.89   \n",
       "384     163  26.3          179            89     37   43             0.86   \n",
       "385     125  25.2          150            90     35   40             0.88   \n",
       "389     217  39.7          160            82     51   51             1.00   \n",
       "\n",
       "        Diabetes  \n",
       "0    No diabetes  \n",
       "1    No diabetes  \n",
       "2    No diabetes  \n",
       "3    No diabetes  \n",
       "4    No diabetes  \n",
       "..           ...  \n",
       "382  No diabetes  \n",
       "383  No diabetes  \n",
       "384  No diabetes  \n",
       "385  No diabetes  \n",
       "389  No diabetes  \n",
       "\n",
       "[290 rows x 15 columns]"
      ]
     },
     "execution_count": 262,
     "metadata": {},
     "output_type": "execute_result"
    }
   ],
   "source": [
    "df"
   ]
  },
  {
   "cell_type": "code",
   "execution_count": 263,
   "metadata": {},
   "outputs": [],
   "source": [
    "# metrics=[\"rf\",\"etc\",\"Gboost\",\"Adaboost\"]\n",
    "# plot_accuracies=[np.mean(evaluate_model_accuracy(rf,X_test1,Y_test1)),\n",
    "#                          np.mean(evaluate_model_accuracy(etc,X_test1,Y_test1)),\n",
    "#                                  np.mean(evaluate_model_accuracy(Gboost,X_test1,Y_test1)),\n",
    "#                                          np.mean(evaluate_model_accuracy(Adaboost,X_test1,Y_test1))]\n",
    "# plt.figure(figsize=(8,4))\n",
    "# plt.yticks(np.arange(0, 1, step=0.001))\n",
    "# sns.pointplot(y=plot_accuracies,x=metrics,linestyles=\"--\")\n",
    "# plt.show()"
   ]
  },
  {
   "cell_type": "markdown",
   "metadata": {},
   "source": [
    "# perfomance comparision through graphs"
   ]
  },
  {
   "cell_type": "code",
   "execution_count": 264,
   "metadata": {},
   "outputs": [],
   "source": [
    "def ensemble_graph(x):\n",
    "    metrics=[\"rf\",\"etc\",\"Gboost\",\"Adaboost\"]\n",
    "    plot_accuracies=[np.mean(x(rf,X_test1,Y_test1)),\n",
    "                         np.mean(x(etc,X_test1,Y_test1)),\n",
    "                                 np.mean(x(Gboost,X_test1,Y_test1)),\n",
    "                                         np.mean(x(Adaboost,X_test1,Y_test1))]\n",
    "    plt.figure(figsize=(10,4))\n",
    "#     plt.yticks(np.arange(0, 1, step=0.002))\n",
    "    sns.pointplot(y=plot_accuracies,x=metrics,markers='*',linestyles=\"--\")\n",
    "    return plt.show()"
   ]
  },
  {
   "cell_type": "code",
   "execution_count": 265,
   "metadata": {},
   "outputs": [],
   "source": [
    "def individual_graph(x):\n",
    "    metrics=[\"LR\",\"knn\",\"classifier1\",\"svm\",\"nb\"]\n",
    "    plot_accuracies=[np.mean(x(LR,X_test1,Y_test1)),\n",
    "                         np.mean(x(knn,X_test1,Y_test1)),\n",
    "                                 np.mean(x(classifier1,X_test1,Y_test1)),\n",
    "                                         np.mean(x(svm,X_test1,Y_test1)),\n",
    "                                              np.mean(x(nb,X_test1,Y_test1))]\n",
    "    plt.figure(figsize=(10,4))\n",
    "#     plt.yticks(np.arange(0, 1, step=0.002))\n",
    "    sns.pointplot(y=plot_accuracies,x=metrics,markers='*',linestyles=\"--\")\n",
    "    return plt.show()"
   ]
  },
  {
   "cell_type": "code",
   "execution_count": 266,
   "metadata": {},
   "outputs": [],
   "source": [
    "def custom_graph(x):\n",
    "    metrics=[\"model1\",\"model2\",\"model3\",\"model4\",\"model5\",\"model6\"]\n",
    "    plot_accuracies=[np.mean(x(model1,X_test1,Y_test1)),\n",
    "                         np.mean(x(model2,X_test1,Y_test1)),\n",
    "                                 np.mean(x(model3,X_test1,Y_test1)),\n",
    "                                         np.mean(x(model4,X_test1,Y_test1)),\n",
    "                                              np.mean(x(model5,X_test1,Y_test1)),\n",
    "                                                   np.mean(x(model6,X_test1,Y_test1))]\n",
    "    plt.figure(figsize=(10,4))\n",
    "    sns.pointplot(y=plot_accuracies,x=metrics,markers='*',linestyles=\"--\")\n",
    "    return plt.show()"
   ]
  },
  {
   "cell_type": "code",
   "execution_count": 318,
   "metadata": {},
   "outputs": [
    {
     "data": {
      "image/png": "[encoded data removed]",
      "text/plain": [
       "<Figure size 720x288 with 1 Axes>"
      ]
     },
     "metadata": {
      "needs_background": "light"
     },
     "output_type": "display_data"
    }
   ],
   "source": [
    "custom_graph(evaluate_model_recall_positive)"
   ]
  },
  {
   "cell_type": "code",
   "execution_count": 268,
   "metadata": {},
   "outputs": [
    {
     "data": {
      "image/png": "[encoded data removed]",
      "text/plain": [
       "<Figure size 432x288 with 2 Axes>"
      ]
     },
     "metadata": {
      "needs_background": "light"
     },
     "output_type": "display_data"
    }
   ],
   "source": [
    "conf_matrix(Y_test1,X_test1,rf)\n",
    "plt.show()"
   ]
  },
  {
   "cell_type": "code",
   "execution_count": 269,
   "metadata": {},
   "outputs": [
    {
     "name": "stdout",
     "output_type": "stream",
     "text": [
      "              precision    recall  f1-score   support\n",
      "\n",
      "    Diabetes       0.96      1.00      0.98        96\n",
      " No diabetes       1.00      0.96      0.98        98\n",
      "\n",
      "    accuracy                           0.98       194\n",
      "   macro avg       0.98      0.98      0.98       194\n",
      "weighted avg       0.98      0.98      0.98       194\n",
      "\n"
     ]
    }
   ],
   "source": [
    "print(classification_report(Y_test1,rf.predict(X_test1)))"
   ]
  },
  {
   "cell_type": "code",
   "execution_count": 270,
   "metadata": {},
   "outputs": [
    {
     "data": {
      "text/plain": [
       "['LR',\n",
       " 'knn',\n",
       " 'classifier1',\n",
       " 'svm',\n",
       " 'nb',\n",
       " 'rf',\n",
       " 'Gboost',\n",
       " 'Adaboost',\n",
       " 'etc',\n",
       " 'model1',\n",
       " 'model2',\n",
       " 'model3',\n",
       " 'model4',\n",
       " 'model5',\n",
       " 'model6']"
      ]
     },
     "execution_count": 270,
     "metadata": {},
     "output_type": "execute_result"
    }
   ],
   "source": [
    "list(scores_df.index)"
   ]
  },
  {
   "cell_type": "code",
   "execution_count": 271,
   "metadata": {},
   "outputs": [],
   "source": [
    "def all_model_graph(x):\n",
    "    metrics=list(scores_df.index)\n",
    "    plot_accuracies=[np.mean(x(LR,X_test1,Y_test1)),\n",
    "                         np.mean(x(knn,X_test1,Y_test1)),\n",
    "                                 np.mean(x(classifier1,X_test1,Y_test1)),\n",
    "                                         np.mean(x(svm,X_test1,Y_test1)),\n",
    "                                              np.mean(x(nb,X_test1,Y_test1)),\n",
    "                                                   np.mean(x(rf,X_test1,Y_test1)),\n",
    "                     np.mean(x(Gboost,X_test1,Y_test1)),\n",
    "                         np.mean(x(Adaboost,X_test1,Y_test1)),\n",
    "                                 np.mean(x(etc,X_test1,Y_test1)),\n",
    "                    np.mean(x(model1,X_test1,Y_test1)),\n",
    "                         np.mean(x(model2,X_test1,Y_test1)),\n",
    "                                 np.mean(x(model3,X_test1,Y_test1)),\n",
    "                                         np.mean(x(model4,X_test1,Y_test1)),\n",
    "                                              np.mean(x(model5,X_test1,Y_test1)),\n",
    "                                                   np.mean(x(model6,X_test1,Y_test1))]\n",
    "    plt.figure(figsize=(15,4))\n",
    "    sns.pointplot(y=plot_accuracies,x=metrics,markers='*',linestyles=\"--\")\n",
    "    return plt.show()"
   ]
  },
  {
   "cell_type": "code",
   "execution_count": 320,
   "metadata": {},
   "outputs": [
    {
     "data": {
      "image/png": "[encoded data removed]",
      "text/plain": [
       "<Figure size 1080x288 with 1 Axes>"
      ]
     },
     "metadata": {
      "needs_background": "light"
     },
     "output_type": "display_data"
    }
   ],
   "source": [
    "all_model_graph(evaluate_model_recall_positive)"
   ]
  },
  {
   "cell_type": "code",
   "execution_count": 273,
   "metadata": {},
   "outputs": [
    {
     "data": {
      "text/plain": [
       "No diabetes    98\n",
       "Diabetes       96\n",
       "Name: Diabetes, dtype: int64"
      ]
     },
     "execution_count": 273,
     "metadata": {},
     "output_type": "execute_result"
    }
   ],
   "source": [
    "Y_test1.value_counts()"
   ]
  },
  {
   "cell_type": "code",
   "execution_count": 274,
   "metadata": {},
   "outputs": [
    {
     "data": {
      "text/plain": [
       "Diabetes       101\n",
       "No diabetes     93\n",
       "dtype: int64"
      ]
     },
     "execution_count": 274,
     "metadata": {},
     "output_type": "execute_result"
    }
   ],
   "source": [
    "pd.DataFrame(Adaboost.predict(X_test1)).value_counts()"
   ]
  },
  {
   "cell_type": "code",
   "execution_count": 275,
   "metadata": {},
   "outputs": [],
   "source": [
    "# metrics=[\"model1\",\"model2\",\"model3\",\"model4\",\"model5\",\"model6\"]\n",
    "# plot_accuracies=[np.mean(evaluate_model_accuracy(model1,X_test1,Y_test1)),\n",
    "#                          np.mean(evaluate_model_accuracy(model2,X_test1,Y_test1)),\n",
    "#                                  np.mean(evaluate_model_accuracy(model3,X_test1,Y_test1)),\n",
    "#                                          np.mean(evaluate_model_accuracy(model4,X_test1,Y_test1)),\n",
    "#                                               np.mean(evaluate_model_accuracy(model5,X_test1,Y_test1)),\n",
    "#                                                    np.mean(evaluate_model_accuracy(model6,X_test1,Y_test1))]\n",
    "# plot_recall=[np.mean(evaluate_model_recall_positive(model1,X_test1,Y_test1)),\n",
    "#                          np.mean(evaluate_model_recall_positive(model2,X_test1,Y_test1)),\n",
    "#                                  np.mean(evaluate_model_recall_positive(model3,X_test1,Y_test1)),\n",
    "#                                          np.mean(evaluate_model_recall_positive(model4,X_test1,Y_test1)),\n",
    "#                                               np.mean(evaluate_model_recall_positive(model5,X_test1,Y_test1)),\n",
    "#                                                    np.mean(evaluate_model_recall_positive(model6,X_test1,Y_test1))]\n",
    "\n",
    "# plot_precision=[np.mean(evaluate_model_precision(model1,X_test1,Y_test1)),\n",
    "#                          np.mean(evaluate_model_precision(model2,X_test1,Y_test1)),\n",
    "#                                  np.mean(evaluate_model_precision(model3,X_test1,Y_test1)),\n",
    "#                                          np.mean(evaluate_model_precision(model4,X_test1,Y_test1)),\n",
    "#                                               np.mean(evaluate_model_precision(model5,X_test1,Y_test1)),\n",
    "#                                                    np.mean(evaluate_model_precision(model6,X_test1,Y_test1))]\n",
    "\n",
    "# plot_roc_auc=[np.mean(evaluate_model_roc_auc(model1,X_test1,Y_test1)),\n",
    "#                          np.mean(evaluate_model_roc_auc(model2,X_test1,Y_test1)),\n",
    "#                                  np.mean(evaluate_model_roc_auc(model3,X_test1,Y_test1)),\n",
    "#                                          np.mean(evaluate_model_roc_auc(model4,X_test1,Y_test1)),\n",
    "#                                               np.mean(evaluate_model_roc_auc(model5,X_test1,Y_test1)),\n",
    "#                                                    np.mean(evaluate_model_roc_auc(model6,X_test1,Y_test1))]\n",
    "\n",
    "# plot_f1=[np.mean(evaluate_model_f1score(model1,X_test1,Y_test1)),\n",
    "#                          np.mean(evaluate_model_f1score(model2,X_test1,Y_test1)),\n",
    "#                                  np.mean(evaluate_model_f1score(model3,X_test1,Y_test1)),\n",
    "#                                          np.mean(evaluate_model_f1score(model4,X_test1,Y_test1)),\n",
    "#                                               np.mean(evaluate_model_f1score(model5,X_test1,Y_test1)),\n",
    "#                                                    np.mean(evaluate_model_f1score(model6,X_test1,Y_test1))]\n",
    "\n",
    "# plt.figure(figsize=(10,4))\n",
    "# sns.pointplot(y=plot_accuracies,x=metrics,markers='*',linestyles=':',color=\"red\")\n",
    "# sns.pointplot(y=plot_f1,x=metrics,markers='*',linestyles=':',color=\"green\")\n",
    "# sns.pointplot(y=plot_precision,x=metrics,markers='*',linestyles=':',color=\"yellow\")\n",
    "# sns.pointplot(y=plot_roc_auc,x=metrics,markers='*',linestyles=':',color=\"blue\")\n",
    "# sns.pointplot(y=plot_recall,x=metrics,markers='*',linestyles=':',color=\"k\")"
   ]
  },
  {
   "cell_type": "code",
   "execution_count": 276,
   "metadata": {},
   "outputs": [
    {
     "data": {
      "text/plain": [
       "AdaBoostClassifier(base_estimator='sdfas', learning_rate=1, n_estimators=250,\n",
       "                   random_state=42)"
      ]
     },
     "execution_count": 276,
     "metadata": {},
     "output_type": "execute_result"
    }
   ],
   "source": [
    "AdaBoostClassifier(random_state=42,n_estimators=250,learning_rate=1,base_estimator=\"sdfas\")"
   ]
  },
  {
   "cell_type": "code",
   "execution_count": 277,
   "metadata": {},
   "outputs": [
    {
     "data": {
      "image/png": "[encoded data removed]",
      "text/plain": [
       "<Figure size 720x288 with 1 Axes>"
      ]
     },
     "metadata": {
      "needs_background": "light"
     },
     "output_type": "display_data"
    }
   ],
   "source": [
    "custom_graph(evaluate_model_recall_positive)"
   ]
  },
  {
   "cell_type": "code",
   "execution_count": 278,
   "metadata": {},
   "outputs": [
    {
     "data": {
      "image/png": "[encoded data removed]",
      "text/plain": [
       "<Figure size 432x288 with 2 Axes>"
      ]
     },
     "metadata": {
      "needs_background": "light"
     },
     "output_type": "display_data"
    }
   ],
   "source": [
    "conf_matrix(Y_test1,X_test1,AdaBoostClassifier().fit(X_train1,Y_train1))\n",
    "plt.show()"
   ]
  },
  {
   "cell_type": "code",
   "execution_count": 279,
   "metadata": {},
   "outputs": [
    {
     "data": {
      "text/html": [
       "<div>\n",
       "<style scoped>\n",
       "    .dataframe tbody tr th:only-of-type {\n",
       "        vertical-align: middle;\n",
       "    }\n",
       "\n",
       "    .dataframe tbody tr th {\n",
       "        vertical-align: top;\n",
       "    }\n",
       "\n",
       "    .dataframe thead th {\n",
       "        text-align: right;\n",
       "    }\n",
       "</style>\n",
       "<table border=\"1\" class=\"dataframe\">\n",
       "  <thead>\n",
       "    <tr style=\"text-align: right;\">\n",
       "      <th></th>\n",
       "      <th>Chol/HDL ratio</th>\n",
       "      <th>Gender</th>\n",
       "      <th>BMI</th>\n",
       "      <th>Waist/hip ratio</th>\n",
       "    </tr>\n",
       "  </thead>\n",
       "  <tbody>\n",
       "    <tr>\n",
       "      <th>count</th>\n",
       "      <td>290.000000</td>\n",
       "      <td>290.000000</td>\n",
       "      <td>290.000000</td>\n",
       "      <td>290.000000</td>\n",
       "    </tr>\n",
       "    <tr>\n",
       "      <th>mean</th>\n",
       "      <td>4.273103</td>\n",
       "      <td>0.403448</td>\n",
       "      <td>27.807241</td>\n",
       "      <td>0.872414</td>\n",
       "    </tr>\n",
       "    <tr>\n",
       "      <th>std</th>\n",
       "      <td>1.319891</td>\n",
       "      <td>0.491437</td>\n",
       "      <td>5.784885</td>\n",
       "      <td>0.067897</td>\n",
       "    </tr>\n",
       "    <tr>\n",
       "      <th>min</th>\n",
       "      <td>2.200000</td>\n",
       "      <td>0.000000</td>\n",
       "      <td>15.200000</td>\n",
       "      <td>0.680000</td>\n",
       "    </tr>\n",
       "    <tr>\n",
       "      <th>25%</th>\n",
       "      <td>3.200000</td>\n",
       "      <td>0.000000</td>\n",
       "      <td>23.400000</td>\n",
       "      <td>0.830000</td>\n",
       "    </tr>\n",
       "    <tr>\n",
       "      <th>50%</th>\n",
       "      <td>4.050000</td>\n",
       "      <td>0.000000</td>\n",
       "      <td>27.400000</td>\n",
       "      <td>0.870000</td>\n",
       "    </tr>\n",
       "    <tr>\n",
       "      <th>75%</th>\n",
       "      <td>5.200000</td>\n",
       "      <td>1.000000</td>\n",
       "      <td>31.000000</td>\n",
       "      <td>0.910000</td>\n",
       "    </tr>\n",
       "    <tr>\n",
       "      <th>max</th>\n",
       "      <td>8.700000</td>\n",
       "      <td>1.000000</td>\n",
       "      <td>43.900000</td>\n",
       "      <td>1.080000</td>\n",
       "    </tr>\n",
       "  </tbody>\n",
       "</table>\n",
       "</div>"
      ],
      "text/plain": [
       "       Chol/HDL ratio      Gender         BMI  Waist/hip ratio\n",
       "count      290.000000  290.000000  290.000000       290.000000\n",
       "mean         4.273103    0.403448   27.807241         0.872414\n",
       "std          1.319891    0.491437    5.784885         0.067897\n",
       "min          2.200000    0.000000   15.200000         0.680000\n",
       "25%          3.200000    0.000000   23.400000         0.830000\n",
       "50%          4.050000    0.000000   27.400000         0.870000\n",
       "75%          5.200000    1.000000   31.000000         0.910000\n",
       "max          8.700000    1.000000   43.900000         1.080000"
      ]
     },
     "execution_count": 279,
     "metadata": {},
     "output_type": "execute_result"
    }
   ],
   "source": [
    "df.describe(include=['float', 'int'])"
   ]
  },
  {
   "cell_type": "code",
   "execution_count": 128,
   "metadata": {},
   "outputs": [
    {
     "data": {
      "image/png": "[encoded data removed]",
      "text/plain": [
       "<Figure size 720x720 with 2 Axes>"
      ]
     },
     "metadata": {
      "needs_background": "light"
     },
     "output_type": "display_data"
    }
   ],
   "source": [
    "corr = df.corr()\n",
    "plt.figure(figsize=(10,10))\n",
    "sns.heatmap(corr, annot=True, square=True)\n",
    "plt.yticks(rotation=0)\n",
    "plt.show()"
   ]
  },
  {
   "cell_type": "code",
   "execution_count": 129,
   "metadata": {},
   "outputs": [
    {
     "data": {
      "image/png": "[encoded data removed]",
      "text/plain": [
       "<Figure size 720x720 with 2 Axes>"
      ]
     },
     "metadata": {
      "needs_background": "light"
     },
     "output_type": "display_data"
    }
   ],
   "source": [
    "corr = df.corr()\n",
    "plt.figure(figsize=(10,10))\n",
    "sns.heatmap(corr, annot=True)\n",
    "plt.yticks(rotation=0)\n",
    "plt.show()"
   ]
  },
  {
   "cell_type": "code",
   "execution_count": 42,
   "metadata": {},
   "outputs": [],
   "source": [
    "from sklearn.cluster import KMeans"
   ]
  },
  {
   "cell_type": "code",
   "execution_count": 58,
   "metadata": {},
   "outputs": [],
   "source": [
    "kmeans = KMeans(n_clusters=2, random_state= 42).fit(X_res)"
   ]
  },
  {
   "cell_type": "code",
   "execution_count": 59,
   "metadata": {},
   "outputs": [],
   "source": [
    "y_predict= kmeans.predict(X_res)  "
   ]
  },
  {
   "cell_type": "code",
   "execution_count": 60,
   "metadata": {},
   "outputs": [
    {
     "data": {
      "text/plain": [
       "1    286\n",
       "0    268\n",
       "dtype: int64"
      ]
     },
     "execution_count": 60,
     "metadata": {},
     "output_type": "execute_result"
    }
   ],
   "source": [
    "pd.DataFrame(y_predict).value_counts()"
   ]
  },
  {
   "cell_type": "code",
   "execution_count": 61,
   "metadata": {},
   "outputs": [
    {
     "data": {
      "text/plain": [
       "Diabetes       277\n",
       "No diabetes    277\n",
       "Name: Diabetes, dtype: int64"
      ]
     },
     "execution_count": 61,
     "metadata": {},
     "output_type": "execute_result"
    }
   ],
   "source": [
    "y_res.value_counts()"
   ]
  },
  {
   "cell_type": "code",
   "execution_count": 322,
   "metadata": {},
   "outputs": [
    {
     "data": {
      "image/png": "[encoded data removed]",
      "text/plain": [
       "<Figure size 720x288 with 1 Axes>"
      ]
     },
     "metadata": {
      "needs_background": "light"
     },
     "output_type": "display_data"
    }
   ],
   "source": [
    "ensemble_graph(evaluate_model_recall_positive)"
   ]
  },
  {
   "cell_type": "code",
   "execution_count": null,
   "metadata": {},
   "outputs": [],
   "source": []
  }
 ],
 "metadata": {
  "kernelspec": {
   "display_name": "Python 3",
   "language": "python",
   "name": "python3"
  },
  "language_info": {
   "codemirror_mode": {
    "name": "ipython",
    "version": 3
   },
   "file_extension": ".py",
   "mimetype": "text/x-python",
   "name": "python",
   "nbconvert_exporter": "python",
   "pygments_lexer": "ipython3",
   "version": "3.8.5"
  }
 },
 "nbformat": 4,
 "nbformat_minor": 4
}
