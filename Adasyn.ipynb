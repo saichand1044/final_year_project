{
 "cells": [
  {
   "cell_type": "code",
   "execution_count": 4,
   "metadata": {},
   "outputs": [],
   "source": [
    "import pandas as pd\n",
    "import numpy as np\n",
    "import matplotlib.pyplot as plt\n",
    "import seaborn as sns\n",
    "import sklearn\n",
    "\n",
    "from sklearn.preprocessing import LabelEncoder,StandardScaler,RobustScaler\n",
    "\n",
    "from sklearn.metrics import accuracy_score,confusion_matrix,recall_score,classification_report,\\\n",
    "precision_score,roc_auc_score,matthews_corrcoef,precision_recall_fscore_support,make_scorer,\\\n",
    "accuracy_score, precision_score, recall_score, f1_score,confusion_matrix,precision_recall_curve\n",
    "\n",
    "from sklearn.model_selection import cross_validate,cross_val_score,RepeatedStratifiedKFold,KFold\n",
    "from sklearn import model_selection\n",
    "\n",
    "from sklearn.tree import DecisionTreeClassifier\n",
    "from sklearn.linear_model import LogisticRegression\n",
    "from sklearn.svm import SVC\n",
    "from sklearn.neighbors import KNeighborsClassifier\n",
    "from sklearn.naive_bayes import GaussianNB\n",
    "\n",
    "from imblearn.over_sampling import ADASYN\n",
    " \n",
    "from sklearn.model_selection import GridSearchCV,RandomizedSearchCV\n",
    "\n",
    "from imblearn.ensemble import BalancedRandomForestClassifier\n",
    "from sklearn.ensemble import AdaBoostClassifier,BaggingClassifier,GradientBoostingClassifier,RandomForestClassifier,ExtraTreesClassifier,StackingClassifier,VotingClassifier\n",
    "\n",
    "from matplotlib import pyplot"
   ]
  },
  {
   "cell_type": "code",
   "execution_count": 5,
   "metadata": {},
   "outputs": [],
   "source": [
    "df=pd.read_excel(\"C:/Users/saich/OneDrive/Desktop/Diabetes_Classification.xlsx\")"
   ]
  },
  {
   "cell_type": "code",
   "execution_count": 6,
   "metadata": {},
   "outputs": [],
   "source": [
    "df.drop(labels=\"Patient number\",axis=1,inplace=True)"
   ]
  },
  {
   "cell_type": "code",
   "execution_count": 7,
   "metadata": {},
   "outputs": [],
   "source": [
    "df.replace({'Gender':{\"female\":\"F\",\"male\":\"M\"}},inplace=True)"
   ]
  },
  {
   "cell_type": "code",
   "execution_count": 8,
   "metadata": {},
   "outputs": [],
   "source": [
    "le=LabelEncoder()\n",
    "df[\"Gender\"]=le.fit_transform(df[\"Gender\"])"
   ]
  },
  {
   "cell_type": "code",
   "execution_count": 9,
   "metadata": {},
   "outputs": [
    {
     "name": "stdout",
     "output_type": "stream",
     "text": [
      "Cholesterol        50.000\n",
      "Glucose            26.750\n",
      "HDL Chol           21.000\n",
      "Chol/HDL ratio      2.200\n",
      "Age                26.000\n",
      "Gender              1.000\n",
      "Height              6.000\n",
      "Weight             49.750\n",
      "BMI                 8.175\n",
      "Systolic BP        26.000\n",
      "Diastolic BP       15.000\n",
      "waist               8.000\n",
      "hip                 7.000\n",
      "Waist/hip ratio     0.100\n",
      "dtype: float64\n"
     ]
    }
   ],
   "source": [
    "Q1 = df.quantile(0.25)\n",
    "Q3 = df.quantile(0.75)\n",
    "IQR = Q3 - Q1\n",
    "print(IQR)"
   ]
  },
  {
   "cell_type": "code",
   "execution_count": 10,
   "metadata": {},
   "outputs": [],
   "source": [
    "df=df[~((df < (Q1 - 1.5 * IQR)) |(df > (Q3 + 1.5 * IQR))).any(axis=1)]"
   ]
  },
  {
   "cell_type": "code",
   "execution_count": 11,
   "metadata": {},
   "outputs": [],
   "source": [
    "target=df[\"Diabetes\"]\n",
    "features=df.drop(columns=\"Diabetes\",axis=1)"
   ]
  },
  {
   "cell_type": "code",
   "execution_count": 12,
   "metadata": {},
   "outputs": [],
   "source": [
    "ada = ADASYN(random_state=42,sampling_strategy=\"minority\")\n",
    "new_features, new_target = ada.fit_resample(features, target)"
   ]
  },
  {
   "cell_type": "code",
   "execution_count": 13,
   "metadata": {},
   "outputs": [],
   "source": [
    "scaler = StandardScaler()\n",
    "X_res=pd.DataFrame(scaler.fit_transform(new_features),columns=list(new_features.columns))\n",
    "y_res=new_target"
   ]
  },
  {
   "cell_type": "code",
   "execution_count": 14,
   "metadata": {},
   "outputs": [
    {
     "data": {
      "text/plain": [
       "Diabetes       277\n",
       "No diabetes    277\n",
       "Name: Diabetes, dtype: int64"
      ]
     },
     "execution_count": 14,
     "metadata": {},
     "output_type": "execute_result"
    }
   ],
   "source": [
    "y_res.value_counts()"
   ]
  },
  {
   "cell_type": "code",
   "execution_count": 15,
   "metadata": {},
   "outputs": [],
   "source": [
    "from sklearn.model_selection import train_test_split\n",
    "X_train1,X_test1,Y_train1,Y_test1=train_test_split(X_res,\n",
    "                                               y_res,\n",
    "                                               test_size=0.35,\n",
    "                                               random_state=42)"
   ]
  },
  {
   "cell_type": "markdown",
   "metadata": {},
   "source": [
    "# Function to get scores(KFold cross validation)"
   ]
  },
  {
   "cell_type": "code",
   "execution_count": 16,
   "metadata": {},
   "outputs": [],
   "source": [
    "def evaluate_model_accuracy(model, X, y):\n",
    "    kfold = model_selection.KFold(n_splits=10, random_state=42, shuffle=True)\n",
    "    scores = cross_val_score(model, X, y, scoring='accuracy', cv=kfold, n_jobs=-1)\n",
    "    return scores\n",
    "\n",
    "\n",
    "def evaluate_model_recall_positive(model,X,y):\n",
    "    scoring = {'recall' : make_scorer(recall_score,pos_label=\"Diabetes\") }\n",
    "    kfold = model_selection.KFold(n_splits=10, random_state=42, shuffle=True)\n",
    "    results =cross_validate(estimator=model,\n",
    "                                    X=X,\n",
    "                                    y=y,\n",
    "                                    cv=kfold,\n",
    "                                    scoring=scoring)\n",
    "    return results[\"test_recall\"]\n",
    "\n",
    "def evaluate_model_recall_negative(model,X,y):\n",
    "    scoring = {'recall' : make_scorer(recall_score,pos_label=\"No diabetes\") }\n",
    "    kfold = model_selection.KFold(n_splits=10, random_state=42, shuffle=True)\n",
    "    results =cross_validate(estimator=model,\n",
    "                                    X=X,\n",
    "                                    y=y,\n",
    "                                    cv=kfold,\n",
    "                                    scoring=scoring)\n",
    "    return results[\"test_recall\"]\n",
    "\n",
    "def evaluate_model_roc_auc(model, X, y):\n",
    "    kfold = model_selection.KFold(n_splits=10, random_state=42, shuffle=True)\n",
    "    scores = cross_val_score(model, X, y, scoring='roc_auc', cv=kfold, n_jobs=-1)\n",
    "    return scores\n",
    "\n",
    "def evaluate_model_matthews_corrcoef(model,X,y):\n",
    "    score=matthews_corrcoef(y,model.predict(X))\n",
    "    return score\n",
    "\n",
    "def evaluate_model_precision(model,X,y):\n",
    "    scoring = {'precision' : make_scorer(recall_score,pos_label=\"Diabetes\") }\n",
    "    kfold = model_selection.KFold(n_splits=10, random_state=42, shuffle=True)\n",
    "    results =cross_validate(estimator=model,\n",
    "                                    X=X,\n",
    "                                    y=y,\n",
    "                                    cv=kfold,\n",
    "                                    scoring=scoring)\n",
    "    return results[\"test_precision\"]\n",
    "\n",
    "def evaluate_model_f1score(model,X,y):\n",
    "    scoring = {'f1' : make_scorer(recall_score,pos_label=\"Diabetes\") }\n",
    "    kfold = model_selection.KFold(n_splits=10, random_state=42, shuffle=True)\n",
    "    results =cross_validate(estimator=model,\n",
    "                                    X=X,\n",
    "                                    y=y,\n",
    "                                    cv=kfold,\n",
    "                                    scoring=scoring)\n",
    "    return results[\"test_f1\"]\n"
   ]
  },
  {
   "cell_type": "markdown",
   "metadata": {},
   "source": [
    "# Logistic Regression"
   ]
  },
  {
   "cell_type": "code",
   "execution_count": 17,
   "metadata": {},
   "outputs": [
    {
     "data": {
      "text/plain": [
       "LogisticRegression(C=0.03359818286283781, random_state=42, solver='liblinear')"
      ]
     },
     "execution_count": 17,
     "metadata": {},
     "output_type": "execute_result"
    }
   ],
   "source": [
    "LR=LogisticRegression(C=0.03359818286283781,penalty=\"l2\",solver= 'liblinear',random_state=42)\n",
    "\n",
    "LR.fit(X_train1,Y_train1)"
   ]
  },
  {
   "cell_type": "code",
   "execution_count": 18,
   "metadata": {},
   "outputs": [
    {
     "name": "stdout",
     "output_type": "stream",
     "text": [
      "              precision    recall  f1-score   support\n",
      "\n",
      "    Diabetes       0.88      0.92      0.90        96\n",
      " No diabetes       0.91      0.88      0.90        98\n",
      "\n",
      "    accuracy                           0.90       194\n",
      "   macro avg       0.90      0.90      0.90       194\n",
      "weighted avg       0.90      0.90      0.90       194\n",
      "\n"
     ]
    }
   ],
   "source": [
    "print(classification_report(Y_test1,LR.predict(X_test1)))"
   ]
  },
  {
   "cell_type": "code",
   "execution_count": 19,
   "metadata": {},
   "outputs": [],
   "source": [
    "cv = model_selection.KFold(n_splits=10, random_state=42, shuffle=True)\n",
    "scoring = {'recall' : make_scorer(recall_score,pos_label=\"Diabetes\") }"
   ]
  },
  {
   "cell_type": "code",
   "execution_count": 20,
   "metadata": {},
   "outputs": [],
   "source": [
    "# for recall\n",
    "results1 =cross_validate(estimator=LR,\n",
    "                                    X=X_test1,\n",
    "                                    y=Y_test1,\n",
    "                                    cv=cv,\n",
    "                                    scoring=scoring)\n",
    "# for accuracy\n",
    "accuracy1 = model_selection.cross_val_score(LR, X_test1,Y_test1, scoring='accuracy', cv=cv, n_jobs=-1)"
   ]
  },
  {
   "cell_type": "code",
   "execution_count": 21,
   "metadata": {},
   "outputs": [
    {
     "name": "stdout",
     "output_type": "stream",
     "text": [
      "Accuracy 0.8868421052631579\n",
      "recall score is : 0.9058658008658009\n",
      "roc-auc score is 0.9233404928404928\n",
      "score time is : 0.0018573284149169921\n",
      "fit time is : 0.0029482126235961916\n",
      "recall score for No diabetes is : 0.8478021978021978\n",
      "matthews_corrcoef is:  0.7945555801711949\n"
     ]
    }
   ],
   "source": [
    "print(\"Accuracy\",np.mean(accuracy1))\n",
    "print(\"recall score is :\",np.mean(results1[\"test_recall\"]))\n",
    "print(\"roc-auc score is\",np.mean(list(cross_val_score(LR, X_test1, Y_test1, cv=cv, scoring='roc_auc'))))\n",
    "print(\"score time is :\",np.mean(results1[\"score_time\"]))\n",
    "print(\"fit time is :\",np.mean(results1[\"fit_time\"]))\n",
    "print(\"recall score for No diabetes is :\",np.mean(cross_validate(estimator=LR,\n",
    "                                    X=X_test1,\n",
    "                                    y=Y_test1,\n",
    "                                    cv=cv,\n",
    "                                    scoring={'recall' : make_scorer(recall_score,pos_label=\"No diabetes\") })[\"test_recall\"]))\n",
    "print(\"matthews_corrcoef is: \",matthews_corrcoef(Y_test1,LR.predict(X_test1)))"
   ]
  },
  {
   "cell_type": "markdown",
   "metadata": {},
   "source": [
    "# Grid Search"
   ]
  },
  {
   "cell_type": "code",
   "execution_count": 22,
   "metadata": {},
   "outputs": [],
   "source": [
    "# param_grid = [\n",
    "#     {\n",
    "#      'penalty' : ['l1', 'l2'],\n",
    "#     'C' : np.logspace(-4, 4, 20),\n",
    "#     'solver' : ['liblinear']}\n",
    "# ]\n",
    "\n",
    "# # param_grid = [\n",
    "# #     {'criterion':['gini','entropy'],'max_depth':[4,5,6,7,8,9,10,11,12,15,20,30]}\n",
    "# # ]\n",
    "\n",
    "# # param_grid = dict(n_neighbors=list(range(10, 31)))\n",
    "\n",
    "# param_grid = [\n",
    "#      {'max_depth':[4,5,6,7,8,9,10,11,12,15,20,30]}\n",
    "#  ]\n",
    "    \n",
    "\n",
    "# # # # grid = RandomizedSearchCV(knn, param_distributions = param_grid, cv = 10,n_jobs=-1)\n",
    "# grid=GridSearchCV(LR,param_grid,cv=5,n_jobs=-1)\n",
    "\n",
    "# grid.fit(X_train1,Y_train1)\n",
    "\n"
   ]
  },
  {
   "cell_type": "code",
   "execution_count": 23,
   "metadata": {},
   "outputs": [],
   "source": [
    "# grid.best_params_"
   ]
  },
  {
   "cell_type": "markdown",
   "metadata": {},
   "source": [
    "# Decsison Trees"
   ]
  },
  {
   "cell_type": "code",
   "execution_count": 24,
   "metadata": {},
   "outputs": [],
   "source": [
    "classifier1=DecisionTreeClassifier(criterion=\"entropy\",max_depth=15,random_state=42)"
   ]
  },
  {
   "cell_type": "code",
   "execution_count": 25,
   "metadata": {},
   "outputs": [
    {
     "data": {
      "text/plain": [
       "DecisionTreeClassifier(criterion='entropy', max_depth=15, random_state=42)"
      ]
     },
     "execution_count": 25,
     "metadata": {},
     "output_type": "execute_result"
    }
   ],
   "source": [
    "classifier1.fit(X_train1,Y_train1)"
   ]
  },
  {
   "cell_type": "code",
   "execution_count": 26,
   "metadata": {},
   "outputs": [
    {
     "name": "stdout",
     "output_type": "stream",
     "text": [
      "              precision    recall  f1-score   support\n",
      "\n",
      "    Diabetes       0.90      0.97      0.93        96\n",
      " No diabetes       0.97      0.90      0.93        98\n",
      "\n",
      "    accuracy                           0.93       194\n",
      "   macro avg       0.93      0.93      0.93       194\n",
      "weighted avg       0.94      0.93      0.93       194\n",
      "\n"
     ]
    }
   ],
   "source": [
    "print(classification_report(Y_test1,classifier1.predict(X_test1)))"
   ]
  },
  {
   "cell_type": "code",
   "execution_count": 27,
   "metadata": {},
   "outputs": [],
   "source": [
    "results2 =cross_validate(estimator=classifier1,\n",
    "                                    X=X_test1,\n",
    "                                    y=Y_test1,\n",
    "                                    cv=cv,\n",
    "                                    scoring={'recall' : make_scorer(recall_score,pos_label=\"Diabetes\") })\n",
    "\n",
    "accuracy2 = model_selection.cross_val_score(classifier1, X_test1,Y_test1, scoring='accuracy', cv=cv, n_jobs=-1)"
   ]
  },
  {
   "cell_type": "code",
   "execution_count": 28,
   "metadata": {},
   "outputs": [
    {
     "name": "stdout",
     "output_type": "stream",
     "text": [
      "Accuracy 0.8768421052631579\n",
      "recall score is : 0.9058658008658009\n",
      "roc-auc score is 0.8708431845931847\n",
      "score time is : 0.0018573284149169921\n",
      "fit time is : 0.0029482126235961916\n",
      "recall score for No diabetes is : 0.8565262515262514\n",
      "matthews_corrcoef is:  0.868325878202263\n"
     ]
    }
   ],
   "source": [
    "print(\"Accuracy\",np.mean(accuracy2))\n",
    "print(\"recall score is :\",np.mean(results1[\"test_recall\"]))\n",
    "print(\"roc-auc score is\",np.mean(list(cross_val_score(classifier1, X_test1, Y_test1, cv=cv, scoring='roc_auc'))))\n",
    "print(\"score time is :\",np.mean(results1[\"score_time\"]))\n",
    "print(\"fit time is :\",np.mean(results1[\"fit_time\"]))\n",
    "print(\"recall score for No diabetes is :\",np.mean(cross_validate(estimator=classifier1,\n",
    "                                    X=X_test1,\n",
    "                                    y=Y_test1,\n",
    "                                    cv=model_selection.KFold(n_splits=10),\n",
    "                                    scoring={'recall' : make_scorer(recall_score,pos_label=\"No diabetes\") })[\"test_recall\"]))\n",
    "print(\"matthews_corrcoef is: \",matthews_corrcoef(Y_test1,classifier1.predict(X_test1)))"
   ]
  },
  {
   "cell_type": "markdown",
   "metadata": {},
   "source": [
    "# KNN"
   ]
  },
  {
   "cell_type": "code",
   "execution_count": 29,
   "metadata": {},
   "outputs": [
    {
     "data": {
      "text/plain": [
       "KNeighborsClassifier(n_neighbors=11)"
      ]
     },
     "execution_count": 29,
     "metadata": {},
     "output_type": "execute_result"
    }
   ],
   "source": [
    "knn= KNeighborsClassifier(n_neighbors=11)\n",
    "knn.fit(X_train1, Y_train1) "
   ]
  },
  {
   "cell_type": "code",
   "execution_count": 30,
   "metadata": {},
   "outputs": [
    {
     "name": "stdout",
     "output_type": "stream",
     "text": [
      "              precision    recall  f1-score   support\n",
      "\n",
      "    Diabetes       0.81      1.00      0.89        96\n",
      " No diabetes       1.00      0.77      0.87        98\n",
      "\n",
      "    accuracy                           0.88       194\n",
      "   macro avg       0.90      0.88      0.88       194\n",
      "weighted avg       0.90      0.88      0.88       194\n",
      "\n"
     ]
    }
   ],
   "source": [
    "print(classification_report(Y_test1,knn.predict(X_test1)))"
   ]
  },
  {
   "cell_type": "code",
   "execution_count": 31,
   "metadata": {},
   "outputs": [],
   "source": [
    "results3 =cross_validate(estimator=knn,\n",
    "                                    X=X_test1,\n",
    "                                    y=Y_test1,\n",
    "                                    cv=cv,\n",
    "                                    scoring={'recall' : make_scorer(recall_score,pos_label=\"Diabetes\") })\n",
    "\n",
    "accuracy3 = model_selection.cross_val_score(knn, X_test1,Y_test1, scoring='accuracy', cv=cv, n_jobs=-1)"
   ]
  },
  {
   "cell_type": "code",
   "execution_count": 32,
   "metadata": {},
   "outputs": [
    {
     "name": "stdout",
     "output_type": "stream",
     "text": [
      "Accuracy 0.8707894736842106\n",
      "recall score for Diabetes is : 0.9642424242424242\n",
      "roc-auc score is 0.9483601398601398\n",
      "score time is : 0.0034006595611572265\n",
      "fit time is : 0.0032660722732543944\n",
      "recall score for No diabetes is : 0.7618919968919969\n",
      "matthews_corrcoef is:  0.785741568881324\n"
     ]
    }
   ],
   "source": [
    "print(\"Accuracy\",np.mean(accuracy3))\n",
    "print(\"recall score for Diabetes is :\",np.mean(results3[\"test_recall\"]))\n",
    "print(\"roc-auc score is\",np.mean(list(cross_val_score(knn, X_test1, Y_test1, cv=cv, scoring='roc_auc'))))\n",
    "print(\"score time is :\",np.mean(results3[\"score_time\"]))\n",
    "print(\"fit time is :\",np.mean(results3[\"fit_time\"]))\n",
    "print(\"recall score for No diabetes is :\",np.mean(cross_validate(estimator=knn,\n",
    "                                    X=X_test1,\n",
    "                                    y=Y_test1,\n",
    "                                    cv=cv,\n",
    "                                    scoring={'recall' : make_scorer(recall_score,pos_label=\"No diabetes\") })[\"test_recall\"]))\n",
    "print(\"matthews_corrcoef is: \",matthews_corrcoef(Y_test1,knn.predict(X_test1)))"
   ]
  },
  {
   "cell_type": "markdown",
   "metadata": {},
   "source": [
    "# Naive bayes"
   ]
  },
  {
   "cell_type": "code",
   "execution_count": 33,
   "metadata": {},
   "outputs": [
    {
     "data": {
      "text/plain": [
       "GaussianNB()"
      ]
     },
     "execution_count": 33,
     "metadata": {},
     "output_type": "execute_result"
    }
   ],
   "source": [
    "nb = GaussianNB()\n",
    "nb.fit(X_train1, Y_train1)"
   ]
  },
  {
   "cell_type": "code",
   "execution_count": 34,
   "metadata": {},
   "outputs": [
    {
     "name": "stdout",
     "output_type": "stream",
     "text": [
      "              precision    recall  f1-score   support\n",
      "\n",
      "    Diabetes       0.87      0.85      0.86        96\n",
      " No diabetes       0.86      0.88      0.87        98\n",
      "\n",
      "    accuracy                           0.87       194\n",
      "   macro avg       0.87      0.87      0.87       194\n",
      "weighted avg       0.87      0.87      0.87       194\n",
      "\n"
     ]
    }
   ],
   "source": [
    "print(classification_report(Y_test1,nb.predict(X_test1)))"
   ]
  },
  {
   "cell_type": "code",
   "execution_count": 35,
   "metadata": {},
   "outputs": [],
   "source": [
    "results4 =cross_validate(estimator=nb,\n",
    "                                    X=X_test1,\n",
    "                                    y=Y_test1,\n",
    "                                    cv=cv,\n",
    "                                    scoring={'recall' : make_scorer(recall_score,pos_label=\"Diabetes\") })\n",
    "\n",
    "accuracy4 = model_selection.cross_val_score(nb, X_test1,Y_test1, scoring='accuracy', cv=cv, n_jobs=-1)"
   ]
  },
  {
   "cell_type": "code",
   "execution_count": 36,
   "metadata": {},
   "outputs": [
    {
     "name": "stdout",
     "output_type": "stream",
     "text": [
      "Accuracy 0.8760526315789473\n",
      "recall score is : 0.8473701298701298\n",
      "roc-auc score is 0.9374470529470529\n",
      "score time is : 0.001562809944152832\n",
      "fit time is : 0.001561450958251953\n",
      "recall score for No diabetes is : 0.8878296703296703\n",
      "matthews_corrcoef is:  0.7320289900827764\n"
     ]
    }
   ],
   "source": [
    "print(\"Accuracy\",np.mean(accuracy4))\n",
    "print(\"recall score is :\",np.mean(results4[\"test_recall\"]))\n",
    "print(\"roc-auc score is\",np.mean(list(cross_val_score(nb, X_test1, Y_test1, cv=cv, scoring='roc_auc'))))\n",
    "print(\"score time is :\",np.mean(results4[\"score_time\"]))\n",
    "print(\"fit time is :\",np.mean(results4[\"fit_time\"]))\n",
    "print(\"recall score for No diabetes is :\",np.mean(cross_validate(estimator=nb,\n",
    "                                    X=X_test1,\n",
    "                                    y=Y_test1,\n",
    "                                    cv=model_selection.KFold(n_splits=10),\n",
    "                                    scoring={'recall' : make_scorer(recall_score,pos_label=\"No diabetes\") })[\"test_recall\"]))\n",
    "print(\"matthews_corrcoef is: \",matthews_corrcoef(Y_test1,nb.predict(X_test1)))"
   ]
  },
  {
   "cell_type": "markdown",
   "metadata": {},
   "source": [
    "# SVM"
   ]
  },
  {
   "cell_type": "code",
   "execution_count": 37,
   "metadata": {},
   "outputs": [
    {
     "data": {
      "text/plain": [
       "SVC(probability=True)"
      ]
     },
     "execution_count": 37,
     "metadata": {},
     "output_type": "execute_result"
    }
   ],
   "source": [
    "svm = SVC(kernel='rbf',probability=True)\n",
    "svm.fit(X_train1, Y_train1)"
   ]
  },
  {
   "cell_type": "code",
   "execution_count": 38,
   "metadata": {},
   "outputs": [
    {
     "name": "stdout",
     "output_type": "stream",
     "text": [
      "              precision    recall  f1-score   support\n",
      "\n",
      "    Diabetes       0.92      1.00      0.96        96\n",
      " No diabetes       1.00      0.92      0.96        98\n",
      "\n",
      "    accuracy                           0.96       194\n",
      "   macro avg       0.96      0.96      0.96       194\n",
      "weighted avg       0.96      0.96      0.96       194\n",
      "\n"
     ]
    }
   ],
   "source": [
    "print(classification_report(Y_test1,svm.predict(X_test1)))"
   ]
  },
  {
   "cell_type": "code",
   "execution_count": 39,
   "metadata": {},
   "outputs": [],
   "source": [
    "results5 =cross_validate(estimator=svm,\n",
    "                                    X=X_train1,\n",
    "                                    y=Y_train1,\n",
    "                                    cv=cv,\n",
    "                                    scoring={'recall' : make_scorer(recall_score,pos_label=\"Diabetes\") })\n",
    "\n",
    "accuracy5 = model_selection.cross_val_score(svm, X_train1,Y_train1, scoring='accuracy', cv=cv, n_jobs=-1)"
   ]
  },
  {
   "cell_type": "code",
   "execution_count": 40,
   "metadata": {},
   "outputs": [
    {
     "name": "stdout",
     "output_type": "stream",
     "text": [
      "Accuracy 0.95\n",
      "recall score is : 0.984572192513369\n",
      "roc-auc score is 0.976922077922078\n",
      "score time is : 0.0018645763397216798\n",
      "fit time is : 0.021032047271728516\n",
      "recall score for No diabetes is : 0.9114468864468865\n",
      "matthews_corrcoef is:  0.9207191237649851\n"
     ]
    }
   ],
   "source": [
    "print(\"Accuracy\",np.mean(accuracy5))\n",
    "print(\"recall score is :\",np.mean(results5[\"test_recall\"]))\n",
    "print(\"roc-auc score is\",np.mean(list(cross_val_score(svm, X_test1, Y_test1, cv=cv, scoring='roc_auc'))))\n",
    "print(\"score time is :\",np.mean(results5[\"score_time\"]))\n",
    "print(\"fit time is :\",np.mean(results5[\"fit_time\"]))\n",
    "print(\"recall score for No diabetes is :\",np.mean(cross_validate(estimator=svm,\n",
    "                                    X=X_test1,\n",
    "                                    y=Y_test1,\n",
    "                                    cv=cv,\n",
    "                                    scoring={'recall' : make_scorer(recall_score,pos_label=\"No diabetes\") })[\"test_recall\"]))\n",
    "print(\"matthews_corrcoef is: \",matthews_corrcoef(Y_test1,svm.predict(X_test1)))"
   ]
  },
  {
   "cell_type": "markdown",
   "metadata": {},
   "source": [
    "# Random Forests"
   ]
  },
  {
   "cell_type": "code",
   "execution_count": 41,
   "metadata": {},
   "outputs": [
    {
     "data": {
      "text/plain": [
       "RandomForestClassifier(n_estimators=250, oob_score=True)"
      ]
     },
     "execution_count": 41,
     "metadata": {},
     "output_type": "execute_result"
    }
   ],
   "source": [
    "rf=RandomForestClassifier(oob_score=True,n_estimators=250)\n",
    "rf.fit(X_train1, Y_train1)"
   ]
  },
  {
   "cell_type": "code",
   "execution_count": 42,
   "metadata": {},
   "outputs": [
    {
     "name": "stdout",
     "output_type": "stream",
     "text": [
      "              precision    recall  f1-score   support\n",
      "\n",
      "    Diabetes       0.96      0.99      0.97        96\n",
      " No diabetes       0.99      0.96      0.97        98\n",
      "\n",
      "    accuracy                           0.97       194\n",
      "   macro avg       0.97      0.97      0.97       194\n",
      "weighted avg       0.97      0.97      0.97       194\n",
      "\n"
     ]
    }
   ],
   "source": [
    "print(classification_report(Y_test1,rf.predict(X_test1)))"
   ]
  },
  {
   "cell_type": "code",
   "execution_count": 43,
   "metadata": {},
   "outputs": [],
   "source": [
    "results6 =cross_validate(estimator=rf,\n",
    "                                    X=X_test1,\n",
    "                                    y=Y_test1,\n",
    "                                    cv=cv,\n",
    "                                    scoring={'recall' : make_scorer(recall_score,pos_label=\"Diabetes\") })\n",
    "\n",
    "accuracy6 = model_selection.cross_val_score(rf, X_test1,Y_test1, scoring='accuracy', cv=cv, n_jobs=-1)"
   ]
  },
  {
   "cell_type": "code",
   "execution_count": 44,
   "metadata": {},
   "outputs": [
    {
     "name": "stdout",
     "output_type": "stream",
     "text": [
      "Accuracy 0.9636842105263158\n",
      "recall score is : 0.9608333333333334\n",
      "roc-auc score is 0.9931235431235432\n",
      "score time is : 0.02165384292602539\n",
      "fit time is : 0.37974226474761963\n",
      "recall score for No diabetes is : 0.9722222222222221\n",
      "matthews_corrcoef is:  0.9489183132396615\n"
     ]
    }
   ],
   "source": [
    "print(\"Accuracy\",np.mean(accuracy6))\n",
    "print(\"recall score is :\",np.mean(results6[\"test_recall\"]))\n",
    "print(\"roc-auc score is\",np.mean(list(cross_val_score(rf, X_test1, Y_test1, cv=cv, scoring='roc_auc'))))\n",
    "print(\"score time is :\",np.mean(results6[\"score_time\"]))\n",
    "print(\"fit time is :\",np.mean(results6[\"fit_time\"]))\n",
    "print(\"recall score for No diabetes is :\",np.mean(cross_validate(estimator=rf,\n",
    "                                    X=X_test1,\n",
    "                                    y=Y_test1,\n",
    "                                    cv=model_selection.KFold(n_splits=10),\n",
    "                                    scoring={'recall' : make_scorer(recall_score,pos_label=\"No diabetes\") })[\"test_recall\"]))\n",
    "print(\"matthews_corrcoef is: \",matthews_corrcoef(Y_test1,rf.predict(X_test1)))"
   ]
  },
  {
   "cell_type": "code",
   "execution_count": 45,
   "metadata": {},
   "outputs": [],
   "source": [
    "def get_models():\n",
    "    models = dict()\n",
    "    n_trees = [10, 50, 100,250, 500,750]\n",
    "    for n in n_trees:\n",
    "        models[str(n)] = RandomForestClassifier(n_estimators=n,random_state=42)\n",
    "    return models"
   ]
  },
  {
   "cell_type": "code",
   "execution_count": 46,
   "metadata": {},
   "outputs": [
    {
     "name": "stdout",
     "output_type": "stream",
     "text": [
      ">10 0.973 \n",
      ">50 0.961 \n",
      ">100 0.961 \n",
      ">250 0.961 \n",
      ">500 0.961 \n",
      ">750 0.961 \n"
     ]
    }
   ],
   "source": [
    "models = get_models()\n",
    "results, names = list(), list()\n",
    "for name, model in models.items():\n",
    "    scores = evaluate_model_recall_positive(model, X_test1,Y_test1)\n",
    "    results.append(scores)\n",
    "    names.append(name)\n",
    "    print('>%s %.3f ' % (name, np.mean(scores)))"
   ]
  },
  {
   "cell_type": "markdown",
   "metadata": {},
   "source": [
    "# Ensembel"
   ]
  },
  {
   "cell_type": "code",
   "execution_count": 96,
   "metadata": {},
   "outputs": [
    {
     "data": {
      "text/plain": [
       "VotingClassifier(estimators=[('dt',\n",
       "                              DecisionTreeClassifier(criterion='entropy',\n",
       "                                                     max_depth=15,\n",
       "                                                     random_state=42)),\n",
       "                             ('knn', KNeighborsClassifier(n_neighbors=11)),\n",
       "                             ('svm', SVC(probability=True)),\n",
       "                             ('LR',\n",
       "                              LogisticRegression(C=0.03359818286283781,\n",
       "                                                 random_state=42,\n",
       "                                                 solver='liblinear'))],\n",
       "                 voting='soft')"
      ]
     },
     "execution_count": 96,
     "metadata": {},
     "output_type": "execute_result"
    }
   ],
   "source": [
    "model1= VotingClassifier(estimators=[ ('dt', classifier1),('knn',knn),('svm',svm),('LR',LR)], voting='soft')\n",
    "model1.fit(X_train1,Y_train1)"
   ]
  },
  {
   "cell_type": "code",
   "execution_count": 97,
   "metadata": {},
   "outputs": [
    {
     "name": "stdout",
     "output_type": "stream",
     "text": [
      "              precision    recall  f1-score   support\n",
      "\n",
      "    Diabetes       0.92      1.00      0.96        96\n",
      " No diabetes       1.00      0.92      0.96        98\n",
      "\n",
      "    accuracy                           0.96       194\n",
      "   macro avg       0.96      0.96      0.96       194\n",
      "weighted avg       0.96      0.96      0.96       194\n",
      "\n"
     ]
    }
   ],
   "source": [
    "print(classification_report(Y_test1,model1.predict(X_test1)))"
   ]
  },
  {
   "cell_type": "code",
   "execution_count": 98,
   "metadata": {},
   "outputs": [],
   "source": [
    "results =cross_validate(estimator=model1,\n",
    "                                    X=X_test1,\n",
    "                                    y=Y_test1,\n",
    "                                    cv=cv,\n",
    "                                    scoring=scoring)\n",
    "accuracy = model_selection.cross_val_score(LR, X_test1,Y_test1, scoring='accuracy', cv=cv, n_jobs=-1)"
   ]
  },
  {
   "cell_type": "code",
   "execution_count": 99,
   "metadata": {},
   "outputs": [
    {
     "name": "stdout",
     "output_type": "stream",
     "text": [
      "Accuracy 0.8868421052631579\n",
      "recall score is : 0.9301515151515151\n",
      "score time is : 0.007517194747924805\n",
      "fit time is : 0.016763591766357423\n",
      "recall score for No diabetes is : 0.8808913308913308\n",
      "matthews_corrcoef is:  0.9207191237649851\n"
     ]
    }
   ],
   "source": [
    "print(\"Accuracy\",np.mean(accuracy))\n",
    "print(\"recall score is :\",np.mean(results[\"test_recall\"]))\n",
    "print(\"score time is :\",np.mean(results[\"score_time\"]))\n",
    "print(\"fit time is :\",np.mean(results[\"fit_time\"]))\n",
    "print(\"recall score for No diabetes is :\",np.mean(cross_validate(estimator=model1,\n",
    "                                    X=X_test1,\n",
    "                                    y=Y_test1,\n",
    "                                    cv=cv,\n",
    "                                    scoring={'recall' : make_scorer(recall_score,pos_label=\"No diabetes\") })[\"test_recall\"]))\n",
    "print(\"matthews_corrcoef is: \",matthews_corrcoef(Y_test1,model1.predict(X_test1)))"
   ]
  },
  {
   "cell_type": "markdown",
   "metadata": {},
   "source": [
    "# Ensemble of random forests classifiers."
   ]
  },
  {
   "cell_type": "code",
   "execution_count": 51,
   "metadata": {},
   "outputs": [
    {
     "data": {
      "text/plain": [
       "BaggingClassifier(base_estimator=RandomForestClassifier(n_estimators=250,\n",
       "                                                        oob_score=True),\n",
       "                  n_estimators=5)"
      ]
     },
     "execution_count": 51,
     "metadata": {},
     "output_type": "execute_result"
    }
   ],
   "source": [
    "logbagClf = BaggingClassifier(rf, n_estimators = 5)\n",
    "logbagClf.fit(X_train1, Y_train1)"
   ]
  },
  {
   "cell_type": "code",
   "execution_count": 52,
   "metadata": {},
   "outputs": [
    {
     "name": "stdout",
     "output_type": "stream",
     "text": [
      "              precision    recall  f1-score   support\n",
      "\n",
      "    Diabetes       0.96      0.99      0.97        96\n",
      " No diabetes       0.99      0.96      0.97        98\n",
      "\n",
      "    accuracy                           0.97       194\n",
      "   macro avg       0.97      0.97      0.97       194\n",
      "weighted avg       0.97      0.97      0.97       194\n",
      "\n"
     ]
    }
   ],
   "source": [
    "print(classification_report(Y_test1,logbagClf.predict(X_test1)))"
   ]
  },
  {
   "cell_type": "code",
   "execution_count": 53,
   "metadata": {},
   "outputs": [],
   "source": [
    "accuracy7=model_selection.cross_val_score(logbagClf, X_test1,Y_test1, scoring='accuracy', cv=cv, n_jobs=-1)"
   ]
  },
  {
   "cell_type": "code",
   "execution_count": 54,
   "metadata": {},
   "outputs": [
    {
     "name": "stdout",
     "output_type": "stream",
     "text": [
      "accuracy score is 0.958421052631579\n",
      "recall score is : 0.9350757575757577\n",
      "roc-auc score is 0.9905594405594407\n",
      "recall score for No diabetes is : 0.9383394383394383\n",
      "matthews_corrcoef is:  0.9489183132396615\n"
     ]
    }
   ],
   "source": [
    "print(\"accuracy score is\",np.mean(accuracy7))\n",
    "print(\"recall score is :\",np.mean(cross_validate(estimator=logbagClf,\n",
    "                                    X=X_test1,\n",
    "                                    y=Y_test1,\n",
    "                                    cv=cv,\n",
    "                                    scoring=scoring)[\"test_recall\"]))\n",
    "print(\"roc-auc score is\",np.mean(list(cross_val_score(logbagClf, X_test1, Y_test1, cv=cv, scoring='roc_auc'))))\n",
    "print(\"recall score for No diabetes is :\",np.mean(cross_validate(estimator=logbagClf,\n",
    "                                    X=X_test1,\n",
    "                                    y=Y_test1,\n",
    "                                    cv=cv,\n",
    "                                    scoring={'recall' : make_scorer(recall_score,pos_label=\"No diabetes\") })[\"test_recall\"]))\n",
    "print(\"matthews_corrcoef is: \",matthews_corrcoef(Y_test1,logbagClf.predict(X_test1)))"
   ]
  },
  {
   "cell_type": "code",
   "execution_count": 55,
   "metadata": {},
   "outputs": [],
   "source": [
    "# recall_score(Y_test1, model1.predict(X_test1), pos_label=\"Diabetes\")"
   ]
  },
  {
   "cell_type": "markdown",
   "metadata": {},
   "source": [
    "# Ensemble of logistic regression classifiers."
   ]
  },
  {
   "cell_type": "code",
   "execution_count": 56,
   "metadata": {},
   "outputs": [
    {
     "data": {
      "text/plain": [
       "BaggingClassifier(base_estimator=LogisticRegression(C=0.03359818286283781,\n",
       "                                                    random_state=42,\n",
       "                                                    solver='liblinear'),\n",
       "                  random_state=42)"
      ]
     },
     "execution_count": 56,
     "metadata": {},
     "output_type": "execute_result"
    }
   ],
   "source": [
    "bag_LR = BaggingClassifier(LR, n_estimators = 10,random_state=42)\n",
    "bag_LR.fit(X_train1, Y_train1)"
   ]
  },
  {
   "cell_type": "code",
   "execution_count": 57,
   "metadata": {},
   "outputs": [
    {
     "name": "stdout",
     "output_type": "stream",
     "text": [
      "              precision    recall  f1-score   support\n",
      "\n",
      "    Diabetes       0.88      0.91      0.89        96\n",
      " No diabetes       0.91      0.88      0.89        98\n",
      "\n",
      "    accuracy                           0.89       194\n",
      "   macro avg       0.89      0.89      0.89       194\n",
      "weighted avg       0.89      0.89      0.89       194\n",
      "\n"
     ]
    }
   ],
   "source": [
    "print(classification_report(Y_test1,bag_LR.predict(X_test1)))"
   ]
  },
  {
   "cell_type": "code",
   "execution_count": 58,
   "metadata": {},
   "outputs": [
    {
     "name": "stdout",
     "output_type": "stream",
     "text": [
      "Accuracy is 0.881578947368421\n",
      "recall score is : 0.9058658008658009\n",
      "roc-auc score is 0.9221527916527916\n",
      "recall score for No diabetes is : 0.8335164835164836\n",
      "matthews_corrcoef is:  0.7839260185782281\n"
     ]
    }
   ],
   "source": [
    "print(\"Accuracy is\",np.mean( model_selection.cross_val_score(bag_LR, X_test1,Y_test1, scoring='accuracy', cv=cv, n_jobs=-1)))\n",
    "print(\"recall score is :\",np.mean(cross_validate(estimator=bag_LR,\n",
    "                                    X=X_test1,\n",
    "                                    y=Y_test1,\n",
    "                                    cv=cv,\n",
    "                                    scoring=scoring)[\"test_recall\"]))\n",
    "print(\"roc-auc score is\",np.mean(list(cross_val_score(bag_LR, X_test1, Y_test1, cv=cv, scoring='roc_auc'))))\n",
    "print(\"recall score for No diabetes is :\",np.mean(cross_validate(estimator=bag_LR,\n",
    "                                    X=X_test1,\n",
    "                                    y=Y_test1,\n",
    "                                    cv=cv,\n",
    "                                    scoring={'recall' : make_scorer(recall_score,pos_label=\"No diabetes\") })[\"test_recall\"]))\n",
    "print(\"matthews_corrcoef is: \",matthews_corrcoef(Y_test1,bag_LR.predict(X_test1)))"
   ]
  },
  {
   "cell_type": "code",
   "execution_count": 59,
   "metadata": {},
   "outputs": [
    {
     "name": "stdout",
     "output_type": "stream",
     "text": [
      "accuracy is:  0.9440259740259741\n",
      "diabetes recall is:  0.9701706569292776\n",
      "no diabetes recall is:  0.915244630848079\n",
      "roc_auc is:  0.9924185253361543\n",
      "matthews_corrcoef is:  0.928985113255556\n"
     ]
    }
   ],
   "source": [
    "print(\"accuracy is: \",np.mean(evaluate_model_accuracy(model1,X_res,y_res)))\n",
    "print(\"diabetes recall is: \",np.mean(evaluate_model_recall_positive(model1,X_res,y_res)))\n",
    "print(\"no diabetes recall is: \",np.mean(evaluate_model_recall_negative(model1,X_res,y_res)))\n",
    "print(\"roc_auc is: \",np.mean(evaluate_model_roc_auc(model1,X_res,y_res)))\n",
    "print(\"matthews_corrcoef is: \",evaluate_model_matthews_corrcoef(model1,X_res,y_res))"
   ]
  },
  {
   "cell_type": "markdown",
   "metadata": {},
   "source": [
    "# AdaBoost"
   ]
  },
  {
   "cell_type": "code",
   "execution_count": 60,
   "metadata": {},
   "outputs": [
    {
     "data": {
      "text/plain": [
       "AdaBoostClassifier(n_estimators=250, random_state=42)"
      ]
     },
     "execution_count": 60,
     "metadata": {},
     "output_type": "execute_result"
    }
   ],
   "source": [
    "Adaboost = AdaBoostClassifier(random_state=42,n_estimators=250)\n",
    "Adaboost.fit(X_train1, Y_train1)"
   ]
  },
  {
   "cell_type": "code",
   "execution_count": 61,
   "metadata": {},
   "outputs": [
    {
     "name": "stdout",
     "output_type": "stream",
     "text": [
      "accuracy is:  0.953421052631579\n",
      "diabetes recall is:  0.99\n",
      "no diabetes recall is:  0.9152625152625152\n",
      "roc_auc is:  0.975989676989677\n",
      "matthews_corrcoef is:  0.8878253982502649\n"
     ]
    }
   ],
   "source": [
    "print(\"accuracy is: \",np.mean(evaluate_model_accuracy(Adaboost,X_test1,Y_test1)))\n",
    "print(\"diabetes recall is: \",np.mean(evaluate_model_recall_positive(Adaboost,X_test1,Y_test1)))\n",
    "print(\"no diabetes recall is: \",np.mean(evaluate_model_recall_negative(Adaboost,X_test1,Y_test1)))\n",
    "print(\"roc_auc is: \",np.mean(evaluate_model_roc_auc(Adaboost,X_test1,Y_test1)))\n",
    "print(\"matthews_corrcoef is: \",evaluate_model_matthews_corrcoef(Adaboost,X_test1,Y_test1))"
   ]
  },
  {
   "cell_type": "code",
   "execution_count": 62,
   "metadata": {},
   "outputs": [],
   "source": [
    "def get_models():\n",
    "    models = dict()\n",
    "    n_trees = [10, 50, 100,250, 500, 1000]\n",
    "    for n in n_trees:\n",
    "        models[str(n)] = AdaBoostClassifier(n_estimators=n)\n",
    "    return models"
   ]
  },
  {
   "cell_type": "code",
   "execution_count": 63,
   "metadata": {},
   "outputs": [
    {
     "name": "stdout",
     "output_type": "stream",
     "text": [
      ">10 0.903 \n",
      ">50 0.964 \n",
      ">100 0.973 \n",
      ">250 0.990 \n",
      ">500 0.964 \n",
      ">1000 0.964 \n"
     ]
    }
   ],
   "source": [
    "models = get_models()\n",
    "results, names = list(), list()\n",
    "for name, model in models.items():\n",
    "    scores = evaluate_model_recall_positive(model, X_test1,Y_test1)\n",
    "    results.append(scores)\n",
    "    names.append(name)\n",
    "    print('>%s %.3f ' % (name, np.mean(scores)))"
   ]
  },
  {
   "cell_type": "markdown",
   "metadata": {},
   "source": [
    "# Gradient Boosting"
   ]
  },
  {
   "cell_type": "code",
   "execution_count": 64,
   "metadata": {},
   "outputs": [
    {
     "data": {
      "text/plain": [
       "GradientBoostingClassifier(learning_rate=0.9, n_estimators=250, random_state=42)"
      ]
     },
     "execution_count": 64,
     "metadata": {},
     "output_type": "execute_result"
    }
   ],
   "source": [
    "Gboost= GradientBoostingClassifier(n_estimators=250,learning_rate=0.9,random_state=42)\n",
    "Gboost.fit(X_train1, Y_train1)"
   ]
  },
  {
   "cell_type": "code",
   "execution_count": 65,
   "metadata": {},
   "outputs": [
    {
     "name": "stdout",
     "output_type": "stream",
     "text": [
      "accuracy is:  0.9581578947368421\n",
      "diabetes recall is:  0.9833333333333334\n",
      "no diabetes recall is:  0.9223137973137974\n",
      "roc_auc is:  0.986052836052836\n",
      "matthews_corrcoef is:  0.9303035163079433\n",
      "precision is:  0.9833333333333334\n"
     ]
    }
   ],
   "source": [
    "print(\"accuracy is: \",np.mean(evaluate_model_accuracy(Gboost,X_test1,Y_test1)))\n",
    "print(\"diabetes recall is: \",np.mean(evaluate_model_recall_positive(Gboost,X_test1,Y_test1)))\n",
    "print(\"no diabetes recall is: \",np.mean(evaluate_model_recall_negative(Gboost,X_test1,Y_test1)))\n",
    "print(\"roc_auc is: \",np.mean(evaluate_model_roc_auc(Gboost,X_test1,Y_test1)))\n",
    "print(\"matthews_corrcoef is: \",evaluate_model_matthews_corrcoef(Gboost,X_test1,Y_test1))\n",
    "print(\"precision is: \",np.mean(evaluate_model_precision(Gboost,X_test1,Y_test1)))"
   ]
  },
  {
   "cell_type": "code",
   "execution_count": 66,
   "metadata": {},
   "outputs": [],
   "source": [
    "def get_models():\n",
    "    models = dict()\n",
    "    n_trees = [10,30, 50, 100,250, 500, 1000]\n",
    "    for n in n_trees:\n",
    "        models[str(n)] = GradientBoostingClassifier(n_estimators=n)\n",
    "    return models"
   ]
  },
  {
   "cell_type": "code",
   "execution_count": 67,
   "metadata": {},
   "outputs": [
    {
     "name": "stdout",
     "output_type": "stream",
     "text": [
      ">10 0.899 \n",
      ">30 0.934 \n",
      ">50 0.953 \n",
      ">100 0.962 \n",
      ">250 0.983 \n",
      ">500 0.971 \n",
      ">1000 0.971 \n"
     ]
    }
   ],
   "source": [
    "models = get_models()\n",
    "results, names = list(), list()\n",
    "for name, model in models.items():\n",
    "    scores = evaluate_model_recall_positive(model, X_test1,Y_test1)\n",
    "    results.append(scores)\n",
    "    names.append(name)\n",
    "    print('>%s %.3f ' % (name, np.mean(scores)))"
   ]
  },
  {
   "cell_type": "markdown",
   "metadata": {},
   "source": [
    "# ExtraTreesClassifier"
   ]
  },
  {
   "cell_type": "code",
   "execution_count": 68,
   "metadata": {},
   "outputs": [
    {
     "data": {
      "text/plain": [
       "ExtraTreesClassifier(n_estimators=30)"
      ]
     },
     "execution_count": 68,
     "metadata": {},
     "output_type": "execute_result"
    }
   ],
   "source": [
    "etc = ExtraTreesClassifier(n_estimators=30)\n",
    "etc.fit(X_train1,Y_train1)"
   ]
  },
  {
   "cell_type": "code",
   "execution_count": 69,
   "metadata": {},
   "outputs": [
    {
     "name": "stdout",
     "output_type": "stream",
     "text": [
      "accuracy is:  0.9634210526315791\n",
      "diabetes recall is:  0.9690476190476189\n",
      "no diabetes recall is:  0.9592185592185591\n",
      "roc_auc is:  0.9875874125874127\n",
      "matthews_corrcoef is:  0.9695423500723407\n",
      "precision is:  0.956547619047619\n"
     ]
    }
   ],
   "source": [
    "print(\"accuracy is: \",np.mean(evaluate_model_accuracy(etc,X_test1,Y_test1)))\n",
    "print(\"diabetes recall is: \",np.mean(evaluate_model_recall_positive(etc,X_test1,Y_test1)))\n",
    "print(\"no diabetes recall is: \",np.mean(evaluate_model_recall_negative(etc,X_test1,Y_test1)))\n",
    "print(\"roc_auc is: \",np.mean(evaluate_model_roc_auc(etc,X_test1,Y_test1)))\n",
    "print(\"matthews_corrcoef is: \",evaluate_model_matthews_corrcoef(etc,X_test1,Y_test1))\n",
    "print(\"precision is: \",np.mean(evaluate_model_precision(etc,X_test1,Y_test1)))"
   ]
  },
  {
   "cell_type": "code",
   "execution_count": 70,
   "metadata": {},
   "outputs": [],
   "source": [
    "def get_models():\n",
    "    models = dict()\n",
    "    n_trees = [10,30, 50, 100,250, 500, 1000]\n",
    "    for n in n_trees:\n",
    "        models[str(n)] = ExtraTreesClassifier(n_estimators=n)\n",
    "    return models"
   ]
  },
  {
   "cell_type": "code",
   "execution_count": 71,
   "metadata": {},
   "outputs": [
    {
     "name": "stdout",
     "output_type": "stream",
     "text": [
      ">10 0.957 \n",
      ">30 0.969 \n",
      ">50 0.969 \n",
      ">100 0.969 \n",
      ">250 0.969 \n",
      ">500 0.957 \n",
      ">1000 0.957 \n"
     ]
    }
   ],
   "source": [
    "models = get_models()\n",
    "results, names = list(), list()\n",
    "for name, model in models.items():\n",
    "    scores = evaluate_model_recall_positive(model, X_test1,Y_test1)\n",
    "    results.append(scores)\n",
    "    names.append(name)\n",
    "    print('>%s %.3f ' % (name, np.mean(scores)))"
   ]
  },
  {
   "cell_type": "markdown",
   "metadata": {},
   "source": [
    "# Ensemble of Adaboost,Gboost,Etc"
   ]
  },
  {
   "cell_type": "code",
   "execution_count": 72,
   "metadata": {},
   "outputs": [
    {
     "data": {
      "text/plain": [
       "VotingClassifier(estimators=[('Adaboost',\n",
       "                              AdaBoostClassifier(n_estimators=250,\n",
       "                                                 random_state=42)),\n",
       "                             ('Gboost',\n",
       "                              GradientBoostingClassifier(learning_rate=0.9,\n",
       "                                                         n_estimators=250,\n",
       "                                                         random_state=42)),\n",
       "                             ('etc', ExtraTreesClassifier(n_estimators=30))],\n",
       "                 voting='soft')"
      ]
     },
     "execution_count": 72,
     "metadata": {},
     "output_type": "execute_result"
    }
   ],
   "source": [
    "model2=VotingClassifier(estimators=[ ('Adaboost', Adaboost),('Gboost',Gboost),('etc',etc)], voting='soft')\n",
    "model2.fit(X_train1,Y_train1)"
   ]
  },
  {
   "cell_type": "markdown",
   "metadata": {},
   "source": [
    "# Ensemble of Adaboost,Gboost,knn"
   ]
  },
  {
   "cell_type": "code",
   "execution_count": 73,
   "metadata": {},
   "outputs": [
    {
     "data": {
      "text/plain": [
       "VotingClassifier(estimators=[('knn',\n",
       "                              AdaBoostClassifier(n_estimators=250,\n",
       "                                                 random_state=42)),\n",
       "                             ('LR', KNeighborsClassifier(n_neighbors=11)),\n",
       "                             ('rf',\n",
       "                              GradientBoostingClassifier(learning_rate=0.9,\n",
       "                                                         n_estimators=250,\n",
       "                                                         random_state=42))],\n",
       "                 voting='soft')"
      ]
     },
     "execution_count": 73,
     "metadata": {},
     "output_type": "execute_result"
    }
   ],
   "source": [
    "model3=VotingClassifier(estimators=[ ('knn', Adaboost),('LR',knn),('rf',Gboost)], voting='soft')\n",
    "model3.fit(X_train1,Y_train1)"
   ]
  },
  {
   "cell_type": "markdown",
   "metadata": {},
   "source": [
    "# Ensemble of Adaboost,Gboost,rf"
   ]
  },
  {
   "cell_type": "code",
   "execution_count": 74,
   "metadata": {},
   "outputs": [
    {
     "data": {
      "text/plain": [
       "VotingClassifier(estimators=[('Adaboost',\n",
       "                              AdaBoostClassifier(n_estimators=250,\n",
       "                                                 random_state=42)),\n",
       "                             ('Gboost',\n",
       "                              GradientBoostingClassifier(learning_rate=0.9,\n",
       "                                                         n_estimators=250,\n",
       "                                                         random_state=42)),\n",
       "                             ('rf',\n",
       "                              RandomForestClassifier(n_estimators=250,\n",
       "                                                     oob_score=True))],\n",
       "                 voting='soft')"
      ]
     },
     "execution_count": 74,
     "metadata": {},
     "output_type": "execute_result"
    }
   ],
   "source": [
    "model4=VotingClassifier(estimators=[ ('Adaboost', Adaboost),('Gboost',Gboost),('rf',rf)], voting='soft')\n",
    "model4.fit(X_train1,Y_train1)"
   ]
  },
  {
   "cell_type": "markdown",
   "metadata": {},
   "source": [
    "# Ensemble of Adaboost,Gboost"
   ]
  },
  {
   "cell_type": "code",
   "execution_count": 75,
   "metadata": {},
   "outputs": [
    {
     "data": {
      "text/plain": [
       "VotingClassifier(estimators=[('Adaboost',\n",
       "                              AdaBoostClassifier(n_estimators=250,\n",
       "                                                 random_state=42)),\n",
       "                             ('Gboost',\n",
       "                              GradientBoostingClassifier(learning_rate=0.9,\n",
       "                                                         n_estimators=250,\n",
       "                                                         random_state=42))],\n",
       "                 voting='soft')"
      ]
     },
     "execution_count": 75,
     "metadata": {},
     "output_type": "execute_result"
    }
   ],
   "source": [
    "model5=VotingClassifier(estimators=[ ('Adaboost', Adaboost),('Gboost',Gboost)], voting='soft')\n",
    "model5.fit(X_train1,Y_train1)"
   ]
  },
  {
   "cell_type": "markdown",
   "metadata": {},
   "source": [
    "# Ensemble of classifier1,knn,svm"
   ]
  },
  {
   "cell_type": "code",
   "execution_count": 76,
   "metadata": {},
   "outputs": [
    {
     "data": {
      "text/plain": [
       "VotingClassifier(estimators=[('dt',\n",
       "                              DecisionTreeClassifier(criterion='entropy',\n",
       "                                                     max_depth=15,\n",
       "                                                     random_state=42)),\n",
       "                             ('knn', KNeighborsClassifier(n_neighbors=11)),\n",
       "                             ('svm', SVC(probability=True)),\n",
       "                             ('LR',\n",
       "                              LogisticRegression(C=0.03359818286283781,\n",
       "                                                 random_state=42,\n",
       "                                                 solver='liblinear'))],\n",
       "                 voting='soft')"
      ]
     },
     "execution_count": 76,
     "metadata": {},
     "output_type": "execute_result"
    }
   ],
   "source": [
    "model6=VotingClassifier(estimators=[ ('dt', classifier1),('knn',knn),('svm',svm),('LR',LR)], voting='soft')\n",
    "model6.fit(X_train1,Y_train1)"
   ]
  },
  {
   "cell_type": "markdown",
   "metadata": {},
   "source": [
    "# Confusion Matrix"
   ]
  },
  {
   "cell_type": "code",
   "execution_count": 77,
   "metadata": {},
   "outputs": [],
   "source": [
    "def conf_matrix(y_true,x_true,model):\n",
    "    ax= plt.subplot()\n",
    "    sns.heatmap(confusion_matrix(y_true, model.predict(x_true)), annot=True)\n",
    "    ax.set_xlabel('Predicted labels');\n",
    "    ax.set_ylabel('True labels'); \n",
    "    ax.set_title('Confusion Matrix'); \n",
    "    ax.xaxis.set_ticklabels(['Diabetes', 'No Diabetes']); ax.yaxis.set_ticklabels(['Diabetes', 'No Diabetes']);\n",
    "    return ax"
   ]
  },
  {
   "cell_type": "markdown",
   "metadata": {},
   "source": [
    "# testing scores"
   ]
  },
  {
   "cell_type": "code",
   "execution_count": 78,
   "metadata": {},
   "outputs": [
    {
     "name": "stdout",
     "output_type": "stream",
     "text": [
      "accuracy is:  0.9689473684210526\n",
      "diabetes recall is:  0.9733333333333334\n",
      "no diabetes recall is:  0.9669108669108668\n",
      "roc_auc is:  0.9931235431235432\n",
      "matthews_corrcoef is:  0.9489183132396615\n",
      "precision is:  0.9608333333333334\n"
     ]
    }
   ],
   "source": [
    "print(\"accuracy is: \",np.mean(evaluate_model_accuracy(rf,X_test1,Y_test1)))\n",
    "print(\"diabetes recall is: \",np.mean(evaluate_model_recall_positive(rf,X_test1,Y_test1)))\n",
    "print(\"no diabetes recall is: \",np.mean(evaluate_model_recall_negative(rf,X_test1,Y_test1)))\n",
    "print(\"roc_auc is: \",np.mean(evaluate_model_roc_auc(rf,X_test1,Y_test1)))\n",
    "print(\"matthews_corrcoef is: \",evaluate_model_matthews_corrcoef(rf,X_test1,Y_test1))\n",
    "print(\"precision is: \",np.mean(evaluate_model_precision(rf,X_test1,Y_test1)))"
   ]
  },
  {
   "cell_type": "code",
   "execution_count": 79,
   "metadata": {},
   "outputs": [
    {
     "name": "stdout",
     "output_type": "stream",
     "text": [
      "accuracy is:  0.9581578947368421\n",
      "diabetes recall is:  0.9833333333333334\n",
      "no diabetes recall is:  0.9223137973137974\n",
      "roc_auc is:  0.986052836052836\n",
      "matthews_corrcoef is:  0.9303035163079433\n",
      "precision is:  0.9833333333333334\n"
     ]
    }
   ],
   "source": [
    "print(\"accuracy is: \",np.mean(evaluate_model_accuracy(Gboost,X_test1,Y_test1)))\n",
    "print(\"diabetes recall is: \",np.mean(evaluate_model_recall_positive(Gboost,X_test1,Y_test1)))\n",
    "print(\"no diabetes recall is: \",np.mean(evaluate_model_recall_negative(Gboost,X_test1,Y_test1)))\n",
    "print(\"roc_auc is: \",np.mean(evaluate_model_roc_auc(Gboost,X_test1,Y_test1)))\n",
    "print(\"matthews_corrcoef is: \",evaluate_model_matthews_corrcoef(Gboost,X_test1,Y_test1))\n",
    "print(\"precision is: \",np.mean(evaluate_model_precision(Gboost,X_test1,Y_test1)))"
   ]
  },
  {
   "cell_type": "code",
   "execution_count": 80,
   "metadata": {},
   "outputs": [
    {
     "name": "stdout",
     "output_type": "stream",
     "text": [
      "accuracy is:  0.958421052631579\n",
      "diabetes recall is:  0.9482142857142858\n",
      "no diabetes recall is:  0.961996336996337\n",
      "roc_auc is:  0.9948717948717949\n",
      "matthews_corrcoef is:  0.9695423500723407\n",
      "precision is:  0.956547619047619\n"
     ]
    }
   ],
   "source": [
    "print(\"accuracy is: \",np.mean(evaluate_model_accuracy(etc,X_test1,Y_test1)))\n",
    "print(\"diabetes recall is: \",np.mean(evaluate_model_recall_positive(etc,X_test1,Y_test1)))\n",
    "print(\"no diabetes recall is: \",np.mean(evaluate_model_recall_negative(etc,X_test1,Y_test1)))\n",
    "print(\"roc_auc is: \",np.mean(evaluate_model_roc_auc(etc,X_test1,Y_test1)))\n",
    "print(\"matthews_corrcoef is: \",evaluate_model_matthews_corrcoef(etc,X_test1,Y_test1))\n",
    "print(\"precision is: \",np.mean(evaluate_model_precision(etc,X_test1,Y_test1)))"
   ]
  },
  {
   "cell_type": "markdown",
   "metadata": {},
   "source": [
    "# showing Confuction Matrix"
   ]
  },
  {
   "cell_type": "code",
   "execution_count": 81,
   "metadata": {},
   "outputs": [
    {
     "data": {
      "image/png": "[encoded data removed]",
      "text/plain": [
       "<Figure size 432x288 with 2 Axes>"
      ]
     },
     "metadata": {
      "needs_background": "light"
     },
     "output_type": "display_data"
    }
   ],
   "source": [
    "conf_matrix(Y_test1,X_test1,rf)\n",
    "plt.show()"
   ]
  },
  {
   "cell_type": "code",
   "execution_count": 82,
   "metadata": {},
   "outputs": [
    {
     "data": {
      "text/plain": [
       "No diabetes    98\n",
       "Diabetes       96\n",
       "Name: Diabetes, dtype: int64"
      ]
     },
     "execution_count": 82,
     "metadata": {},
     "output_type": "execute_result"
    }
   ],
   "source": [
    "Y_test1.value_counts()"
   ]
  },
  {
   "cell_type": "markdown",
   "metadata": {},
   "source": [
    "# plotting roc-auc curve"
   ]
  },
  {
   "cell_type": "code",
   "execution_count": 83,
   "metadata": {},
   "outputs": [],
   "source": [
    "import sklearn.metrics as metrics\n",
    "def roc_auc_curve(model,x,y):\n",
    "    probs = model.predict_proba(x)\n",
    "    preds = probs[:,0]\n",
    "    fpr, tpr, threshold = metrics.roc_curve(y, preds,pos_label=\"Diabetes\")\n",
    "    roc_auc = metrics.auc(fpr, tpr)\n",
    "    plt.title('Receiver Operating Characteristic')\n",
    "    plt.plot(fpr, tpr, 'b', label = 'AUC =%0.3f' % roc_auc)\n",
    "    plt.legend(loc = 'lower right')\n",
    "    plt.plot([0, 1], [0, 1],'r--')\n",
    "    plt.xlim([0, 1])\n",
    "    plt.ylim([0, 1.2])\n",
    "    plt.ylabel('True Positive Rate')\n",
    "    plt.xlabel('False Positive Rate')\n",
    "    return plt.show()\n",
    "\n"
   ]
  },
  {
   "cell_type": "code",
   "execution_count": 84,
   "metadata": {},
   "outputs": [
    {
     "data": {
      "image/png": "[encoded data removed]",
      "text/plain": [
       "<Figure size 432x288 with 1 Axes>"
      ]
     },
     "metadata": {
      "needs_background": "light"
     },
     "output_type": "display_data"
    }
   ],
   "source": [
    "roc_auc_curve(model1,X_test1,Y_test1)"
   ]
  },
  {
   "cell_type": "markdown",
   "metadata": {},
   "source": [
    "# All Scores"
   ]
  },
  {
   "cell_type": "code",
   "execution_count": 85,
   "metadata": {},
   "outputs": [],
   "source": [
    "scores_df=pd.DataFrame()\n",
    "\n",
    "LR_scores={'accuracy': [0.8868421052631579],\n",
    " 'recall_positive': [0.9058658008658009],\n",
    "\n",
    " 'roc_auc': [0.9233404928404928],\n",
    " 'precision': [0.9058658008658009],\n",
    " \"f1_score\":[0.9058658008658009]}\n",
    "\n",
    "scores_df=pd.DataFrame(LR_scores,index=[\"LR\"])\n",
    "\n",
    "scores_df.loc[\"knn\"] = [np.mean(evaluate_model_accuracy(knn,X_test1,Y_test1)),\n",
    "                        np.mean(evaluate_model_recall_positive(knn,X_test1,Y_test1)),\n",
    "               \n",
    "                       np.mean(evaluate_model_roc_auc(knn,X_test1,Y_test1)),\n",
    "                       np.mean(evaluate_model_precision(knn,X_test1,Y_test1)),\n",
    "                       np.mean(evaluate_model_f1score(knn,X_test1,Y_test1))]\n",
    "\n",
    "\n",
    "scores_df.loc[\"classifier1\"] = [np.mean(evaluate_model_accuracy(classifier1,X_test1,Y_test1)),\n",
    "                        np.mean(evaluate_model_recall_positive(classifier1,X_test1,Y_test1)),\n",
    "                 \n",
    "                       np.mean(evaluate_model_roc_auc(classifier1,X_test1,Y_test1)),\n",
    "                       np.mean(evaluate_model_precision(classifier1,X_test1,Y_test1)),\n",
    "                               np.mean(evaluate_model_f1score(classifier1,X_test1,Y_test1))]\n",
    "\n",
    "scores_df.loc[\"svm\"] = [np.mean(evaluate_model_accuracy(svm,X_test1,Y_test1)),\n",
    "                        np.mean(evaluate_model_recall_positive(svm,X_test1,Y_test1)),\n",
    "              \n",
    "                       np.mean(evaluate_model_roc_auc(svm,X_test1,Y_test1)),\n",
    "                       np.mean(evaluate_model_precision(svm,X_test1,Y_test1)),\n",
    "                       np.mean(evaluate_model_f1score(svm,X_test1,Y_test1))]\n",
    "\n",
    "scores_df.loc[\"nb\"] = [np.mean(evaluate_model_accuracy(nb,X_test1,Y_test1)),\n",
    "                        np.mean(evaluate_model_recall_positive(nb,X_test1,Y_test1)),\n",
    "                  \n",
    "                       np.mean(evaluate_model_roc_auc(nb,X_test1,Y_test1)),\n",
    "                       np.mean(evaluate_model_precision(nb,X_test1,Y_test1)),\n",
    "                      np.mean(evaluate_model_f1score(nb,X_test1,Y_test1))]\n",
    "\n",
    "scores_df.loc[\"rf\"] = [np.mean(evaluate_model_accuracy(rf,X_test1,Y_test1)),\n",
    "                        np.mean(evaluate_model_recall_positive(rf,X_test1,Y_test1)),\n",
    "                \n",
    "                       np.mean(evaluate_model_roc_auc(rf,X_test1,Y_test1)),\n",
    "                       np.mean(evaluate_model_precision(rf,X_test1,Y_test1)),\n",
    "                      np.mean(evaluate_model_f1score(rf,X_test1,Y_test1))]\n",
    "\n",
    "scores_df.loc[\"Gboost\"] = [np.mean(evaluate_model_accuracy(Gboost,X_test1,Y_test1)),\n",
    "                        np.mean(evaluate_model_recall_positive(Gboost,X_test1,Y_test1)),\n",
    "              \n",
    "                       np.mean(evaluate_model_roc_auc(Gboost,X_test1,Y_test1)),\n",
    "                       np.mean(evaluate_model_precision(Gboost,X_test1,Y_test1)),\n",
    "                          np.mean(evaluate_model_f1score(Gboost,X_test1,Y_test1))]\n",
    "\n",
    "scores_df.loc[\"Adaboost\"] = [np.mean(evaluate_model_accuracy(Adaboost,X_test1,Y_test1)),\n",
    "                        np.mean(evaluate_model_recall_positive(Adaboost,X_test1,Y_test1)),\n",
    "                  \n",
    "                       np.mean(evaluate_model_roc_auc(Adaboost,X_test1,Y_test1)),\n",
    "                       np.mean(evaluate_model_precision(Adaboost,X_test1,Y_test1)),\n",
    "                            np.mean(evaluate_model_f1score(Adaboost,X_test1,Y_test1))]\n",
    "\n",
    "scores_df.loc[\"etc\"] = [np.mean(evaluate_model_accuracy(etc,X_test1,Y_test1)),\n",
    "                        np.mean(evaluate_model_recall_positive(etc,X_test1,Y_test1)),\n",
    "                     \n",
    "                       np.mean(evaluate_model_roc_auc(etc,X_test1,Y_test1)),\n",
    "                       np.mean(evaluate_model_precision(etc,X_test1,Y_test1)),\n",
    "                       np.mean(evaluate_model_f1score(etc,X_test1,Y_test1))]\n",
    "\n",
    "scores_df.loc[\"model1\"] = [np.mean(evaluate_model_accuracy(model1,X_test1,Y_test1)),\n",
    "                        np.mean(evaluate_model_recall_positive(model1,X_test1,Y_test1)),\n",
    "                     \n",
    "                       np.mean(evaluate_model_roc_auc(model1,X_test1,Y_test1)),\n",
    "                       np.mean(evaluate_model_precision(model1,X_test1,Y_test1)),\n",
    "                       np.mean(evaluate_model_f1score(model1,X_test1,Y_test1))]\n",
    "\n",
    "scores_df.loc[\"model2\"] = [np.mean(evaluate_model_accuracy(model2,X_test1,Y_test1)),\n",
    "                        np.mean(evaluate_model_recall_positive(model2,X_test1,Y_test1)),\n",
    "                    \n",
    "                       np.mean(evaluate_model_roc_auc(model2,X_test1,Y_test1)),\n",
    "                       np.mean(evaluate_model_precision(model2,X_test1,Y_test1)),\n",
    "                       np.mean(evaluate_model_f1score(model2,X_test1,Y_test1))]\n",
    "\n",
    "scores_df.loc[\"model3\"]=[np.mean(evaluate_model_accuracy(model3,X_test1,Y_test1)),\n",
    "                        np.mean(evaluate_model_recall_positive(model3,X_test1,Y_test1)),\n",
    "                    \n",
    "                       np.mean(evaluate_model_roc_auc(model3,X_test1,Y_test1)),\n",
    "                       np.mean(evaluate_model_precision(model3,X_test1,Y_test1)),\n",
    "                       np.mean(evaluate_model_f1score(model3,X_test1,Y_test1))]\n",
    "\n",
    "scores_df.loc[\"model4\"]=[np.mean(evaluate_model_accuracy(model4,X_test1,Y_test1)),\n",
    "                        np.mean(evaluate_model_recall_positive(model4,X_test1,Y_test1)),\n",
    "                    \n",
    "                       np.mean(evaluate_model_roc_auc(model4,X_test1,Y_test1)),\n",
    "                       np.mean(evaluate_model_precision(model4,X_test1,Y_test1)),\n",
    "                       np.mean(evaluate_model_f1score(model4,X_test1,Y_test1))]\n",
    "\n",
    "scores_df.loc[\"model5\"]=[np.mean(evaluate_model_accuracy(model5,X_test1,Y_test1)),\n",
    "                        np.mean(evaluate_model_recall_positive(model5,X_test1,Y_test1)),\n",
    "                    \n",
    "                       np.mean(evaluate_model_roc_auc(model5,X_test1,Y_test1)),\n",
    "                       np.mean(evaluate_model_precision(model5,X_test1,Y_test1)),\n",
    "                       np.mean(evaluate_model_f1score(model5,X_test1,Y_test1))]\n",
    "\n",
    "\n",
    "scores_df.loc[\"model6\"]=[np.mean(evaluate_model_accuracy(model6,X_test1,Y_test1)),\n",
    "                        np.mean(evaluate_model_recall_positive(model6,X_test1,Y_test1)),\n",
    "                    \n",
    "                       np.mean(evaluate_model_roc_auc(model6,X_test1,Y_test1)),\n",
    "                       np.mean(evaluate_model_precision(model6,X_test1,Y_test1)),\n",
    "                       np.mean(evaluate_model_f1score(model6,X_test1,Y_test1))]"
   ]
  },
  {
   "cell_type": "code",
   "execution_count": 86,
   "metadata": {},
   "outputs": [],
   "source": [
    "scores_df[\"total_scores\"] = scores_df.sum(axis=1)"
   ]
  },
  {
   "cell_type": "code",
   "execution_count": 87,
   "metadata": {},
   "outputs": [
    {
     "data": {
      "text/html": [
       "<div>\n",
       "<style scoped>\n",
       "    .dataframe tbody tr th:only-of-type {\n",
       "        vertical-align: middle;\n",
       "    }\n",
       "\n",
       "    .dataframe tbody tr th {\n",
       "        vertical-align: top;\n",
       "    }\n",
       "\n",
       "    .dataframe thead th {\n",
       "        text-align: right;\n",
       "    }\n",
       "</style>\n",
       "<table border=\"1\" class=\"dataframe\">\n",
       "  <thead>\n",
       "    <tr style=\"text-align: right;\">\n",
       "      <th></th>\n",
       "      <th>accuracy</th>\n",
       "      <th>recall_positive</th>\n",
       "      <th>roc_auc</th>\n",
       "      <th>precision</th>\n",
       "      <th>f1_score</th>\n",
       "      <th>total_scores</th>\n",
       "    </tr>\n",
       "  </thead>\n",
       "  <tbody>\n",
       "    <tr>\n",
       "      <th>Adaboost</th>\n",
       "      <td>0.953421</td>\n",
       "      <td>0.990000</td>\n",
       "      <td>0.975990</td>\n",
       "      <td>0.990000</td>\n",
       "      <td>0.990000</td>\n",
       "      <td>4.899411</td>\n",
       "    </tr>\n",
       "    <tr>\n",
       "      <th>Gboost</th>\n",
       "      <td>0.958158</td>\n",
       "      <td>0.983333</td>\n",
       "      <td>0.986053</td>\n",
       "      <td>0.983333</td>\n",
       "      <td>0.983333</td>\n",
       "      <td>4.894211</td>\n",
       "    </tr>\n",
       "    <tr>\n",
       "      <th>model2</th>\n",
       "      <td>0.958158</td>\n",
       "      <td>0.983333</td>\n",
       "      <td>0.991570</td>\n",
       "      <td>0.983333</td>\n",
       "      <td>0.983333</td>\n",
       "      <td>4.899727</td>\n",
       "    </tr>\n",
       "    <tr>\n",
       "      <th>model3</th>\n",
       "      <td>0.958158</td>\n",
       "      <td>0.983333</td>\n",
       "      <td>0.985251</td>\n",
       "      <td>0.983333</td>\n",
       "      <td>0.983333</td>\n",
       "      <td>4.893409</td>\n",
       "    </tr>\n",
       "    <tr>\n",
       "      <th>model4</th>\n",
       "      <td>0.958158</td>\n",
       "      <td>0.983333</td>\n",
       "      <td>0.991841</td>\n",
       "      <td>0.983333</td>\n",
       "      <td>0.983333</td>\n",
       "      <td>4.899999</td>\n",
       "    </tr>\n",
       "    <tr>\n",
       "      <th>model5</th>\n",
       "      <td>0.958158</td>\n",
       "      <td>0.983333</td>\n",
       "      <td>0.978089</td>\n",
       "      <td>0.983333</td>\n",
       "      <td>0.983333</td>\n",
       "      <td>4.886246</td>\n",
       "    </tr>\n",
       "    <tr>\n",
       "      <th>knn</th>\n",
       "      <td>0.870789</td>\n",
       "      <td>0.964242</td>\n",
       "      <td>0.948360</td>\n",
       "      <td>0.964242</td>\n",
       "      <td>0.964242</td>\n",
       "      <td>4.711877</td>\n",
       "    </tr>\n",
       "    <tr>\n",
       "      <th>rf</th>\n",
       "      <td>0.963947</td>\n",
       "      <td>0.960833</td>\n",
       "      <td>0.991841</td>\n",
       "      <td>0.960833</td>\n",
       "      <td>0.964242</td>\n",
       "      <td>4.841698</td>\n",
       "    </tr>\n",
       "    <tr>\n",
       "      <th>etc</th>\n",
       "      <td>0.963421</td>\n",
       "      <td>0.956548</td>\n",
       "      <td>0.995513</td>\n",
       "      <td>0.969048</td>\n",
       "      <td>0.956548</td>\n",
       "      <td>4.841077</td>\n",
       "    </tr>\n",
       "    <tr>\n",
       "      <th>model6</th>\n",
       "      <td>0.917368</td>\n",
       "      <td>0.942652</td>\n",
       "      <td>0.976748</td>\n",
       "      <td>0.942652</td>\n",
       "      <td>0.942652</td>\n",
       "      <td>4.722071</td>\n",
       "    </tr>\n",
       "    <tr>\n",
       "      <th>svm</th>\n",
       "      <td>0.922632</td>\n",
       "      <td>0.918366</td>\n",
       "      <td>0.976922</td>\n",
       "      <td>0.918366</td>\n",
       "      <td>0.918366</td>\n",
       "      <td>4.654651</td>\n",
       "    </tr>\n",
       "    <tr>\n",
       "      <th>LR</th>\n",
       "      <td>0.886842</td>\n",
       "      <td>0.905866</td>\n",
       "      <td>0.923340</td>\n",
       "      <td>0.905866</td>\n",
       "      <td>0.905866</td>\n",
       "      <td>4.527780</td>\n",
       "    </tr>\n",
       "    <tr>\n",
       "      <th>model1</th>\n",
       "      <td>0.907368</td>\n",
       "      <td>0.905866</td>\n",
       "      <td>0.976659</td>\n",
       "      <td>0.905866</td>\n",
       "      <td>0.905866</td>\n",
       "      <td>4.601625</td>\n",
       "    </tr>\n",
       "    <tr>\n",
       "      <th>classifier1</th>\n",
       "      <td>0.876842</td>\n",
       "      <td>0.881894</td>\n",
       "      <td>0.870843</td>\n",
       "      <td>0.881894</td>\n",
       "      <td>0.881894</td>\n",
       "      <td>4.393367</td>\n",
       "    </tr>\n",
       "    <tr>\n",
       "      <th>nb</th>\n",
       "      <td>0.876053</td>\n",
       "      <td>0.847370</td>\n",
       "      <td>0.937447</td>\n",
       "      <td>0.847370</td>\n",
       "      <td>0.847370</td>\n",
       "      <td>4.355610</td>\n",
       "    </tr>\n",
       "  </tbody>\n",
       "</table>\n",
       "</div>"
      ],
      "text/plain": [
       "             accuracy  recall_positive   roc_auc  precision  f1_score  \\\n",
       "Adaboost     0.953421         0.990000  0.975990   0.990000  0.990000   \n",
       "Gboost       0.958158         0.983333  0.986053   0.983333  0.983333   \n",
       "model2       0.958158         0.983333  0.991570   0.983333  0.983333   \n",
       "model3       0.958158         0.983333  0.985251   0.983333  0.983333   \n",
       "model4       0.958158         0.983333  0.991841   0.983333  0.983333   \n",
       "model5       0.958158         0.983333  0.978089   0.983333  0.983333   \n",
       "knn          0.870789         0.964242  0.948360   0.964242  0.964242   \n",
       "rf           0.963947         0.960833  0.991841   0.960833  0.964242   \n",
       "etc          0.963421         0.956548  0.995513   0.969048  0.956548   \n",
       "model6       0.917368         0.942652  0.976748   0.942652  0.942652   \n",
       "svm          0.922632         0.918366  0.976922   0.918366  0.918366   \n",
       "LR           0.886842         0.905866  0.923340   0.905866  0.905866   \n",
       "model1       0.907368         0.905866  0.976659   0.905866  0.905866   \n",
       "classifier1  0.876842         0.881894  0.870843   0.881894  0.881894   \n",
       "nb           0.876053         0.847370  0.937447   0.847370  0.847370   \n",
       "\n",
       "             total_scores  \n",
       "Adaboost         4.899411  \n",
       "Gboost           4.894211  \n",
       "model2           4.899727  \n",
       "model3           4.893409  \n",
       "model4           4.899999  \n",
       "model5           4.886246  \n",
       "knn              4.711877  \n",
       "rf               4.841698  \n",
       "etc              4.841077  \n",
       "model6           4.722071  \n",
       "svm              4.654651  \n",
       "LR               4.527780  \n",
       "model1           4.601625  \n",
       "classifier1      4.393367  \n",
       "nb               4.355610  "
      ]
     },
     "execution_count": 87,
     "metadata": {},
     "output_type": "execute_result"
    }
   ],
   "source": [
    "scores_df.sort_values(by=\"recall_positive\",ascending=False)"
   ]
  },
  {
   "cell_type": "markdown",
   "metadata": {},
   "source": [
    "# Individual model scores"
   ]
  },
  {
   "cell_type": "code",
   "execution_count": 88,
   "metadata": {},
   "outputs": [],
   "source": [
    "individual_scores=pd.DataFrame()\n",
    "\n",
    "LR_scores={'accuracy': [0.8868421052631579],\n",
    " 'recall_positive': [0.9058658008658009],\n",
    "\n",
    " 'roc_auc': [0.9233404928404928],\n",
    " 'precision': [0.9058658008658009],\n",
    " \"f1_score\":[0.9058658008658009]}\n",
    "\n",
    "individual_scores=pd.DataFrame(LR_scores,index=[\"LR\"])\n",
    "\n",
    "individual_scores.loc[\"knn\"] = [np.mean(evaluate_model_accuracy(knn,X_test1,Y_test1)),\n",
    "                        np.mean(evaluate_model_recall_positive(knn,X_test1,Y_test1)),\n",
    "               \n",
    "                       np.mean(evaluate_model_roc_auc(knn,X_test1,Y_test1)),\n",
    "                       np.mean(evaluate_model_precision(knn,X_test1,Y_test1)),\n",
    "                       np.mean(evaluate_model_f1score(knn,X_test1,Y_test1))]\n",
    "\n",
    "\n",
    "individual_scores.loc[\"classifier1\"] = [np.mean(evaluate_model_accuracy(classifier1,X_test1,Y_test1)),\n",
    "                        np.mean(evaluate_model_recall_positive(classifier1,X_test1,Y_test1)),\n",
    "                 \n",
    "                       np.mean(evaluate_model_roc_auc(classifier1,X_test1,Y_test1)),\n",
    "                       np.mean(evaluate_model_precision(classifier1,X_test1,Y_test1)),\n",
    "                               np.mean(evaluate_model_f1score(classifier1,X_test1,Y_test1))]\n",
    "\n",
    "individual_scores.loc[\"svm\"] = [np.mean(evaluate_model_accuracy(svm,X_test1,Y_test1)),\n",
    "                        np.mean(evaluate_model_recall_positive(svm,X_test1,Y_test1)),\n",
    "              \n",
    "                       np.mean(evaluate_model_roc_auc(svm,X_test1,Y_test1)),\n",
    "                       np.mean(evaluate_model_precision(svm,X_test1,Y_test1)),\n",
    "                       np.mean(evaluate_model_f1score(svm,X_test1,Y_test1))]\n",
    "\n",
    "individual_scores.loc[\"nb\"] = [np.mean(evaluate_model_accuracy(nb,X_test1,Y_test1)),\n",
    "                        np.mean(evaluate_model_recall_positive(nb,X_test1,Y_test1)),\n",
    "                  \n",
    "                       np.mean(evaluate_model_roc_auc(nb,X_test1,Y_test1)),\n",
    "                       np.mean(evaluate_model_precision(nb,X_test1,Y_test1)),\n",
    "                      np.mean(evaluate_model_f1score(nb,X_test1,Y_test1))]"
   ]
  },
  {
   "cell_type": "code",
   "execution_count": 89,
   "metadata": {},
   "outputs": [
    {
     "data": {
      "text/html": [
       "<div>\n",
       "<style scoped>\n",
       "    .dataframe tbody tr th:only-of-type {\n",
       "        vertical-align: middle;\n",
       "    }\n",
       "\n",
       "    .dataframe tbody tr th {\n",
       "        vertical-align: top;\n",
       "    }\n",
       "\n",
       "    .dataframe thead th {\n",
       "        text-align: right;\n",
       "    }\n",
       "</style>\n",
       "<table border=\"1\" class=\"dataframe\">\n",
       "  <thead>\n",
       "    <tr style=\"text-align: right;\">\n",
       "      <th></th>\n",
       "      <th>accuracy</th>\n",
       "      <th>recall_positive</th>\n",
       "      <th>roc_auc</th>\n",
       "      <th>precision</th>\n",
       "      <th>f1_score</th>\n",
       "    </tr>\n",
       "  </thead>\n",
       "  <tbody>\n",
       "    <tr>\n",
       "      <th>LR</th>\n",
       "      <td>0.886842</td>\n",
       "      <td>0.905866</td>\n",
       "      <td>0.923340</td>\n",
       "      <td>0.905866</td>\n",
       "      <td>0.905866</td>\n",
       "    </tr>\n",
       "    <tr>\n",
       "      <th>knn</th>\n",
       "      <td>0.870789</td>\n",
       "      <td>0.964242</td>\n",
       "      <td>0.948360</td>\n",
       "      <td>0.964242</td>\n",
       "      <td>0.964242</td>\n",
       "    </tr>\n",
       "    <tr>\n",
       "      <th>classifier1</th>\n",
       "      <td>0.876842</td>\n",
       "      <td>0.881894</td>\n",
       "      <td>0.870843</td>\n",
       "      <td>0.881894</td>\n",
       "      <td>0.881894</td>\n",
       "    </tr>\n",
       "    <tr>\n",
       "      <th>svm</th>\n",
       "      <td>0.922632</td>\n",
       "      <td>0.918366</td>\n",
       "      <td>0.976922</td>\n",
       "      <td>0.918366</td>\n",
       "      <td>0.918366</td>\n",
       "    </tr>\n",
       "    <tr>\n",
       "      <th>nb</th>\n",
       "      <td>0.876053</td>\n",
       "      <td>0.847370</td>\n",
       "      <td>0.937447</td>\n",
       "      <td>0.847370</td>\n",
       "      <td>0.847370</td>\n",
       "    </tr>\n",
       "  </tbody>\n",
       "</table>\n",
       "</div>"
      ],
      "text/plain": [
       "             accuracy  recall_positive   roc_auc  precision  f1_score\n",
       "LR           0.886842         0.905866  0.923340   0.905866  0.905866\n",
       "knn          0.870789         0.964242  0.948360   0.964242  0.964242\n",
       "classifier1  0.876842         0.881894  0.870843   0.881894  0.881894\n",
       "svm          0.922632         0.918366  0.976922   0.918366  0.918366\n",
       "nb           0.876053         0.847370  0.937447   0.847370  0.847370"
      ]
     },
     "execution_count": 89,
     "metadata": {},
     "output_type": "execute_result"
    }
   ],
   "source": [
    "individual_scores"
   ]
  },
  {
   "cell_type": "markdown",
   "metadata": {},
   "source": [
    "# Ensemble Models Scores"
   ]
  },
  {
   "cell_type": "code",
   "execution_count": 90,
   "metadata": {},
   "outputs": [],
   "source": [
    "Ensemble_scores=pd.DataFrame()\n",
    "\n",
    "rf_scores={'accuracy': [0.9689473684210526],\n",
    " 'recall_positive': [0.9517424242424243],\n",
    "\n",
    " 'roc_auc': [0.9931235431235432],\n",
    " 'precision': [0.9608333333333334],\n",
    " \"f1_score\":[0.9608333333333334]}\n",
    "\n",
    "Ensemble_scores=pd.DataFrame(rf_scores,index=[\"rf\"])\n",
    "\n",
    "\n",
    "Ensemble_scores.loc[\"Gboost\"] = [np.mean(evaluate_model_accuracy(Gboost,X_test1,Y_test1)),\n",
    "                        np.mean(evaluate_model_recall_positive(Gboost,X_test1,Y_test1)),\n",
    "              \n",
    "                       np.mean(evaluate_model_roc_auc(Gboost,X_test1,Y_test1)),\n",
    "                       np.mean(evaluate_model_precision(Gboost,X_test1,Y_test1)),\n",
    "                          np.mean(evaluate_model_f1score(Gboost,X_test1,Y_test1))]\n",
    "\n",
    "Ensemble_scores.loc[\"Adaboost\"] = [np.mean(evaluate_model_accuracy(Adaboost,X_test1,Y_test1)),\n",
    "                        np.mean(evaluate_model_recall_positive(Adaboost,X_test1,Y_test1)),\n",
    "                  \n",
    "                       np.mean(evaluate_model_roc_auc(Adaboost,X_test1,Y_test1)),\n",
    "                       np.mean(evaluate_model_precision(Adaboost,X_test1,Y_test1)),\n",
    "                            np.mean(evaluate_model_f1score(Adaboost,X_test1,Y_test1))]\n",
    "\n",
    "Ensemble_scores.loc[\"etc\"] = [np.mean(evaluate_model_accuracy(etc,X_test1,Y_test1)),\n",
    "                        np.mean(evaluate_model_recall_positive(etc,X_test1,Y_test1)),\n",
    "                     \n",
    "                       np.mean(evaluate_model_roc_auc(etc,X_test1,Y_test1)),\n",
    "                       np.mean(evaluate_model_precision(etc,X_test1,Y_test1)),\n",
    "                       np.mean(evaluate_model_f1score(etc,X_test1,Y_test1))]"
   ]
  },
  {
   "cell_type": "code",
   "execution_count": 91,
   "metadata": {},
   "outputs": [
    {
     "data": {
      "text/html": [
       "<div>\n",
       "<style scoped>\n",
       "    .dataframe tbody tr th:only-of-type {\n",
       "        vertical-align: middle;\n",
       "    }\n",
       "\n",
       "    .dataframe tbody tr th {\n",
       "        vertical-align: top;\n",
       "    }\n",
       "\n",
       "    .dataframe thead th {\n",
       "        text-align: right;\n",
       "    }\n",
       "</style>\n",
       "<table border=\"1\" class=\"dataframe\">\n",
       "  <thead>\n",
       "    <tr style=\"text-align: right;\">\n",
       "      <th></th>\n",
       "      <th>accuracy</th>\n",
       "      <th>recall_positive</th>\n",
       "      <th>roc_auc</th>\n",
       "      <th>precision</th>\n",
       "      <th>f1_score</th>\n",
       "    </tr>\n",
       "  </thead>\n",
       "  <tbody>\n",
       "    <tr>\n",
       "      <th>rf</th>\n",
       "      <td>0.968947</td>\n",
       "      <td>0.951742</td>\n",
       "      <td>0.993124</td>\n",
       "      <td>0.960833</td>\n",
       "      <td>0.960833</td>\n",
       "    </tr>\n",
       "    <tr>\n",
       "      <th>Gboost</th>\n",
       "      <td>0.958158</td>\n",
       "      <td>0.983333</td>\n",
       "      <td>0.986053</td>\n",
       "      <td>0.983333</td>\n",
       "      <td>0.983333</td>\n",
       "    </tr>\n",
       "    <tr>\n",
       "      <th>Adaboost</th>\n",
       "      <td>0.953421</td>\n",
       "      <td>0.990000</td>\n",
       "      <td>0.975990</td>\n",
       "      <td>0.990000</td>\n",
       "      <td>0.990000</td>\n",
       "    </tr>\n",
       "    <tr>\n",
       "      <th>etc</th>\n",
       "      <td>0.968947</td>\n",
       "      <td>0.983333</td>\n",
       "      <td>0.994414</td>\n",
       "      <td>0.959048</td>\n",
       "      <td>0.956548</td>\n",
       "    </tr>\n",
       "  </tbody>\n",
       "</table>\n",
       "</div>"
      ],
      "text/plain": [
       "          accuracy  recall_positive   roc_auc  precision  f1_score\n",
       "rf        0.968947         0.951742  0.993124   0.960833  0.960833\n",
       "Gboost    0.958158         0.983333  0.986053   0.983333  0.983333\n",
       "Adaboost  0.953421         0.990000  0.975990   0.990000  0.990000\n",
       "etc       0.968947         0.983333  0.994414   0.959048  0.956548"
      ]
     },
     "execution_count": 91,
     "metadata": {},
     "output_type": "execute_result"
    }
   ],
   "source": [
    "Ensemble_scores"
   ]
  },
  {
   "cell_type": "markdown",
   "metadata": {},
   "source": [
    "# Custom Ensemble Models"
   ]
  },
  {
   "cell_type": "code",
   "execution_count": 100,
   "metadata": {},
   "outputs": [],
   "source": [
    "custom_custom_ensemble_scores=pd.DataFrame()\n",
    "\n",
    "model1_scores={'accuracy': [0.9021052631578949],\n",
    " 'recall_positive': [ 0.9058658008658009],\n",
    "\n",
    " 'roc_auc': [0.9726289266289267],\n",
    " 'precision': [0.9058658008658009],\n",
    " \"f1_score\":[ 0.9058658008658009]}\n",
    "\n",
    "custom_ensemble_scores=pd.DataFrame(model1_scores,index=[\"model1\"])\n",
    "\n",
    "\n",
    "custom_ensemble_scores.loc[\"model2\"] = [np.mean(evaluate_model_accuracy(model2,X_test1,Y_test1)),\n",
    "                        np.mean(evaluate_model_recall_positive(model2,X_test1,Y_test1)),\n",
    "                    \n",
    "                       np.mean(evaluate_model_roc_auc(model2,X_test1,Y_test1)),\n",
    "                       np.mean(evaluate_model_precision(model2,X_test1,Y_test1)),\n",
    "                       np.mean(evaluate_model_f1score(model2,X_test1,Y_test1))]\n",
    "\n",
    "custom_ensemble_scores.loc[\"model3\"]=[np.mean(evaluate_model_accuracy(model3,X_test1,Y_test1)),\n",
    "                        np.mean(evaluate_model_recall_positive(model3,X_test1,Y_test1)),\n",
    "                    \n",
    "                       np.mean(evaluate_model_roc_auc(model3,X_test1,Y_test1)),\n",
    "                       np.mean(evaluate_model_precision(model3,X_test1,Y_test1)),\n",
    "                       np.mean(evaluate_model_f1score(model3,X_test1,Y_test1))]\n",
    "\n",
    "custom_ensemble_scores.loc[\"model4\"]=[np.mean(evaluate_model_accuracy(model4,X_test1,Y_test1)),\n",
    "                        np.mean(evaluate_model_recall_positive(model4,X_test1,Y_test1)),\n",
    "                    \n",
    "                       np.mean(evaluate_model_roc_auc(model4,X_test1,Y_test1)),\n",
    "                       np.mean(evaluate_model_precision(model4,X_test1,Y_test1)),\n",
    "                       np.mean(evaluate_model_f1score(model4,X_test1,Y_test1))]\n",
    "\n",
    "custom_ensemble_scores.loc[\"model5\"]=[np.mean(evaluate_model_accuracy(model5,X_test1,Y_test1)),\n",
    "                        np.mean(evaluate_model_recall_positive(model5,X_test1,Y_test1)),\n",
    "                    \n",
    "                       np.mean(evaluate_model_roc_auc(model5,X_test1,Y_test1)),\n",
    "                       np.mean(evaluate_model_precision(model5,X_test1,Y_test1)),\n",
    "                       np.mean(evaluate_model_f1score(model5,X_test1,Y_test1))]\n",
    "\n",
    "\n",
    "custom_ensemble_scores.loc[\"model6\"]=[np.mean(evaluate_model_accuracy(model6,X_test1,Y_test1)),\n",
    "                        np.mean(evaluate_model_recall_positive(model6,X_test1,Y_test1)),\n",
    "                    \n",
    "                       np.mean(evaluate_model_roc_auc(model6,X_test1,Y_test1)),\n",
    "                       np.mean(evaluate_model_precision(model6,X_test1,Y_test1)),\n",
    "                       np.mean(evaluate_model_f1score(model6,X_test1,Y_test1))]\n",
    "\n",
    "custom_ensemble_scores.loc[\"model1\"] = [np.mean(evaluate_model_accuracy(model1,X_test1,Y_test1)),\n",
    "                        np.mean(evaluate_model_recall_positive(model1,X_test1,Y_test1)),\n",
    "                    \n",
    "                       np.mean(evaluate_model_roc_auc(model1,X_test1,Y_test1)),\n",
    "                       np.mean(evaluate_model_precision(model1,X_test1,Y_test1)),\n",
    "                       np.mean(evaluate_model_f1score(model1,X_test1,Y_test1))]\n"
   ]
  },
  {
   "cell_type": "code",
   "execution_count": 101,
   "metadata": {},
   "outputs": [
    {
     "data": {
      "text/html": [
       "<div>\n",
       "<style scoped>\n",
       "    .dataframe tbody tr th:only-of-type {\n",
       "        vertical-align: middle;\n",
       "    }\n",
       "\n",
       "    .dataframe tbody tr th {\n",
       "        vertical-align: top;\n",
       "    }\n",
       "\n",
       "    .dataframe thead th {\n",
       "        text-align: right;\n",
       "    }\n",
       "</style>\n",
       "<table border=\"1\" class=\"dataframe\">\n",
       "  <thead>\n",
       "    <tr style=\"text-align: right;\">\n",
       "      <th></th>\n",
       "      <th>accuracy</th>\n",
       "      <th>recall_positive</th>\n",
       "      <th>roc_auc</th>\n",
       "      <th>precision</th>\n",
       "      <th>f1_score</th>\n",
       "    </tr>\n",
       "  </thead>\n",
       "  <tbody>\n",
       "    <tr>\n",
       "      <th>model1</th>\n",
       "      <td>0.912368</td>\n",
       "      <td>0.942652</td>\n",
       "      <td>0.976748</td>\n",
       "      <td>0.942652</td>\n",
       "      <td>0.942652</td>\n",
       "    </tr>\n",
       "    <tr>\n",
       "      <th>model2</th>\n",
       "      <td>0.958158</td>\n",
       "      <td>0.983333</td>\n",
       "      <td>0.994872</td>\n",
       "      <td>0.983333</td>\n",
       "      <td>0.983333</td>\n",
       "    </tr>\n",
       "    <tr>\n",
       "      <th>model3</th>\n",
       "      <td>0.958158</td>\n",
       "      <td>0.983333</td>\n",
       "      <td>0.985251</td>\n",
       "      <td>0.983333</td>\n",
       "      <td>0.983333</td>\n",
       "    </tr>\n",
       "    <tr>\n",
       "      <th>model4</th>\n",
       "      <td>0.958158</td>\n",
       "      <td>0.983333</td>\n",
       "      <td>0.991841</td>\n",
       "      <td>0.983333</td>\n",
       "      <td>0.983333</td>\n",
       "    </tr>\n",
       "    <tr>\n",
       "      <th>model5</th>\n",
       "      <td>0.958158</td>\n",
       "      <td>0.983333</td>\n",
       "      <td>0.978089</td>\n",
       "      <td>0.983333</td>\n",
       "      <td>0.983333</td>\n",
       "    </tr>\n",
       "    <tr>\n",
       "      <th>model6</th>\n",
       "      <td>0.917368</td>\n",
       "      <td>0.942652</td>\n",
       "      <td>0.976748</td>\n",
       "      <td>0.942652</td>\n",
       "      <td>0.930152</td>\n",
       "    </tr>\n",
       "  </tbody>\n",
       "</table>\n",
       "</div>"
      ],
      "text/plain": [
       "        accuracy  recall_positive   roc_auc  precision  f1_score\n",
       "model1  0.912368         0.942652  0.976748   0.942652  0.942652\n",
       "model2  0.958158         0.983333  0.994872   0.983333  0.983333\n",
       "model3  0.958158         0.983333  0.985251   0.983333  0.983333\n",
       "model4  0.958158         0.983333  0.991841   0.983333  0.983333\n",
       "model5  0.958158         0.983333  0.978089   0.983333  0.983333\n",
       "model6  0.917368         0.942652  0.976748   0.942652  0.930152"
      ]
     },
     "execution_count": 101,
     "metadata": {},
     "output_type": "execute_result"
    }
   ],
   "source": [
    "custom_ensemble_scores"
   ]
  },
  {
   "cell_type": "code",
   "execution_count": 94,
   "metadata": {},
   "outputs": [
    {
     "data": {
      "text/html": [
       "<div>\n",
       "<style scoped>\n",
       "    .dataframe tbody tr th:only-of-type {\n",
       "        vertical-align: middle;\n",
       "    }\n",
       "\n",
       "    .dataframe tbody tr th {\n",
       "        vertical-align: top;\n",
       "    }\n",
       "\n",
       "    .dataframe thead th {\n",
       "        text-align: right;\n",
       "    }\n",
       "</style>\n",
       "<table border=\"1\" class=\"dataframe\">\n",
       "  <thead>\n",
       "    <tr style=\"text-align: right;\">\n",
       "      <th></th>\n",
       "      <th>accuracy</th>\n",
       "      <th>recall_positive</th>\n",
       "      <th>roc_auc</th>\n",
       "      <th>precision</th>\n",
       "      <th>f1_score</th>\n",
       "    </tr>\n",
       "  </thead>\n",
       "  <tbody>\n",
       "    <tr>\n",
       "      <th>rf</th>\n",
       "      <td>0.968947</td>\n",
       "      <td>0.951742</td>\n",
       "      <td>0.993124</td>\n",
       "      <td>0.960833</td>\n",
       "      <td>0.960833</td>\n",
       "    </tr>\n",
       "    <tr>\n",
       "      <th>Gboost</th>\n",
       "      <td>0.958158</td>\n",
       "      <td>0.983333</td>\n",
       "      <td>0.986053</td>\n",
       "      <td>0.983333</td>\n",
       "      <td>0.983333</td>\n",
       "    </tr>\n",
       "    <tr>\n",
       "      <th>Adaboost</th>\n",
       "      <td>0.953421</td>\n",
       "      <td>0.990000</td>\n",
       "      <td>0.975990</td>\n",
       "      <td>0.990000</td>\n",
       "      <td>0.990000</td>\n",
       "    </tr>\n",
       "    <tr>\n",
       "      <th>etc</th>\n",
       "      <td>0.968947</td>\n",
       "      <td>0.983333</td>\n",
       "      <td>0.994414</td>\n",
       "      <td>0.959048</td>\n",
       "      <td>0.956548</td>\n",
       "    </tr>\n",
       "  </tbody>\n",
       "</table>\n",
       "</div>"
      ],
      "text/plain": [
       "          accuracy  recall_positive   roc_auc  precision  f1_score\n",
       "rf        0.968947         0.951742  0.993124   0.960833  0.960833\n",
       "Gboost    0.958158         0.983333  0.986053   0.983333  0.983333\n",
       "Adaboost  0.953421         0.990000  0.975990   0.990000  0.990000\n",
       "etc       0.968947         0.983333  0.994414   0.959048  0.956548"
      ]
     },
     "execution_count": 94,
     "metadata": {},
     "output_type": "execute_result"
    }
   ],
   "source": [
    "Ensemble_scores"
   ]
  },
  {
   "cell_type": "code",
   "execution_count": 95,
   "metadata": {},
   "outputs": [
    {
     "data": {
      "text/html": [
       "<div>\n",
       "<style scoped>\n",
       "    .dataframe tbody tr th:only-of-type {\n",
       "        vertical-align: middle;\n",
       "    }\n",
       "\n",
       "    .dataframe tbody tr th {\n",
       "        vertical-align: top;\n",
       "    }\n",
       "\n",
       "    .dataframe thead th {\n",
       "        text-align: right;\n",
       "    }\n",
       "</style>\n",
       "<table border=\"1\" class=\"dataframe\">\n",
       "  <thead>\n",
       "    <tr style=\"text-align: right;\">\n",
       "      <th></th>\n",
       "      <th>accuracy</th>\n",
       "      <th>recall_positive</th>\n",
       "      <th>roc_auc</th>\n",
       "      <th>precision</th>\n",
       "      <th>f1_score</th>\n",
       "    </tr>\n",
       "  </thead>\n",
       "  <tbody>\n",
       "    <tr>\n",
       "      <th>LR</th>\n",
       "      <td>0.886842</td>\n",
       "      <td>0.905866</td>\n",
       "      <td>0.923340</td>\n",
       "      <td>0.905866</td>\n",
       "      <td>0.905866</td>\n",
       "    </tr>\n",
       "    <tr>\n",
       "      <th>knn</th>\n",
       "      <td>0.870789</td>\n",
       "      <td>0.964242</td>\n",
       "      <td>0.948360</td>\n",
       "      <td>0.964242</td>\n",
       "      <td>0.964242</td>\n",
       "    </tr>\n",
       "    <tr>\n",
       "      <th>classifier1</th>\n",
       "      <td>0.876842</td>\n",
       "      <td>0.881894</td>\n",
       "      <td>0.870843</td>\n",
       "      <td>0.881894</td>\n",
       "      <td>0.881894</td>\n",
       "    </tr>\n",
       "    <tr>\n",
       "      <th>svm</th>\n",
       "      <td>0.922632</td>\n",
       "      <td>0.918366</td>\n",
       "      <td>0.976922</td>\n",
       "      <td>0.918366</td>\n",
       "      <td>0.918366</td>\n",
       "    </tr>\n",
       "    <tr>\n",
       "      <th>nb</th>\n",
       "      <td>0.876053</td>\n",
       "      <td>0.847370</td>\n",
       "      <td>0.937447</td>\n",
       "      <td>0.847370</td>\n",
       "      <td>0.847370</td>\n",
       "    </tr>\n",
       "  </tbody>\n",
       "</table>\n",
       "</div>"
      ],
      "text/plain": [
       "             accuracy  recall_positive   roc_auc  precision  f1_score\n",
       "LR           0.886842         0.905866  0.923340   0.905866  0.905866\n",
       "knn          0.870789         0.964242  0.948360   0.964242  0.964242\n",
       "classifier1  0.876842         0.881894  0.870843   0.881894  0.881894\n",
       "svm          0.922632         0.918366  0.976922   0.918366  0.918366\n",
       "nb           0.876053         0.847370  0.937447   0.847370  0.847370"
      ]
     },
     "execution_count": 95,
     "metadata": {},
     "output_type": "execute_result"
    }
   ],
   "source": [
    "individual_scores"
   ]
  },
  {
   "cell_type": "code",
   "execution_count": null,
   "metadata": {},
   "outputs": [],
   "source": []
  }
 ],
 "metadata": {
  "kernelspec": {
   "display_name": "Python 3",
   "language": "python",
   "name": "python3"
  },
  "language_info": {
   "codemirror_mode": {
    "name": "ipython",
    "version": 3
   },
   "file_extension": ".py",
   "mimetype": "text/x-python",
   "name": "python",
   "nbconvert_exporter": "python",
   "pygments_lexer": "ipython3",
   "version": "3.8.5"
  }
 },
 "nbformat": 4,
 "nbformat_minor": 4
}
